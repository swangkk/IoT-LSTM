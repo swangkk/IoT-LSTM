{
 "cells": [
  {
   "cell_type": "code",
   "execution_count": 1,
   "metadata": {},
   "outputs": [
    {
     "name": "stderr",
     "output_type": "stream",
     "text": [
      "Using TensorFlow backend.\n",
      "C:\\Users\\YooSeok\\Anaconda3\\envs\\Keras\\lib\\site-packages\\tensorflow\\python\\framework\\dtypes.py:526: FutureWarning: Passing (type, 1) or '1type' as a synonym of type is deprecated; in a future version of numpy, it will be understood as (type, (1,)) / '(1,)type'.\n",
      "  _np_qint8 = np.dtype([(\"qint8\", np.int8, 1)])\n",
      "C:\\Users\\YooSeok\\Anaconda3\\envs\\Keras\\lib\\site-packages\\tensorflow\\python\\framework\\dtypes.py:527: FutureWarning: Passing (type, 1) or '1type' as a synonym of type is deprecated; in a future version of numpy, it will be understood as (type, (1,)) / '(1,)type'.\n",
      "  _np_quint8 = np.dtype([(\"quint8\", np.uint8, 1)])\n",
      "C:\\Users\\YooSeok\\Anaconda3\\envs\\Keras\\lib\\site-packages\\tensorflow\\python\\framework\\dtypes.py:528: FutureWarning: Passing (type, 1) or '1type' as a synonym of type is deprecated; in a future version of numpy, it will be understood as (type, (1,)) / '(1,)type'.\n",
      "  _np_qint16 = np.dtype([(\"qint16\", np.int16, 1)])\n",
      "C:\\Users\\YooSeok\\Anaconda3\\envs\\Keras\\lib\\site-packages\\tensorflow\\python\\framework\\dtypes.py:529: FutureWarning: Passing (type, 1) or '1type' as a synonym of type is deprecated; in a future version of numpy, it will be understood as (type, (1,)) / '(1,)type'.\n",
      "  _np_quint16 = np.dtype([(\"quint16\", np.uint16, 1)])\n",
      "C:\\Users\\YooSeok\\Anaconda3\\envs\\Keras\\lib\\site-packages\\tensorflow\\python\\framework\\dtypes.py:530: FutureWarning: Passing (type, 1) or '1type' as a synonym of type is deprecated; in a future version of numpy, it will be understood as (type, (1,)) / '(1,)type'.\n",
      "  _np_qint32 = np.dtype([(\"qint32\", np.int32, 1)])\n",
      "C:\\Users\\YooSeok\\Anaconda3\\envs\\Keras\\lib\\site-packages\\tensorflow\\python\\framework\\dtypes.py:535: FutureWarning: Passing (type, 1) or '1type' as a synonym of type is deprecated; in a future version of numpy, it will be understood as (type, (1,)) / '(1,)type'.\n",
      "  np_resource = np.dtype([(\"resource\", np.ubyte, 1)])\n"
     ]
    }
   ],
   "source": [
    "import pandas as pd\n",
    "import numpy as np\n",
    "import matplotlib.pyplot as plt\n",
    "\n",
    "from keras.models import Sequential\n",
    "from keras.layers import LSTM, Dense, Activation, BatchNormalization\n",
    "from keras.callbacks import TensorBoard\n",
    "\n",
    "from sklearn.model_selection import train_test_split"
   ]
  },
  {
   "cell_type": "code",
   "execution_count": 21,
   "metadata": {},
   "outputs": [
    {
     "name": "stdout",
     "output_type": "stream",
     "text": [
      "(55032, 10)\n"
     ]
    }
   ],
   "source": [
    "df_data = pd.read_csv('3data.csv')\n",
    "print(df_data.shape)"
   ]
  },
  {
   "cell_type": "code",
   "execution_count": 22,
   "metadata": {},
   "outputs": [
    {
     "data": {
      "text/html": [
       "<div>\n",
       "<style scoped>\n",
       "    .dataframe tbody tr th:only-of-type {\n",
       "        vertical-align: middle;\n",
       "    }\n",
       "\n",
       "    .dataframe tbody tr th {\n",
       "        vertical-align: top;\n",
       "    }\n",
       "\n",
       "    .dataframe thead th {\n",
       "        text-align: right;\n",
       "    }\n",
       "</style>\n",
       "<table border=\"1\" class=\"dataframe\">\n",
       "  <thead>\n",
       "    <tr style=\"text-align: right;\">\n",
       "      <th></th>\n",
       "      <th>Time</th>\n",
       "      <th>1temp</th>\n",
       "      <th>1hum</th>\n",
       "      <th>1lux</th>\n",
       "      <th>2temp</th>\n",
       "      <th>2hum</th>\n",
       "      <th>2lux</th>\n",
       "      <th>3temp</th>\n",
       "      <th>3hum</th>\n",
       "      <th>3lux</th>\n",
       "    </tr>\n",
       "  </thead>\n",
       "  <tbody>\n",
       "    <tr>\n",
       "      <th>0</th>\n",
       "      <td>2018-08-10 09:45:10 UTC</td>\n",
       "      <td>26.51000</td>\n",
       "      <td>57.29000</td>\n",
       "      <td>941</td>\n",
       "      <td>26.20001</td>\n",
       "      <td>64.49000</td>\n",
       "      <td>984</td>\n",
       "      <td>26.82999</td>\n",
       "      <td>58.60999</td>\n",
       "      <td>201</td>\n",
       "    </tr>\n",
       "    <tr>\n",
       "      <th>1</th>\n",
       "      <td>2018-08-10 09:45:49 UTC</td>\n",
       "      <td>26.50000</td>\n",
       "      <td>57.45000</td>\n",
       "      <td>951</td>\n",
       "      <td>26.09000</td>\n",
       "      <td>64.49000</td>\n",
       "      <td>984</td>\n",
       "      <td>26.74001</td>\n",
       "      <td>58.91001</td>\n",
       "      <td>201</td>\n",
       "    </tr>\n",
       "    <tr>\n",
       "      <th>2</th>\n",
       "      <td>2018-08-10 09:46:37 UTC</td>\n",
       "      <td>26.50000</td>\n",
       "      <td>57.55999</td>\n",
       "      <td>951</td>\n",
       "      <td>25.90999</td>\n",
       "      <td>64.53001</td>\n",
       "      <td>832</td>\n",
       "      <td>26.70001</td>\n",
       "      <td>59.26000</td>\n",
       "      <td>929</td>\n",
       "    </tr>\n",
       "    <tr>\n",
       "      <th>3</th>\n",
       "      <td>2018-08-10 09:47:26 UTC</td>\n",
       "      <td>26.50000</td>\n",
       "      <td>57.59999</td>\n",
       "      <td>951</td>\n",
       "      <td>25.73001</td>\n",
       "      <td>65.39000</td>\n",
       "      <td>997</td>\n",
       "      <td>26.70001</td>\n",
       "      <td>59.50000</td>\n",
       "      <td>930</td>\n",
       "    </tr>\n",
       "    <tr>\n",
       "      <th>4</th>\n",
       "      <td>2018-08-10 09:48:14 UTC</td>\n",
       "      <td>26.50000</td>\n",
       "      <td>57.57999</td>\n",
       "      <td>951</td>\n",
       "      <td>25.62000</td>\n",
       "      <td>65.73001</td>\n",
       "      <td>996</td>\n",
       "      <td>26.70001</td>\n",
       "      <td>59.50000</td>\n",
       "      <td>930</td>\n",
       "    </tr>\n",
       "    <tr>\n",
       "      <th>5</th>\n",
       "      <td>2018-08-10 09:49:03 UTC</td>\n",
       "      <td>26.51000</td>\n",
       "      <td>57.52000</td>\n",
       "      <td>951</td>\n",
       "      <td>25.54000</td>\n",
       "      <td>65.93001</td>\n",
       "      <td>996</td>\n",
       "      <td>26.70001</td>\n",
       "      <td>59.51000</td>\n",
       "      <td>930</td>\n",
       "    </tr>\n",
       "    <tr>\n",
       "      <th>6</th>\n",
       "      <td>2018-08-10 09:49:52 UTC</td>\n",
       "      <td>26.58000</td>\n",
       "      <td>57.45000</td>\n",
       "      <td>952</td>\n",
       "      <td>25.50000</td>\n",
       "      <td>65.96001</td>\n",
       "      <td>996</td>\n",
       "      <td>26.73000</td>\n",
       "      <td>59.48000</td>\n",
       "      <td>930</td>\n",
       "    </tr>\n",
       "    <tr>\n",
       "      <th>7</th>\n",
       "      <td>2018-08-10 09:50:41 UTC</td>\n",
       "      <td>26.61000</td>\n",
       "      <td>57.39001</td>\n",
       "      <td>952</td>\n",
       "      <td>25.50000</td>\n",
       "      <td>65.92001</td>\n",
       "      <td>997</td>\n",
       "      <td>26.79000</td>\n",
       "      <td>59.47001</td>\n",
       "      <td>930</td>\n",
       "    </tr>\n",
       "    <tr>\n",
       "      <th>8</th>\n",
       "      <td>2018-08-10 09:51:29 UTC</td>\n",
       "      <td>26.67000</td>\n",
       "      <td>57.34000</td>\n",
       "      <td>952</td>\n",
       "      <td>25.50000</td>\n",
       "      <td>65.88002</td>\n",
       "      <td>997</td>\n",
       "      <td>26.85000</td>\n",
       "      <td>59.38001</td>\n",
       "      <td>930</td>\n",
       "    </tr>\n",
       "    <tr>\n",
       "      <th>9</th>\n",
       "      <td>2018-08-10 09:52:19 UTC</td>\n",
       "      <td>26.70001</td>\n",
       "      <td>57.22000</td>\n",
       "      <td>952</td>\n",
       "      <td>25.51000</td>\n",
       "      <td>65.77998</td>\n",
       "      <td>997</td>\n",
       "      <td>26.89000</td>\n",
       "      <td>59.36000</td>\n",
       "      <td>930</td>\n",
       "    </tr>\n",
       "  </tbody>\n",
       "</table>\n",
       "</div>"
      ],
      "text/plain": [
       "                      Time     1temp      1hum  1lux     2temp      2hum  \\\n",
       "0  2018-08-10 09:45:10 UTC  26.51000  57.29000   941  26.20001  64.49000   \n",
       "1  2018-08-10 09:45:49 UTC  26.50000  57.45000   951  26.09000  64.49000   \n",
       "2  2018-08-10 09:46:37 UTC  26.50000  57.55999   951  25.90999  64.53001   \n",
       "3  2018-08-10 09:47:26 UTC  26.50000  57.59999   951  25.73001  65.39000   \n",
       "4  2018-08-10 09:48:14 UTC  26.50000  57.57999   951  25.62000  65.73001   \n",
       "5  2018-08-10 09:49:03 UTC  26.51000  57.52000   951  25.54000  65.93001   \n",
       "6  2018-08-10 09:49:52 UTC  26.58000  57.45000   952  25.50000  65.96001   \n",
       "7  2018-08-10 09:50:41 UTC  26.61000  57.39001   952  25.50000  65.92001   \n",
       "8  2018-08-10 09:51:29 UTC  26.67000  57.34000   952  25.50000  65.88002   \n",
       "9  2018-08-10 09:52:19 UTC  26.70001  57.22000   952  25.51000  65.77998   \n",
       "\n",
       "   2lux     3temp      3hum  3lux  \n",
       "0   984  26.82999  58.60999   201  \n",
       "1   984  26.74001  58.91001   201  \n",
       "2   832  26.70001  59.26000   929  \n",
       "3   997  26.70001  59.50000   930  \n",
       "4   996  26.70001  59.50000   930  \n",
       "5   996  26.70001  59.51000   930  \n",
       "6   996  26.73000  59.48000   930  \n",
       "7   997  26.79000  59.47001   930  \n",
       "8   997  26.85000  59.38001   930  \n",
       "9   997  26.89000  59.36000   930  "
      ]
     },
     "execution_count": 22,
     "metadata": {},
     "output_type": "execute_result"
    }
   ],
   "source": [
    "df_data.head(10)"
   ]
  },
  {
   "cell_type": "code",
   "execution_count": 23,
   "metadata": {},
   "outputs": [
    {
     "name": "stdout",
     "output_type": "stream",
     "text": [
      "<class 'pandas.core.frame.DataFrame'>\n",
      "RangeIndex: 55032 entries, 0 to 55031\n",
      "Data columns (total 10 columns):\n",
      "Time     55032 non-null object\n",
      "1temp    55032 non-null float64\n",
      "1hum     55032 non-null float64\n",
      "1lux     55032 non-null int64\n",
      "2temp    55032 non-null float64\n",
      "2hum     55032 non-null float64\n",
      "2lux     55032 non-null int64\n",
      "3temp    40173 non-null float64\n",
      "3hum     40172 non-null float64\n",
      "3lux     55032 non-null int64\n",
      "dtypes: float64(6), int64(3), object(1)\n",
      "memory usage: 4.2+ MB\n"
     ]
    }
   ],
   "source": [
    "df_data.info()"
   ]
  },
  {
   "cell_type": "code",
   "execution_count": 24,
   "metadata": {},
   "outputs": [],
   "source": [
    "df_data['Time'] = pd.to_datetime(df_data['Time'])"
   ]
  },
  {
   "cell_type": "code",
   "execution_count": 25,
   "metadata": {},
   "outputs": [],
   "source": [
    "hour, minute, second = [], [], []\n",
    "for i in range(np.size(df_data, 0)):\n",
    "    hour.append(df_data['Time'][i].hour)\n",
    "    minute.append(df_data['Time'][i].minute)\n",
    "    second.append(df_data['Time'][i].second)"
   ]
  },
  {
   "cell_type": "code",
   "execution_count": 26,
   "metadata": {},
   "outputs": [
    {
     "name": "stdout",
     "output_type": "stream",
     "text": [
      "(55032, 1) (55032, 1) (55032, 1)\n"
     ]
    }
   ],
   "source": [
    "hour = np.array(hour).reshape(-1, 1)\n",
    "minute = np.array(minute).reshape(-1, 1)\n",
    "second = np.array(second).reshape(-1, 1)\n",
    "\n",
    "print(hour.shape, minute.shape, second.shape)"
   ]
  },
  {
   "cell_type": "code",
   "execution_count": 27,
   "metadata": {},
   "outputs": [
    {
     "name": "stdout",
     "output_type": "stream",
     "text": [
      "(55032, 1)\n"
     ]
    }
   ],
   "source": [
    "lux1 = df_data['1lux'].values.reshape(-1, 1)\n",
    "lux2 = df_data['2lux'].values.reshape(-1, 1)\n",
    "lux3 = df_data['3lux'].values.reshape(-1, 1)\n",
    "print(lux1.shape)"
   ]
  },
  {
   "cell_type": "code",
   "execution_count": 29,
   "metadata": {},
   "outputs": [],
   "source": [
    "lux1 = (lux1 - lux1.mean()) / lux1.std()\n",
    "lux2 = (lux2 - lux2.mean()) / lux2.std()\n",
    "lux3 = (lux3 - lux3.mean()) / lux3.std()"
   ]
  },
  {
   "cell_type": "code",
   "execution_count": 30,
   "metadata": {},
   "outputs": [
    {
     "data": {
      "image/png": "[encoded data removed]",
      "text/plain": [
       "<Figure size 432x288 with 1 Axes>"
      ]
     },
     "metadata": {
      "needs_background": "light"
     },
     "output_type": "display_data"
    }
   ],
   "source": [
    "plt.plot(lux1[:,0], 'r', label='y_true')\n",
    "plt.show()"
   ]
  },
  {
   "cell_type": "code",
   "execution_count": 32,
   "metadata": {},
   "outputs": [
    {
     "name": "stdout",
     "output_type": "stream",
     "text": [
      "(55032, 6)\n"
     ]
    }
   ],
   "source": [
    "data = np.concatenate((hour, minute, second, lux1, lux2, lux3), axis=1)\n",
    "print(data.shape)"
   ]
  },
  {
   "cell_type": "code",
   "execution_count": 33,
   "metadata": {},
   "outputs": [
    {
     "data": {
      "text/plain": [
       "array([[ 9.        , 45.        , 10.        ,  0.39262547,  0.30684471,\n",
       "        -3.85108962],\n",
       "       [ 9.        , 45.        , 49.        ,  0.45493545,  0.30684471,\n",
       "        -3.85108962],\n",
       "       [ 9.        , 46.        , 37.        ,  0.45493545, -1.114508  ,\n",
       "         0.47622731],\n",
       "       [ 9.        , 47.        , 26.        ,  0.45493545,  0.42840777,\n",
       "         0.48217142],\n",
       "       [ 9.        , 48.        , 14.        ,  0.45493545,  0.41905677,\n",
       "         0.48217142],\n",
       "       [ 9.        , 49.        ,  3.        ,  0.45493545,  0.41905677,\n",
       "         0.48217142],\n",
       "       [ 9.        , 49.        , 52.        ,  0.46116645,  0.41905677,\n",
       "         0.48217142],\n",
       "       [ 9.        , 50.        , 41.        ,  0.46116645,  0.42840777,\n",
       "         0.48217142],\n",
       "       [ 9.        , 51.        , 29.        ,  0.46116645,  0.42840777,\n",
       "         0.48217142],\n",
       "       [ 9.        , 52.        , 19.        ,  0.46116645,  0.42840777,\n",
       "         0.48217142]])"
      ]
     },
     "execution_count": 33,
     "metadata": {},
     "output_type": "execute_result"
    }
   ],
   "source": [
    "data[:10]"
   ]
  },
  {
   "cell_type": "code",
   "execution_count": 35,
   "metadata": {},
   "outputs": [
    {
     "name": "stdout",
     "output_type": "stream",
     "text": [
      "(40000, 6) (40000, 1)\n"
     ]
    }
   ],
   "source": [
    "train_data = data[:40000]\n",
    "train_lux1 = lux1[:40000]\n",
    "print(train_data.shape, train_lux1.shape)"
   ]
  },
  {
   "cell_type": "code",
   "execution_count": 36,
   "metadata": {},
   "outputs": [
    {
     "name": "stdout",
     "output_type": "stream",
     "text": [
      "(15031, 6) (15031, 1)\n"
     ]
    }
   ],
   "source": [
    "test_data = data[40001:]\n",
    "test_lux1 = lux1[40001:]\n",
    "print(test_data.shape, test_lux1.shape)"
   ]
  },
  {
   "cell_type": "code",
   "execution_count": 37,
   "metadata": {},
   "outputs": [],
   "source": [
    "lag=15 # 몇분 후 의 데이터를 input feature로 할지(?)"
   ]
  },
  {
   "cell_type": "code",
   "execution_count": 38,
   "metadata": {},
   "outputs": [
    {
     "name": "stdout",
     "output_type": "stream",
     "text": [
      "(15, 39985, 6)\n"
     ]
    }
   ],
   "source": [
    "arr = []\n",
    "for i in range(15):\n",
    "    arr.append(train_data[i:i-lag,:])\n",
    "\n",
    "arr = np.array(arr, dtype=np.float32)\n",
    "print(arr.shape)"
   ]
  },
  {
   "cell_type": "code",
   "execution_count": 39,
   "metadata": {},
   "outputs": [],
   "source": [
    "#arr[:15,:10,:4]"
   ]
  },
  {
   "cell_type": "code",
   "execution_count": 41,
   "metadata": {},
   "outputs": [],
   "source": [
    "x_train_val = np.concatenate((arr[0], arr[1], arr[2], arr[3], arr[4], arr[5], arr[6], arr[7], arr[8], arr[9], arr[10], arr[11], arr[12], arr[13], arr[14]), axis=1).reshape(-1, 15, 6)\n",
    "train_mean, train_std = np.mean(x_train_val, axis=0), np.std(x_train_val, axis=0)\n",
    "train_mean, train_std = np.mean(train_mean, axis=0), np.mean(train_std, axis=0)"
   ]
  },
  {
   "cell_type": "code",
   "execution_count": 42,
   "metadata": {},
   "outputs": [],
   "source": [
    "y_train_val = train_lux1[lag:, :].reshape(-1, 1)"
   ]
  },
  {
   "cell_type": "code",
   "execution_count": 43,
   "metadata": {},
   "outputs": [
    {
     "name": "stdout",
     "output_type": "stream",
     "text": [
      "(39985, 15, 6) (39985, 1)\n"
     ]
    }
   ],
   "source": [
    "print(x_train_val.shape, y_train_val.shape)"
   ]
  },
  {
   "cell_type": "code",
   "execution_count": 44,
   "metadata": {},
   "outputs": [
    {
     "name": "stdout",
     "output_type": "stream",
     "text": [
      "(15, 15016, 6)\n"
     ]
    }
   ],
   "source": [
    "arr = []\n",
    "for i in range(15):\n",
    "    arr.append(test_data[i:i-lag,:])\n",
    "    \n",
    "arr = np.array(arr, dtype=np.float32)\n",
    "print(arr.shape)\n"
   ]
  },
  {
   "cell_type": "code",
   "execution_count": 46,
   "metadata": {},
   "outputs": [
    {
     "name": "stdout",
     "output_type": "stream",
     "text": [
      "(15016, 15, 6) (15016, 1)\n"
     ]
    }
   ],
   "source": [
    "x_test = np.concatenate((arr[0], arr[1], arr[2], arr[3], arr[4], arr[5], arr[6], arr[7], arr[8], arr[9], arr[10], arr[11], arr[12], arr[13], arr[14]), axis=1).reshape(-1, 15, 6)\n",
    "y_test = test_lux1[lag:, :].reshape(-1, 1)\n",
    "print(x_test.shape, y_test.shape)"
   ]
  },
  {
   "cell_type": "code",
   "execution_count": 47,
   "metadata": {},
   "outputs": [
    {
     "name": "stdout",
     "output_type": "stream",
     "text": [
      "(31988, 15, 6) (31988, 1) (7997, 15, 6) (7997, 1)\n"
     ]
    }
   ],
   "source": [
    "# split into training and validation datasets\n",
    "x_train, x_val, y_train, y_val = train_test_split(x_train_val, y_train_val, test_size=0.2)\n",
    "print(x_train.shape, y_train.shape, x_val.shape, y_val.shape)"
   ]
  },
  {
   "cell_type": "code",
   "execution_count": 52,
   "metadata": {},
   "outputs": [],
   "source": [
    "h_units = 64\n",
    "activation_ = 'relu'\n",
    "\n",
    "def rnn_model():\n",
    "    model = Sequential()\n",
    "    model.add(LSTM(units=h_units, return_sequences=True, input_shape=(15, 6)))        \n",
    "    model.add(LSTM(units=h_units, return_sequences=False))\n",
    "    model.add(Dense(64))\n",
    "    model.add(Dense(1))\n",
    "    \n",
    "    return model"
   ]
  },
  {
   "cell_type": "code",
   "execution_count": 53,
   "metadata": {},
   "outputs": [
    {
     "name": "stdout",
     "output_type": "stream",
     "text": [
      "_________________________________________________________________\n",
      "Layer (type)                 Output Shape              Param #   \n",
      "=================================================================\n",
      "lstm_3 (LSTM)                (None, 15, 64)            18176     \n",
      "_________________________________________________________________\n",
      "lstm_4 (LSTM)                (None, 64)                33024     \n",
      "_________________________________________________________________\n",
      "dense_3 (Dense)              (None, 64)                4160      \n",
      "_________________________________________________________________\n",
      "dense_4 (Dense)              (None, 1)                 65        \n",
      "=================================================================\n",
      "Total params: 55,425\n",
      "Trainable params: 55,425\n",
      "Non-trainable params: 0\n",
      "_________________________________________________________________\n"
     ]
    }
   ],
   "source": [
    "# create a model \n",
    "model = rnn_model()\n",
    "model.summary()"
   ]
  },
  {
   "cell_type": "code",
   "execution_count": 54,
   "metadata": {},
   "outputs": [],
   "source": [
    "model.compile(loss='mean_squared_error', optimizer='adam')"
   ]
  },
  {
   "cell_type": "code",
   "execution_count": 55,
   "metadata": {},
   "outputs": [
    {
     "name": "stdout",
     "output_type": "stream",
     "text": [
      "WARNING:tensorflow:From C:\\Users\\YooSeok\\Anaconda3\\envs\\Keras\\lib\\site-packages\\tensorflow\\python\\ops\\math_ops.py:3066: to_int32 (from tensorflow.python.ops.math_ops) is deprecated and will be removed in a future version.\n",
      "Instructions for updating:\n",
      "Use tf.cast instead.\n"
     ]
    }
   ],
   "source": [
    "# training\n",
    "tensorBoard = TensorBoard(log_dir='./logs', histogram_freq=0, write_graph=True, write_images=False)\n",
    "\n",
    "hist = model.fit(x_train, y_train, epochs=100, batch_size=2048, verbose=False, validation_data=(x_val, y_val), shuffle=True, callbacks=[tensorBoard])"
   ]
  },
  {
   "cell_type": "code",
   "execution_count": 56,
   "metadata": {},
   "outputs": [
    {
     "name": "stdout",
     "output_type": "stream",
     "text": [
      "15016/15016 [==============================] - 1s 36us/step\n",
      "(15016, 1)\n",
      "15016/15016 [==============================] - 0s 25us/step\n",
      "0.03435054915219339\n"
     ]
    }
   ],
   "source": [
    "y_pred = model.predict(x_test, batch_size=1024, verbose=True) \n",
    "print(y_pred.shape)\n",
    "print(model.evaluate(x_test, y_test,batch_size=1024))"
   ]
  },
  {
   "cell_type": "code",
   "execution_count": 57,
   "metadata": {},
   "outputs": [
    {
     "data": {
      "image/png": "[encoded data removed]",
      "text/plain": [
       "<Figure size 432x288 with 1 Axes>"
      ]
     },
     "metadata": {
      "needs_background": "light"
     },
     "output_type": "display_data"
    }
   ],
   "source": [
    "%matplotlib inline\n",
    "import matplotlib.pyplot as plt\n",
    "\n",
    "fig, loss_ax = plt.subplots()\n",
    "\n",
    "loss_ax.plot(hist.history['loss'], 'b', label='train loss')\n",
    "loss_ax.plot(hist.history['val_loss'], 'r', label='test loss')\n",
    "\n",
    "loss_ax.set_xlabel('epoch')\n",
    "loss_ax.set_ylabel('loss')\n",
    "\n",
    "loss_ax.legend(loc='upper right')\n",
    "\n",
    "plt.show()"
   ]
  },
  {
   "cell_type": "code",
   "execution_count": 58,
   "metadata": {},
   "outputs": [
    {
     "data": {
      "image/png": "[encoded data removed]",
      "text/plain": [
       "<Figure size 1368x576 with 1 Axes>"
      ]
     },
     "metadata": {
      "needs_background": "light"
     },
     "output_type": "display_data"
    }
   ],
   "source": [
    "# visualization for prediction result\n",
    "# set figure size\n",
    "plt.figure(figsize=(19,8))\n",
    "\n",
    "# set font\n",
    "font = {'family': 'Arial', 'weight': 'normal', 'size': 16}\n",
    "plt.rc('font', **font)\n",
    "\n",
    "# plot data \n",
    "plt.plot(y_test[:,0], 'r', label='y_true')\n",
    "plt.plot(y_pred[:,0], 'b', label='y_pred')\n",
    "\n",
    "# set legend position\n",
    "plt.legend(shadow=True, loc='upper right')\n",
    "\n",
    "# set x-axis & y-axis titles\n",
    "#plt.title('prediction result')\n",
    "plt.xlabel('Time Index')\n",
    "plt.ylabel('Brightness')\n",
    "\n",
    "# set axis-limits\n",
    "plt.xlim(left = 0, right = len(y_test)) \n",
    "#plt.ylim(bottom = -5) \n",
    "\n",
    "# set grid\n",
    "plt.grid(color='gray', linestyle='--', linewidth=1)\n",
    "\n",
    "plt.xticks(np.arange(0,16000,2000))\n",
    "#plt.yticks(np.arange(0,1,1))\n",
    "\n",
    "# save & display figure\n",
    "plt.savefig('pred_graph.png', dpi=300)\n",
    "plt.show()"
   ]
  },
  {
   "cell_type": "code",
   "execution_count": 59,
   "metadata": {},
   "outputs": [
    {
     "name": "stdout",
     "output_type": "stream",
     "text": [
      "Train Score:  0.01395119833837991\n",
      "Test Score:  0.03435055002273439\n"
     ]
    }
   ],
   "source": [
    "#모델 평가하기\n",
    "trainScore = model.evaluate(x_train, y_train, verbose=0)\n",
    "print('Train Score: ', trainScore)\n",
    "#valScore = model.evaluate(x_val, y_val, verbose=0)\n",
    "#print('Validataion Score: ', valScore)\n",
    "testScore = model.evaluate(x_test, y_test, verbose=0)\n",
    "print('Test Score: ', testScore)"
   ]
  },
  {
   "cell_type": "code",
   "execution_count": 60,
   "metadata": {},
   "outputs": [
    {
     "name": "stdout",
     "output_type": "stream",
     "text": [
      "MAPE:  13.838364088605971\n"
     ]
    }
   ],
   "source": [
    "#MAPE\n",
    "\n",
    "y_test, y_pred = np.array(y_test), np.array(y_pred)\n",
    "mape = np.mean(np.abs((y_test - y_pred) / y_test)) * 100\n",
    "print('MAPE: ', mape)"
   ]
  },
  {
   "cell_type": "code",
   "execution_count": 61,
   "metadata": {},
   "outputs": [
    {
     "data": {
      "image/svg+xml": [
       "<svg height=\"377pt\" viewBox=\"0.00 0.00 260.00 377.00\" width=\"260pt\" xmlns=\"http://www.w3.org/2000/svg\" xmlns:xlink=\"http://www.w3.org/1999/xlink\">\n",
       "<g class=\"graph\" id=\"graph0\" transform=\"scale(1 1) rotate(0) translate(4 373)\">\n",
       "<title>G</title>\n",
       "<polygon fill=\"white\" points=\"-4,4 -4,-373 256,-373 256,4 -4,4\" stroke=\"none\"/>\n",
       "<!-- 1931590019840 -->\n",
       "<g class=\"node\" id=\"node1\"><title>1931590019840</title>\n",
       "<polygon fill=\"none\" points=\"0,-249.5 0,-295.5 252,-295.5 252,-249.5 0,-249.5\" stroke=\"black\"/>\n",
       "<text font-family=\"Times New Roman,serif\" font-size=\"14.00\" text-anchor=\"middle\" x=\"49\" y=\"-268.8\">lstm_3: LSTM</text>\n",
       "<polyline fill=\"none\" points=\"98,-249.5 98,-295.5 \" stroke=\"black\"/>\n",
       "<text font-family=\"Times New Roman,serif\" font-size=\"14.00\" text-anchor=\"middle\" x=\"126\" y=\"-280.3\">input:</text>\n",
       "<polyline fill=\"none\" points=\"98,-272.5 154,-272.5 \" stroke=\"black\"/>\n",
       "<text font-family=\"Times New Roman,serif\" font-size=\"14.00\" text-anchor=\"middle\" x=\"126\" y=\"-257.3\">output:</text>\n",
       "<polyline fill=\"none\" points=\"154,-249.5 154,-295.5 \" stroke=\"black\"/>\n",
       "<text font-family=\"Times New Roman,serif\" font-size=\"14.00\" text-anchor=\"middle\" x=\"203\" y=\"-280.3\">(None, 15, 6)</text>\n",
       "<polyline fill=\"none\" points=\"154,-272.5 252,-272.5 \" stroke=\"black\"/>\n",
       "<text font-family=\"Times New Roman,serif\" font-size=\"14.00\" text-anchor=\"middle\" x=\"203\" y=\"-257.3\">(None, 15, 64)</text>\n",
       "</g>\n",
       "<!-- 1931501856360 -->\n",
       "<g class=\"node\" id=\"node2\"><title>1931501856360</title>\n",
       "<polygon fill=\"none\" points=\"0,-166.5 0,-212.5 252,-212.5 252,-166.5 0,-166.5\" stroke=\"black\"/>\n",
       "<text font-family=\"Times New Roman,serif\" font-size=\"14.00\" text-anchor=\"middle\" x=\"49\" y=\"-185.8\">lstm_4: LSTM</text>\n",
       "<polyline fill=\"none\" points=\"98,-166.5 98,-212.5 \" stroke=\"black\"/>\n",
       "<text font-family=\"Times New Roman,serif\" font-size=\"14.00\" text-anchor=\"middle\" x=\"126\" y=\"-197.3\">input:</text>\n",
       "<polyline fill=\"none\" points=\"98,-189.5 154,-189.5 \" stroke=\"black\"/>\n",
       "<text font-family=\"Times New Roman,serif\" font-size=\"14.00\" text-anchor=\"middle\" x=\"126\" y=\"-174.3\">output:</text>\n",
       "<polyline fill=\"none\" points=\"154,-166.5 154,-212.5 \" stroke=\"black\"/>\n",
       "<text font-family=\"Times New Roman,serif\" font-size=\"14.00\" text-anchor=\"middle\" x=\"203\" y=\"-197.3\">(None, 15, 64)</text>\n",
       "<polyline fill=\"none\" points=\"154,-189.5 252,-189.5 \" stroke=\"black\"/>\n",
       "<text font-family=\"Times New Roman,serif\" font-size=\"14.00\" text-anchor=\"middle\" x=\"203\" y=\"-174.3\">(None, 64)</text>\n",
       "</g>\n",
       "<!-- 1931590019840&#45;&gt;1931501856360 -->\n",
       "<g class=\"edge\" id=\"edge2\"><title>1931590019840-&gt;1931501856360</title>\n",
       "<path d=\"M126,-249.366C126,-241.152 126,-231.658 126,-222.725\" fill=\"none\" stroke=\"black\"/>\n",
       "<polygon fill=\"black\" points=\"129.5,-222.607 126,-212.607 122.5,-222.607 129.5,-222.607\" stroke=\"black\"/>\n",
       "</g>\n",
       "<!-- 1931609173856 -->\n",
       "<g class=\"node\" id=\"node3\"><title>1931609173856</title>\n",
       "<polygon fill=\"none\" points=\"7.5,-83.5 7.5,-129.5 244.5,-129.5 244.5,-83.5 7.5,-83.5\" stroke=\"black\"/>\n",
       "<text font-family=\"Times New Roman,serif\" font-size=\"14.00\" text-anchor=\"middle\" x=\"59.5\" y=\"-102.8\">dense_3: Dense</text>\n",
       "<polyline fill=\"none\" points=\"111.5,-83.5 111.5,-129.5 \" stroke=\"black\"/>\n",
       "<text font-family=\"Times New Roman,serif\" font-size=\"14.00\" text-anchor=\"middle\" x=\"139.5\" y=\"-114.3\">input:</text>\n",
       "<polyline fill=\"none\" points=\"111.5,-106.5 167.5,-106.5 \" stroke=\"black\"/>\n",
       "<text font-family=\"Times New Roman,serif\" font-size=\"14.00\" text-anchor=\"middle\" x=\"139.5\" y=\"-91.3\">output:</text>\n",
       "<polyline fill=\"none\" points=\"167.5,-83.5 167.5,-129.5 \" stroke=\"black\"/>\n",
       "<text font-family=\"Times New Roman,serif\" font-size=\"14.00\" text-anchor=\"middle\" x=\"206\" y=\"-114.3\">(None, 64)</text>\n",
       "<polyline fill=\"none\" points=\"167.5,-106.5 244.5,-106.5 \" stroke=\"black\"/>\n",
       "<text font-family=\"Times New Roman,serif\" font-size=\"14.00\" text-anchor=\"middle\" x=\"206\" y=\"-91.3\">(None, 64)</text>\n",
       "</g>\n",
       "<!-- 1931501856360&#45;&gt;1931609173856 -->\n",
       "<g class=\"edge\" id=\"edge3\"><title>1931501856360-&gt;1931609173856</title>\n",
       "<path d=\"M126,-166.366C126,-158.152 126,-148.658 126,-139.725\" fill=\"none\" stroke=\"black\"/>\n",
       "<polygon fill=\"black\" points=\"129.5,-139.607 126,-129.607 122.5,-139.607 129.5,-139.607\" stroke=\"black\"/>\n",
       "</g>\n",
       "<!-- 1931611779200 -->\n",
       "<g class=\"node\" id=\"node4\"><title>1931611779200</title>\n",
       "<polygon fill=\"none\" points=\"7.5,-0.5 7.5,-46.5 244.5,-46.5 244.5,-0.5 7.5,-0.5\" stroke=\"black\"/>\n",
       "<text font-family=\"Times New Roman,serif\" font-size=\"14.00\" text-anchor=\"middle\" x=\"59.5\" y=\"-19.8\">dense_4: Dense</text>\n",
       "<polyline fill=\"none\" points=\"111.5,-0.5 111.5,-46.5 \" stroke=\"black\"/>\n",
       "<text font-family=\"Times New Roman,serif\" font-size=\"14.00\" text-anchor=\"middle\" x=\"139.5\" y=\"-31.3\">input:</text>\n",
       "<polyline fill=\"none\" points=\"111.5,-23.5 167.5,-23.5 \" stroke=\"black\"/>\n",
       "<text font-family=\"Times New Roman,serif\" font-size=\"14.00\" text-anchor=\"middle\" x=\"139.5\" y=\"-8.3\">output:</text>\n",
       "<polyline fill=\"none\" points=\"167.5,-0.5 167.5,-46.5 \" stroke=\"black\"/>\n",
       "<text font-family=\"Times New Roman,serif\" font-size=\"14.00\" text-anchor=\"middle\" x=\"206\" y=\"-31.3\">(None, 64)</text>\n",
       "<polyline fill=\"none\" points=\"167.5,-23.5 244.5,-23.5 \" stroke=\"black\"/>\n",
       "<text font-family=\"Times New Roman,serif\" font-size=\"14.00\" text-anchor=\"middle\" x=\"206\" y=\"-8.3\">(None, 1)</text>\n",
       "</g>\n",
       "<!-- 1931609173856&#45;&gt;1931611779200 -->\n",
       "<g class=\"edge\" id=\"edge4\"><title>1931609173856-&gt;1931611779200</title>\n",
       "<path d=\"M126,-83.3664C126,-75.1516 126,-65.6579 126,-56.7252\" fill=\"none\" stroke=\"black\"/>\n",
       "<polygon fill=\"black\" points=\"129.5,-56.6068 126,-46.6068 122.5,-56.6069 129.5,-56.6068\" stroke=\"black\"/>\n",
       "</g>\n",
       "<!-- 1931604445392 -->\n",
       "<g class=\"node\" id=\"node5\"><title>1931604445392</title>\n",
       "<polygon fill=\"none\" points=\"74,-332.5 74,-368.5 178,-368.5 178,-332.5 74,-332.5\" stroke=\"black\"/>\n",
       "<text font-family=\"Times New Roman,serif\" font-size=\"14.00\" text-anchor=\"middle\" x=\"126\" y=\"-346.8\">1931604445392</text>\n",
       "</g>\n",
       "<!-- 1931604445392&#45;&gt;1931590019840 -->\n",
       "<g class=\"edge\" id=\"edge1\"><title>1931604445392-&gt;1931590019840</title>\n",
       "<path d=\"M126,-332.254C126,-324.363 126,-314.749 126,-305.602\" fill=\"none\" stroke=\"black\"/>\n",
       "<polygon fill=\"black\" points=\"129.5,-305.591 126,-295.591 122.5,-305.591 129.5,-305.591\" stroke=\"black\"/>\n",
       "</g>\n",
       "</g>\n",
       "</svg>"
      ],
      "text/plain": [
       "<IPython.core.display.SVG object>"
      ]
     },
     "execution_count": 61,
     "metadata": {},
     "output_type": "execute_result"
    }
   ],
   "source": [
    "from IPython.display import SVG\n",
    "from keras.utils.vis_utils import model_to_dot\n",
    "\n",
    "%matplotlib inline\n",
    "\n",
    "SVG(model_to_dot(model, show_shapes=True).create(prog='dot', format='svg'))"
   ]
  },
  {
   "cell_type": "code",
   "execution_count": null,
   "metadata": {},
   "outputs": [],
   "source": []
  }
 ],
 "metadata": {
  "kernelspec": {
   "display_name": "Python 3",
   "language": "python",
   "name": "python3"
  },
  "language_info": {
   "codemirror_mode": {
    "name": "ipython",
    "version": 3
   },
   "file_extension": ".py",
   "mimetype": "text/x-python",
   "name": "python",
   "nbconvert_exporter": "python",
   "pygments_lexer": "ipython3",
   "version": "3.7.3"
  }
 },
 "nbformat": 4,
 "nbformat_minor": 4
}
