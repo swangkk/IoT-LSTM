{
 "cells": [
  {
   "cell_type": "code",
   "execution_count": 1,
   "metadata": {},
   "outputs": [],
   "source": [
    "# V 6.1 \n"
   ]
  },
  {
   "cell_type": "code",
   "execution_count": 2,
   "metadata": {},
   "outputs": [
    {
     "name": "stderr",
     "output_type": "stream",
     "text": [
      "Using TensorFlow backend.\n",
      "C:\\Users\\YooSeok\\Anaconda3\\envs\\Keras\\lib\\site-packages\\tensorflow\\python\\framework\\dtypes.py:526: FutureWarning: Passing (type, 1) or '1type' as a synonym of type is deprecated; in a future version of numpy, it will be understood as (type, (1,)) / '(1,)type'.\n",
      "  _np_qint8 = np.dtype([(\"qint8\", np.int8, 1)])\n",
      "C:\\Users\\YooSeok\\Anaconda3\\envs\\Keras\\lib\\site-packages\\tensorflow\\python\\framework\\dtypes.py:527: FutureWarning: Passing (type, 1) or '1type' as a synonym of type is deprecated; in a future version of numpy, it will be understood as (type, (1,)) / '(1,)type'.\n",
      "  _np_quint8 = np.dtype([(\"quint8\", np.uint8, 1)])\n",
      "C:\\Users\\YooSeok\\Anaconda3\\envs\\Keras\\lib\\site-packages\\tensorflow\\python\\framework\\dtypes.py:528: FutureWarning: Passing (type, 1) or '1type' as a synonym of type is deprecated; in a future version of numpy, it will be understood as (type, (1,)) / '(1,)type'.\n",
      "  _np_qint16 = np.dtype([(\"qint16\", np.int16, 1)])\n",
      "C:\\Users\\YooSeok\\Anaconda3\\envs\\Keras\\lib\\site-packages\\tensorflow\\python\\framework\\dtypes.py:529: FutureWarning: Passing (type, 1) or '1type' as a synonym of type is deprecated; in a future version of numpy, it will be understood as (type, (1,)) / '(1,)type'.\n",
      "  _np_quint16 = np.dtype([(\"quint16\", np.uint16, 1)])\n",
      "C:\\Users\\YooSeok\\Anaconda3\\envs\\Keras\\lib\\site-packages\\tensorflow\\python\\framework\\dtypes.py:530: FutureWarning: Passing (type, 1) or '1type' as a synonym of type is deprecated; in a future version of numpy, it will be understood as (type, (1,)) / '(1,)type'.\n",
      "  _np_qint32 = np.dtype([(\"qint32\", np.int32, 1)])\n",
      "C:\\Users\\YooSeok\\Anaconda3\\envs\\Keras\\lib\\site-packages\\tensorflow\\python\\framework\\dtypes.py:535: FutureWarning: Passing (type, 1) or '1type' as a synonym of type is deprecated; in a future version of numpy, it will be understood as (type, (1,)) / '(1,)type'.\n",
      "  np_resource = np.dtype([(\"resource\", np.ubyte, 1)])\n"
     ]
    }
   ],
   "source": [
    "import pandas as pd\n",
    "import numpy as np\n",
    "import matplotlib.pyplot as plt\n",
    "\n",
    "from keras.models import Sequential\n",
    "from keras.layers import LSTM, Dense, Activation, BatchNormalization\n",
    "from keras.callbacks import TensorBoard\n",
    "\n",
    "from sklearn.model_selection import train_test_split"
   ]
  },
  {
   "cell_type": "code",
   "execution_count": 3,
   "metadata": {},
   "outputs": [],
   "source": [
    "#GPU 옵션\n",
    "import tensorflow as tf\n",
    "config = tf.ConfigProto()\n",
    "config.gpu_options.allow_growth=True\n",
    "sess = tf.Session(config=config)"
   ]
  },
  {
   "cell_type": "code",
   "execution_count": 4,
   "metadata": {},
   "outputs": [
    {
     "name": "stdout",
     "output_type": "stream",
     "text": [
      "(53900, 20)\n"
     ]
    },
    {
     "data": {
      "text/html": [
       "<div>\n",
       "<style scoped>\n",
       "    .dataframe tbody tr th:only-of-type {\n",
       "        vertical-align: middle;\n",
       "    }\n",
       "\n",
       "    .dataframe tbody tr th {\n",
       "        vertical-align: top;\n",
       "    }\n",
       "\n",
       "    .dataframe thead th {\n",
       "        text-align: right;\n",
       "    }\n",
       "</style>\n",
       "<table border=\"1\" class=\"dataframe\">\n",
       "  <thead>\n",
       "    <tr style=\"text-align: right;\">\n",
       "      <th></th>\n",
       "      <th>Time</th>\n",
       "      <th>code</th>\n",
       "      <th>month</th>\n",
       "      <th>day</th>\n",
       "      <th>hour</th>\n",
       "      <th>min</th>\n",
       "      <th>1temp</th>\n",
       "      <th>1hum</th>\n",
       "      <th>1lux</th>\n",
       "      <th>2temp</th>\n",
       "      <th>2hum</th>\n",
       "      <th>2lux</th>\n",
       "      <th>3lux</th>\n",
       "      <th>a1temp</th>\n",
       "      <th>a1hum</th>\n",
       "      <th>a1lux</th>\n",
       "      <th>a2temp</th>\n",
       "      <th>a2hum</th>\n",
       "      <th>a2lux</th>\n",
       "      <th>a3lux</th>\n",
       "    </tr>\n",
       "  </thead>\n",
       "  <tbody>\n",
       "    <tr>\n",
       "      <th>0</th>\n",
       "      <td>2018-08-10 09:45:10 UTC</td>\n",
       "      <td>8-10-9-45</td>\n",
       "      <td>8</td>\n",
       "      <td>10</td>\n",
       "      <td>9</td>\n",
       "      <td>45</td>\n",
       "      <td>26.51</td>\n",
       "      <td>57.29</td>\n",
       "      <td>68.272</td>\n",
       "      <td>26.145005</td>\n",
       "      <td>64.510005</td>\n",
       "      <td>13.294</td>\n",
       "      <td>68.221</td>\n",
       "      <td>26.51</td>\n",
       "      <td>57.29000</td>\n",
       "      <td>68.272</td>\n",
       "      <td>26.145005</td>\n",
       "      <td>64.510005</td>\n",
       "      <td>13.294</td>\n",
       "      <td>68.221</td>\n",
       "    </tr>\n",
       "    <tr>\n",
       "      <th>1</th>\n",
       "      <td>2018-08-10 09:45:49 UTC</td>\n",
       "      <td>8-10-9-45</td>\n",
       "      <td>8</td>\n",
       "      <td>10</td>\n",
       "      <td>9</td>\n",
       "      <td>45</td>\n",
       "      <td>26.51</td>\n",
       "      <td>57.29</td>\n",
       "      <td>68.272</td>\n",
       "      <td>26.145005</td>\n",
       "      <td>64.510005</td>\n",
       "      <td>13.294</td>\n",
       "      <td>68.221</td>\n",
       "      <td>26.50</td>\n",
       "      <td>57.45000</td>\n",
       "      <td>73.933</td>\n",
       "      <td>25.909990</td>\n",
       "      <td>65.390000</td>\n",
       "      <td>54.519</td>\n",
       "      <td>102.748</td>\n",
       "    </tr>\n",
       "    <tr>\n",
       "      <th>2</th>\n",
       "      <td>2018-08-10 09:46:37 UTC</td>\n",
       "      <td>8-10-9-46</td>\n",
       "      <td>8</td>\n",
       "      <td>10</td>\n",
       "      <td>9</td>\n",
       "      <td>46</td>\n",
       "      <td>26.50</td>\n",
       "      <td>57.45</td>\n",
       "      <td>73.933</td>\n",
       "      <td>25.909990</td>\n",
       "      <td>65.390000</td>\n",
       "      <td>54.519</td>\n",
       "      <td>102.748</td>\n",
       "      <td>26.50</td>\n",
       "      <td>57.55999</td>\n",
       "      <td>74.783</td>\n",
       "      <td>25.730010</td>\n",
       "      <td>65.730010</td>\n",
       "      <td>73.066</td>\n",
       "      <td>101.830</td>\n",
       "    </tr>\n",
       "  </tbody>\n",
       "</table>\n",
       "</div>"
      ],
      "text/plain": [
       "                      Time       code  month  day  hour  min  1temp   1hum  \\\n",
       "0  2018-08-10 09:45:10 UTC  8-10-9-45      8   10     9   45  26.51  57.29   \n",
       "1  2018-08-10 09:45:49 UTC  8-10-9-45      8   10     9   45  26.51  57.29   \n",
       "2  2018-08-10 09:46:37 UTC  8-10-9-46      8   10     9   46  26.50  57.45   \n",
       "\n",
       "     1lux      2temp       2hum    2lux     3lux  a1temp     a1hum   a1lux  \\\n",
       "0  68.272  26.145005  64.510005  13.294   68.221   26.51  57.29000  68.272   \n",
       "1  68.272  26.145005  64.510005  13.294   68.221   26.50  57.45000  73.933   \n",
       "2  73.933  25.909990  65.390000  54.519  102.748   26.50  57.55999  74.783   \n",
       "\n",
       "      a2temp      a2hum   a2lux    a3lux  \n",
       "0  26.145005  64.510005  13.294   68.221  \n",
       "1  25.909990  65.390000  54.519  102.748  \n",
       "2  25.730010  65.730010  73.066  101.830  "
      ]
     },
     "execution_count": 4,
     "metadata": {},
     "output_type": "execute_result"
    }
   ],
   "source": [
    "df_data = pd.read_csv('data v2.csv')\n",
    "print(df_data.shape)\n",
    "df_data.head(3)"
   ]
  },
  {
   "cell_type": "code",
   "execution_count": 5,
   "metadata": {},
   "outputs": [],
   "source": [
    "month, day, hour, minu, lux1, label = [], [], [], [], [], []\n",
    "\n",
    "month.append(df_data['month'])\n",
    "day.append(df_data['day'])\n",
    "hour.append(df_data['hour'])\n",
    "minu.append(df_data['min'])\n",
    "\n",
    "lux1.append(df_data['1temp'])\n",
    "label.append(df_data['a1temp'])"
   ]
  },
  {
   "cell_type": "code",
   "execution_count": 6,
   "metadata": {},
   "outputs": [],
   "source": [
    "month = np.array(month).reshape(-1, 1)\n",
    "day = np.array(day).reshape(-1, 1)\n",
    "hour = np.array(hour).reshape(-1, 1)\n",
    "minu = np.array(minu).reshape(-1, 1)\n",
    "\n",
    "lux1 = np.array(lux1).reshape(-1, 1)\n",
    "label = np.array(label).reshape(-1, 1)"
   ]
  },
  {
   "cell_type": "code",
   "execution_count": 7,
   "metadata": {},
   "outputs": [
    {
     "name": "stdout",
     "output_type": "stream",
     "text": [
      "(53900, 1)\n"
     ]
    }
   ],
   "source": [
    "print(label.shape)"
   ]
  },
  {
   "cell_type": "code",
   "execution_count": 8,
   "metadata": {},
   "outputs": [],
   "source": [
    "#data=np.concatenate((year, month, day, hour, a0132, b3404, c3405), axis=1).reshape(-1, 1, 7)\n",
    "data=np.concatenate((month, day, hour, minu, lux1), axis=1).reshape(-1, 1, 5)"
   ]
  },
  {
   "cell_type": "code",
   "execution_count": 9,
   "metadata": {},
   "outputs": [],
   "source": [
    "arrnum = 20\n",
    "train_data=data[:48000]\n",
    "train_label=label[arrnum:48000]\n",
    "test_data=data[48001:]\n",
    "test_label=label[48001+arrnum:]"
   ]
  },
  {
   "cell_type": "code",
   "execution_count": 10,
   "metadata": {},
   "outputs": [
    {
     "name": "stdout",
     "output_type": "stream",
     "text": [
      "(20, 47980, 1, 5)\n"
     ]
    }
   ],
   "source": [
    "\n",
    "arr = []\n",
    "for i in range(arrnum):\n",
    "    arr.append(train_data[i:(i-arrnum),:])\n",
    "\n",
    "arr = np.array(arr, dtype=np.float32)\n",
    "print(arr.shape)"
   ]
  },
  {
   "cell_type": "code",
   "execution_count": 11,
   "metadata": {},
   "outputs": [
    {
     "name": "stdout",
     "output_type": "stream",
     "text": [
      "(47980, 20, 5)\n",
      "(47980, 1)\n"
     ]
    }
   ],
   "source": [
    "train_val_data = np.concatenate((arr[0], arr[1], arr[2], arr[3], arr[4], arr[5], arr[6], arr[7], arr[8], arr[9], arr[10], arr[11], arr[12], arr[13], arr[14], arr[15], arr[16], arr[17], arr[18], arr[19]), axis=1).reshape(-1, arrnum, 5)\n",
    "train_mean, train_std = np.mean(train_val_data, axis=0), np.std(train_val_data, axis=0)\n",
    "train_mean, train_std = np.mean(train_mean, axis=0), np.mean(train_std, axis=0)\n",
    "print(train_val_data.shape)\n",
    "print(train_label.shape)"
   ]
  },
  {
   "cell_type": "code",
   "execution_count": 12,
   "metadata": {},
   "outputs": [
    {
     "name": "stdout",
     "output_type": "stream",
     "text": [
      "(38384, 20, 5) (38384, 1) (9596, 20, 5) (9596, 1)\n"
     ]
    }
   ],
   "source": [
    "x_train, x_val, y_train, y_val = train_test_split(train_val_data, train_label, test_size=0.2)\n",
    "print(x_train.shape, y_train.shape, x_val.shape, y_val.shape)"
   ]
  },
  {
   "cell_type": "code",
   "execution_count": 13,
   "metadata": {},
   "outputs": [
    {
     "name": "stdout",
     "output_type": "stream",
     "text": [
      "(20, 5879, 1, 5)\n"
     ]
    }
   ],
   "source": [
    "arr = []\n",
    "for i in range(arrnum):\n",
    "    arr.append(test_data[i:(i-arrnum),:])\n",
    "    \n",
    "arr = np.array(arr, dtype=np.float32)\n",
    "print(arr.shape)\n"
   ]
  },
  {
   "cell_type": "code",
   "execution_count": 14,
   "metadata": {},
   "outputs": [
    {
     "name": "stdout",
     "output_type": "stream",
     "text": [
      "(5879, 20, 5) (5879, 1)\n"
     ]
    }
   ],
   "source": [
    "x_test = np.concatenate((arr[0], arr[1], arr[2], arr[3], arr[4], arr[5], arr[6], arr[7], arr[8], arr[9], arr[10], arr[11], arr[12], arr[13], arr[14], arr[15], arr[16], arr[17], arr[18], arr[19]), axis=1).reshape(-1, arrnum, 5)\n",
    "y_test = test_label.reshape(-1, 1)\n",
    "print(x_test.shape, y_test.shape)"
   ]
  },
  {
   "cell_type": "code",
   "execution_count": 15,
   "metadata": {},
   "outputs": [
    {
     "data": {
      "text/plain": [
       "array([[ 0.  ],\n",
       "       [ 0.  ],\n",
       "       [ 0.  ],\n",
       "       ...,\n",
       "       [27.58],\n",
       "       [27.6 ],\n",
       "       [27.58]])"
      ]
     },
     "execution_count": 15,
     "metadata": {},
     "output_type": "execute_result"
    }
   ],
   "source": [
    "y_test"
   ]
  },
  {
   "cell_type": "code",
   "execution_count": 16,
   "metadata": {},
   "outputs": [],
   "source": [
    "h_units = 512\n",
    "activation_ = 'relu'\n",
    "\n",
    "def rnn_model():\n",
    "    model = Sequential()\n",
    "    model.add(LSTM(units=h_units, return_sequences=True, input_shape=(arrnum,5)))        \n",
    "    model.add(LSTM(units=h_units, return_sequences=False))\n",
    "    model.add(Dense(h_units))\n",
    "    model.add(Dense(1))\n",
    "    \n",
    "    return model"
   ]
  },
  {
   "cell_type": "code",
   "execution_count": 17,
   "metadata": {},
   "outputs": [
    {
     "name": "stdout",
     "output_type": "stream",
     "text": [
      "WARNING:tensorflow:From C:\\Users\\YooSeok\\Anaconda3\\envs\\Keras\\lib\\site-packages\\tensorflow\\python\\framework\\op_def_library.py:263: colocate_with (from tensorflow.python.framework.ops) is deprecated and will be removed in a future version.\n",
      "Instructions for updating:\n",
      "Colocations handled automatically by placer.\n",
      "_________________________________________________________________\n",
      "Layer (type)                 Output Shape              Param #   \n",
      "=================================================================\n",
      "lstm_1 (LSTM)                (None, 20, 512)           1060864   \n",
      "_________________________________________________________________\n",
      "lstm_2 (LSTM)                (None, 512)               2099200   \n",
      "_________________________________________________________________\n",
      "dense_1 (Dense)              (None, 512)               262656    \n",
      "_________________________________________________________________\n",
      "dense_2 (Dense)              (None, 1)                 513       \n",
      "=================================================================\n",
      "Total params: 3,423,233\n",
      "Trainable params: 3,423,233\n",
      "Non-trainable params: 0\n",
      "_________________________________________________________________\n"
     ]
    }
   ],
   "source": [
    "model = rnn_model()\n",
    "model.summary()"
   ]
  },
  {
   "cell_type": "code",
   "execution_count": 18,
   "metadata": {},
   "outputs": [],
   "source": [
    "model.compile(loss='mean_squared_error', optimizer='adam')"
   ]
  },
  {
   "cell_type": "code",
   "execution_count": 19,
   "metadata": {},
   "outputs": [
    {
     "name": "stdout",
     "output_type": "stream",
     "text": [
      "WARNING:tensorflow:From C:\\Users\\YooSeok\\Anaconda3\\envs\\Keras\\lib\\site-packages\\tensorflow\\python\\ops\\math_ops.py:3066: to_int32 (from tensorflow.python.ops.math_ops) is deprecated and will be removed in a future version.\n",
      "Instructions for updating:\n",
      "Use tf.cast instead.\n",
      "Train on 38384 samples, validate on 9596 samples\n",
      "Epoch 1/100\n",
      "38384/38384 [==============================] - 9s 237us/step - loss: 28.3384 - val_loss: 4.8037\n",
      "Epoch 2/100\n",
      "38384/38384 [==============================] - 8s 197us/step - loss: 4.7952 - val_loss: 3.9012\n",
      "Epoch 3/100\n",
      "38384/38384 [==============================] - 8s 196us/step - loss: 4.4345 - val_loss: 3.8307\n",
      "Epoch 4/100\n",
      "38384/38384 [==============================] - 8s 197us/step - loss: 4.4003 - val_loss: 3.8693\n",
      "Epoch 5/100\n",
      "38384/38384 [==============================] - 8s 196us/step - loss: 4.3306 - val_loss: 3.8252\n",
      "Epoch 6/100\n",
      "38384/38384 [==============================] - 7s 195us/step - loss: 4.2992 - val_loss: 3.7737\n",
      "Epoch 7/100\n",
      "38384/38384 [==============================] - 7s 195us/step - loss: 4.3424 - val_loss: 4.0112\n",
      "Epoch 8/100\n",
      "38384/38384 [==============================] - 8s 198us/step - loss: 4.2677 - val_loss: 4.0568\n",
      "Epoch 9/100\n",
      "38384/38384 [==============================] - 8s 197us/step - loss: 4.2652 - val_loss: 3.8514\n",
      "Epoch 10/100\n",
      "38384/38384 [==============================] - 8s 198us/step - loss: 4.2577 - val_loss: 3.7650\n",
      "Epoch 11/100\n",
      "38384/38384 [==============================] - 8s 198us/step - loss: 4.2773 - val_loss: 3.7808\n",
      "Epoch 12/100\n",
      "38384/38384 [==============================] - 8s 196us/step - loss: 4.2942 - val_loss: 3.9861\n",
      "Epoch 13/100\n",
      "38384/38384 [==============================] - 8s 201us/step - loss: 4.2655 - val_loss: 3.7584\n",
      "Epoch 14/100\n",
      "38384/38384 [==============================] - 8s 200us/step - loss: 4.2566 - val_loss: 3.7485\n",
      "Epoch 15/100\n",
      "38384/38384 [==============================] - 8s 199us/step - loss: 4.2124 - val_loss: 3.7756\n",
      "Epoch 16/100\n",
      "38384/38384 [==============================] - 8s 202us/step - loss: 4.2523 - val_loss: 3.8061\n",
      "Epoch 17/100\n",
      "38384/38384 [==============================] - 7s 195us/step - loss: 4.2360 - val_loss: 3.8871\n",
      "Epoch 18/100\n",
      "38384/38384 [==============================] - 7s 194us/step - loss: 4.2558 - val_loss: 3.8275\n",
      "Epoch 19/100\n",
      "38384/38384 [==============================] - 8s 200us/step - loss: 4.3100 - val_loss: 3.8428\n",
      "Epoch 20/100\n",
      "38384/38384 [==============================] - 8s 196us/step - loss: 4.1469 - val_loss: 3.7732\n",
      "Epoch 21/100\n",
      "38384/38384 [==============================] - 8s 198us/step - loss: 4.1790 - val_loss: 4.2012\n",
      "Epoch 22/100\n",
      "38384/38384 [==============================] - 8s 197us/step - loss: 4.1709 - val_loss: 3.7747\n",
      "Epoch 23/100\n",
      "38384/38384 [==============================] - 8s 198us/step - loss: 4.1578 - val_loss: 4.3457\n",
      "Epoch 24/100\n",
      "38384/38384 [==============================] - 8s 196us/step - loss: 4.2222 - val_loss: 3.7809\n",
      "Epoch 25/100\n",
      "38384/38384 [==============================] - 7s 195us/step - loss: 4.1414 - val_loss: 3.7303\n",
      "Epoch 26/100\n",
      "38384/38384 [==============================] - 8s 196us/step - loss: 4.1183 - val_loss: 3.8351\n",
      "Epoch 27/100\n",
      "38384/38384 [==============================] - 8s 197us/step - loss: 4.1383 - val_loss: 3.8847\n",
      "Epoch 28/100\n",
      "38384/38384 [==============================] - 8s 198us/step - loss: 4.1154 - val_loss: 3.7774\n",
      "Epoch 29/100\n",
      "38384/38384 [==============================] - 8s 197us/step - loss: 4.0547 - val_loss: 3.8792\n",
      "Epoch 30/100\n",
      "38384/38384 [==============================] - 8s 197us/step - loss: 4.0799 - val_loss: 3.7589\n",
      "Epoch 31/100\n",
      "38384/38384 [==============================] - 8s 199us/step - loss: 4.0610 - val_loss: 3.8762\n",
      "Epoch 32/100\n",
      "38384/38384 [==============================] - 8s 199us/step - loss: 4.1194 - val_loss: 3.9383\n",
      "Epoch 33/100\n",
      "38384/38384 [==============================] - 8s 200us/step - loss: 4.0964 - val_loss: 3.8552\n",
      "Epoch 34/100\n",
      "38384/38384 [==============================] - 7s 195us/step - loss: 4.0220 - val_loss: 3.7197\n",
      "Epoch 35/100\n",
      "38384/38384 [==============================] - 7s 195us/step - loss: 4.0344 - val_loss: 3.7964\n",
      "Epoch 36/100\n",
      "38384/38384 [==============================] - 7s 195us/step - loss: 4.0758 - val_loss: 3.6852\n",
      "Epoch 37/100\n",
      "38384/38384 [==============================] - 8s 196us/step - loss: 4.0390 - val_loss: 3.9332\n",
      "Epoch 38/100\n",
      "38384/38384 [==============================] - 7s 195us/step - loss: 3.9642 - val_loss: 3.7818\n",
      "Epoch 39/100\n",
      "38384/38384 [==============================] - 7s 195us/step - loss: 4.0007 - val_loss: 3.9007\n",
      "Epoch 40/100\n",
      "38384/38384 [==============================] - 8s 202us/step - loss: 3.9744 - val_loss: 3.8782\n",
      "Epoch 41/100\n",
      "38384/38384 [==============================] - 8s 198us/step - loss: 3.9886 - val_loss: 3.7305\n",
      "Epoch 42/100\n",
      "38384/38384 [==============================] - 8s 198us/step - loss: 3.9937 - val_loss: 3.9762\n",
      "Epoch 43/100\n",
      "38384/38384 [==============================] - 8s 197us/step - loss: 3.9994 - val_loss: 3.6987\n",
      "Epoch 44/100\n",
      "38384/38384 [==============================] - 8s 196us/step - loss: 3.9604 - val_loss: 3.8543\n",
      "Epoch 45/100\n",
      "38384/38384 [==============================] - 8s 197us/step - loss: 3.9293 - val_loss: 3.8895\n",
      "Epoch 46/100\n",
      "38384/38384 [==============================] - 8s 199us/step - loss: 3.9490 - val_loss: 3.7929\n",
      "Epoch 47/100\n",
      "38384/38384 [==============================] - 8s 197us/step - loss: 3.8991 - val_loss: 3.9815\n",
      "Epoch 48/100\n",
      "38384/38384 [==============================] - 8s 197us/step - loss: 3.8386 - val_loss: 3.7355\n",
      "Epoch 49/100\n",
      "38384/38384 [==============================] - 8s 197us/step - loss: 3.7987 - val_loss: 3.6330\n",
      "Epoch 50/100\n",
      "38384/38384 [==============================] - 8s 198us/step - loss: 3.9211 - val_loss: 4.2781\n",
      "Epoch 51/100\n",
      "38384/38384 [==============================] - 8s 197us/step - loss: 3.9809 - val_loss: 3.9105\n",
      "Epoch 52/100\n",
      "38384/38384 [==============================] - 8s 199us/step - loss: 3.7601 - val_loss: 4.0495\n",
      "Epoch 53/100\n",
      "38384/38384 [==============================] - 8s 201us/step - loss: 3.8407 - val_loss: 3.7532\n",
      "Epoch 54/100\n",
      "38384/38384 [==============================] - 8s 202us/step - loss: 3.7900 - val_loss: 3.8035\n",
      "Epoch 55/100\n",
      "38384/38384 [==============================] - 8s 199us/step - loss: 3.8221 - val_loss: 3.9300\n",
      "Epoch 56/100\n",
      "38384/38384 [==============================] - 8s 203us/step - loss: 3.7863 - val_loss: 4.0992\n",
      "Epoch 57/100\n",
      "38384/38384 [==============================] - 8s 202us/step - loss: 3.7508 - val_loss: 3.8379\n",
      "Epoch 58/100\n",
      "38384/38384 [==============================] - 8s 198us/step - loss: 3.9008 - val_loss: 3.8273\n",
      "Epoch 59/100\n",
      "38384/38384 [==============================] - 8s 202us/step - loss: 3.7573 - val_loss: 3.9906\n",
      "Epoch 60/100\n",
      "38384/38384 [==============================] - 8s 199us/step - loss: 3.7710 - val_loss: 3.9244\n",
      "Epoch 61/100\n",
      "38384/38384 [==============================] - 8s 197us/step - loss: 3.7165 - val_loss: 4.0098\n",
      "Epoch 62/100\n",
      "38384/38384 [==============================] - 8s 199us/step - loss: 3.7346 - val_loss: 3.9445\n",
      "Epoch 63/100\n",
      "38384/38384 [==============================] - 8s 199us/step - loss: 3.6996 - val_loss: 3.8722\n",
      "Epoch 64/100\n",
      "38384/38384 [==============================] - 8s 199us/step - loss: 3.6751 - val_loss: 4.1195\n",
      "Epoch 65/100\n",
      "38384/38384 [==============================] - 9s 225us/step - loss: 3.6863 - val_loss: 4.2766\n",
      "Epoch 66/100\n",
      "38384/38384 [==============================] - 8s 199us/step - loss: 3.6449 - val_loss: 4.1615\n",
      "Epoch 67/100\n",
      "38384/38384 [==============================] - 8s 197us/step - loss: 3.5852 - val_loss: 3.8505\n",
      "Epoch 68/100\n",
      "38384/38384 [==============================] - 8s 198us/step - loss: 3.5956 - val_loss: 4.0133\n",
      "Epoch 69/100\n",
      "38384/38384 [==============================] - 8s 197us/step - loss: 3.5670 - val_loss: 3.9496\n",
      "Epoch 70/100\n",
      "38384/38384 [==============================] - 8s 196us/step - loss: 3.5926 - val_loss: 4.0690\n",
      "Epoch 71/100\n",
      "38384/38384 [==============================] - 8s 198us/step - loss: 3.5325 - val_loss: 3.9471\n",
      "Epoch 72/100\n",
      "38384/38384 [==============================] - 8s 202us/step - loss: 3.5895 - val_loss: 3.8446\n",
      "Epoch 73/100\n",
      "38384/38384 [==============================] - 8s 201us/step - loss: 3.5994 - val_loss: 4.3511\n",
      "Epoch 74/100\n",
      "38384/38384 [==============================] - 8s 199us/step - loss: 3.6455 - val_loss: 4.0712\n",
      "Epoch 75/100\n",
      "38384/38384 [==============================] - 8s 198us/step - loss: 3.6477 - val_loss: 4.1949\n",
      "Epoch 76/100\n",
      "38384/38384 [==============================] - 8s 198us/step - loss: 3.6275 - val_loss: 4.0355\n",
      "Epoch 77/100\n",
      "38384/38384 [==============================] - 8s 199us/step - loss: 3.6033 - val_loss: 4.2550\n",
      "Epoch 78/100\n",
      "38384/38384 [==============================] - 8s 200us/step - loss: 3.6074 - val_loss: 3.6915\n",
      "Epoch 79/100\n",
      "38384/38384 [==============================] - 8s 200us/step - loss: 3.5626 - val_loss: 4.0026\n",
      "Epoch 80/100\n",
      "38384/38384 [==============================] - 8s 202us/step - loss: 3.5934 - val_loss: 4.0772\n",
      "Epoch 81/100\n",
      "38384/38384 [==============================] - 8s 200us/step - loss: 3.5530 - val_loss: 3.9227\n",
      "Epoch 82/100\n",
      "38384/38384 [==============================] - 8s 201us/step - loss: 3.5364 - val_loss: 4.1357\n",
      "Epoch 83/100\n",
      "38384/38384 [==============================] - 8s 201us/step - loss: 3.4877 - val_loss: 3.9917\n",
      "Epoch 84/100\n",
      "38384/38384 [==============================] - 8s 201us/step - loss: 3.4672 - val_loss: 4.2297\n",
      "Epoch 85/100\n",
      "38384/38384 [==============================] - 8s 201us/step - loss: 3.4866 - val_loss: 3.7209\n",
      "Epoch 86/100\n",
      "38384/38384 [==============================] - 8s 201us/step - loss: 3.4805 - val_loss: 3.9129\n",
      "Epoch 87/100\n",
      "38384/38384 [==============================] - 8s 201us/step - loss: 3.4665 - val_loss: 4.1592\n",
      "Epoch 88/100\n",
      "38384/38384 [==============================] - 8s 200us/step - loss: 3.4494 - val_loss: 4.0466\n",
      "Epoch 89/100\n",
      "38384/38384 [==============================] - 8s 201us/step - loss: 3.5202 - val_loss: 3.9923\n",
      "Epoch 90/100\n",
      "38384/38384 [==============================] - 8s 201us/step - loss: 3.4862 - val_loss: 4.1143\n",
      "Epoch 91/100\n",
      "38384/38384 [==============================] - 8s 201us/step - loss: 3.3596 - val_loss: 4.1748\n",
      "Epoch 92/100\n",
      "38384/38384 [==============================] - 8s 201us/step - loss: 3.3683 - val_loss: 4.2708\n",
      "Epoch 93/100\n",
      "38384/38384 [==============================] - 8s 203us/step - loss: 3.3641 - val_loss: 4.0703\n",
      "Epoch 94/100\n",
      "38384/38384 [==============================] - 8s 200us/step - loss: 3.3569 - val_loss: 4.1285\n",
      "Epoch 95/100\n",
      "38384/38384 [==============================] - 8s 200us/step - loss: 3.4187 - val_loss: 4.3741\n",
      "Epoch 96/100\n",
      "38384/38384 [==============================] - 8s 200us/step - loss: 3.4259 - val_loss: 4.0918\n",
      "Epoch 97/100\n",
      "38384/38384 [==============================] - 8s 200us/step - loss: 3.4079 - val_loss: 4.2993\n",
      "Epoch 98/100\n",
      "38384/38384 [==============================] - 8s 202us/step - loss: 3.3826 - val_loss: 4.1636\n",
      "Epoch 99/100\n",
      "38384/38384 [==============================] - 8s 200us/step - loss: 3.3935 - val_loss: 4.1999\n",
      "Epoch 100/100\n",
      "38384/38384 [==============================] - 8s 204us/step - loss: 3.3892 - val_loss: 3.9814\n"
     ]
    }
   ],
   "source": [
    "batch = 512\n",
    "tensorBoard = TensorBoard(log_dir='./logs', histogram_freq=0, write_graph=True, write_images=False)\n",
    "\n",
    "hist = model.fit(x_train, y_train, epochs=100, batch_size=batch, verbose=True, validation_data=(x_val, y_val), shuffle=True, callbacks=[tensorBoard])"
   ]
  },
  {
   "cell_type": "code",
   "execution_count": 20,
   "metadata": {},
   "outputs": [
    {
     "name": "stdout",
     "output_type": "stream",
     "text": [
      "5879/5879 [==============================] - 1s 103us/step\n"
     ]
    }
   ],
   "source": [
    "y_pred = model.predict(x_test, batch_size=batch, verbose=True) "
   ]
  },
  {
   "cell_type": "code",
   "execution_count": 21,
   "metadata": {},
   "outputs": [
    {
     "name": "stdout",
     "output_type": "stream",
     "text": [
      "(5879, 1)\n",
      "5879/5879 [==============================] - 0s 74us/step\n",
      "5.804551800288074\n"
     ]
    }
   ],
   "source": [
    "print(y_pred.shape)\n",
    "print(model.evaluate(x_test, y_test ,batch_size=batch))"
   ]
  },
  {
   "cell_type": "code",
   "execution_count": 22,
   "metadata": {},
   "outputs": [
    {
     "data": {
      "image/png": "[encoded data removed]",
      "text/plain": [
       "<Figure size 864x648 with 1 Axes>"
      ]
     },
     "metadata": {
      "needs_background": "light"
     },
     "output_type": "display_data"
    }
   ],
   "source": [
    "%matplotlib inline\n",
    "import matplotlib.pyplot as plt\n",
    "\n",
    "fig, loss_ax = plt.subplots(figsize=(12,9))\n",
    "\n",
    "# set font\n",
    "font = {'family': 'Arial', 'weight': 'normal', 'size': 16}\n",
    "plt.rc('font', **font)\n",
    "\n",
    "\n",
    "loss_ax.plot(hist.history['loss'], 'b', label='train loss')\n",
    "loss_ax.plot(hist.history['val_loss'], 'r', label='test loss')\n",
    "\n",
    "loss_ax.set_xlabel('Epoch', fontsize = 26)\n",
    "loss_ax.set_ylabel('Loss', fontsize = 26)\n",
    "\n",
    "# set axis-limits\n",
    "plt.xlim(left = 0, right = 100) \n",
    "plt.ylim(bottom = 0) \n",
    "\n",
    "plt.xticks(np.arange(0,101,20), fontsize = 20)\n",
    "plt.yticks(fontsize = 20)\n",
    "\n",
    "# thousand comma\n",
    "loss_ax.set_yticklabels(['{:,}'.format(int(x)) for x in loss_ax.get_yticks().tolist()])\n",
    "\n",
    "# set grid\n",
    "plt.grid(color='gray', linestyle='--', linewidth=1)\n",
    "\n",
    "# set legend position\n",
    "plt.legend(shadow=True, loc='upper right', fontsize = 22)\n",
    "#loss_ax.legend(loc='upper right')\n",
    "\n",
    "plt.savefig('3 loss_graph.png', dpi=300)\n",
    "\n",
    "plt.show()"
   ]
  },
  {
   "cell_type": "code",
   "execution_count": 27,
   "metadata": {},
   "outputs": [
    {
     "data": {
      "image/png": "[encoded data removed]",
      "text/plain": [
       "<Figure size 864x648 with 1 Axes>"
      ]
     },
     "metadata": {
      "needs_background": "light"
     },
     "output_type": "display_data"
    }
   ],
   "source": [
    "fig, pred_ax = plt.subplots(figsize=(12,9))\n",
    "\n",
    "# set font\n",
    "font = {'family': 'Arial', 'weight': 'normal', 'size': 16}\n",
    "plt.rc('font', **font)\n",
    "\n",
    "# plot data \n",
    "pred_ax.plot(y_test[:,0], 'r', label='y_true')\n",
    "pred_ax.plot(y_pred[:,0], 'b', label='y_pred')\n",
    "\n",
    "# set legend position\n",
    "plt.legend(shadow=True, loc='upper right', fontsize = 22)\n",
    "\n",
    "#plt.title('prediction result')\n",
    "plt.xlabel('Time Index', fontsize = 26)\n",
    "plt.ylabel('Traffic Volume (veh/h)', fontsize = 26)\n",
    "\n",
    "# set axis-limits\n",
    "plt.xlim(left = 10, right = 3000) \n",
    "plt.ylim(bottom = 0, top=50) \n",
    "\n",
    "# set grid\n",
    "plt.grid(color='gray', linestyle='--', linewidth=1)\n",
    "\n",
    "plt.xticks(np.arange(0,3001,240), fontsize = 20)\n",
    "plt.yticks(np.arange(0,51,500), fontsize = 20)\n",
    "\n",
    "# thousand comma\n",
    "pred_ax.set_yticklabels(['{:,}'.format(int(x)) for x in pred_ax.get_yticks().tolist()])\n",
    "plt.savefig('pred_graph.png', dpi=300)\n",
    "plt.show()"
   ]
  },
  {
   "cell_type": "code",
   "execution_count": 26,
   "metadata": {},
   "outputs": [
    {
     "data": {
      "text/plain": [
       "array([[ 0.  ],\n",
       "       [ 0.  ],\n",
       "       [ 0.  ],\n",
       "       ...,\n",
       "       [27.58],\n",
       "       [27.6 ],\n",
       "       [27.58]])"
      ]
     },
     "execution_count": 26,
     "metadata": {},
     "output_type": "execute_result"
    }
   ],
   "source": [
    "y_test"
   ]
  },
  {
   "cell_type": "code",
   "execution_count": null,
   "metadata": {},
   "outputs": [],
   "source": []
  },
  {
   "cell_type": "code",
   "execution_count": 24,
   "metadata": {},
   "outputs": [
    {
     "name": "stdout",
     "output_type": "stream",
     "text": [
      "MAPE:  inf\n"
     ]
    },
    {
     "name": "stderr",
     "output_type": "stream",
     "text": [
      "C:\\Users\\YooSeok\\Anaconda3\\envs\\Keras\\lib\\site-packages\\ipykernel_launcher.py:4: RuntimeWarning: divide by zero encountered in true_divide\n",
      "  after removing the cwd from sys.path.\n"
     ]
    }
   ],
   "source": [
    "#MAPE\n",
    "\n",
    "y_test, y_pred = np.array(test_label), np.array(y_pred)\n",
    "mape = np.mean(np.abs((y_test - y_pred) / y_test)) * 100\n",
    "print('MAPE: ', mape)"
   ]
  },
  {
   "cell_type": "code",
   "execution_count": null,
   "metadata": {},
   "outputs": [],
   "source": []
  }
 ],
 "metadata": {
  "kernelspec": {
   "display_name": "Python 3",
   "language": "python",
   "name": "python3"
  },
  "language_info": {
   "codemirror_mode": {
    "name": "ipython",
    "version": 3
   },
   "file_extension": ".py",
   "mimetype": "text/x-python",
   "name": "python",
   "nbconvert_exporter": "python",
   "pygments_lexer": "ipython3",
   "version": "3.7.3"
  }
 },
 "nbformat": 4,
 "nbformat_minor": 4
}
