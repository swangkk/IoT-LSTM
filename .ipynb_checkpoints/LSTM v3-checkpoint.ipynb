{
 "cells": [
  {
   "cell_type": "code",
   "execution_count": null,
   "metadata": {},
   "outputs": [],
   "source": [
    "import pandas as pd\n",
    "import numpy as np\n",
    "import matplotlib.pyplot as plt\n",
    "\n",
    "from keras.models import Sequential\n",
    "from keras.layers import LSTM, Dense, Activation, BatchNormalization\n",
    "from keras.callbacks import TensorBoard\n",
    "\n",
    "from sklearn.model_selection import train_test_split"
   ]
  },
  {
   "cell_type": "code",
   "execution_count": 3,
   "metadata": {},
   "outputs": [
    {
     "name": "stdout",
     "output_type": "stream",
     "text": [
      "(8760, 4)\n"
     ]
    }
   ],
   "source": [
    "df_data = pd.read_csv('traffic.csv')\n",
    "print(df_data.shape)"
   ]
  },
  {
   "cell_type": "code",
   "execution_count": 4,
   "metadata": {},
   "outputs": [
    {
     "data": {
      "text/html": [
       "<div>\n",
       "<style scoped>\n",
       "    .dataframe tbody tr th:only-of-type {\n",
       "        vertical-align: middle;\n",
       "    }\n",
       "\n",
       "    .dataframe tbody tr th {\n",
       "        vertical-align: top;\n",
       "    }\n",
       "\n",
       "    .dataframe thead th {\n",
       "        text-align: right;\n",
       "    }\n",
       "</style>\n",
       "<table border=\"1\" class=\"dataframe\">\n",
       "  <thead>\n",
       "    <tr style=\"text-align: right;\">\n",
       "      <th></th>\n",
       "      <th>Date</th>\n",
       "      <th>Weekday</th>\n",
       "      <th>Time</th>\n",
       "      <th>Traffic</th>\n",
       "    </tr>\n",
       "  </thead>\n",
       "  <tbody>\n",
       "    <tr>\n",
       "      <th>0</th>\n",
       "      <td>2014-01-01</td>\n",
       "      <td>4</td>\n",
       "      <td>0</td>\n",
       "      <td>581</td>\n",
       "    </tr>\n",
       "    <tr>\n",
       "      <th>1</th>\n",
       "      <td>2014-01-01</td>\n",
       "      <td>4</td>\n",
       "      <td>1</td>\n",
       "      <td>532</td>\n",
       "    </tr>\n",
       "    <tr>\n",
       "      <th>2</th>\n",
       "      <td>2014-01-01</td>\n",
       "      <td>4</td>\n",
       "      <td>2</td>\n",
       "      <td>465</td>\n",
       "    </tr>\n",
       "    <tr>\n",
       "      <th>3</th>\n",
       "      <td>2014-01-01</td>\n",
       "      <td>4</td>\n",
       "      <td>3</td>\n",
       "      <td>432</td>\n",
       "    </tr>\n",
       "    <tr>\n",
       "      <th>4</th>\n",
       "      <td>2014-01-01</td>\n",
       "      <td>4</td>\n",
       "      <td>4</td>\n",
       "      <td>297</td>\n",
       "    </tr>\n",
       "    <tr>\n",
       "      <th>5</th>\n",
       "      <td>2014-01-01</td>\n",
       "      <td>4</td>\n",
       "      <td>5</td>\n",
       "      <td>283</td>\n",
       "    </tr>\n",
       "    <tr>\n",
       "      <th>6</th>\n",
       "      <td>2014-01-01</td>\n",
       "      <td>4</td>\n",
       "      <td>6</td>\n",
       "      <td>264</td>\n",
       "    </tr>\n",
       "    <tr>\n",
       "      <th>7</th>\n",
       "      <td>2014-01-01</td>\n",
       "      <td>4</td>\n",
       "      <td>7</td>\n",
       "      <td>350</td>\n",
       "    </tr>\n",
       "    <tr>\n",
       "      <th>8</th>\n",
       "      <td>2014-01-01</td>\n",
       "      <td>4</td>\n",
       "      <td>8</td>\n",
       "      <td>458</td>\n",
       "    </tr>\n",
       "    <tr>\n",
       "      <th>9</th>\n",
       "      <td>2014-01-01</td>\n",
       "      <td>4</td>\n",
       "      <td>9</td>\n",
       "      <td>706</td>\n",
       "    </tr>\n",
       "  </tbody>\n",
       "</table>\n",
       "</div>"
      ],
      "text/plain": [
       "         Date  Weekday  Time  Traffic\n",
       "0  2014-01-01        4     0      581\n",
       "1  2014-01-01        4     1      532\n",
       "2  2014-01-01        4     2      465\n",
       "3  2014-01-01        4     3      432\n",
       "4  2014-01-01        4     4      297\n",
       "5  2014-01-01        4     5      283\n",
       "6  2014-01-01        4     6      264\n",
       "7  2014-01-01        4     7      350\n",
       "8  2014-01-01        4     8      458\n",
       "9  2014-01-01        4     9      706"
      ]
     },
     "execution_count": 4,
     "metadata": {},
     "output_type": "execute_result"
    }
   ],
   "source": [
    "df_data.head(10)"
   ]
  },
  {
   "cell_type": "code",
   "execution_count": 5,
   "metadata": {},
   "outputs": [
    {
     "name": "stdout",
     "output_type": "stream",
     "text": [
      "<class 'pandas.core.frame.DataFrame'>\n",
      "RangeIndex: 8760 entries, 0 to 8759\n",
      "Data columns (total 4 columns):\n",
      "Date       8760 non-null object\n",
      "Weekday    8760 non-null int64\n",
      "Time       8760 non-null int64\n",
      "Traffic    8760 non-null int64\n",
      "dtypes: int64(3), object(1)\n",
      "memory usage: 273.9+ KB\n"
     ]
    }
   ],
   "source": [
    "df_data.info()"
   ]
  },
  {
   "cell_type": "code",
   "execution_count": 7,
   "metadata": {},
   "outputs": [],
   "source": [
    "df_data['Date'] = pd.to_datetime(df_data['Date'])"
   ]
  },
  {
   "cell_type": "code",
   "execution_count": 10,
   "metadata": {},
   "outputs": [],
   "source": [
    "year, month, day = [], [], []\n",
    "for i in range(np.size(df_data, 0)):\n",
    "    year.append(df_data['Date'][i].hour)\n",
    "    month.append(df_data['Date'][i].minute)\n",
    "    day.append(df_data['Date'][i].second)"
   ]
  },
  {
   "cell_type": "code",
   "execution_count": 14,
   "metadata": {},
   "outputs": [
    {
     "name": "stdout",
     "output_type": "stream",
     "text": [
      "(8760, 1) (8760, 1) (8760, 1)\n"
     ]
    }
   ],
   "source": [
    "year = np.array(year).reshape(-1, 1)\n",
    "month = np.array(month).reshape(-1, 1)\n",
    "day = np.array(day).reshape(-1, 1)\n",
    "\n",
    "print(year.shape, month.shape, day.shape)"
   ]
  },
  {
   "cell_type": "code",
   "execution_count": 17,
   "metadata": {},
   "outputs": [
    {
     "name": "stdout",
     "output_type": "stream",
     "text": [
      "(8760, 1)\n"
     ]
    }
   ],
   "source": [
    "traffic = df_data['Traffic'].values.reshape(-1, 1)\n",
    "print(traffic.shape)"
   ]
  },
  {
   "cell_type": "code",
   "execution_count": 18,
   "metadata": {},
   "outputs": [
    {
     "name": "stdout",
     "output_type": "stream",
     "text": [
      "(8760, 1)\n"
     ]
    }
   ],
   "source": [
    "weekday = df_data['Weekday'].values.reshape(-1, 1)\n",
    "print(traffic.shape)"
   ]
  },
  {
   "cell_type": "code",
   "execution_count": null,
   "metadata": {},
   "outputs": [],
   "source": [
    "hour = df_data['Time'].values.reshape(-1, 1)\n",
    "print(traffic.shape)"
   ]
  },
  {
   "cell_type": "code",
   "execution_count": null,
   "metadata": {},
   "outputs": [],
   "source": [
    "data = np.concatenate((hour, weekday, traffic), axis=1)\n",
    "print(data.shape)"
   ]
  },
  {
   "cell_type": "code",
   "execution_count": 21,
   "metadata": {},
   "outputs": [
    {
     "data": {
      "text/plain": [
       "array([[  0,   0,   0,   0,   4, 581],\n",
       "       [  0,   0,   0,   1,   4, 532],\n",
       "       [  0,   0,   0,   2,   4, 465],\n",
       "       [  0,   0,   0,   3,   4, 432],\n",
       "       [  0,   0,   0,   4,   4, 297],\n",
       "       [  0,   0,   0,   5,   4, 283],\n",
       "       [  0,   0,   0,   6,   4, 264],\n",
       "       [  0,   0,   0,   7,   4, 350],\n",
       "       [  0,   0,   0,   8,   4, 458],\n",
       "       [  0,   0,   0,   9,   4, 706]], dtype=int64)"
      ]
     },
     "execution_count": 21,
     "metadata": {},
     "output_type": "execute_result"
    }
   ],
   "source": [
    "data[:10]"
   ]
  },
  {
   "cell_type": "code",
   "execution_count": 11,
   "metadata": {},
   "outputs": [
    {
     "name": "stdout",
     "output_type": "stream",
     "text": [
      "(40000, 4) (40000, 1)\n"
     ]
    }
   ],
   "source": [
    "train_data = data[:40000]\n",
    "train_traffic = lux[:40000]\n",
    "print(train_data.shape, train_lux.shape)"
   ]
  },
  {
   "cell_type": "code",
   "execution_count": 12,
   "metadata": {},
   "outputs": [
    {
     "name": "stdout",
     "output_type": "stream",
     "text": [
      "(15276, 4) (15276, 1)\n"
     ]
    }
   ],
   "source": [
    "test_data = data[40001:]\n",
    "test_lux = lux[40001:]\n",
    "print(test_data.shape, test_lux.shape)"
   ]
  },
  {
   "cell_type": "code",
   "execution_count": 13,
   "metadata": {},
   "outputs": [],
   "source": [
    "lag=15 # 몇분간의 데이터를 input feature로 할지(?)"
   ]
  },
  {
   "cell_type": "code",
   "execution_count": 14,
   "metadata": {},
   "outputs": [
    {
     "name": "stdout",
     "output_type": "stream",
     "text": [
      "(15, 39985, 4)\n"
     ]
    }
   ],
   "source": [
    "arr = []\n",
    "for i in range(15):\n",
    "    arr.append(train_data[i:i-lag,:])\n",
    "\n",
    "arr = np.array(arr, dtype=np.float32)\n",
    "print(arr.shape)"
   ]
  },
  {
   "cell_type": "code",
   "execution_count": 15,
   "metadata": {},
   "outputs": [],
   "source": [
    "#arr[:15,:10,:4]"
   ]
  },
  {
   "cell_type": "code",
   "execution_count": 16,
   "metadata": {},
   "outputs": [],
   "source": [
    "x_train_val = np.concatenate((arr[0], arr[1], arr[2], arr[3], arr[4], arr[5], arr[6], arr[7], arr[8], arr[9], arr[10], arr[11], arr[12], arr[13], arr[14]), axis=1).reshape(-1, 15, 4)\n",
    "train_mean, train_std = np.mean(x_train_val, axis=0), np.std(x_train_val, axis=0)\n",
    "train_mean, train_std = np.mean(train_mean, axis=0), np.mean(train_std, axis=0)"
   ]
  },
  {
   "cell_type": "code",
   "execution_count": 17,
   "metadata": {},
   "outputs": [],
   "source": [
    "y_train_val = train_lux[lag:, :].reshape(-1, 1)"
   ]
  },
  {
   "cell_type": "code",
   "execution_count": 18,
   "metadata": {},
   "outputs": [
    {
     "name": "stdout",
     "output_type": "stream",
     "text": [
      "(39985, 15, 4) (39985, 1)\n"
     ]
    }
   ],
   "source": [
    "print(x_train_val.shape, y_train_val.shape)"
   ]
  },
  {
   "cell_type": "code",
   "execution_count": 19,
   "metadata": {},
   "outputs": [
    {
     "name": "stdout",
     "output_type": "stream",
     "text": [
      "(15, 15261, 4)\n"
     ]
    }
   ],
   "source": [
    "arr = []\n",
    "for i in range(15):\n",
    "    arr.append(test_data[i:i-lag,:])\n",
    "    \n",
    "arr = np.array(arr, dtype=np.float32)\n",
    "print(arr.shape)\n"
   ]
  },
  {
   "cell_type": "code",
   "execution_count": 20,
   "metadata": {},
   "outputs": [
    {
     "name": "stdout",
     "output_type": "stream",
     "text": [
      "(15261, 15, 4) (15261, 1)\n"
     ]
    }
   ],
   "source": [
    "x_test = np.concatenate((arr[0], arr[1], arr[2], arr[3], arr[4], arr[5], arr[6], arr[7], arr[8], arr[9], arr[10], arr[11], arr[12], arr[13], arr[14]), axis=1).reshape(-1, 15, 4)\n",
    "y_test = test_lux[lag:, :].reshape(-1, 1)\n",
    "print(x_test.shape, y_test.shape)"
   ]
  },
  {
   "cell_type": "code",
   "execution_count": 21,
   "metadata": {},
   "outputs": [
    {
     "name": "stdout",
     "output_type": "stream",
     "text": [
      "(31988, 15, 4) (31988, 1) (7997, 15, 4) (7997, 1)\n"
     ]
    }
   ],
   "source": [
    "# split into training and validation datasets\n",
    "x_train, x_val, y_train, y_val = train_test_split(x_train_val, y_train_val, test_size=0.2)\n",
    "print(x_train.shape, y_train.shape, x_val.shape, y_val.shape)"
   ]
  },
  {
   "cell_type": "code",
   "execution_count": 31,
   "metadata": {},
   "outputs": [],
   "source": [
    "h_units = 64\n",
    "activation_ = 'relu'\n",
    "\n",
    "def rnn_model():\n",
    "    model = Sequential()\n",
    "    \n",
    "    model.add(LSTM(units=h_units, return_sequences=True, input_shape=(15, 4)))\n",
    "    model.add(LSTM(units=h_units, return_sequences=False))\n",
    "    model.add(Dense(64))\n",
    "    \n",
    "    model.add(Dense(1))\n",
    "    \n",
    "    return model"
   ]
  },
  {
   "cell_type": "code",
   "execution_count": 32,
   "metadata": {},
   "outputs": [
    {
     "name": "stdout",
     "output_type": "stream",
     "text": [
      "_________________________________________________________________\n",
      "Layer (type)                 Output Shape              Param #   \n",
      "=================================================================\n",
      "lstm_3 (LSTM)                (None, 15, 64)            17664     \n",
      "_________________________________________________________________\n",
      "lstm_4 (LSTM)                (None, 64)                33024     \n",
      "_________________________________________________________________\n",
      "dense_3 (Dense)              (None, 64)                4160      \n",
      "_________________________________________________________________\n",
      "dense_4 (Dense)              (None, 1)                 65        \n",
      "=================================================================\n",
      "Total params: 54,913\n",
      "Trainable params: 54,913\n",
      "Non-trainable params: 0\n",
      "_________________________________________________________________\n"
     ]
    }
   ],
   "source": [
    "# create a model \n",
    "model = rnn_model()\n",
    "model.summary()"
   ]
  },
  {
   "cell_type": "code",
   "execution_count": 33,
   "metadata": {},
   "outputs": [],
   "source": [
    "model.compile(loss='mean_squared_error', optimizer='adam')"
   ]
  },
  {
   "cell_type": "code",
   "execution_count": 34,
   "metadata": {},
   "outputs": [
    {
     "name": "stdout",
     "output_type": "stream",
     "text": [
      "Train on 31988 samples, validate on 7997 samples\n",
      "Epoch 1/100\n",
      "31988/31988 [==============================] - 2s 54us/step - loss: 802978.8825 - val_loss: 793959.2724\n",
      "Epoch 2/100\n",
      "31988/31988 [==============================] - 1s 26us/step - loss: 782830.7643 - val_loss: 764652.3675\n",
      "Epoch 3/100\n",
      "31988/31988 [==============================] - 1s 25us/step - loss: 746978.4126 - val_loss: 725210.7873\n",
      "Epoch 4/100\n",
      "31988/31988 [==============================] - 1s 26us/step - loss: 706376.4082 - val_loss: 682634.6179\n",
      "Epoch 5/100\n",
      "31988/31988 [==============================] - 1s 26us/step - loss: 661911.0981 - val_loss: 635674.9545\n",
      "Epoch 6/100\n",
      "31988/31988 [==============================] - 1s 25us/step - loss: 612596.0888 - val_loss: 583652.8361\n",
      "Epoch 7/100\n",
      "31988/31988 [==============================] - 1s 26us/step - loss: 558867.1901 - val_loss: 528395.5568\n",
      "Epoch 8/100\n",
      "31988/31988 [==============================] - 1s 26us/step - loss: 502597.6806 - val_loss: 471228.6799\n",
      "Epoch 9/100\n",
      "31988/31988 [==============================] - 1s 25us/step - loss: 445040.2359 - val_loss: 413491.6642\n",
      "Epoch 10/100\n",
      "31988/31988 [==============================] - 1s 26us/step - loss: 387558.1647 - val_loss: 356658.8723\n",
      "Epoch 11/100\n",
      "31988/31988 [==============================] - 1s 26us/step - loss: 331644.9814 - val_loss: 302048.8635\n",
      "Epoch 12/100\n",
      "31988/31988 [==============================] - 1s 25us/step - loss: 278536.6990 - val_loss: 251060.2924\n",
      "Epoch 13/100\n",
      "31988/31988 [==============================] - 1s 26us/step - loss: 229527.6986 - val_loss: 204689.0168\n",
      "Epoch 14/100\n",
      "31988/31988 [==============================] - 1s 25us/step - loss: 185534.6378 - val_loss: 163757.5455\n",
      "Epoch 15/100\n",
      "31988/31988 [==============================] - 1s 26us/step - loss: 147274.8297 - val_loss: 128689.0709\n",
      "Epoch 16/100\n",
      "31988/31988 [==============================] - 1s 26us/step - loss: 114923.3299 - val_loss: 99741.4928\n",
      "Epoch 17/100\n",
      "31988/31988 [==============================] - 1s 26us/step - loss: 88625.9970 - val_loss: 76587.5579\n",
      "Epoch 18/100\n",
      "31988/31988 [==============================] - 1s 26us/step - loss: 67974.9597 - val_loss: 58734.9357\n",
      "Epoch 19/100\n",
      "31988/31988 [==============================] - 1s 26us/step - loss: 52292.4149 - val_loss: 45586.4535\n",
      "Epoch 20/100\n",
      "31988/31988 [==============================] - 1s 26us/step - loss: 40903.9914 - val_loss: 36237.2318\n",
      "Epoch 21/100\n",
      "31988/31988 [==============================] - 1s 26us/step - loss: 32968.2300 - val_loss: 29843.8219\n",
      "Epoch 22/100\n",
      "31988/31988 [==============================] - 1s 26us/step - loss: 27626.3395 - val_loss: 25673.9043\n",
      "Epoch 23/100\n",
      "31988/31988 [==============================] - 1s 27us/step - loss: 24210.3803 - val_loss: 23045.0831\n",
      "Epoch 24/100\n",
      "31988/31988 [==============================] - 1s 26us/step - loss: 22084.7668 - val_loss: 21463.1236\n",
      "Epoch 25/100\n",
      "31988/31988 [==============================] - 1s 25us/step - loss: 20816.9520 - val_loss: 20547.5820\n",
      "Epoch 26/100\n",
      "31988/31988 [==============================] - 1s 27us/step - loss: 20096.2858 - val_loss: 20031.1074\n",
      "Epoch 27/100\n",
      "31988/31988 [==============================] - 1s 25us/step - loss: 19692.9092 - val_loss: 19752.2316\n",
      "Epoch 28/100\n",
      "31988/31988 [==============================] - 1s 26us/step - loss: 19477.9309 - val_loss: 19605.1812\n",
      "Epoch 29/100\n",
      "31988/31988 [==============================] - 1s 26us/step - loss: 19364.5555 - val_loss: 19530.4664\n",
      "Epoch 30/100\n",
      "31988/31988 [==============================] - 1s 25us/step - loss: 19306.1251 - val_loss: 19494.6248\n",
      "Epoch 31/100\n",
      "31988/31988 [==============================] - 1s 26us/step - loss: 19280.0997 - val_loss: 19476.2104\n",
      "Epoch 32/100\n",
      "31988/31988 [==============================] - 1s 26us/step - loss: 19265.8452 - val_loss: 19468.5503\n",
      "Epoch 33/100\n",
      "31988/31988 [==============================] - 1s 26us/step - loss: 19259.4880 - val_loss: 19465.3212\n",
      "Epoch 34/100\n",
      "31988/31988 [==============================] - 1s 26us/step - loss: 19257.1618 - val_loss: 19463.9194\n",
      "Epoch 35/100\n",
      "31988/31988 [==============================] - 1s 25us/step - loss: 19255.8244 - val_loss: 19463.5482\n",
      "Epoch 36/100\n",
      "31988/31988 [==============================] - 1s 26us/step - loss: 19255.5019 - val_loss: 19463.3883\n",
      "Epoch 37/100\n",
      "31988/31988 [==============================] - 1s 21us/step - loss: 19255.1448 - val_loss: 19463.3813\n",
      "Epoch 38/100\n",
      "31988/31988 [==============================] - 1s 25us/step - loss: 19255.0876 - val_loss: 19463.3848\n",
      "Epoch 39/100\n",
      "31988/31988 [==============================] - 1s 26us/step - loss: 19255.0926 - val_loss: 19463.4447\n",
      "Epoch 40/100\n",
      "31988/31988 [==============================] - 1s 26us/step - loss: 19254.8541 - val_loss: 19461.9868\n",
      "Epoch 41/100\n",
      "31988/31988 [==============================] - 1s 25us/step - loss: 19233.6073 - val_loss: 19286.6517\n",
      "Epoch 42/100\n",
      "31988/31988 [==============================] - 1s 25us/step - loss: 18833.5188 - val_loss: 19225.4026\n",
      "Epoch 43/100\n",
      "31988/31988 [==============================] - 1s 26us/step - loss: 18295.1045 - val_loss: 17399.6099\n",
      "Epoch 44/100\n",
      "31988/31988 [==============================] - 1s 25us/step - loss: 15827.8424 - val_loss: 15432.9400\n",
      "Epoch 45/100\n",
      "31988/31988 [==============================] - 1s 25us/step - loss: 14838.5581 - val_loss: 13575.9403\n",
      "Epoch 46/100\n",
      "31988/31988 [==============================] - 1s 26us/step - loss: 11674.0928 - val_loss: 9200.0737\n",
      "Epoch 47/100\n",
      "31988/31988 [==============================] - 1s 26us/step - loss: 8814.3854 - val_loss: 8545.3453\n",
      "Epoch 48/100\n",
      "31988/31988 [==============================] - 1s 26us/step - loss: 8600.1387 - val_loss: 7639.7582\n",
      "Epoch 49/100\n",
      "31988/31988 [==============================] - 1s 26us/step - loss: 7702.6646 - val_loss: 7558.0943\n",
      "Epoch 50/100\n",
      "31988/31988 [==============================] - 1s 25us/step - loss: 7493.0153 - val_loss: 6418.9768\n",
      "Epoch 51/100\n",
      "31988/31988 [==============================] - 1s 25us/step - loss: 6652.2165 - val_loss: 7505.6362\n",
      "Epoch 52/100\n",
      "31988/31988 [==============================] - 1s 26us/step - loss: 6593.9384 - val_loss: 5667.0741\n",
      "Epoch 53/100\n",
      "31988/31988 [==============================] - 1s 26us/step - loss: 5423.4231 - val_loss: 4713.8110\n",
      "Epoch 54/100\n",
      "31988/31988 [==============================] - 1s 26us/step - loss: 5019.8192 - val_loss: 4592.6648\n",
      "Epoch 55/100\n",
      "31988/31988 [==============================] - 1s 26us/step - loss: 4237.5643 - val_loss: 3607.9324\n",
      "Epoch 56/100\n",
      "31988/31988 [==============================] - 1s 25us/step - loss: 3610.8753 - val_loss: 3142.1515\n",
      "Epoch 57/100\n",
      "31988/31988 [==============================] - 1s 26us/step - loss: 3356.4952 - val_loss: 4458.2772\n",
      "Epoch 58/100\n",
      "31988/31988 [==============================] - 1s 25us/step - loss: 4078.7296 - val_loss: 3293.5508\n",
      "Epoch 59/100\n",
      "31988/31988 [==============================] - 1s 25us/step - loss: 3315.4025 - val_loss: 3005.3384\n",
      "Epoch 60/100\n",
      "31988/31988 [==============================] - 1s 25us/step - loss: 2924.3187 - val_loss: 2570.7303\n",
      "Epoch 61/100\n",
      "31988/31988 [==============================] - 1s 26us/step - loss: 2726.6990 - val_loss: 2311.8529\n",
      "Epoch 62/100\n",
      "31988/31988 [==============================] - 1s 26us/step - loss: 2579.3064 - val_loss: 2218.5356\n",
      "Epoch 63/100\n",
      "31988/31988 [==============================] - 1s 26us/step - loss: 2541.1271 - val_loss: 2114.7218\n",
      "Epoch 64/100\n",
      "31988/31988 [==============================] - 1s 26us/step - loss: 3033.3758 - val_loss: 2214.2744\n",
      "Epoch 65/100\n",
      "31988/31988 [==============================] - 1s 26us/step - loss: 2696.4757 - val_loss: 2175.2206\n",
      "Epoch 66/100\n",
      "31988/31988 [==============================] - 1s 26us/step - loss: 2362.2462 - val_loss: 1988.2279\n",
      "Epoch 67/100\n",
      "31988/31988 [==============================] - 1s 25us/step - loss: 2241.0354 - val_loss: 1875.0022\n",
      "Epoch 68/100\n",
      "31988/31988 [==============================] - 1s 25us/step - loss: 2173.2584 - val_loss: 1861.2534\n",
      "Epoch 69/100\n",
      "31988/31988 [==============================] - 1s 25us/step - loss: 3738.7441 - val_loss: 3393.3769\n",
      "Epoch 70/100\n",
      "31988/31988 [==============================] - 1s 26us/step - loss: 2804.2665 - val_loss: 2525.0667\n",
      "Epoch 71/100\n",
      "31988/31988 [==============================] - 1s 25us/step - loss: 2337.6860 - val_loss: 1810.2872\n",
      "Epoch 72/100\n",
      "31988/31988 [==============================] - 1s 26us/step - loss: 2136.6043 - val_loss: 1943.4015\n",
      "Epoch 73/100\n",
      "31988/31988 [==============================] - 1s 26us/step - loss: 2078.2775 - val_loss: 1706.2059\n",
      "Epoch 74/100\n",
      "31988/31988 [==============================] - 1s 26us/step - loss: 1971.4626 - val_loss: 1722.0366\n",
      "Epoch 75/100\n",
      "31988/31988 [==============================] - 1s 25us/step - loss: 1965.3967 - val_loss: 1681.3789\n",
      "Epoch 76/100\n",
      "31988/31988 [==============================] - 1s 26us/step - loss: 1884.5263 - val_loss: 1627.4457\n",
      "Epoch 77/100\n",
      "31988/31988 [==============================] - 1s 26us/step - loss: 1869.1611 - val_loss: 1651.6049\n",
      "Epoch 78/100\n",
      "31988/31988 [==============================] - 1s 26us/step - loss: 2322.4665 - val_loss: 1684.4831\n",
      "Epoch 79/100\n",
      "31988/31988 [==============================] - 1s 25us/step - loss: 1959.9376 - val_loss: 1573.8439\n",
      "Epoch 80/100\n",
      "31988/31988 [==============================] - 1s 26us/step - loss: 1939.1727 - val_loss: 1611.5386\n",
      "Epoch 81/100\n",
      "31988/31988 [==============================] - 1s 26us/step - loss: 1851.3591 - val_loss: 1521.8662\n",
      "Epoch 82/100\n",
      "31988/31988 [==============================] - 1s 26us/step - loss: 1902.7043 - val_loss: 1851.1624\n",
      "Epoch 83/100\n",
      "31988/31988 [==============================] - 1s 26us/step - loss: 1852.5881 - val_loss: 1496.0632\n",
      "Epoch 84/100\n",
      "31988/31988 [==============================] - 1s 25us/step - loss: 1758.1554 - val_loss: 1494.4636\n",
      "Epoch 85/100\n",
      "31988/31988 [==============================] - 1s 26us/step - loss: 3657.5123 - val_loss: 3414.8965\n",
      "Epoch 86/100\n",
      "31988/31988 [==============================] - 1s 25us/step - loss: 2647.4303 - val_loss: 1742.9370\n",
      "Epoch 87/100\n",
      "31988/31988 [==============================] - 1s 26us/step - loss: 1985.0036 - val_loss: 1765.0852\n",
      "Epoch 88/100\n",
      "31988/31988 [==============================] - 1s 26us/step - loss: 2057.1921 - val_loss: 1602.6608\n",
      "Epoch 89/100\n",
      "31988/31988 [==============================] - 1s 25us/step - loss: 1831.9112 - val_loss: 1546.5119\n",
      "Epoch 90/100\n",
      "31988/31988 [==============================] - 1s 26us/step - loss: 1773.8203 - val_loss: 1455.6361\n",
      "Epoch 91/100\n",
      "31988/31988 [==============================] - 1s 26us/step - loss: 1711.7888 - val_loss: 1492.7813\n",
      "Epoch 92/100\n",
      "31988/31988 [==============================] - 1s 26us/step - loss: 1814.1600 - val_loss: 2737.5166\n",
      "Epoch 93/100\n",
      "31988/31988 [==============================] - 1s 26us/step - loss: 3764.4879 - val_loss: 3087.8015\n",
      "Epoch 94/100\n",
      "31988/31988 [==============================] - 1s 26us/step - loss: 2374.9207 - val_loss: 1819.9655\n",
      "Epoch 95/100\n",
      "31988/31988 [==============================] - 1s 26us/step - loss: 1835.9499 - val_loss: 1521.7902\n",
      "Epoch 96/100\n",
      "31988/31988 [==============================] - 1s 26us/step - loss: 1706.4050 - val_loss: 1443.1912\n",
      "Epoch 97/100\n",
      "31988/31988 [==============================] - 1s 25us/step - loss: 1676.6567 - val_loss: 1375.9075\n",
      "Epoch 98/100\n",
      "31988/31988 [==============================] - 1s 26us/step - loss: 1626.3501 - val_loss: 1384.9931\n",
      "Epoch 99/100\n",
      "31988/31988 [==============================] - 1s 26us/step - loss: 1647.8712 - val_loss: 1348.9041\n",
      "Epoch 100/100\n",
      "31988/31988 [==============================] - 1s 25us/step - loss: 1654.5310 - val_loss: 1396.1105\n"
     ]
    }
   ],
   "source": [
    "# training\n",
    "tensorBoard = TensorBoard(log_dir='./logs', histogram_freq=0, write_graph=True, write_images=False)\n",
    "\n",
    "hist = model.fit(x_train, y_train, epochs=100, batch_size=2048, verbose=True, validation_data=(x_val, y_val), shuffle=True, callbacks=[tensorBoard])"
   ]
  },
  {
   "cell_type": "code",
   "execution_count": 35,
   "metadata": {},
   "outputs": [
    {
     "name": "stdout",
     "output_type": "stream",
     "text": [
      "15261/15261 [==============================] - 1s 38us/step\n",
      "(15261, 1)\n",
      "15261/15261 [==============================] - 0s 24us/step\n",
      "2321.265838505064\n"
     ]
    }
   ],
   "source": [
    "y_pred = model.predict(x_test, batch_size=1024, verbose=True) \n",
    "print(y_pred.shape)\n",
    "print(model.evaluate(x_test, y_test,batch_size=1024))"
   ]
  },
  {
   "cell_type": "code",
   "execution_count": 36,
   "metadata": {},
   "outputs": [
    {
     "data": {
      "image/png": "[encoded data removed]",
      "text/plain": [
       "<Figure size 432x288 with 1 Axes>"
      ]
     },
     "metadata": {
      "needs_background": "light"
     },
     "output_type": "display_data"
    }
   ],
   "source": [
    "%matplotlib inline\n",
    "import matplotlib.pyplot as plt\n",
    "\n",
    "fig, loss_ax = plt.subplots()\n",
    "\n",
    "loss_ax.plot(hist.history['loss'], 'b', label='train loss')\n",
    "loss_ax.plot(hist.history['val_loss'], 'r', label='test loss')\n",
    "\n",
    "loss_ax.set_xlabel('epoch')\n",
    "loss_ax.set_ylabel('loss')\n",
    "\n",
    "loss_ax.legend(loc='upper right')\n",
    "\n",
    "plt.show()"
   ]
  },
  {
   "cell_type": "code",
   "execution_count": 37,
   "metadata": {},
   "outputs": [
    {
     "data": {
      "image/png": "[encoded data removed]",
      "text/plain": [
       "<Figure size 1368x576 with 1 Axes>"
      ]
     },
     "metadata": {
      "needs_background": "light"
     },
     "output_type": "display_data"
    }
   ],
   "source": [
    "# visualization for prediction result\n",
    "# set figure size\n",
    "plt.figure(figsize=(19,8))\n",
    "\n",
    "# set font\n",
    "font = {'family': 'Arial', 'weight': 'normal', 'size': 16}\n",
    "plt.rc('font', **font)\n",
    "\n",
    "# plot data \n",
    "plt.plot(y_test[:,0], 'r', label='y_true')\n",
    "plt.plot(y_pred[:,0], 'b', label='y_pred')\n",
    "\n",
    "# set legend position\n",
    "plt.legend(shadow=True, loc='upper right')\n",
    "\n",
    "# set x-axis & y-axis titles\n",
    "#plt.title('prediction result')\n",
    "plt.xlabel('Time Index')\n",
    "plt.ylabel('Brightness')\n",
    "\n",
    "# set axis-limits\n",
    "plt.xlim(left = 0, right = len(y_test)) \n",
    "plt.ylim(bottom = 0.3) \n",
    "\n",
    "# set grid\n",
    "plt.grid(color='gray', linestyle='--', linewidth=1)\n",
    "\n",
    "plt.xticks(np.arange(0,16000,2000))\n",
    "plt.yticks(np.arange(0,1024,256))\n",
    "\n",
    "# save & display figure\n",
    "plt.show()"
   ]
  },
  {
   "cell_type": "code",
   "execution_count": 38,
   "metadata": {},
   "outputs": [
    {
     "name": "stdout",
     "output_type": "stream",
     "text": [
      "Train Score:  1649.8219112287957\n",
      "Test Score:  2321.265802141255\n"
     ]
    }
   ],
   "source": [
    "#모델 평가하기\n",
    "trainScore = model.evaluate(x_train, y_train, verbose=0)\n",
    "print('Train Score: ', trainScore)\n",
    "#valScore = model.evaluate(x_val, y_val, verbose=0)\n",
    "#print('Validataion Score: ', valScore)\n",
    "testScore = model.evaluate(x_test, y_test, verbose=0)\n",
    "print('Test Score: ', testScore)"
   ]
  },
  {
   "cell_type": "code",
   "execution_count": 39,
   "metadata": {},
   "outputs": [
    {
     "name": "stdout",
     "output_type": "stream",
     "text": [
      "MAPE:  3.9122920608728498\n"
     ]
    }
   ],
   "source": [
    "#MAPE\n",
    "\n",
    "y_test, y_pred = np.array(y_test), np.array(y_pred)\n",
    "mape = np.mean(np.abs((y_test - y_pred) / y_test)) * 100\n",
    "print('MAPE: ', mape)"
   ]
  },
  {
   "cell_type": "code",
   "execution_count": null,
   "metadata": {},
   "outputs": [],
   "source": []
  }
 ],
 "metadata": {
  "kernelspec": {
   "display_name": "Python 3",
   "language": "python",
   "name": "python3"
  },
  "language_info": {
   "codemirror_mode": {
    "name": "ipython",
    "version": 3
   },
   "file_extension": ".py",
   "mimetype": "text/x-python",
   "name": "python",
   "nbconvert_exporter": "python",
   "pygments_lexer": "ipython3",
   "version": "3.7.3"
  }
 },
 "nbformat": 4,
 "nbformat_minor": 4
}
