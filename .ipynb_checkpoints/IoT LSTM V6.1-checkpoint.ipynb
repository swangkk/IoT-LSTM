{
 "cells": [
  {
   "cell_type": "code",
   "execution_count": 1,
   "metadata": {},
   "outputs": [],
   "source": [
    "# V 6.1 \n"
   ]
  },
  {
   "cell_type": "code",
   "execution_count": 1,
   "metadata": {},
   "outputs": [
    {
     "name": "stderr",
     "output_type": "stream",
     "text": [
      "Using TensorFlow backend.\n",
      "C:\\Users\\YooSeok\\Anaconda3\\envs\\Keras\\lib\\site-packages\\tensorflow\\python\\framework\\dtypes.py:526: FutureWarning: Passing (type, 1) or '1type' as a synonym of type is deprecated; in a future version of numpy, it will be understood as (type, (1,)) / '(1,)type'.\n",
      "  _np_qint8 = np.dtype([(\"qint8\", np.int8, 1)])\n",
      "C:\\Users\\YooSeok\\Anaconda3\\envs\\Keras\\lib\\site-packages\\tensorflow\\python\\framework\\dtypes.py:527: FutureWarning: Passing (type, 1) or '1type' as a synonym of type is deprecated; in a future version of numpy, it will be understood as (type, (1,)) / '(1,)type'.\n",
      "  _np_quint8 = np.dtype([(\"quint8\", np.uint8, 1)])\n",
      "C:\\Users\\YooSeok\\Anaconda3\\envs\\Keras\\lib\\site-packages\\tensorflow\\python\\framework\\dtypes.py:528: FutureWarning: Passing (type, 1) or '1type' as a synonym of type is deprecated; in a future version of numpy, it will be understood as (type, (1,)) / '(1,)type'.\n",
      "  _np_qint16 = np.dtype([(\"qint16\", np.int16, 1)])\n",
      "C:\\Users\\YooSeok\\Anaconda3\\envs\\Keras\\lib\\site-packages\\tensorflow\\python\\framework\\dtypes.py:529: FutureWarning: Passing (type, 1) or '1type' as a synonym of type is deprecated; in a future version of numpy, it will be understood as (type, (1,)) / '(1,)type'.\n",
      "  _np_quint16 = np.dtype([(\"quint16\", np.uint16, 1)])\n",
      "C:\\Users\\YooSeok\\Anaconda3\\envs\\Keras\\lib\\site-packages\\tensorflow\\python\\framework\\dtypes.py:530: FutureWarning: Passing (type, 1) or '1type' as a synonym of type is deprecated; in a future version of numpy, it will be understood as (type, (1,)) / '(1,)type'.\n",
      "  _np_qint32 = np.dtype([(\"qint32\", np.int32, 1)])\n",
      "C:\\Users\\YooSeok\\Anaconda3\\envs\\Keras\\lib\\site-packages\\tensorflow\\python\\framework\\dtypes.py:535: FutureWarning: Passing (type, 1) or '1type' as a synonym of type is deprecated; in a future version of numpy, it will be understood as (type, (1,)) / '(1,)type'.\n",
      "  np_resource = np.dtype([(\"resource\", np.ubyte, 1)])\n"
     ]
    }
   ],
   "source": [
    "import pandas as pd\n",
    "import numpy as np\n",
    "import matplotlib.pyplot as plt\n",
    "\n",
    "from keras.models import Sequential\n",
    "from keras.layers import LSTM, Dense, Activation, BatchNormalization\n",
    "from keras.callbacks import TensorBoard\n",
    "\n",
    "from sklearn.model_selection import train_test_split"
   ]
  },
  {
   "cell_type": "code",
   "execution_count": 2,
   "metadata": {},
   "outputs": [],
   "source": [
    "#GPU 옵션\n",
    "import tensorflow as tf\n",
    "config = tf.ConfigProto()\n",
    "config.gpu_options.allow_growth=True\n",
    "sess = tf.Session(config=config)"
   ]
  },
  {
   "cell_type": "code",
   "execution_count": 3,
   "metadata": {},
   "outputs": [
    {
     "name": "stdout",
     "output_type": "stream",
     "text": [
      "(53901, 20)\n"
     ]
    },
    {
     "data": {
      "text/html": [
       "<div>\n",
       "<style scoped>\n",
       "    .dataframe tbody tr th:only-of-type {\n",
       "        vertical-align: middle;\n",
       "    }\n",
       "\n",
       "    .dataframe tbody tr th {\n",
       "        vertical-align: top;\n",
       "    }\n",
       "\n",
       "    .dataframe thead th {\n",
       "        text-align: right;\n",
       "    }\n",
       "</style>\n",
       "<table border=\"1\" class=\"dataframe\">\n",
       "  <thead>\n",
       "    <tr style=\"text-align: right;\">\n",
       "      <th></th>\n",
       "      <th>Time</th>\n",
       "      <th>code</th>\n",
       "      <th>month</th>\n",
       "      <th>day</th>\n",
       "      <th>hour</th>\n",
       "      <th>min</th>\n",
       "      <th>1temp</th>\n",
       "      <th>1hum</th>\n",
       "      <th>1lux</th>\n",
       "      <th>2temp</th>\n",
       "      <th>2hum</th>\n",
       "      <th>2lux</th>\n",
       "      <th>3lux</th>\n",
       "      <th>a1temp</th>\n",
       "      <th>a1hum</th>\n",
       "      <th>a1lux</th>\n",
       "      <th>a2temp</th>\n",
       "      <th>a2hum</th>\n",
       "      <th>a2lux</th>\n",
       "      <th>a3lux</th>\n",
       "    </tr>\n",
       "  </thead>\n",
       "  <tbody>\n",
       "    <tr>\n",
       "      <th>0</th>\n",
       "      <td>2018-08-10 09:45:10 UTC</td>\n",
       "      <td>8-10-9-45</td>\n",
       "      <td>8</td>\n",
       "      <td>10</td>\n",
       "      <td>9</td>\n",
       "      <td>45</td>\n",
       "      <td>26.51</td>\n",
       "      <td>57.29</td>\n",
       "      <td>68.272</td>\n",
       "      <td>26.145005</td>\n",
       "      <td>64.510005</td>\n",
       "      <td>13.294</td>\n",
       "      <td>68.221</td>\n",
       "      <td>26.51</td>\n",
       "      <td>57.29000</td>\n",
       "      <td>68.272</td>\n",
       "      <td>26.145005</td>\n",
       "      <td>64.510005</td>\n",
       "      <td>13.294</td>\n",
       "      <td>68.221</td>\n",
       "    </tr>\n",
       "    <tr>\n",
       "      <th>1</th>\n",
       "      <td>2018-08-10 09:45:49 UTC</td>\n",
       "      <td>8-10-9-45</td>\n",
       "      <td>8</td>\n",
       "      <td>10</td>\n",
       "      <td>9</td>\n",
       "      <td>45</td>\n",
       "      <td>26.51</td>\n",
       "      <td>57.29</td>\n",
       "      <td>68.272</td>\n",
       "      <td>26.145005</td>\n",
       "      <td>64.510005</td>\n",
       "      <td>13.294</td>\n",
       "      <td>68.221</td>\n",
       "      <td>26.50</td>\n",
       "      <td>57.45000</td>\n",
       "      <td>73.933</td>\n",
       "      <td>25.909990</td>\n",
       "      <td>65.390000</td>\n",
       "      <td>54.519</td>\n",
       "      <td>102.748</td>\n",
       "    </tr>\n",
       "    <tr>\n",
       "      <th>2</th>\n",
       "      <td>2018-08-10 09:46:37 UTC</td>\n",
       "      <td>8-10-9-46</td>\n",
       "      <td>8</td>\n",
       "      <td>10</td>\n",
       "      <td>9</td>\n",
       "      <td>46</td>\n",
       "      <td>26.50</td>\n",
       "      <td>57.45</td>\n",
       "      <td>73.933</td>\n",
       "      <td>25.909990</td>\n",
       "      <td>65.390000</td>\n",
       "      <td>54.519</td>\n",
       "      <td>102.748</td>\n",
       "      <td>26.50</td>\n",
       "      <td>57.55999</td>\n",
       "      <td>74.783</td>\n",
       "      <td>25.730010</td>\n",
       "      <td>65.730010</td>\n",
       "      <td>73.066</td>\n",
       "      <td>101.830</td>\n",
       "    </tr>\n",
       "  </tbody>\n",
       "</table>\n",
       "</div>"
      ],
      "text/plain": [
       "                      Time       code  month  day  hour  min  1temp   1hum  \\\n",
       "0  2018-08-10 09:45:10 UTC  8-10-9-45      8   10     9   45  26.51  57.29   \n",
       "1  2018-08-10 09:45:49 UTC  8-10-9-45      8   10     9   45  26.51  57.29   \n",
       "2  2018-08-10 09:46:37 UTC  8-10-9-46      8   10     9   46  26.50  57.45   \n",
       "\n",
       "     1lux      2temp       2hum    2lux     3lux  a1temp     a1hum   a1lux  \\\n",
       "0  68.272  26.145005  64.510005  13.294   68.221   26.51  57.29000  68.272   \n",
       "1  68.272  26.145005  64.510005  13.294   68.221   26.50  57.45000  73.933   \n",
       "2  73.933  25.909990  65.390000  54.519  102.748   26.50  57.55999  74.783   \n",
       "\n",
       "      a2temp      a2hum   a2lux    a3lux  \n",
       "0  26.145005  64.510005  13.294   68.221  \n",
       "1  25.909990  65.390000  54.519  102.748  \n",
       "2  25.730010  65.730010  73.066  101.830  "
      ]
     },
     "execution_count": 3,
     "metadata": {},
     "output_type": "execute_result"
    }
   ],
   "source": [
    "df_data = pd.read_csv('data v2.csv')\n",
    "print(df_data.shape)\n",
    "df_data.head(3)"
   ]
  },
  {
   "cell_type": "code",
   "execution_count": 6,
   "metadata": {},
   "outputs": [],
   "source": [
    "month, day, hour, minu, lux1, label = [], [], [], [], [], []\n",
    "\n",
    "month.append(df_data['month'])\n",
    "day.append(df_data['day'])\n",
    "hour.append(df_data['hour'])\n",
    "minu.append(df_data['min'])\n",
    "\n",
    "lux1.append(df_data['1temp'])\n",
    "label.append(df_data['a1temp'])"
   ]
  },
  {
   "cell_type": "code",
   "execution_count": 7,
   "metadata": {},
   "outputs": [],
   "source": [
    "month = np.array(month).reshape(-1, 1)\n",
    "day = np.array(day).reshape(-1, 1)\n",
    "hour = np.array(hour).reshape(-1, 1)\n",
    "minu = np.array(minu).reshape(-1, 1)\n",
    "\n",
    "lux1 = np.array(lux1).reshape(-1, 1)\n",
    "label = np.array(label).reshape(-1, 1)"
   ]
  },
  {
   "cell_type": "code",
   "execution_count": 8,
   "metadata": {},
   "outputs": [
    {
     "name": "stdout",
     "output_type": "stream",
     "text": [
      "(53901, 1)\n"
     ]
    }
   ],
   "source": [
    "print(label.shape)"
   ]
  },
  {
   "cell_type": "code",
   "execution_count": 9,
   "metadata": {},
   "outputs": [],
   "source": [
    "#data=np.concatenate((year, month, day, hour, a0132, b3404, c3405), axis=1).reshape(-1, 1, 7)\n",
    "data=np.concatenate((month, day, hour, minu, lux1), axis=1).reshape(-1, 1, 5)"
   ]
  },
  {
   "cell_type": "code",
   "execution_count": 21,
   "metadata": {},
   "outputs": [],
   "source": [
    "arrnum = 20\n",
    "train_data=data[:48000]\n",
    "train_label=label[arrnum:48000]\n",
    "test_data=data[48001:]\n",
    "test_label=label[48001+arrnum:]"
   ]
  },
  {
   "cell_type": "code",
   "execution_count": 22,
   "metadata": {},
   "outputs": [
    {
     "name": "stdout",
     "output_type": "stream",
     "text": [
      "(20, 47980, 1, 5)\n"
     ]
    }
   ],
   "source": [
    "\n",
    "arr = []\n",
    "for i in range(arrnum):\n",
    "    arr.append(train_data[i:(i-arrnum),:])\n",
    "\n",
    "arr = np.array(arr, dtype=np.float32)\n",
    "print(arr.shape)"
   ]
  },
  {
   "cell_type": "code",
   "execution_count": 25,
   "metadata": {},
   "outputs": [
    {
     "data": {
      "text/plain": [
       "(47980, 1)"
      ]
     },
     "execution_count": 25,
     "metadata": {},
     "output_type": "execute_result"
    }
   ],
   "source": [
    "train_val_data = np.concatenate((arr[0], arr[1], arr[2], arr[3], arr[4], arr[5], arr[6], arr[7], arr[8], arr[9], arr[10], arr[11], arr[12], arr[13], arr[14], arr[15], arr[16], arr[17], arr[18], arr[19]), axis=1).reshape(-1, arrnum, 5)\n",
    "train_mean, train_std = np.mean(x_train_val, axis=0), np.std(x_train_val, axis=0)\n",
    "train_mean, train_std = np.mean(train_mean, axis=0), np.mean(train_std, axis=0)\n",
    "x_train_val.shape\n",
    "train_label.shape"
   ]
  },
  {
   "cell_type": "code",
   "execution_count": 26,
   "metadata": {},
   "outputs": [
    {
     "name": "stdout",
     "output_type": "stream",
     "text": [
      "(38384, 20, 5) (38384, 1) (9596, 20, 5) (9596, 1)\n"
     ]
    }
   ],
   "source": [
    "x_train, x_val, y_train, y_val = train_test_split(train_val_data, train_label, test_size=0.2)\n",
    "print(x_train.shape, y_train.shape, x_val.shape, y_val.shape)"
   ]
  },
  {
   "cell_type": "code",
   "execution_count": 27,
   "metadata": {},
   "outputs": [
    {
     "name": "stdout",
     "output_type": "stream",
     "text": [
      "(20, 5880, 1, 5)\n"
     ]
    }
   ],
   "source": [
    "arr = []\n",
    "for i in range(arrnum):\n",
    "    arr.append(test_data[i:(i-arrnum),:])\n",
    "    \n",
    "arr = np.array(arr, dtype=np.float32)\n",
    "print(arr.shape)\n"
   ]
  },
  {
   "cell_type": "code",
   "execution_count": 30,
   "metadata": {},
   "outputs": [
    {
     "name": "stdout",
     "output_type": "stream",
     "text": [
      "(5880, 20, 5) (5880, 1)\n"
     ]
    }
   ],
   "source": [
    "x_test = np.concatenate((arr[0], arr[1], arr[2], arr[3], arr[4], arr[5], arr[6], arr[7], arr[8], arr[9], arr[10], arr[11], arr[12], arr[13], arr[14], arr[15], arr[16], arr[17], arr[18], arr[19]), axis=1).reshape(-1, arrnum, 5)\n",
    "y_test = test_label.reshape(-1, 1)\n",
    "print(x_test.shape, y_test.shape)"
   ]
  },
  {
   "cell_type": "code",
   "execution_count": 31,
   "metadata": {},
   "outputs": [],
   "source": [
    "h_units = 512\n",
    "activation_ = 'relu'\n",
    "\n",
    "def rnn_model():\n",
    "    model = Sequential()\n",
    "    model.add(LSTM(units=h_units, return_sequences=True, input_shape=(arrnum,5)))        \n",
    "    model.add(LSTM(units=h_units, return_sequences=False))\n",
    "    model.add(Dense(h_units))\n",
    "    model.add(Dense(1))\n",
    "    \n",
    "    return model"
   ]
  },
  {
   "cell_type": "code",
   "execution_count": 32,
   "metadata": {},
   "outputs": [
    {
     "name": "stdout",
     "output_type": "stream",
     "text": [
      "WARNING:tensorflow:From C:\\Users\\YooSeok\\Anaconda3\\envs\\Keras\\lib\\site-packages\\tensorflow\\python\\framework\\op_def_library.py:263: colocate_with (from tensorflow.python.framework.ops) is deprecated and will be removed in a future version.\n",
      "Instructions for updating:\n",
      "Colocations handled automatically by placer.\n",
      "_________________________________________________________________\n",
      "Layer (type)                 Output Shape              Param #   \n",
      "=================================================================\n",
      "lstm_1 (LSTM)                (None, 20, 512)           1060864   \n",
      "_________________________________________________________________\n",
      "lstm_2 (LSTM)                (None, 512)               2099200   \n",
      "_________________________________________________________________\n",
      "dense_1 (Dense)              (None, 512)               262656    \n",
      "_________________________________________________________________\n",
      "dense_2 (Dense)              (None, 1)                 513       \n",
      "=================================================================\n",
      "Total params: 3,423,233\n",
      "Trainable params: 3,423,233\n",
      "Non-trainable params: 0\n",
      "_________________________________________________________________\n"
     ]
    }
   ],
   "source": [
    "model = rnn_model()\n",
    "model.summary()"
   ]
  },
  {
   "cell_type": "code",
   "execution_count": 33,
   "metadata": {},
   "outputs": [],
   "source": [
    "model.compile(loss='mean_squared_error', optimizer='adam')"
   ]
  },
  {
   "cell_type": "code",
   "execution_count": 34,
   "metadata": {},
   "outputs": [
    {
     "name": "stdout",
     "output_type": "stream",
     "text": [
      "WARNING:tensorflow:From C:\\Users\\YooSeok\\Anaconda3\\envs\\Keras\\lib\\site-packages\\tensorflow\\python\\ops\\math_ops.py:3066: to_int32 (from tensorflow.python.ops.math_ops) is deprecated and will be removed in a future version.\n",
      "Instructions for updating:\n",
      "Use tf.cast instead.\n",
      "Train on 38384 samples, validate on 9596 samples\n",
      "Epoch 1/100\n",
      "38384/38384 [==============================] - 9s 235us/step - loss: 1507.2355 - val_loss: 1069.7439\n",
      "Epoch 2/100\n",
      "38384/38384 [==============================] - 8s 197us/step - loss: 1027.2963 - val_loss: 1048.9296\n",
      "Epoch 3/100\n",
      "38384/38384 [==============================] - 8s 201us/step - loss: 1006.5251 - val_loss: 1027.8370\n",
      "Epoch 4/100\n",
      "38384/38384 [==============================] - 8s 204us/step - loss: 990.4483 - val_loss: 1015.7753\n",
      "Epoch 5/100\n",
      "38384/38384 [==============================] - 8s 203us/step - loss: 985.4481 - val_loss: 1011.2698\n",
      "Epoch 6/100\n",
      "38384/38384 [==============================] - 8s 200us/step - loss: 982.0050 - val_loss: 1003.8705\n",
      "Epoch 7/100\n",
      "38384/38384 [==============================] - 8s 200us/step - loss: 975.5743 - val_loss: 999.4143\n",
      "Epoch 8/100\n",
      "38384/38384 [==============================] - 8s 200us/step - loss: 968.5074 - val_loss: 1000.5420\n",
      "Epoch 9/100\n",
      "38384/38384 [==============================] - 8s 203us/step - loss: 967.1635 - val_loss: 998.6288\n",
      "Epoch 10/100\n",
      "38384/38384 [==============================] - 8s 200us/step - loss: 968.9038 - val_loss: 1002.5258\n",
      "Epoch 11/100\n",
      "38384/38384 [==============================] - 8s 202us/step - loss: 966.1035 - val_loss: 1001.7656\n",
      "Epoch 12/100\n",
      "38384/38384 [==============================] - 8s 203us/step - loss: 963.0596 - val_loss: 1079.8881\n",
      "Epoch 13/100\n",
      "38384/38384 [==============================] - 8s 201us/step - loss: 967.9451 - val_loss: 1010.8590\n",
      "Epoch 14/100\n",
      "38384/38384 [==============================] - 8s 201us/step - loss: 959.0405 - val_loss: 1000.8317\n",
      "Epoch 15/100\n",
      "38384/38384 [==============================] - 8s 203us/step - loss: 958.1352 - val_loss: 984.9235\n",
      "Epoch 16/100\n",
      "38384/38384 [==============================] - 8s 203us/step - loss: 952.8407 - val_loss: 999.0939\n",
      "Epoch 17/100\n",
      "38384/38384 [==============================] - 8s 208us/step - loss: 953.8575 - val_loss: 990.9038\n",
      "Epoch 18/100\n",
      "38384/38384 [==============================] - 8s 204us/step - loss: 959.5281 - val_loss: 995.1904\n",
      "Epoch 19/100\n",
      "38384/38384 [==============================] - 8s 203us/step - loss: 955.4230 - val_loss: 985.2063\n",
      "Epoch 20/100\n",
      "38384/38384 [==============================] - 8s 202us/step - loss: 964.6501 - val_loss: 1013.3401\n",
      "Epoch 21/100\n",
      "38384/38384 [==============================] - 8s 201us/step - loss: 954.3911 - val_loss: 988.5055\n",
      "Epoch 22/100\n",
      "38384/38384 [==============================] - 8s 203us/step - loss: 953.6862 - val_loss: 983.3118\n",
      "Epoch 23/100\n",
      "38384/38384 [==============================] - 8s 206us/step - loss: 951.9902 - val_loss: 986.0514\n",
      "Epoch 24/100\n",
      "38384/38384 [==============================] - 8s 205us/step - loss: 952.0166 - val_loss: 989.3685\n",
      "Epoch 25/100\n",
      "38384/38384 [==============================] - 8s 204us/step - loss: 951.5756 - val_loss: 984.8267\n",
      "Epoch 26/100\n",
      "38384/38384 [==============================] - 8s 204us/step - loss: 952.0612 - val_loss: 989.1093\n",
      "Epoch 27/100\n",
      "38384/38384 [==============================] - 8s 203us/step - loss: 947.7461 - val_loss: 983.2302\n",
      "Epoch 28/100\n",
      "38384/38384 [==============================] - 8s 202us/step - loss: 949.2350 - val_loss: 984.5230\n",
      "Epoch 29/100\n",
      "38384/38384 [==============================] - 8s 204us/step - loss: 946.0271 - val_loss: 987.4210\n",
      "Epoch 30/100\n",
      "38384/38384 [==============================] - 8s 204us/step - loss: 946.3760 - val_loss: 991.4321\n",
      "Epoch 31/100\n",
      "38384/38384 [==============================] - 8s 203us/step - loss: 957.8451 - val_loss: 985.5231\n",
      "Epoch 32/100\n",
      "38384/38384 [==============================] - 8s 204us/step - loss: 949.4310 - val_loss: 1024.6768\n",
      "Epoch 33/100\n",
      "38384/38384 [==============================] - 8s 203us/step - loss: 956.8641 - val_loss: 988.7132\n",
      "Epoch 34/100\n",
      "38384/38384 [==============================] - 8s 203us/step - loss: 946.0615 - val_loss: 982.4350\n",
      "Epoch 35/100\n",
      "38384/38384 [==============================] - 8s 202us/step - loss: 942.1378 - val_loss: 990.6761\n",
      "Epoch 36/100\n",
      "38384/38384 [==============================] - 8s 201us/step - loss: 942.9871 - val_loss: 986.8489\n",
      "Epoch 37/100\n",
      "38384/38384 [==============================] - 8s 203us/step - loss: 945.5486 - val_loss: 981.7541\n",
      "Epoch 38/100\n",
      "38384/38384 [==============================] - 8s 203us/step - loss: 945.1617 - val_loss: 990.1262\n",
      "Epoch 39/100\n",
      "38384/38384 [==============================] - 8s 204us/step - loss: 941.3008 - val_loss: 1003.8860\n",
      "Epoch 40/100\n",
      "38384/38384 [==============================] - 8s 202us/step - loss: 940.5911 - val_loss: 982.7607\n",
      "Epoch 41/100\n",
      "38384/38384 [==============================] - 8s 203us/step - loss: 940.2513 - val_loss: 983.4949\n",
      "Epoch 42/100\n",
      "38384/38384 [==============================] - 8s 202us/step - loss: 939.3578 - val_loss: 982.5378\n",
      "Epoch 43/100\n",
      "38384/38384 [==============================] - 8s 203us/step - loss: 937.7263 - val_loss: 999.3928\n",
      "Epoch 44/100\n",
      "38384/38384 [==============================] - 8s 206us/step - loss: 940.6923 - val_loss: 984.8828\n",
      "Epoch 45/100\n",
      "38384/38384 [==============================] - 8s 203us/step - loss: 939.8055 - val_loss: 981.7388\n",
      "Epoch 46/100\n",
      "38384/38384 [==============================] - 8s 204us/step - loss: 939.6329 - val_loss: 989.4222\n",
      "Epoch 47/100\n",
      "38384/38384 [==============================] - 8s 204us/step - loss: 943.1946 - val_loss: 992.3022\n",
      "Epoch 48/100\n",
      "38384/38384 [==============================] - 8s 205us/step - loss: 940.1011 - val_loss: 982.6569\n",
      "Epoch 49/100\n",
      "38384/38384 [==============================] - 8s 203us/step - loss: 935.6028 - val_loss: 985.8176\n",
      "Epoch 50/100\n",
      "38384/38384 [==============================] - 8s 204us/step - loss: 939.4042 - val_loss: 984.8981\n",
      "Epoch 51/100\n",
      "38384/38384 [==============================] - 8s 204us/step - loss: 936.9949 - val_loss: 1009.4758\n",
      "Epoch 52/100\n",
      "38384/38384 [==============================] - 8s 205us/step - loss: 933.9136 - val_loss: 983.6039\n",
      "Epoch 53/100\n",
      "38384/38384 [==============================] - 8s 203us/step - loss: 930.2472 - val_loss: 982.6026\n",
      "Epoch 54/100\n",
      "38384/38384 [==============================] - 8s 203us/step - loss: 929.1613 - val_loss: 1009.7685\n",
      "Epoch 55/100\n",
      "38384/38384 [==============================] - 8s 202us/step - loss: 928.0164 - val_loss: 986.5212\n",
      "Epoch 56/100\n",
      "38384/38384 [==============================] - 8s 201us/step - loss: 928.3979 - val_loss: 989.2217\n",
      "Epoch 57/100\n",
      "38384/38384 [==============================] - 8s 201us/step - loss: 926.2276 - val_loss: 994.0723\n",
      "Epoch 58/100\n",
      "38384/38384 [==============================] - 8s 201us/step - loss: 928.1336 - val_loss: 984.1974\n",
      "Epoch 59/100\n",
      "38384/38384 [==============================] - 8s 203us/step - loss: 921.9886 - val_loss: 994.2799\n",
      "Epoch 60/100\n",
      "38384/38384 [==============================] - 8s 203us/step - loss: 925.3726 - val_loss: 1004.9118\n",
      "Epoch 61/100\n",
      "38384/38384 [==============================] - 8s 204us/step - loss: 919.6836 - val_loss: 996.3474\n",
      "Epoch 62/100\n",
      "38384/38384 [==============================] - 8s 203us/step - loss: 919.3220 - val_loss: 999.1212\n",
      "Epoch 63/100\n",
      "38384/38384 [==============================] - 8s 204us/step - loss: 923.4560 - val_loss: 987.6248\n",
      "Epoch 64/100\n",
      "38384/38384 [==============================] - 8s 202us/step - loss: 915.4064 - val_loss: 987.0689\n",
      "Epoch 65/100\n",
      "38384/38384 [==============================] - 8s 203us/step - loss: 913.0124 - val_loss: 986.2040\n",
      "Epoch 66/100\n",
      "38384/38384 [==============================] - 8s 203us/step - loss: 912.9357 - val_loss: 994.8644\n",
      "Epoch 67/100\n",
      "38384/38384 [==============================] - 8s 203us/step - loss: 918.2942 - val_loss: 988.8194\n",
      "Epoch 68/100\n",
      "38384/38384 [==============================] - 8s 203us/step - loss: 914.9579 - val_loss: 1000.2773\n",
      "Epoch 69/100\n",
      "38384/38384 [==============================] - 8s 202us/step - loss: 909.6155 - val_loss: 992.4466\n",
      "Epoch 70/100\n",
      "38384/38384 [==============================] - 8s 203us/step - loss: 908.8239 - val_loss: 994.2368\n",
      "Epoch 71/100\n",
      "38384/38384 [==============================] - 8s 204us/step - loss: 906.1994 - val_loss: 1001.6086\n",
      "Epoch 72/100\n",
      "38384/38384 [==============================] - 8s 203us/step - loss: 900.5796 - val_loss: 990.9917\n",
      "Epoch 73/100\n",
      "38384/38384 [==============================] - 8s 202us/step - loss: 907.2779 - val_loss: 1013.7295\n",
      "Epoch 74/100\n",
      "38384/38384 [==============================] - 8s 203us/step - loss: 901.7113 - val_loss: 1002.0964\n",
      "Epoch 75/100\n",
      "38384/38384 [==============================] - 8s 204us/step - loss: 905.5120 - val_loss: 1003.9344\n",
      "Epoch 76/100\n",
      "38384/38384 [==============================] - 8s 203us/step - loss: 895.7367 - val_loss: 1010.8218\n",
      "Epoch 77/100\n",
      "38384/38384 [==============================] - 8s 202us/step - loss: 888.9727 - val_loss: 1005.0827\n",
      "Epoch 78/100\n",
      "38384/38384 [==============================] - 8s 202us/step - loss: 884.1045 - val_loss: 1001.2874\n",
      "Epoch 79/100\n",
      "38384/38384 [==============================] - 8s 202us/step - loss: 883.1647 - val_loss: 1003.5402\n",
      "Epoch 80/100\n",
      "38384/38384 [==============================] - 8s 203us/step - loss: 879.9091 - val_loss: 1009.9302\n",
      "Epoch 81/100\n",
      "38384/38384 [==============================] - 8s 202us/step - loss: 880.8575 - val_loss: 1018.4598\n",
      "Epoch 82/100\n",
      "38384/38384 [==============================] - 8s 203us/step - loss: 876.8570 - val_loss: 1005.1447\n",
      "Epoch 83/100\n",
      "38384/38384 [==============================] - 8s 204us/step - loss: 869.6885 - val_loss: 1027.0849\n",
      "Epoch 84/100\n",
      "38384/38384 [==============================] - 8s 204us/step - loss: 873.4204 - val_loss: 1020.5915\n",
      "Epoch 85/100\n",
      "38384/38384 [==============================] - 8s 203us/step - loss: 869.4688 - val_loss: 1007.6972\n",
      "Epoch 86/100\n",
      "38384/38384 [==============================] - 8s 203us/step - loss: 865.7295 - val_loss: 1019.3789\n",
      "Epoch 87/100\n",
      "38384/38384 [==============================] - 8s 203us/step - loss: 860.2548 - val_loss: 1020.6529\n",
      "Epoch 88/100\n",
      "38384/38384 [==============================] - 8s 203us/step - loss: 863.3127 - val_loss: 1031.4458\n",
      "Epoch 89/100\n",
      "38384/38384 [==============================] - 8s 203us/step - loss: 858.1534 - val_loss: 1013.1078\n",
      "Epoch 90/100\n",
      "38384/38384 [==============================] - 8s 203us/step - loss: 851.6435 - val_loss: 1017.1065\n",
      "Epoch 91/100\n",
      "38384/38384 [==============================] - 8s 204us/step - loss: 849.5924 - val_loss: 1038.1558\n",
      "Epoch 92/100\n",
      "38384/38384 [==============================] - 8s 204us/step - loss: 839.0883 - val_loss: 1022.9673\n",
      "Epoch 93/100\n",
      "38384/38384 [==============================] - 8s 203us/step - loss: 838.4488 - val_loss: 1020.7780\n",
      "Epoch 94/100\n",
      "38384/38384 [==============================] - 8s 203us/step - loss: 831.8032 - val_loss: 1054.6980\n",
      "Epoch 95/100\n",
      "38384/38384 [==============================] - 8s 204us/step - loss: 831.8671 - val_loss: 1026.6168\n",
      "Epoch 96/100\n",
      "38384/38384 [==============================] - 8s 203us/step - loss: 818.6386 - val_loss: 1055.9076\n",
      "Epoch 97/100\n",
      "38384/38384 [==============================] - 8s 204us/step - loss: 817.5613 - val_loss: 1070.9904\n",
      "Epoch 98/100\n",
      "38384/38384 [==============================] - 8s 202us/step - loss: 818.4860 - val_loss: 1047.2490\n",
      "Epoch 99/100\n",
      "38384/38384 [==============================] - 8s 203us/step - loss: 802.2422 - val_loss: 1050.2799\n",
      "Epoch 100/100\n",
      "38384/38384 [==============================] - 8s 203us/step - loss: 810.5954 - val_loss: 1056.6639\n"
     ]
    }
   ],
   "source": [
    "batch = 512\n",
    "tensorBoard = TensorBoard(log_dir='./logs', histogram_freq=0, write_graph=True, write_images=False)\n",
    "\n",
    "hist = model.fit(x_train, y_train, epochs=100, batch_size=batch, verbose=True, validation_data=(x_val, y_val), shuffle=True, callbacks=[tensorBoard])"
   ]
  },
  {
   "cell_type": "code",
   "execution_count": 46,
   "metadata": {},
   "outputs": [
    {
     "name": "stdout",
     "output_type": "stream",
     "text": [
      "5880/5880 [==============================] - 1s 85us/step\n"
     ]
    }
   ],
   "source": [
    "y_pred = model.predict(x_test, batch_size=batch, verbose=True) "
   ]
  },
  {
   "cell_type": "code",
   "execution_count": 48,
   "metadata": {},
   "outputs": [
    {
     "name": "stdout",
     "output_type": "stream",
     "text": [
      "(5880, 1)\n",
      "5880/5880 [==============================] - 0s 80us/step\n",
      "nan\n"
     ]
    }
   ],
   "source": [
    "print(y_pred.shape)\n",
    "print(model.evaluate(x_test, y_test ,batch_size=batch))"
   ]
  },
  {
   "cell_type": "code",
   "execution_count": 40,
   "metadata": {},
   "outputs": [
    {
     "data": {
      "image/png": "[encoded data removed]",
      "text/plain": [
       "<Figure size 864x648 with 1 Axes>"
      ]
     },
     "metadata": {
      "needs_background": "light"
     },
     "output_type": "display_data"
    }
   ],
   "source": [
    "%matplotlib inline\n",
    "import matplotlib.pyplot as plt\n",
    "\n",
    "fig, loss_ax = plt.subplots(figsize=(12,9))\n",
    "\n",
    "# set font\n",
    "font = {'family': 'Arial', 'weight': 'normal', 'size': 16}\n",
    "plt.rc('font', **font)\n",
    "\n",
    "\n",
    "loss_ax.plot(hist.history['loss'], 'b', label='train loss')\n",
    "loss_ax.plot(hist.history['val_loss'], 'r', label='test loss')\n",
    "\n",
    "loss_ax.set_xlabel('Epoch', fontsize = 26)\n",
    "loss_ax.set_ylabel('Loss', fontsize = 26)\n",
    "\n",
    "# set axis-limits\n",
    "plt.xlim(left = 0, right = 100) \n",
    "plt.ylim(bottom = 0) \n",
    "\n",
    "plt.xticks(np.arange(0,101,20), fontsize = 20)\n",
    "plt.yticks(fontsize = 20)\n",
    "\n",
    "# thousand comma\n",
    "loss_ax.set_yticklabels(['{:,}'.format(int(x)) for x in loss_ax.get_yticks().tolist()])\n",
    "\n",
    "# set grid\n",
    "plt.grid(color='gray', linestyle='--', linewidth=1)\n",
    "\n",
    "# set legend position\n",
    "plt.legend(shadow=True, loc='upper right', fontsize = 22)\n",
    "#loss_ax.legend(loc='upper right')\n",
    "\n",
    "plt.savefig('3 loss_graph.png', dpi=300)\n",
    "\n",
    "plt.show()"
   ]
  },
  {
   "cell_type": "code",
   "execution_count": 42,
   "metadata": {},
   "outputs": [
    {
     "data": {
      "image/png": "[encoded data removed]",
      "text/plain": [
       "<Figure size 864x648 with 1 Axes>"
      ]
     },
     "metadata": {
      "needs_background": "light"
     },
     "output_type": "display_data"
    }
   ],
   "source": [
    "fig, pred_ax = plt.subplots(figsize=(12,9))\n",
    "\n",
    "# set font\n",
    "font = {'family': 'Arial', 'weight': 'normal', 'size': 16}\n",
    "plt.rc('font', **font)\n",
    "\n",
    "# plot data \n",
    "pred_ax.plot(test_label[:,0], 'r', label='y_true')\n",
    "pred_ax.plot(y_pred[:,0], 'b', label='y_pred')\n",
    "\n",
    "# set legend position\n",
    "plt.legend(shadow=True, loc='upper right', fontsize = 22)\n",
    "\n",
    "#plt.title('prediction result')\n",
    "plt.xlabel('Time Index', fontsize = 26)\n",
    "plt.ylabel('Traffic Volume (veh/h)', fontsize = 26)\n",
    "\n",
    "# set axis-limits\n",
    "plt.xlim(left = 10, right = 168) \n",
    "plt.ylim(bottom = 0, top=1000) \n",
    "\n",
    "# set grid\n",
    "plt.grid(color='gray', linestyle='--', linewidth=1)\n",
    "\n",
    "plt.xticks(np.arange(0,169,24), fontsize = 20)\n",
    "plt.yticks(np.arange(0,1001,500), fontsize = 20)\n",
    "\n",
    "# thousand comma\n",
    "pred_ax.set_yticklabels(['{:,}'.format(int(x)) for x in pred_ax.get_yticks().tolist()])\n",
    "plt.savefig('pred_graph.png', dpi=300)\n",
    "plt.show()"
   ]
  },
  {
   "cell_type": "code",
   "execution_count": null,
   "metadata": {},
   "outputs": [],
   "source": []
  },
  {
   "cell_type": "code",
   "execution_count": 49,
   "metadata": {},
   "outputs": [
    {
     "name": "stdout",
     "output_type": "stream",
     "text": [
      "MAPE:  nan\n"
     ]
    },
    {
     "name": "stderr",
     "output_type": "stream",
     "text": [
      "C:\\Users\\YooSeok\\Anaconda3\\envs\\Keras\\lib\\site-packages\\ipykernel_launcher.py:4: RuntimeWarning: divide by zero encountered in true_divide\n",
      "  after removing the cwd from sys.path.\n"
     ]
    }
   ],
   "source": [
    "#MAPE\n",
    "\n",
    "y_test, y_pred = np.array(test_label), np.array(y_pred)\n",
    "mape = np.mean(np.abs((y_test - y_pred) / y_test)) * 100\n",
    "print('MAPE: ', mape)"
   ]
  },
  {
   "cell_type": "code",
   "execution_count": null,
   "metadata": {},
   "outputs": [],
   "source": []
  }
 ],
 "metadata": {
  "kernelspec": {
   "display_name": "Python 3",
   "language": "python",
   "name": "python3"
  },
  "language_info": {
   "codemirror_mode": {
    "name": "ipython",
    "version": 3
   },
   "file_extension": ".py",
   "mimetype": "text/x-python",
   "name": "python",
   "nbconvert_exporter": "python",
   "pygments_lexer": "ipython3",
   "version": "3.7.3"
  }
 },
 "nbformat": 4,
 "nbformat_minor": 4
}
