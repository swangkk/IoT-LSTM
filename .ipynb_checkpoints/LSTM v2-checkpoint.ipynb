{
 "cells": [
  {
   "cell_type": "code",
   "execution_count": 1,
   "metadata": {},
   "outputs": [
    {
     "name": "stderr",
     "output_type": "stream",
     "text": [
      "Using TensorFlow backend.\n",
      "C:\\Users\\YooSeok\\Anaconda3\\envs\\Keras\\lib\\site-packages\\tensorflow\\python\\framework\\dtypes.py:526: FutureWarning: Passing (type, 1) or '1type' as a synonym of type is deprecated; in a future version of numpy, it will be understood as (type, (1,)) / '(1,)type'.\n",
      "  _np_qint8 = np.dtype([(\"qint8\", np.int8, 1)])\n",
      "C:\\Users\\YooSeok\\Anaconda3\\envs\\Keras\\lib\\site-packages\\tensorflow\\python\\framework\\dtypes.py:527: FutureWarning: Passing (type, 1) or '1type' as a synonym of type is deprecated; in a future version of numpy, it will be understood as (type, (1,)) / '(1,)type'.\n",
      "  _np_quint8 = np.dtype([(\"quint8\", np.uint8, 1)])\n",
      "C:\\Users\\YooSeok\\Anaconda3\\envs\\Keras\\lib\\site-packages\\tensorflow\\python\\framework\\dtypes.py:528: FutureWarning: Passing (type, 1) or '1type' as a synonym of type is deprecated; in a future version of numpy, it will be understood as (type, (1,)) / '(1,)type'.\n",
      "  _np_qint16 = np.dtype([(\"qint16\", np.int16, 1)])\n",
      "C:\\Users\\YooSeok\\Anaconda3\\envs\\Keras\\lib\\site-packages\\tensorflow\\python\\framework\\dtypes.py:529: FutureWarning: Passing (type, 1) or '1type' as a synonym of type is deprecated; in a future version of numpy, it will be understood as (type, (1,)) / '(1,)type'.\n",
      "  _np_quint16 = np.dtype([(\"quint16\", np.uint16, 1)])\n",
      "C:\\Users\\YooSeok\\Anaconda3\\envs\\Keras\\lib\\site-packages\\tensorflow\\python\\framework\\dtypes.py:530: FutureWarning: Passing (type, 1) or '1type' as a synonym of type is deprecated; in a future version of numpy, it will be understood as (type, (1,)) / '(1,)type'.\n",
      "  _np_qint32 = np.dtype([(\"qint32\", np.int32, 1)])\n",
      "C:\\Users\\YooSeok\\Anaconda3\\envs\\Keras\\lib\\site-packages\\tensorflow\\python\\framework\\dtypes.py:535: FutureWarning: Passing (type, 1) or '1type' as a synonym of type is deprecated; in a future version of numpy, it will be understood as (type, (1,)) / '(1,)type'.\n",
      "  np_resource = np.dtype([(\"resource\", np.ubyte, 1)])\n"
     ]
    }
   ],
   "source": [
    "import pandas as pd\n",
    "import numpy as np\n",
    "import matplotlib.pyplot as plt\n",
    "\n",
    "from keras.models import Sequential\n",
    "from keras.layers import LSTM, Dense, Activation, BatchNormalization\n",
    "from keras.callbacks import TensorBoard\n",
    "\n",
    "from sklearn.model_selection import train_test_split"
   ]
  },
  {
   "cell_type": "code",
   "execution_count": 2,
   "metadata": {},
   "outputs": [
    {
     "name": "stdout",
     "output_type": "stream",
     "text": [
      "(55277, 2)\n"
     ]
    }
   ],
   "source": [
    "df_data = pd.read_csv('data.csv')\n",
    "print(df_data.shape)"
   ]
  },
  {
   "cell_type": "code",
   "execution_count": 3,
   "metadata": {},
   "outputs": [
    {
     "data": {
      "text/html": [
       "<div>\n",
       "<style scoped>\n",
       "    .dataframe tbody tr th:only-of-type {\n",
       "        vertical-align: middle;\n",
       "    }\n",
       "\n",
       "    .dataframe tbody tr th {\n",
       "        vertical-align: top;\n",
       "    }\n",
       "\n",
       "    .dataframe thead th {\n",
       "        text-align: right;\n",
       "    }\n",
       "</style>\n",
       "<table border=\"1\" class=\"dataframe\">\n",
       "  <thead>\n",
       "    <tr style=\"text-align: right;\">\n",
       "      <th></th>\n",
       "      <th>Time</th>\n",
       "      <th>Lux</th>\n",
       "    </tr>\n",
       "  </thead>\n",
       "  <tbody>\n",
       "    <tr>\n",
       "      <th>0</th>\n",
       "      <td>2018-08-10 09:41:37 UTC</td>\n",
       "      <td>527</td>\n",
       "    </tr>\n",
       "    <tr>\n",
       "      <th>1</th>\n",
       "      <td>2018-08-10 09:42:26 UTC</td>\n",
       "      <td>942</td>\n",
       "    </tr>\n",
       "    <tr>\n",
       "      <th>2</th>\n",
       "      <td>2018-08-10 09:43:16 UTC</td>\n",
       "      <td>942</td>\n",
       "    </tr>\n",
       "    <tr>\n",
       "      <th>3</th>\n",
       "      <td>2018-08-10 09:44:04 UTC</td>\n",
       "      <td>942</td>\n",
       "    </tr>\n",
       "    <tr>\n",
       "      <th>4</th>\n",
       "      <td>2018-08-10 09:44:53 UTC</td>\n",
       "      <td>942</td>\n",
       "    </tr>\n",
       "    <tr>\n",
       "      <th>5</th>\n",
       "      <td>2018-08-10 09:45:41 UTC</td>\n",
       "      <td>941</td>\n",
       "    </tr>\n",
       "    <tr>\n",
       "      <th>6</th>\n",
       "      <td>2018-08-10 09:46:31 UTC</td>\n",
       "      <td>951</td>\n",
       "    </tr>\n",
       "    <tr>\n",
       "      <th>7</th>\n",
       "      <td>2018-08-10 09:47:19 UTC</td>\n",
       "      <td>951</td>\n",
       "    </tr>\n",
       "    <tr>\n",
       "      <th>8</th>\n",
       "      <td>2018-08-10 09:48:08 UTC</td>\n",
       "      <td>951</td>\n",
       "    </tr>\n",
       "    <tr>\n",
       "      <th>9</th>\n",
       "      <td>2018-08-10 09:48:57 UTC</td>\n",
       "      <td>951</td>\n",
       "    </tr>\n",
       "  </tbody>\n",
       "</table>\n",
       "</div>"
      ],
      "text/plain": [
       "                      Time  Lux\n",
       "0  2018-08-10 09:41:37 UTC  527\n",
       "1  2018-08-10 09:42:26 UTC  942\n",
       "2  2018-08-10 09:43:16 UTC  942\n",
       "3  2018-08-10 09:44:04 UTC  942\n",
       "4  2018-08-10 09:44:53 UTC  942\n",
       "5  2018-08-10 09:45:41 UTC  941\n",
       "6  2018-08-10 09:46:31 UTC  951\n",
       "7  2018-08-10 09:47:19 UTC  951\n",
       "8  2018-08-10 09:48:08 UTC  951\n",
       "9  2018-08-10 09:48:57 UTC  951"
      ]
     },
     "execution_count": 3,
     "metadata": {},
     "output_type": "execute_result"
    }
   ],
   "source": [
    "df_data.head(10)"
   ]
  },
  {
   "cell_type": "code",
   "execution_count": 4,
   "metadata": {},
   "outputs": [
    {
     "name": "stdout",
     "output_type": "stream",
     "text": [
      "<class 'pandas.core.frame.DataFrame'>\n",
      "RangeIndex: 55277 entries, 0 to 55276\n",
      "Data columns (total 2 columns):\n",
      "Time    55277 non-null object\n",
      "Lux     55277 non-null int64\n",
      "dtypes: int64(1), object(1)\n",
      "memory usage: 863.8+ KB\n"
     ]
    }
   ],
   "source": [
    "df_data.info()"
   ]
  },
  {
   "cell_type": "code",
   "execution_count": 5,
   "metadata": {},
   "outputs": [],
   "source": [
    "df_data['Time'] = pd.to_datetime(df_data['Time'])"
   ]
  },
  {
   "cell_type": "code",
   "execution_count": 6,
   "metadata": {},
   "outputs": [],
   "source": [
    "hour, minute, second = [], [], []\n",
    "for i in range(np.size(df_data, 0)):\n",
    "    hour.append(df_data['Time'][i].hour)\n",
    "    minute.append(df_data['Time'][i].minute)\n",
    "    second.append(df_data['Time'][i].second)"
   ]
  },
  {
   "cell_type": "code",
   "execution_count": 7,
   "metadata": {},
   "outputs": [
    {
     "name": "stdout",
     "output_type": "stream",
     "text": [
      "(55277, 1) (55277, 1) (55277, 1)\n"
     ]
    }
   ],
   "source": [
    "hour = np.array(hour).reshape(-1, 1)\n",
    "minute = np.array(minute).reshape(-1, 1)\n",
    "second = np.array(second).reshape(-1, 1)\n",
    "\n",
    "print(hour.shape, minute.shape, second.shape)"
   ]
  },
  {
   "cell_type": "code",
   "execution_count": 8,
   "metadata": {},
   "outputs": [
    {
     "name": "stdout",
     "output_type": "stream",
     "text": [
      "(55277, 1)\n"
     ]
    }
   ],
   "source": [
    "lux = df_data['Lux'].values.reshape(-1, 1)\n",
    "print(lux.shape)"
   ]
  },
  {
   "cell_type": "code",
   "execution_count": 33,
   "metadata": {},
   "outputs": [],
   "source": [
    "lux = (lux - lux.mean()) / lux.std()"
   ]
  },
  {
   "cell_type": "code",
   "execution_count": 35,
   "metadata": {},
   "outputs": [
    {
     "ename": "AttributeError",
     "evalue": "module 'matplotlib.pyplot' has no attribute 'shop'",
     "output_type": "error",
     "traceback": [
      "\u001b[1;31m---------------------------------------------------------------------------\u001b[0m",
      "\u001b[1;31mAttributeError\u001b[0m                            Traceback (most recent call last)",
      "\u001b[1;32m<ipython-input-35-60788d8d6eb7>\u001b[0m in \u001b[0;36m<module>\u001b[1;34m\u001b[0m\n\u001b[0;32m      1\u001b[0m \u001b[0mlux\u001b[0m\u001b[1;33m\u001b[0m\u001b[1;33m\u001b[0m\u001b[0m\n\u001b[0;32m      2\u001b[0m \u001b[0mplt\u001b[0m\u001b[1;33m.\u001b[0m\u001b[0mplot\u001b[0m\u001b[1;33m(\u001b[0m\u001b[0mlux\u001b[0m\u001b[1;33m[\u001b[0m\u001b[1;33m:\u001b[0m\u001b[1;33m,\u001b[0m\u001b[1;36m0\u001b[0m\u001b[1;33m]\u001b[0m\u001b[1;33m,\u001b[0m \u001b[1;34m'r'\u001b[0m\u001b[1;33m,\u001b[0m \u001b[0mlabel\u001b[0m\u001b[1;33m=\u001b[0m\u001b[1;34m'y_true'\u001b[0m\u001b[1;33m)\u001b[0m\u001b[1;33m\u001b[0m\u001b[1;33m\u001b[0m\u001b[0m\n\u001b[1;32m----> 3\u001b[1;33m \u001b[0mplt\u001b[0m\u001b[1;33m.\u001b[0m\u001b[0mshop\u001b[0m\u001b[1;33m(\u001b[0m\u001b[1;33m)\u001b[0m\u001b[1;33m\u001b[0m\u001b[1;33m\u001b[0m\u001b[0m\n\u001b[0m",
      "\u001b[1;31mAttributeError\u001b[0m: module 'matplotlib.pyplot' has no attribute 'shop'"
     ]
    },
    {
     "data": {
      "image/png": "[encoded data removed]",
      "text/plain": [
       "<Figure size 432x288 with 1 Axes>"
      ]
     },
     "metadata": {
      "needs_background": "light"
     },
     "output_type": "display_data"
    }
   ],
   "source": [
    "lux\n",
    "plt.plot(lux[:,0], 'r', label='y_true')\n",
    "plt.shop()"
   ]
  },
  {
   "cell_type": "code",
   "execution_count": 36,
   "metadata": {},
   "outputs": [
    {
     "name": "stdout",
     "output_type": "stream",
     "text": [
      "(55277, 4)\n"
     ]
    }
   ],
   "source": [
    "data = np.concatenate((hour, minute, second, lux), axis=1)\n",
    "print(data.shape)"
   ]
  },
  {
   "cell_type": "code",
   "execution_count": 37,
   "metadata": {},
   "outputs": [
    {
     "data": {
      "text/plain": [
       "array([[ 9.        , 41.        , 37.        , -2.19270162],\n",
       "       [ 9.        , 42.        , 26.        ,  0.39705694],\n",
       "       [ 9.        , 43.        , 16.        ,  0.39705694],\n",
       "       [ 9.        , 44.        ,  4.        ,  0.39705694],\n",
       "       [ 9.        , 44.        , 53.        ,  0.39705694],\n",
       "       [ 9.        , 45.        , 41.        ,  0.39081656],\n",
       "       [ 9.        , 46.        , 31.        ,  0.45322038],\n",
       "       [ 9.        , 47.        , 19.        ,  0.45322038],\n",
       "       [ 9.        , 48.        ,  8.        ,  0.45322038],\n",
       "       [ 9.        , 48.        , 57.        ,  0.45322038]])"
      ]
     },
     "execution_count": 37,
     "metadata": {},
     "output_type": "execute_result"
    }
   ],
   "source": [
    "data[:10]"
   ]
  },
  {
   "cell_type": "code",
   "execution_count": 38,
   "metadata": {},
   "outputs": [
    {
     "name": "stdout",
     "output_type": "stream",
     "text": [
      "(40000, 4) (40000, 1)\n"
     ]
    }
   ],
   "source": [
    "train_data = data[:40000]\n",
    "train_lux = lux[:40000]\n",
    "print(train_data.shape, train_lux.shape)"
   ]
  },
  {
   "cell_type": "code",
   "execution_count": 39,
   "metadata": {},
   "outputs": [
    {
     "name": "stdout",
     "output_type": "stream",
     "text": [
      "(15276, 4) (15276, 1)\n"
     ]
    }
   ],
   "source": [
    "test_data = data[40001:]\n",
    "test_lux = lux[40001:]\n",
    "print(test_data.shape, test_lux.shape)"
   ]
  },
  {
   "cell_type": "code",
   "execution_count": 40,
   "metadata": {},
   "outputs": [],
   "source": [
    "lag=15 # 몇분 후 의 데이터를 input feature로 할지(?)"
   ]
  },
  {
   "cell_type": "code",
   "execution_count": 41,
   "metadata": {},
   "outputs": [
    {
     "name": "stdout",
     "output_type": "stream",
     "text": [
      "(15, 39985, 4)\n"
     ]
    }
   ],
   "source": [
    "arr = []\n",
    "for i in range(15):\n",
    "    arr.append(train_data[i:i-lag,:])\n",
    "\n",
    "arr = np.array(arr, dtype=np.float32)\n",
    "print(arr.shape)"
   ]
  },
  {
   "cell_type": "code",
   "execution_count": 42,
   "metadata": {},
   "outputs": [
    {
     "data": {
      "text/plain": [
       "array([[[ 9.        , 41.        , 37.        , -2.1927016 ],\n",
       "        [ 9.        , 42.        , 26.        ,  0.39705694],\n",
       "        [ 9.        , 43.        , 16.        ,  0.39705694],\n",
       "        [ 9.        , 44.        ,  4.        ,  0.39705694],\n",
       "        [ 9.        , 44.        , 53.        ,  0.39705694],\n",
       "        [ 9.        , 45.        , 41.        ,  0.39081657],\n",
       "        [ 9.        , 46.        , 31.        ,  0.45322037],\n",
       "        [ 9.        , 47.        , 19.        ,  0.45322037],\n",
       "        [ 9.        , 48.        ,  8.        ,  0.45322037],\n",
       "        [ 9.        , 48.        , 57.        ,  0.45322037]],\n",
       "\n",
       "       [[ 9.        , 42.        , 26.        ,  0.39705694],\n",
       "        [ 9.        , 43.        , 16.        ,  0.39705694],\n",
       "        [ 9.        , 44.        ,  4.        ,  0.39705694],\n",
       "        [ 9.        , 44.        , 53.        ,  0.39705694],\n",
       "        [ 9.        , 45.        , 41.        ,  0.39081657],\n",
       "        [ 9.        , 46.        , 31.        ,  0.45322037],\n",
       "        [ 9.        , 47.        , 19.        ,  0.45322037],\n",
       "        [ 9.        , 48.        ,  8.        ,  0.45322037],\n",
       "        [ 9.        , 48.        , 57.        ,  0.45322037],\n",
       "        [ 9.        , 49.        , 46.        ,  0.45322037]],\n",
       "\n",
       "       [[ 9.        , 43.        , 16.        ,  0.39705694],\n",
       "        [ 9.        , 44.        ,  4.        ,  0.39705694],\n",
       "        [ 9.        , 44.        , 53.        ,  0.39705694],\n",
       "        [ 9.        , 45.        , 41.        ,  0.39081657],\n",
       "        [ 9.        , 46.        , 31.        ,  0.45322037],\n",
       "        [ 9.        , 47.        , 19.        ,  0.45322037],\n",
       "        [ 9.        , 48.        ,  8.        ,  0.45322037],\n",
       "        [ 9.        , 48.        , 57.        ,  0.45322037],\n",
       "        [ 9.        , 49.        , 46.        ,  0.45322037],\n",
       "        [ 9.        , 50.        , 34.        ,  0.45946077]],\n",
       "\n",
       "       [[ 9.        , 44.        ,  4.        ,  0.39705694],\n",
       "        [ 9.        , 44.        , 53.        ,  0.39705694],\n",
       "        [ 9.        , 45.        , 41.        ,  0.39081657],\n",
       "        [ 9.        , 46.        , 31.        ,  0.45322037],\n",
       "        [ 9.        , 47.        , 19.        ,  0.45322037],\n",
       "        [ 9.        , 48.        ,  8.        ,  0.45322037],\n",
       "        [ 9.        , 48.        , 57.        ,  0.45322037],\n",
       "        [ 9.        , 49.        , 46.        ,  0.45322037],\n",
       "        [ 9.        , 50.        , 34.        ,  0.45946077],\n",
       "        [ 9.        , 51.        , 23.        ,  0.45946077]],\n",
       "\n",
       "       [[ 9.        , 44.        , 53.        ,  0.39705694],\n",
       "        [ 9.        , 45.        , 41.        ,  0.39081657],\n",
       "        [ 9.        , 46.        , 31.        ,  0.45322037],\n",
       "        [ 9.        , 47.        , 19.        ,  0.45322037],\n",
       "        [ 9.        , 48.        ,  8.        ,  0.45322037],\n",
       "        [ 9.        , 48.        , 57.        ,  0.45322037],\n",
       "        [ 9.        , 49.        , 46.        ,  0.45322037],\n",
       "        [ 9.        , 50.        , 34.        ,  0.45946077],\n",
       "        [ 9.        , 51.        , 23.        ,  0.45946077],\n",
       "        [ 9.        , 52.        , 12.        ,  0.45946077]],\n",
       "\n",
       "       [[ 9.        , 45.        , 41.        ,  0.39081657],\n",
       "        [ 9.        , 46.        , 31.        ,  0.45322037],\n",
       "        [ 9.        , 47.        , 19.        ,  0.45322037],\n",
       "        [ 9.        , 48.        ,  8.        ,  0.45322037],\n",
       "        [ 9.        , 48.        , 57.        ,  0.45322037],\n",
       "        [ 9.        , 49.        , 46.        ,  0.45322037],\n",
       "        [ 9.        , 50.        , 34.        ,  0.45946077],\n",
       "        [ 9.        , 51.        , 23.        ,  0.45946077],\n",
       "        [ 9.        , 52.        , 12.        ,  0.45946077],\n",
       "        [ 9.        , 53.        ,  0.        ,  0.45946077]],\n",
       "\n",
       "       [[ 9.        , 46.        , 31.        ,  0.45322037],\n",
       "        [ 9.        , 47.        , 19.        ,  0.45322037],\n",
       "        [ 9.        , 48.        ,  8.        ,  0.45322037],\n",
       "        [ 9.        , 48.        , 57.        ,  0.45322037],\n",
       "        [ 9.        , 49.        , 46.        ,  0.45322037],\n",
       "        [ 9.        , 50.        , 34.        ,  0.45946077],\n",
       "        [ 9.        , 51.        , 23.        ,  0.45946077],\n",
       "        [ 9.        , 52.        , 12.        ,  0.45946077],\n",
       "        [ 9.        , 53.        ,  0.        ,  0.45946077],\n",
       "        [ 9.        , 53.        , 51.        ,  0.45946077]],\n",
       "\n",
       "       [[ 9.        , 47.        , 19.        ,  0.45322037],\n",
       "        [ 9.        , 48.        ,  8.        ,  0.45322037],\n",
       "        [ 9.        , 48.        , 57.        ,  0.45322037],\n",
       "        [ 9.        , 49.        , 46.        ,  0.45322037],\n",
       "        [ 9.        , 50.        , 34.        ,  0.45946077],\n",
       "        [ 9.        , 51.        , 23.        ,  0.45946077],\n",
       "        [ 9.        , 52.        , 12.        ,  0.45946077],\n",
       "        [ 9.        , 53.        ,  0.        ,  0.45946077],\n",
       "        [ 9.        , 53.        , 51.        ,  0.45946077],\n",
       "        [ 9.        , 54.        , 42.        ,  0.45946077]],\n",
       "\n",
       "       [[ 9.        , 48.        ,  8.        ,  0.45322037],\n",
       "        [ 9.        , 48.        , 57.        ,  0.45322037],\n",
       "        [ 9.        , 49.        , 46.        ,  0.45322037],\n",
       "        [ 9.        , 50.        , 34.        ,  0.45946077],\n",
       "        [ 9.        , 51.        , 23.        ,  0.45946077],\n",
       "        [ 9.        , 52.        , 12.        ,  0.45946077],\n",
       "        [ 9.        , 53.        ,  0.        ,  0.45946077],\n",
       "        [ 9.        , 53.        , 51.        ,  0.45946077],\n",
       "        [ 9.        , 54.        , 42.        ,  0.45946077],\n",
       "        [ 9.        , 55.        , 33.        ,  0.46570113]],\n",
       "\n",
       "       [[ 9.        , 48.        , 57.        ,  0.45322037],\n",
       "        [ 9.        , 49.        , 46.        ,  0.45322037],\n",
       "        [ 9.        , 50.        , 34.        ,  0.45946077],\n",
       "        [ 9.        , 51.        , 23.        ,  0.45946077],\n",
       "        [ 9.        , 52.        , 12.        ,  0.45946077],\n",
       "        [ 9.        , 53.        ,  0.        ,  0.45946077],\n",
       "        [ 9.        , 53.        , 51.        ,  0.45946077],\n",
       "        [ 9.        , 54.        , 42.        ,  0.45946077],\n",
       "        [ 9.        , 55.        , 33.        ,  0.46570113],\n",
       "        [ 9.        , 56.        , 21.        ,  0.46570113]],\n",
       "\n",
       "       [[ 9.        , 49.        , 46.        ,  0.45322037],\n",
       "        [ 9.        , 50.        , 34.        ,  0.45946077],\n",
       "        [ 9.        , 51.        , 23.        ,  0.45946077],\n",
       "        [ 9.        , 52.        , 12.        ,  0.45946077],\n",
       "        [ 9.        , 53.        ,  0.        ,  0.45946077],\n",
       "        [ 9.        , 53.        , 51.        ,  0.45946077],\n",
       "        [ 9.        , 54.        , 42.        ,  0.45946077],\n",
       "        [ 9.        , 55.        , 33.        ,  0.46570113],\n",
       "        [ 9.        , 56.        , 21.        ,  0.46570113],\n",
       "        [ 9.        , 57.        , 10.        ,  0.46570113]],\n",
       "\n",
       "       [[ 9.        , 50.        , 34.        ,  0.45946077],\n",
       "        [ 9.        , 51.        , 23.        ,  0.45946077],\n",
       "        [ 9.        , 52.        , 12.        ,  0.45946077],\n",
       "        [ 9.        , 53.        ,  0.        ,  0.45946077],\n",
       "        [ 9.        , 53.        , 51.        ,  0.45946077],\n",
       "        [ 9.        , 54.        , 42.        ,  0.45946077],\n",
       "        [ 9.        , 55.        , 33.        ,  0.46570113],\n",
       "        [ 9.        , 56.        , 21.        ,  0.46570113],\n",
       "        [ 9.        , 57.        , 10.        ,  0.46570113],\n",
       "        [ 9.        , 57.        , 59.        ,  0.46570113]],\n",
       "\n",
       "       [[ 9.        , 51.        , 23.        ,  0.45946077],\n",
       "        [ 9.        , 52.        , 12.        ,  0.45946077],\n",
       "        [ 9.        , 53.        ,  0.        ,  0.45946077],\n",
       "        [ 9.        , 53.        , 51.        ,  0.45946077],\n",
       "        [ 9.        , 54.        , 42.        ,  0.45946077],\n",
       "        [ 9.        , 55.        , 33.        ,  0.46570113],\n",
       "        [ 9.        , 56.        , 21.        ,  0.46570113],\n",
       "        [ 9.        , 57.        , 10.        ,  0.46570113],\n",
       "        [ 9.        , 57.        , 59.        ,  0.46570113],\n",
       "        [ 9.        , 58.        , 48.        ,  0.46570113]],\n",
       "\n",
       "       [[ 9.        , 52.        , 12.        ,  0.45946077],\n",
       "        [ 9.        , 53.        ,  0.        ,  0.45946077],\n",
       "        [ 9.        , 53.        , 51.        ,  0.45946077],\n",
       "        [ 9.        , 54.        , 42.        ,  0.45946077],\n",
       "        [ 9.        , 55.        , 33.        ,  0.46570113],\n",
       "        [ 9.        , 56.        , 21.        ,  0.46570113],\n",
       "        [ 9.        , 57.        , 10.        ,  0.46570113],\n",
       "        [ 9.        , 57.        , 59.        ,  0.46570113],\n",
       "        [ 9.        , 58.        , 48.        ,  0.46570113],\n",
       "        [ 9.        , 59.        , 36.        ,  0.46570113]],\n",
       "\n",
       "       [[ 9.        , 53.        ,  0.        ,  0.45946077],\n",
       "        [ 9.        , 53.        , 51.        ,  0.45946077],\n",
       "        [ 9.        , 54.        , 42.        ,  0.45946077],\n",
       "        [ 9.        , 55.        , 33.        ,  0.46570113],\n",
       "        [ 9.        , 56.        , 21.        ,  0.46570113],\n",
       "        [ 9.        , 57.        , 10.        ,  0.46570113],\n",
       "        [ 9.        , 57.        , 59.        ,  0.46570113],\n",
       "        [ 9.        , 58.        , 48.        ,  0.46570113],\n",
       "        [ 9.        , 59.        , 36.        ,  0.46570113],\n",
       "        [10.        ,  0.        , 24.        ,  0.47194153]]],\n",
       "      dtype=float32)"
      ]
     },
     "execution_count": 42,
     "metadata": {},
     "output_type": "execute_result"
    }
   ],
   "source": [
    "arr[:15,:10,:4]"
   ]
  },
  {
   "cell_type": "code",
   "execution_count": 43,
   "metadata": {},
   "outputs": [],
   "source": [
    "x_train_val = np.concatenate((arr[0], arr[1], arr[2], arr[3], arr[4], arr[5], arr[6], arr[7], arr[8], arr[9], arr[10], arr[11], arr[12], arr[13], arr[14]), axis=1).reshape(-1, 15, 4)\n",
    "train_mean, train_std = np.mean(x_train_val, axis=0), np.std(x_train_val, axis=0)\n",
    "train_mean, train_std = np.mean(train_mean, axis=0), np.mean(train_std, axis=0)"
   ]
  },
  {
   "cell_type": "code",
   "execution_count": 44,
   "metadata": {},
   "outputs": [],
   "source": [
    "y_train_val = train_lux[lag:, :].reshape(-1, 1)"
   ]
  },
  {
   "cell_type": "code",
   "execution_count": 45,
   "metadata": {},
   "outputs": [
    {
     "name": "stdout",
     "output_type": "stream",
     "text": [
      "(39985, 15, 4) (39985, 1)\n"
     ]
    }
   ],
   "source": [
    "print(x_train_val.shape, y_train_val.shape)"
   ]
  },
  {
   "cell_type": "code",
   "execution_count": 46,
   "metadata": {},
   "outputs": [
    {
     "name": "stdout",
     "output_type": "stream",
     "text": [
      "(15, 15261, 4)\n"
     ]
    }
   ],
   "source": [
    "arr = []\n",
    "for i in range(15):\n",
    "    arr.append(test_data[i:i-lag,:])\n",
    "    \n",
    "arr = np.array(arr, dtype=np.float32)\n",
    "print(arr.shape)\n"
   ]
  },
  {
   "cell_type": "code",
   "execution_count": 47,
   "metadata": {},
   "outputs": [
    {
     "name": "stdout",
     "output_type": "stream",
     "text": [
      "(15261, 15, 4) (15261, 1)\n"
     ]
    }
   ],
   "source": [
    "x_test = np.concatenate((arr[0], arr[1], arr[2], arr[3], arr[4], arr[5], arr[6], arr[7], arr[8], arr[9], arr[10], arr[11], arr[12], arr[13], arr[14]), axis=1).reshape(-1, 15, 4)\n",
    "y_test = test_lux[lag:, :].reshape(-1, 1)\n",
    "print(x_test.shape, y_test.shape)"
   ]
  },
  {
   "cell_type": "code",
   "execution_count": 48,
   "metadata": {},
   "outputs": [
    {
     "name": "stdout",
     "output_type": "stream",
     "text": [
      "(31988, 15, 4) (31988, 1) (7997, 15, 4) (7997, 1)\n"
     ]
    }
   ],
   "source": [
    "# split into training and validation datasets\n",
    "x_train, x_val, y_train, y_val = train_test_split(x_train_val, y_train_val, test_size=0.2)\n",
    "print(x_train.shape, y_train.shape, x_val.shape, y_val.shape)"
   ]
  },
  {
   "cell_type": "code",
   "execution_count": 49,
   "metadata": {},
   "outputs": [],
   "source": [
    "h_units = 64\n",
    "activation_ = 'relu'\n",
    "\n",
    "def rnn_model():\n",
    "    model = Sequential()\n",
    "    \n",
    "    model.add(LSTM(units=h_units, return_sequences=False, input_shape=(15, 4)))        \n",
    "    model.add(Dense(64))\n",
    "    \n",
    "    model.add(Dense(1))\n",
    "    \n",
    "    return model"
   ]
  },
  {
   "cell_type": "code",
   "execution_count": 50,
   "metadata": {},
   "outputs": [
    {
     "name": "stdout",
     "output_type": "stream",
     "text": [
      "_________________________________________________________________\n",
      "Layer (type)                 Output Shape              Param #   \n",
      "=================================================================\n",
      "lstm_2 (LSTM)                (None, 64)                17664     \n",
      "_________________________________________________________________\n",
      "dense_3 (Dense)              (None, 64)                4160      \n",
      "_________________________________________________________________\n",
      "dense_4 (Dense)              (None, 1)                 65        \n",
      "=================================================================\n",
      "Total params: 21,889\n",
      "Trainable params: 21,889\n",
      "Non-trainable params: 0\n",
      "_________________________________________________________________\n"
     ]
    }
   ],
   "source": [
    "# create a model \n",
    "model = rnn_model()\n",
    "model.summary()"
   ]
  },
  {
   "cell_type": "code",
   "execution_count": 51,
   "metadata": {},
   "outputs": [],
   "source": [
    "model.compile(loss='mean_squared_error', optimizer='adam')"
   ]
  },
  {
   "cell_type": "code",
   "execution_count": 52,
   "metadata": {},
   "outputs": [
    {
     "name": "stdout",
     "output_type": "stream",
     "text": [
      "Train on 31988 samples, validate on 7997 samples\n",
      "Epoch 1/100\n",
      "31988/31988 [==============================] - 1s 32us/step - loss: 0.9945 - val_loss: 0.6378\n",
      "Epoch 2/100\n",
      "31988/31988 [==============================] - 0s 14us/step - loss: 0.5989 - val_loss: 0.4902\n",
      "Epoch 3/100\n",
      "31988/31988 [==============================] - 0s 14us/step - loss: 0.4113 - val_loss: 0.2759\n",
      "Epoch 4/100\n",
      "31988/31988 [==============================] - 0s 15us/step - loss: 0.1799 - val_loss: 0.1070\n",
      "Epoch 5/100\n",
      "31988/31988 [==============================] - 0s 15us/step - loss: 0.0957 - val_loss: 0.0848\n",
      "Epoch 6/100\n",
      "31988/31988 [==============================] - 0s 15us/step - loss: 0.0748 - val_loss: 0.0696\n",
      "Epoch 7/100\n",
      "31988/31988 [==============================] - 0s 14us/step - loss: 0.0634 - val_loss: 0.0621\n",
      "Epoch 8/100\n",
      "31988/31988 [==============================] - 0s 14us/step - loss: 0.0544 - val_loss: 0.0548\n",
      "Epoch 9/100\n",
      "31988/31988 [==============================] - 0s 14us/step - loss: 0.0481 - val_loss: 0.0497\n",
      "Epoch 10/100\n",
      "31988/31988 [==============================] - 0s 15us/step - loss: 0.0427 - val_loss: 0.0451\n",
      "Epoch 11/100\n",
      "31988/31988 [==============================] - 0s 14us/step - loss: 0.0388 - val_loss: 0.0420\n",
      "Epoch 12/100\n",
      "31988/31988 [==============================] - 0s 14us/step - loss: 0.0344 - val_loss: 0.0384\n",
      "Epoch 13/100\n",
      "31988/31988 [==============================] - 0s 14us/step - loss: 0.0309 - val_loss: 0.0351\n",
      "Epoch 14/100\n",
      "31988/31988 [==============================] - 0s 14us/step - loss: 0.0274 - val_loss: 0.0336\n",
      "Epoch 15/100\n",
      "31988/31988 [==============================] - 0s 15us/step - loss: 0.0250 - val_loss: 0.0300\n",
      "Epoch 16/100\n",
      "31988/31988 [==============================] - 0s 14us/step - loss: 0.0227 - val_loss: 0.0286\n",
      "Epoch 17/100\n",
      "31988/31988 [==============================] - 0s 14us/step - loss: 0.0220 - val_loss: 0.0275\n",
      "Epoch 18/100\n",
      "31988/31988 [==============================] - 0s 14us/step - loss: 0.0208 - val_loss: 0.0272\n",
      "Epoch 19/100\n",
      "31988/31988 [==============================] - 0s 15us/step - loss: 0.0201 - val_loss: 0.0262\n",
      "Epoch 20/100\n",
      "31988/31988 [==============================] - 0s 14us/step - loss: 0.0195 - val_loss: 0.0257\n",
      "Epoch 21/100\n",
      "31988/31988 [==============================] - 0s 14us/step - loss: 0.0192 - val_loss: 0.0250\n",
      "Epoch 22/100\n",
      "31988/31988 [==============================] - 0s 15us/step - loss: 0.0189 - val_loss: 0.0252\n",
      "Epoch 23/100\n",
      "31988/31988 [==============================] - 0s 14us/step - loss: 0.0187 - val_loss: 0.0249\n",
      "Epoch 24/100\n",
      "31988/31988 [==============================] - 0s 14us/step - loss: 0.0182 - val_loss: 0.0242\n",
      "Epoch 25/100\n",
      "31988/31988 [==============================] - 0s 14us/step - loss: 0.0178 - val_loss: 0.0240\n",
      "Epoch 26/100\n",
      "31988/31988 [==============================] - 0s 14us/step - loss: 0.0177 - val_loss: 0.0240\n",
      "Epoch 27/100\n",
      "31988/31988 [==============================] - 0s 14us/step - loss: 0.0180 - val_loss: 0.0262\n",
      "Epoch 28/100\n",
      "31988/31988 [==============================] - 0s 15us/step - loss: 0.0181 - val_loss: 0.0247\n",
      "Epoch 29/100\n",
      "31988/31988 [==============================] - 0s 15us/step - loss: 0.0177 - val_loss: 0.0246\n",
      "Epoch 30/100\n",
      "31988/31988 [==============================] - 0s 14us/step - loss: 0.0173 - val_loss: 0.0235\n",
      "Epoch 31/100\n",
      "31988/31988 [==============================] - 0s 14us/step - loss: 0.0171 - val_loss: 0.0236\n",
      "Epoch 32/100\n",
      "31988/31988 [==============================] - 0s 15us/step - loss: 0.0168 - val_loss: 0.0233\n",
      "Epoch 33/100\n",
      "31988/31988 [==============================] - 0s 14us/step - loss: 0.0167 - val_loss: 0.0229\n",
      "Epoch 34/100\n",
      "31988/31988 [==============================] - 0s 15us/step - loss: 0.0166 - val_loss: 0.0231\n",
      "Epoch 35/100\n",
      "31988/31988 [==============================] - 0s 15us/step - loss: 0.0169 - val_loss: 0.0233\n",
      "Epoch 36/100\n",
      "31988/31988 [==============================] - 0s 14us/step - loss: 0.0169 - val_loss: 0.0231\n",
      "Epoch 37/100\n",
      "31988/31988 [==============================] - 0s 15us/step - loss: 0.0164 - val_loss: 0.0225\n",
      "Epoch 38/100\n",
      "31988/31988 [==============================] - 0s 15us/step - loss: 0.0164 - val_loss: 0.0228\n",
      "Epoch 39/100\n",
      "31988/31988 [==============================] - 0s 14us/step - loss: 0.0166 - val_loss: 0.0223\n",
      "Epoch 40/100\n",
      "31988/31988 [==============================] - 0s 15us/step - loss: 0.0163 - val_loss: 0.0225\n",
      "Epoch 41/100\n",
      "31988/31988 [==============================] - 0s 14us/step - loss: 0.0161 - val_loss: 0.0222\n",
      "Epoch 42/100\n",
      "31988/31988 [==============================] - 0s 15us/step - loss: 0.0160 - val_loss: 0.0232\n",
      "Epoch 43/100\n",
      "31988/31988 [==============================] - 0s 15us/step - loss: 0.0162 - val_loss: 0.0221\n",
      "Epoch 44/100\n",
      "31988/31988 [==============================] - 0s 14us/step - loss: 0.0159 - val_loss: 0.0222\n",
      "Epoch 45/100\n",
      "31988/31988 [==============================] - 0s 15us/step - loss: 0.0159 - val_loss: 0.0220\n",
      "Epoch 46/100\n",
      "31988/31988 [==============================] - 0s 15us/step - loss: 0.0158 - val_loss: 0.0220\n",
      "Epoch 47/100\n",
      "31988/31988 [==============================] - 0s 14us/step - loss: 0.0157 - val_loss: 0.0220\n",
      "Epoch 48/100\n",
      "31988/31988 [==============================] - 0s 15us/step - loss: 0.0158 - val_loss: 0.0219\n",
      "Epoch 49/100\n",
      "31988/31988 [==============================] - 0s 14us/step - loss: 0.0158 - val_loss: 0.0225\n",
      "Epoch 50/100\n",
      "31988/31988 [==============================] - 0s 15us/step - loss: 0.0163 - val_loss: 0.0217\n",
      "Epoch 51/100\n",
      "31988/31988 [==============================] - 0s 15us/step - loss: 0.0159 - val_loss: 0.0217\n",
      "Epoch 52/100\n",
      "31988/31988 [==============================] - 0s 15us/step - loss: 0.0157 - val_loss: 0.0217\n",
      "Epoch 53/100\n",
      "31988/31988 [==============================] - 0s 14us/step - loss: 0.0157 - val_loss: 0.0219\n",
      "Epoch 54/100\n",
      "31988/31988 [==============================] - 0s 15us/step - loss: 0.0156 - val_loss: 0.0219\n",
      "Epoch 55/100\n",
      "31988/31988 [==============================] - 0s 14us/step - loss: 0.0156 - val_loss: 0.0217\n",
      "Epoch 56/100\n",
      "31988/31988 [==============================] - 0s 15us/step - loss: 0.0154 - val_loss: 0.0219\n",
      "Epoch 57/100\n",
      "31988/31988 [==============================] - 0s 15us/step - loss: 0.0157 - val_loss: 0.0218\n",
      "Epoch 58/100\n",
      "31988/31988 [==============================] - 0s 14us/step - loss: 0.0155 - val_loss: 0.0217\n",
      "Epoch 59/100\n",
      "31988/31988 [==============================] - 0s 14us/step - loss: 0.0157 - val_loss: 0.0221\n",
      "Epoch 60/100\n",
      "31988/31988 [==============================] - 0s 14us/step - loss: 0.0157 - val_loss: 0.0218\n",
      "Epoch 61/100\n",
      "31988/31988 [==============================] - 0s 14us/step - loss: 0.0154 - val_loss: 0.0215\n",
      "Epoch 62/100\n",
      "31988/31988 [==============================] - 0s 14us/step - loss: 0.0155 - val_loss: 0.0227\n",
      "Epoch 63/100\n",
      "31988/31988 [==============================] - 0s 14us/step - loss: 0.0156 - val_loss: 0.0221\n",
      "Epoch 64/100\n",
      "31988/31988 [==============================] - 0s 14us/step - loss: 0.0154 - val_loss: 0.0215\n",
      "Epoch 65/100\n",
      "31988/31988 [==============================] - 0s 14us/step - loss: 0.0154 - val_loss: 0.0218\n",
      "Epoch 66/100\n",
      "31988/31988 [==============================] - 0s 14us/step - loss: 0.0157 - val_loss: 0.0219\n",
      "Epoch 67/100\n",
      "31988/31988 [==============================] - 0s 15us/step - loss: 0.0158 - val_loss: 0.0218\n",
      "Epoch 68/100\n",
      "31988/31988 [==============================] - 0s 14us/step - loss: 0.0152 - val_loss: 0.0215\n",
      "Epoch 69/100\n",
      "31988/31988 [==============================] - 0s 15us/step - loss: 0.0151 - val_loss: 0.0218\n",
      "Epoch 70/100\n",
      "31988/31988 [==============================] - 0s 14us/step - loss: 0.0151 - val_loss: 0.0216\n",
      "Epoch 71/100\n",
      "31988/31988 [==============================] - 0s 14us/step - loss: 0.0151 - val_loss: 0.0217\n",
      "Epoch 72/100\n",
      "31988/31988 [==============================] - 0s 14us/step - loss: 0.0152 - val_loss: 0.0225\n",
      "Epoch 73/100\n",
      "31988/31988 [==============================] - 0s 14us/step - loss: 0.0154 - val_loss: 0.0216\n",
      "Epoch 74/100\n",
      "31988/31988 [==============================] - 0s 14us/step - loss: 0.0152 - val_loss: 0.0218\n",
      "Epoch 75/100\n",
      "31988/31988 [==============================] - 0s 14us/step - loss: 0.0153 - val_loss: 0.0218\n",
      "Epoch 76/100\n",
      "31988/31988 [==============================] - 0s 14us/step - loss: 0.0151 - val_loss: 0.0215\n",
      "Epoch 77/100\n",
      "31988/31988 [==============================] - 0s 14us/step - loss: 0.0149 - val_loss: 0.0213\n",
      "Epoch 78/100\n",
      "31988/31988 [==============================] - 0s 15us/step - loss: 0.0150 - val_loss: 0.0219\n",
      "Epoch 79/100\n",
      "31988/31988 [==============================] - 0s 14us/step - loss: 0.0153 - val_loss: 0.0217\n",
      "Epoch 80/100\n",
      "31988/31988 [==============================] - 0s 14us/step - loss: 0.0153 - val_loss: 0.0216\n",
      "Epoch 81/100\n",
      "31988/31988 [==============================] - 0s 15us/step - loss: 0.0151 - val_loss: 0.0213\n",
      "Epoch 82/100\n",
      "31988/31988 [==============================] - 0s 15us/step - loss: 0.0152 - val_loss: 0.0218\n",
      "Epoch 83/100\n",
      "31988/31988 [==============================] - 0s 15us/step - loss: 0.0154 - val_loss: 0.0217\n",
      "Epoch 84/100\n",
      "31988/31988 [==============================] - 0s 15us/step - loss: 0.0151 - val_loss: 0.0214\n",
      "Epoch 85/100\n",
      "31988/31988 [==============================] - 0s 14us/step - loss: 0.0148 - val_loss: 0.0212\n",
      "Epoch 86/100\n",
      "31988/31988 [==============================] - 0s 14us/step - loss: 0.0150 - val_loss: 0.0213\n",
      "Epoch 87/100\n",
      "31988/31988 [==============================] - 0s 15us/step - loss: 0.0148 - val_loss: 0.0214\n",
      "Epoch 88/100\n",
      "31988/31988 [==============================] - 0s 14us/step - loss: 0.0148 - val_loss: 0.0214\n",
      "Epoch 89/100\n",
      "31988/31988 [==============================] - 0s 14us/step - loss: 0.0149 - val_loss: 0.0216\n",
      "Epoch 90/100\n",
      "31988/31988 [==============================] - 0s 14us/step - loss: 0.0151 - val_loss: 0.0216\n",
      "Epoch 91/100\n",
      "31988/31988 [==============================] - 0s 14us/step - loss: 0.0149 - val_loss: 0.0217\n",
      "Epoch 92/100\n",
      "31988/31988 [==============================] - 0s 14us/step - loss: 0.0148 - val_loss: 0.0220\n",
      "Epoch 93/100\n",
      "31988/31988 [==============================] - 0s 14us/step - loss: 0.0149 - val_loss: 0.0216\n",
      "Epoch 94/100\n",
      "31988/31988 [==============================] - 0s 15us/step - loss: 0.0149 - val_loss: 0.0225\n",
      "Epoch 95/100\n",
      "31988/31988 [==============================] - 0s 14us/step - loss: 0.0148 - val_loss: 0.0212\n",
      "Epoch 96/100\n",
      "31988/31988 [==============================] - 0s 15us/step - loss: 0.0147 - val_loss: 0.0220\n",
      "Epoch 97/100\n",
      "31988/31988 [==============================] - 0s 14us/step - loss: 0.0149 - val_loss: 0.0219\n",
      "Epoch 98/100\n",
      "31988/31988 [==============================] - 0s 14us/step - loss: 0.0148 - val_loss: 0.0212\n",
      "Epoch 99/100\n",
      "31988/31988 [==============================] - 0s 14us/step - loss: 0.0146 - val_loss: 0.0217\n",
      "Epoch 100/100\n",
      "31988/31988 [==============================] - 0s 15us/step - loss: 0.0146 - val_loss: 0.0222\n"
     ]
    }
   ],
   "source": [
    "# training\n",
    "tensorBoard = TensorBoard(log_dir='./logs', histogram_freq=0, write_graph=True, write_images=False)\n",
    "\n",
    "hist = model.fit(x_train, y_train, epochs=100, batch_size=2048, verbose=True, validation_data=(x_val, y_val), shuffle=True, callbacks=[tensorBoard])"
   ]
  },
  {
   "cell_type": "code",
   "execution_count": 53,
   "metadata": {},
   "outputs": [
    {
     "name": "stdout",
     "output_type": "stream",
     "text": [
      "15261/15261 [==============================] - 0s 19us/step\n",
      "(15261, 1)\n",
      "15261/15261 [==============================] - 0s 12us/step\n",
      "0.02889915016755568\n"
     ]
    }
   ],
   "source": [
    "y_pred = model.predict(x_test, batch_size=1024, verbose=True) \n",
    "print(y_pred.shape)\n",
    "print(model.evaluate(x_test, y_test,batch_size=1024))"
   ]
  },
  {
   "cell_type": "code",
   "execution_count": 54,
   "metadata": {},
   "outputs": [
    {
     "data": {
      "image/png": "[encoded data removed]",
      "text/plain": [
       "<Figure size 432x288 with 1 Axes>"
      ]
     },
     "metadata": {
      "needs_background": "light"
     },
     "output_type": "display_data"
    }
   ],
   "source": [
    "%matplotlib inline\n",
    "import matplotlib.pyplot as plt\n",
    "\n",
    "fig, loss_ax = plt.subplots()\n",
    "\n",
    "loss_ax.plot(hist.history['loss'], 'b', label='train loss')\n",
    "loss_ax.plot(hist.history['val_loss'], 'r', label='test loss')\n",
    "\n",
    "loss_ax.set_xlabel('epoch')\n",
    "loss_ax.set_ylabel('loss')\n",
    "\n",
    "loss_ax.legend(loc='upper right')\n",
    "\n",
    "plt.show()"
   ]
  },
  {
   "cell_type": "code",
   "execution_count": 69,
   "metadata": {},
   "outputs": [
    {
     "data": {
      "image/png": "[encoded data removed]",
      "text/plain": [
       "<Figure size 1368x576 with 1 Axes>"
      ]
     },
     "metadata": {
      "needs_background": "light"
     },
     "output_type": "display_data"
    }
   ],
   "source": [
    "# visualization for prediction result\n",
    "# set figure size\n",
    "plt.figure(figsize=(19,8))\n",
    "\n",
    "# set font\n",
    "font = {'family': 'Arial', 'weight': 'normal', 'size': 16}\n",
    "plt.rc('font', **font)\n",
    "\n",
    "# plot data \n",
    "plt.plot(y_test[:,0], 'r', label='y_true')\n",
    "plt.plot(y_pred[:,0], 'b', label='y_pred')\n",
    "\n",
    "# set legend position\n",
    "plt.legend(shadow=True, loc='upper right')\n",
    "\n",
    "# set x-axis & y-axis titles\n",
    "#plt.title('prediction result')\n",
    "plt.xlabel('Time Index')\n",
    "plt.ylabel('Brightness')\n",
    "\n",
    "# set axis-limits\n",
    "plt.xlim(left = 0, right = len(y_test)) \n",
    "#plt.ylim(bottom = -5) \n",
    "\n",
    "# set grid\n",
    "plt.grid(color='gray', linestyle='--', linewidth=1)\n",
    "\n",
    "plt.xticks(np.arange(0,16000,2000))\n",
    "#plt.yticks(np.arange(0,1,1))\n",
    "\n",
    "# save & display figure\n",
    "plt.savefig('pred_graph.png', dpi=300)\n",
    "plt.show()"
   ]
  },
  {
   "cell_type": "code",
   "execution_count": 68,
   "metadata": {},
   "outputs": [
    {
     "data": {
      "text/plain": [
       "<Figure size 432x288 with 0 Axes>"
      ]
     },
     "metadata": {},
     "output_type": "display_data"
    }
   ],
   "source": []
  },
  {
   "cell_type": "code",
   "execution_count": 59,
   "metadata": {},
   "outputs": [
    {
     "name": "stdout",
     "output_type": "stream",
     "text": [
      "Train Score:  0.015147337071074442\n",
      "Test Score:  0.02889915035306042\n"
     ]
    }
   ],
   "source": [
    "#모델 평가하기\n",
    "trainScore = model.evaluate(x_train, y_train, verbose=0)\n",
    "print('Train Score: ', trainScore)\n",
    "#valScore = model.evaluate(x_val, y_val, verbose=0)\n",
    "#print('Validataion Score: ', valScore)\n",
    "testScore = model.evaluate(x_test, y_test, verbose=0)\n",
    "print('Test Score: ', testScore)"
   ]
  },
  {
   "cell_type": "code",
   "execution_count": 60,
   "metadata": {},
   "outputs": [
    {
     "name": "stdout",
     "output_type": "stream",
     "text": [
      "MAPE:  9.180396768964034\n"
     ]
    }
   ],
   "source": [
    "#MAPE\n",
    "\n",
    "y_test, y_pred = np.array(y_test), np.array(y_pred)\n",
    "mape = np.mean(np.abs((y_test - y_pred) / y_test)) * 100\n",
    "print('MAPE: ', mape)"
   ]
  },
  {
   "cell_type": "code",
   "execution_count": 61,
   "metadata": {},
   "outputs": [
    {
     "data": {
      "image/svg+xml": [
       "<svg height=\"294pt\" viewBox=\"0.00 0.00 253.00 294.00\" width=\"253pt\" xmlns=\"http://www.w3.org/2000/svg\" xmlns:xlink=\"http://www.w3.org/1999/xlink\">\n",
       "<g class=\"graph\" id=\"graph0\" transform=\"scale(1 1) rotate(0) translate(4 290)\">\n",
       "<title>G</title>\n",
       "<polygon fill=\"white\" points=\"-4,4 -4,-290 249,-290 249,4 -4,4\" stroke=\"none\"/>\n",
       "<!-- 2892044848096 -->\n",
       "<g class=\"node\" id=\"node1\"><title>2892044848096</title>\n",
       "<polygon fill=\"none\" points=\"0,-166.5 0,-212.5 245,-212.5 245,-166.5 0,-166.5\" stroke=\"black\"/>\n",
       "<text font-family=\"Times New Roman,serif\" font-size=\"14.00\" text-anchor=\"middle\" x=\"49\" y=\"-185.8\">lstm_2: LSTM</text>\n",
       "<polyline fill=\"none\" points=\"98,-166.5 98,-212.5 \" stroke=\"black\"/>\n",
       "<text font-family=\"Times New Roman,serif\" font-size=\"14.00\" text-anchor=\"middle\" x=\"126\" y=\"-197.3\">input:</text>\n",
       "<polyline fill=\"none\" points=\"98,-189.5 154,-189.5 \" stroke=\"black\"/>\n",
       "<text font-family=\"Times New Roman,serif\" font-size=\"14.00\" text-anchor=\"middle\" x=\"126\" y=\"-174.3\">output:</text>\n",
       "<polyline fill=\"none\" points=\"154,-166.5 154,-212.5 \" stroke=\"black\"/>\n",
       "<text font-family=\"Times New Roman,serif\" font-size=\"14.00\" text-anchor=\"middle\" x=\"199.5\" y=\"-197.3\">(None, 15, 4)</text>\n",
       "<polyline fill=\"none\" points=\"154,-189.5 245,-189.5 \" stroke=\"black\"/>\n",
       "<text font-family=\"Times New Roman,serif\" font-size=\"14.00\" text-anchor=\"middle\" x=\"199.5\" y=\"-174.3\">(None, 64)</text>\n",
       "</g>\n",
       "<!-- 2892045314760 -->\n",
       "<g class=\"node\" id=\"node2\"><title>2892045314760</title>\n",
       "<polygon fill=\"none\" points=\"4,-83.5 4,-129.5 241,-129.5 241,-83.5 4,-83.5\" stroke=\"black\"/>\n",
       "<text font-family=\"Times New Roman,serif\" font-size=\"14.00\" text-anchor=\"middle\" x=\"56\" y=\"-102.8\">dense_3: Dense</text>\n",
       "<polyline fill=\"none\" points=\"108,-83.5 108,-129.5 \" stroke=\"black\"/>\n",
       "<text font-family=\"Times New Roman,serif\" font-size=\"14.00\" text-anchor=\"middle\" x=\"136\" y=\"-114.3\">input:</text>\n",
       "<polyline fill=\"none\" points=\"108,-106.5 164,-106.5 \" stroke=\"black\"/>\n",
       "<text font-family=\"Times New Roman,serif\" font-size=\"14.00\" text-anchor=\"middle\" x=\"136\" y=\"-91.3\">output:</text>\n",
       "<polyline fill=\"none\" points=\"164,-83.5 164,-129.5 \" stroke=\"black\"/>\n",
       "<text font-family=\"Times New Roman,serif\" font-size=\"14.00\" text-anchor=\"middle\" x=\"202.5\" y=\"-114.3\">(None, 64)</text>\n",
       "<polyline fill=\"none\" points=\"164,-106.5 241,-106.5 \" stroke=\"black\"/>\n",
       "<text font-family=\"Times New Roman,serif\" font-size=\"14.00\" text-anchor=\"middle\" x=\"202.5\" y=\"-91.3\">(None, 64)</text>\n",
       "</g>\n",
       "<!-- 2892044848096&#45;&gt;2892045314760 -->\n",
       "<g class=\"edge\" id=\"edge2\"><title>2892044848096-&gt;2892045314760</title>\n",
       "<path d=\"M122.5,-166.366C122.5,-158.152 122.5,-148.658 122.5,-139.725\" fill=\"none\" stroke=\"black\"/>\n",
       "<polygon fill=\"black\" points=\"126,-139.607 122.5,-129.607 119,-139.607 126,-139.607\" stroke=\"black\"/>\n",
       "</g>\n",
       "<!-- 2892043022632 -->\n",
       "<g class=\"node\" id=\"node3\"><title>2892043022632</title>\n",
       "<polygon fill=\"none\" points=\"4,-0.5 4,-46.5 241,-46.5 241,-0.5 4,-0.5\" stroke=\"black\"/>\n",
       "<text font-family=\"Times New Roman,serif\" font-size=\"14.00\" text-anchor=\"middle\" x=\"56\" y=\"-19.8\">dense_4: Dense</text>\n",
       "<polyline fill=\"none\" points=\"108,-0.5 108,-46.5 \" stroke=\"black\"/>\n",
       "<text font-family=\"Times New Roman,serif\" font-size=\"14.00\" text-anchor=\"middle\" x=\"136\" y=\"-31.3\">input:</text>\n",
       "<polyline fill=\"none\" points=\"108,-23.5 164,-23.5 \" stroke=\"black\"/>\n",
       "<text font-family=\"Times New Roman,serif\" font-size=\"14.00\" text-anchor=\"middle\" x=\"136\" y=\"-8.3\">output:</text>\n",
       "<polyline fill=\"none\" points=\"164,-0.5 164,-46.5 \" stroke=\"black\"/>\n",
       "<text font-family=\"Times New Roman,serif\" font-size=\"14.00\" text-anchor=\"middle\" x=\"202.5\" y=\"-31.3\">(None, 64)</text>\n",
       "<polyline fill=\"none\" points=\"164,-23.5 241,-23.5 \" stroke=\"black\"/>\n",
       "<text font-family=\"Times New Roman,serif\" font-size=\"14.00\" text-anchor=\"middle\" x=\"202.5\" y=\"-8.3\">(None, 1)</text>\n",
       "</g>\n",
       "<!-- 2892045314760&#45;&gt;2892043022632 -->\n",
       "<g class=\"edge\" id=\"edge3\"><title>2892045314760-&gt;2892043022632</title>\n",
       "<path d=\"M122.5,-83.3664C122.5,-75.1516 122.5,-65.6579 122.5,-56.7252\" fill=\"none\" stroke=\"black\"/>\n",
       "<polygon fill=\"black\" points=\"126,-56.6068 122.5,-46.6068 119,-56.6069 126,-56.6068\" stroke=\"black\"/>\n",
       "</g>\n",
       "<!-- 2892044848824 -->\n",
       "<g class=\"node\" id=\"node4\"><title>2892044848824</title>\n",
       "<polygon fill=\"none\" points=\"70.5,-249.5 70.5,-285.5 174.5,-285.5 174.5,-249.5 70.5,-249.5\" stroke=\"black\"/>\n",
       "<text font-family=\"Times New Roman,serif\" font-size=\"14.00\" text-anchor=\"middle\" x=\"122.5\" y=\"-263.8\">2892044848824</text>\n",
       "</g>\n",
       "<!-- 2892044848824&#45;&gt;2892044848096 -->\n",
       "<g class=\"edge\" id=\"edge1\"><title>2892044848824-&gt;2892044848096</title>\n",
       "<path d=\"M122.5,-249.254C122.5,-241.363 122.5,-231.749 122.5,-222.602\" fill=\"none\" stroke=\"black\"/>\n",
       "<polygon fill=\"black\" points=\"126,-222.591 122.5,-212.591 119,-222.591 126,-222.591\" stroke=\"black\"/>\n",
       "</g>\n",
       "</g>\n",
       "</svg>"
      ],
      "text/plain": [
       "<IPython.core.display.SVG object>"
      ]
     },
     "execution_count": 61,
     "metadata": {},
     "output_type": "execute_result"
    }
   ],
   "source": [
    "from IPython.display import SVG\n",
    "from keras.utils.vis_utils import model_to_dot\n",
    "\n",
    "%matplotlib inline\n",
    "\n",
    "SVG(model_to_dot(model, show_shapes=True).create(prog='dot', format='svg'))"
   ]
  },
  {
   "cell_type": "code",
   "execution_count": null,
   "metadata": {},
   "outputs": [],
   "source": []
  }
 ],
 "metadata": {
  "kernelspec": {
   "display_name": "Python 3",
   "language": "python",
   "name": "python3"
  },
  "language_info": {
   "codemirror_mode": {
    "name": "ipython",
    "version": 3
   },
   "file_extension": ".py",
   "mimetype": "text/x-python",
   "name": "python",
   "nbconvert_exporter": "python",
   "pygments_lexer": "ipython3",
   "version": "3.7.3"
  }
 },
 "nbformat": 4,
 "nbformat_minor": 4
}
