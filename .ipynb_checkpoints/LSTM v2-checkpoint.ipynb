{
 "cells": [
  {
   "cell_type": "code",
   "execution_count": 1,
   "metadata": {},
   "outputs": [
    {
     "name": "stderr",
     "output_type": "stream",
     "text": [
      "Using TensorFlow backend.\n"
     ]
    }
   ],
   "source": [
    "import pandas as pd\n",
    "import numpy as np\n",
    "import matplotlib.pyplot as plt\n",
    "\n",
    "from keras.models import Sequential\n",
    "from keras.layers import LSTM, Dense, Activation, BatchNormalization\n",
    "from keras.callbacks import TensorBoard\n",
    "\n",
    "from sklearn.model_selection import train_test_split"
   ]
  },
  {
   "cell_type": "code",
   "execution_count": 2,
   "metadata": {},
   "outputs": [
    {
     "name": "stdout",
     "output_type": "stream",
     "text": [
      "(55277, 2)\n"
     ]
    }
   ],
   "source": [
    "df_data = pd.read_csv('data.csv')\n",
    "print(df_data.shape)"
   ]
  },
  {
   "cell_type": "code",
   "execution_count": 3,
   "metadata": {},
   "outputs": [
    {
     "data": {
      "text/html": [
       "<div>\n",
       "<style scoped>\n",
       "    .dataframe tbody tr th:only-of-type {\n",
       "        vertical-align: middle;\n",
       "    }\n",
       "\n",
       "    .dataframe tbody tr th {\n",
       "        vertical-align: top;\n",
       "    }\n",
       "\n",
       "    .dataframe thead th {\n",
       "        text-align: right;\n",
       "    }\n",
       "</style>\n",
       "<table border=\"1\" class=\"dataframe\">\n",
       "  <thead>\n",
       "    <tr style=\"text-align: right;\">\n",
       "      <th></th>\n",
       "      <th>Time</th>\n",
       "      <th>Lux</th>\n",
       "    </tr>\n",
       "  </thead>\n",
       "  <tbody>\n",
       "    <tr>\n",
       "      <th>0</th>\n",
       "      <td>2018-08-10 09:41:37 UTC</td>\n",
       "      <td>527</td>\n",
       "    </tr>\n",
       "    <tr>\n",
       "      <th>1</th>\n",
       "      <td>2018-08-10 09:42:26 UTC</td>\n",
       "      <td>942</td>\n",
       "    </tr>\n",
       "    <tr>\n",
       "      <th>2</th>\n",
       "      <td>2018-08-10 09:43:16 UTC</td>\n",
       "      <td>942</td>\n",
       "    </tr>\n",
       "    <tr>\n",
       "      <th>3</th>\n",
       "      <td>2018-08-10 09:44:04 UTC</td>\n",
       "      <td>942</td>\n",
       "    </tr>\n",
       "    <tr>\n",
       "      <th>4</th>\n",
       "      <td>2018-08-10 09:44:53 UTC</td>\n",
       "      <td>942</td>\n",
       "    </tr>\n",
       "    <tr>\n",
       "      <th>5</th>\n",
       "      <td>2018-08-10 09:45:41 UTC</td>\n",
       "      <td>941</td>\n",
       "    </tr>\n",
       "    <tr>\n",
       "      <th>6</th>\n",
       "      <td>2018-08-10 09:46:31 UTC</td>\n",
       "      <td>951</td>\n",
       "    </tr>\n",
       "    <tr>\n",
       "      <th>7</th>\n",
       "      <td>2018-08-10 09:47:19 UTC</td>\n",
       "      <td>951</td>\n",
       "    </tr>\n",
       "    <tr>\n",
       "      <th>8</th>\n",
       "      <td>2018-08-10 09:48:08 UTC</td>\n",
       "      <td>951</td>\n",
       "    </tr>\n",
       "    <tr>\n",
       "      <th>9</th>\n",
       "      <td>2018-08-10 09:48:57 UTC</td>\n",
       "      <td>951</td>\n",
       "    </tr>\n",
       "  </tbody>\n",
       "</table>\n",
       "</div>"
      ],
      "text/plain": [
       "                      Time  Lux\n",
       "0  2018-08-10 09:41:37 UTC  527\n",
       "1  2018-08-10 09:42:26 UTC  942\n",
       "2  2018-08-10 09:43:16 UTC  942\n",
       "3  2018-08-10 09:44:04 UTC  942\n",
       "4  2018-08-10 09:44:53 UTC  942\n",
       "5  2018-08-10 09:45:41 UTC  941\n",
       "6  2018-08-10 09:46:31 UTC  951\n",
       "7  2018-08-10 09:47:19 UTC  951\n",
       "8  2018-08-10 09:48:08 UTC  951\n",
       "9  2018-08-10 09:48:57 UTC  951"
      ]
     },
     "execution_count": 3,
     "metadata": {},
     "output_type": "execute_result"
    }
   ],
   "source": [
    "df_data.head(10)"
   ]
  },
  {
   "cell_type": "code",
   "execution_count": 4,
   "metadata": {},
   "outputs": [
    {
     "name": "stdout",
     "output_type": "stream",
     "text": [
      "<class 'pandas.core.frame.DataFrame'>\n",
      "RangeIndex: 55277 entries, 0 to 55276\n",
      "Data columns (total 2 columns):\n",
      "Time    55277 non-null object\n",
      "Lux     55277 non-null int64\n",
      "dtypes: int64(1), object(1)\n",
      "memory usage: 863.8+ KB\n"
     ]
    }
   ],
   "source": [
    "df_data.info()"
   ]
  },
  {
   "cell_type": "code",
   "execution_count": 5,
   "metadata": {},
   "outputs": [],
   "source": [
    "df_data['Time'] = pd.to_datetime(df_data['Time'])"
   ]
  },
  {
   "cell_type": "code",
   "execution_count": 6,
   "metadata": {},
   "outputs": [],
   "source": [
    "hour, minute, second = [], [], []\n",
    "for i in range(np.size(df_data, 0)):\n",
    "    hour.append(df_data['Time'][i].hour)\n",
    "    minute.append(df_data['Time'][i].minute)\n",
    "    second.append(df_data['Time'][i].second)"
   ]
  },
  {
   "cell_type": "code",
   "execution_count": 7,
   "metadata": {},
   "outputs": [
    {
     "name": "stdout",
     "output_type": "stream",
     "text": [
      "(55277, 1) (55277, 1) (55277, 1)\n"
     ]
    }
   ],
   "source": [
    "hour = np.array(hour).reshape(-1, 1)\n",
    "minute = np.array(minute).reshape(-1, 1)\n",
    "second = np.array(second).reshape(-1, 1)\n",
    "\n",
    "print(hour.shape, minute.shape, second.shape)"
   ]
  },
  {
   "cell_type": "code",
   "execution_count": 8,
   "metadata": {},
   "outputs": [
    {
     "name": "stdout",
     "output_type": "stream",
     "text": [
      "(55277, 1)\n"
     ]
    }
   ],
   "source": [
    "lux = df_data['Lux'].values.reshape(-1, 1)\n",
    "print(lux.shape)"
   ]
  },
  {
   "cell_type": "code",
   "execution_count": 9,
   "metadata": {},
   "outputs": [
    {
     "name": "stdout",
     "output_type": "stream",
     "text": [
      "(55277, 4)\n"
     ]
    }
   ],
   "source": [
    "data = np.concatenate((hour, minute, second, lux), axis=1)\n",
    "print(data.shape)"
   ]
  },
  {
   "cell_type": "code",
   "execution_count": 10,
   "metadata": {},
   "outputs": [
    {
     "data": {
      "text/plain": [
       "array([[  9,  41,  37, 527],\n",
       "       [  9,  42,  26, 942],\n",
       "       [  9,  43,  16, 942],\n",
       "       [  9,  44,   4, 942],\n",
       "       [  9,  44,  53, 942],\n",
       "       [  9,  45,  41, 941],\n",
       "       [  9,  46,  31, 951],\n",
       "       [  9,  47,  19, 951],\n",
       "       [  9,  48,   8, 951],\n",
       "       [  9,  48,  57, 951]], dtype=int64)"
      ]
     },
     "execution_count": 10,
     "metadata": {},
     "output_type": "execute_result"
    }
   ],
   "source": [
    "data[:10]"
   ]
  },
  {
   "cell_type": "code",
   "execution_count": 11,
   "metadata": {},
   "outputs": [
    {
     "name": "stdout",
     "output_type": "stream",
     "text": [
      "(40000, 4) (40000, 1)\n"
     ]
    }
   ],
   "source": [
    "train_data = data[:40000]\n",
    "train_lux = lux[:40000]\n",
    "print(train_data.shape, train_lux.shape)"
   ]
  },
  {
   "cell_type": "code",
   "execution_count": 12,
   "metadata": {},
   "outputs": [
    {
     "name": "stdout",
     "output_type": "stream",
     "text": [
      "(15276, 4) (15276, 1)\n"
     ]
    }
   ],
   "source": [
    "test_data = data[40001:]\n",
    "test_lux = lux[40001:]\n",
    "print(test_data.shape, test_lux.shape)"
   ]
  },
  {
   "cell_type": "code",
   "execution_count": 13,
   "metadata": {},
   "outputs": [],
   "source": [
    "lag=10 # 몇분간의 데이터를 input feature로 할지(?)"
   ]
  },
  {
   "cell_type": "code",
   "execution_count": 14,
   "metadata": {},
   "outputs": [
    {
     "name": "stdout",
     "output_type": "stream",
     "text": [
      "(9, 39990, 4)\n"
     ]
    }
   ],
   "source": [
    "arr = []\n",
    "for i in range(9):\n",
    "    arr.append(train_data[i:i-lag,:])\n",
    "\n",
    "arr = np.array(arr, dtype=np.float32)\n",
    "print(arr.shape)"
   ]
  },
  {
   "cell_type": "code",
   "execution_count": 15,
   "metadata": {},
   "outputs": [
    {
     "data": {
      "text/plain": [
       "array([[[  9.,  41.,  37., 527.],\n",
       "        [  9.,  42.,  26., 942.],\n",
       "        [  9.,  43.,  16., 942.],\n",
       "        [  9.,  44.,   4., 942.],\n",
       "        [  9.,  44.,  53., 942.],\n",
       "        [  9.,  45.,  41., 941.],\n",
       "        [  9.,  46.,  31., 951.],\n",
       "        [  9.,  47.,  19., 951.],\n",
       "        [  9.,  48.,   8., 951.],\n",
       "        [  9.,  48.,  57., 951.]],\n",
       "\n",
       "       [[  9.,  42.,  26., 942.],\n",
       "        [  9.,  43.,  16., 942.],\n",
       "        [  9.,  44.,   4., 942.],\n",
       "        [  9.,  44.,  53., 942.],\n",
       "        [  9.,  45.,  41., 941.],\n",
       "        [  9.,  46.,  31., 951.],\n",
       "        [  9.,  47.,  19., 951.],\n",
       "        [  9.,  48.,   8., 951.],\n",
       "        [  9.,  48.,  57., 951.],\n",
       "        [  9.,  49.,  46., 951.]],\n",
       "\n",
       "       [[  9.,  43.,  16., 942.],\n",
       "        [  9.,  44.,   4., 942.],\n",
       "        [  9.,  44.,  53., 942.],\n",
       "        [  9.,  45.,  41., 941.],\n",
       "        [  9.,  46.,  31., 951.],\n",
       "        [  9.,  47.,  19., 951.],\n",
       "        [  9.,  48.,   8., 951.],\n",
       "        [  9.,  48.,  57., 951.],\n",
       "        [  9.,  49.,  46., 951.],\n",
       "        [  9.,  50.,  34., 952.]],\n",
       "\n",
       "       [[  9.,  44.,   4., 942.],\n",
       "        [  9.,  44.,  53., 942.],\n",
       "        [  9.,  45.,  41., 941.],\n",
       "        [  9.,  46.,  31., 951.],\n",
       "        [  9.,  47.,  19., 951.],\n",
       "        [  9.,  48.,   8., 951.],\n",
       "        [  9.,  48.,  57., 951.],\n",
       "        [  9.,  49.,  46., 951.],\n",
       "        [  9.,  50.,  34., 952.],\n",
       "        [  9.,  51.,  23., 952.]],\n",
       "\n",
       "       [[  9.,  44.,  53., 942.],\n",
       "        [  9.,  45.,  41., 941.],\n",
       "        [  9.,  46.,  31., 951.],\n",
       "        [  9.,  47.,  19., 951.],\n",
       "        [  9.,  48.,   8., 951.],\n",
       "        [  9.,  48.,  57., 951.],\n",
       "        [  9.,  49.,  46., 951.],\n",
       "        [  9.,  50.,  34., 952.],\n",
       "        [  9.,  51.,  23., 952.],\n",
       "        [  9.,  52.,  12., 952.]],\n",
       "\n",
       "       [[  9.,  45.,  41., 941.],\n",
       "        [  9.,  46.,  31., 951.],\n",
       "        [  9.,  47.,  19., 951.],\n",
       "        [  9.,  48.,   8., 951.],\n",
       "        [  9.,  48.,  57., 951.],\n",
       "        [  9.,  49.,  46., 951.],\n",
       "        [  9.,  50.,  34., 952.],\n",
       "        [  9.,  51.,  23., 952.],\n",
       "        [  9.,  52.,  12., 952.],\n",
       "        [  9.,  53.,   0., 952.]],\n",
       "\n",
       "       [[  9.,  46.,  31., 951.],\n",
       "        [  9.,  47.,  19., 951.],\n",
       "        [  9.,  48.,   8., 951.],\n",
       "        [  9.,  48.,  57., 951.],\n",
       "        [  9.,  49.,  46., 951.],\n",
       "        [  9.,  50.,  34., 952.],\n",
       "        [  9.,  51.,  23., 952.],\n",
       "        [  9.,  52.,  12., 952.],\n",
       "        [  9.,  53.,   0., 952.],\n",
       "        [  9.,  53.,  51., 952.]],\n",
       "\n",
       "       [[  9.,  47.,  19., 951.],\n",
       "        [  9.,  48.,   8., 951.],\n",
       "        [  9.,  48.,  57., 951.],\n",
       "        [  9.,  49.,  46., 951.],\n",
       "        [  9.,  50.,  34., 952.],\n",
       "        [  9.,  51.,  23., 952.],\n",
       "        [  9.,  52.,  12., 952.],\n",
       "        [  9.,  53.,   0., 952.],\n",
       "        [  9.,  53.,  51., 952.],\n",
       "        [  9.,  54.,  42., 952.]],\n",
       "\n",
       "       [[  9.,  48.,   8., 951.],\n",
       "        [  9.,  48.,  57., 951.],\n",
       "        [  9.,  49.,  46., 951.],\n",
       "        [  9.,  50.,  34., 952.],\n",
       "        [  9.,  51.,  23., 952.],\n",
       "        [  9.,  52.,  12., 952.],\n",
       "        [  9.,  53.,   0., 952.],\n",
       "        [  9.,  53.,  51., 952.],\n",
       "        [  9.,  54.,  42., 952.],\n",
       "        [  9.,  55.,  33., 953.]]], dtype=float32)"
      ]
     },
     "execution_count": 15,
     "metadata": {},
     "output_type": "execute_result"
    }
   ],
   "source": [
    "arr[:9,:10,:4]"
   ]
  },
  {
   "cell_type": "code",
   "execution_count": 16,
   "metadata": {},
   "outputs": [],
   "source": [
    "x_train_val = np.concatenate((arr[0], arr[1], arr[2], arr[3], arr[4], arr[5], arr[6], arr[7], arr[8]), axis=1).reshape(-1, 9, 4)\n",
    "train_mean, train_std = np.mean(x_train_val, axis=0), np.std(x_train_val, axis=0)\n",
    "train_mean, train_std = np.mean(train_mean, axis=0), np.mean(train_std, axis=0)"
   ]
  },
  {
   "cell_type": "code",
   "execution_count": 17,
   "metadata": {},
   "outputs": [],
   "source": [
    "y_train_val = train_lux[lag:, :].reshape(-1, 1)"
   ]
  },
  {
   "cell_type": "code",
   "execution_count": 18,
   "metadata": {},
   "outputs": [
    {
     "name": "stdout",
     "output_type": "stream",
     "text": [
      "(39990, 9, 4) (39990, 1)\n"
     ]
    }
   ],
   "source": [
    "print(x_train_val.shape, y_train_val.shape)"
   ]
  },
  {
   "cell_type": "code",
   "execution_count": 19,
   "metadata": {},
   "outputs": [
    {
     "name": "stdout",
     "output_type": "stream",
     "text": [
      "(9, 15266, 4)\n"
     ]
    }
   ],
   "source": [
    "arr = []\n",
    "for i in range(9):\n",
    "    arr.append(test_data[i:i-lag,:])\n",
    "    \n",
    "arr = np.array(arr, dtype=np.float32)\n",
    "print(arr.shape)\n"
   ]
  },
  {
   "cell_type": "code",
   "execution_count": 20,
   "metadata": {},
   "outputs": [
    {
     "name": "stdout",
     "output_type": "stream",
     "text": [
      "(15266, 9, 4) (15266, 1)\n"
     ]
    }
   ],
   "source": [
    "x_test = np.concatenate((arr[0], arr[1], arr[2], arr[3], arr[4], arr[5], arr[6], arr[7], arr[8]), axis=1).reshape(-1, 9, 4)\n",
    "y_test = test_lux[lag:, :].reshape(-1, 1)\n",
    "print(x_test.shape, y_test.shape)"
   ]
  },
  {
   "cell_type": "code",
   "execution_count": 21,
   "metadata": {},
   "outputs": [
    {
     "name": "stdout",
     "output_type": "stream",
     "text": [
      "(31992, 9, 4) (31992, 1) (7998, 9, 4) (7998, 1)\n"
     ]
    }
   ],
   "source": [
    "# split into training and validation datasets\n",
    "x_train, x_val, y_train, y_val = train_test_split(x_train_val, y_train_val, test_size=0.2)\n",
    "print(x_train.shape, y_train.shape, x_val.shape, y_val.shape)"
   ]
  },
  {
   "cell_type": "code",
   "execution_count": 22,
   "metadata": {},
   "outputs": [],
   "source": [
    "h_units = 32\n",
    "activation_ = 'relu'\n",
    "\n",
    "def rnn_model():\n",
    "    model = Sequential()\n",
    "    \n",
    "    model.add(LSTM(units=h_units, return_sequences=False, input_shape=(9, 4)))        \n",
    "    model.add(Dense(64))\n",
    "    \n",
    "    model.add(Dense(1))\n",
    "    \n",
    "    return model"
   ]
  },
  {
   "cell_type": "code",
   "execution_count": 23,
   "metadata": {},
   "outputs": [
    {
     "name": "stdout",
     "output_type": "stream",
     "text": [
      "WARNING:tensorflow:From C:\\Users\\YooSeok\\Anaconda3\\envs\\Keras\\lib\\site-packages\\tensorflow\\python\\framework\\op_def_library.py:263: colocate_with (from tensorflow.python.framework.ops) is deprecated and will be removed in a future version.\n",
      "Instructions for updating:\n",
      "Colocations handled automatically by placer.\n",
      "_________________________________________________________________\n",
      "Layer (type)                 Output Shape              Param #   \n",
      "=================================================================\n",
      "lstm_1 (LSTM)                (None, 32)                4736      \n",
      "_________________________________________________________________\n",
      "dense_1 (Dense)              (None, 64)                2112      \n",
      "_________________________________________________________________\n",
      "dense_2 (Dense)              (None, 1)                 65        \n",
      "=================================================================\n",
      "Total params: 6,913\n",
      "Trainable params: 6,913\n",
      "Non-trainable params: 0\n",
      "_________________________________________________________________\n"
     ]
    }
   ],
   "source": [
    "# create a model \n",
    "model = rnn_model()\n",
    "model.summary()"
   ]
  },
  {
   "cell_type": "code",
   "execution_count": 24,
   "metadata": {},
   "outputs": [],
   "source": [
    "model.compile(loss='mean_squared_error', optimizer='adam')"
   ]
  },
  {
   "cell_type": "code",
   "execution_count": 25,
   "metadata": {},
   "outputs": [
    {
     "name": "stdout",
     "output_type": "stream",
     "text": [
      "WARNING:tensorflow:From C:\\Users\\YooSeok\\Anaconda3\\envs\\Keras\\lib\\site-packages\\tensorflow\\python\\ops\\math_ops.py:3066: to_int32 (from tensorflow.python.ops.math_ops) is deprecated and will be removed in a future version.\n",
      "Instructions for updating:\n",
      "Use tf.cast instead.\n",
      "Train on 31992 samples, validate on 7998 samples\n",
      "Epoch 1/100\n",
      "31992/31992 [==============================] - 1s 33us/step - loss: 806341.7476 - val_loss: 805826.6836\n",
      "Epoch 2/100\n",
      "31992/31992 [==============================] - 0s 9us/step - loss: 802160.1775 - val_loss: 801575.0178\n",
      "Epoch 3/100\n",
      "31992/31992 [==============================] - 0s 9us/step - loss: 797673.9088 - val_loss: 796611.6354\n",
      "Epoch 4/100\n",
      "31992/31992 [==============================] - 0s 9us/step - loss: 792236.5862 - val_loss: 790568.5895\n",
      "Epoch 5/100\n",
      "31992/31992 [==============================] - 0s 9us/step - loss: 785652.1958 - val_loss: 783291.5479\n",
      "Epoch 6/100\n",
      "31992/31992 [==============================] - 0s 9us/step - loss: 777779.6189 - val_loss: 774672.2429\n",
      "Epoch 7/100\n",
      "31992/31992 [==============================] - 0s 9us/step - loss: 768528.7121 - val_loss: 764639.5008\n",
      "Epoch 8/100\n",
      "31992/31992 [==============================] - 0s 9us/step - loss: 757846.9302 - val_loss: 753151.8115\n",
      "Epoch 9/100\n",
      "31992/31992 [==============================] - 0s 9us/step - loss: 745708.3769 - val_loss: 740202.0097\n",
      "Epoch 10/100\n",
      "31992/31992 [==============================] - 0s 9us/step - loss: 732113.7854 - val_loss: 725805.0962\n",
      "Epoch 11/100\n",
      "31992/31992 [==============================] - 0s 9us/step - loss: 717086.7087 - val_loss: 709989.3493\n",
      "Epoch 12/100\n",
      "31992/31992 [==============================] - 0s 9us/step - loss: 700621.3095 - val_loss: 692307.9502\n",
      "Epoch 13/100\n",
      "31992/31992 [==============================] - 0s 9us/step - loss: 681426.0984 - val_loss: 671927.6070\n",
      "Epoch 14/100\n",
      "31992/31992 [==============================] - 0s 9us/step - loss: 660728.8251 - val_loss: 650571.6615\n",
      "Epoch 15/100\n",
      "31992/31992 [==============================] - 0s 9us/step - loss: 638908.1792 - val_loss: 628161.5577\n",
      "Epoch 16/100\n",
      "31992/31992 [==============================] - 0s 9us/step - loss: 616080.2492 - val_loss: 604812.7058\n",
      "Epoch 17/100\n",
      "31992/31992 [==============================] - 0s 8us/step - loss: 592387.4317 - val_loss: 580623.9922\n",
      "Epoch 18/100\n",
      "31992/31992 [==============================] - 0s 9us/step - loss: 567923.2757 - val_loss: 555756.8979\n",
      "Epoch 19/100\n",
      "31992/31992 [==============================] - 0s 9us/step - loss: 542840.4580 - val_loss: 530374.0882\n",
      "Epoch 20/100\n",
      "31992/31992 [==============================] - 0s 9us/step - loss: 517307.4065 - val_loss: 504599.7245\n",
      "Epoch 21/100\n",
      "31992/31992 [==============================] - 0s 9us/step - loss: 491462.4122 - val_loss: 478584.7412\n",
      "Epoch 22/100\n",
      "31992/31992 [==============================] - 0s 9us/step - loss: 465437.2978 - val_loss: 452489.7869\n",
      "Epoch 23/100\n",
      "31992/31992 [==============================] - 0s 9us/step - loss: 439398.3355 - val_loss: 426460.6864\n",
      "Epoch 24/100\n",
      "31992/31992 [==============================] - 0s 9us/step - loss: 413492.5433 - val_loss: 400615.9496\n",
      "Epoch 25/100\n",
      "31992/31992 [==============================] - 0s 9us/step - loss: 387839.8404 - val_loss: 375102.9069\n",
      "Epoch 26/100\n",
      "31992/31992 [==============================] - 0s 9us/step - loss: 362563.7887 - val_loss: 350058.5021\n",
      "Epoch 27/100\n",
      "31992/31992 [==============================] - 0s 9us/step - loss: 337795.0862 - val_loss: 325486.0869\n",
      "Epoch 28/100\n",
      "31992/31992 [==============================] - 0s 9us/step - loss: 313559.2332 - val_loss: 301576.2185\n",
      "Epoch 29/100\n",
      "31992/31992 [==============================] - 0s 9us/step - loss: 289996.1105 - val_loss: 278305.5833\n",
      "Epoch 30/100\n",
      "31992/31992 [==============================] - 0s 9us/step - loss: 267131.0516 - val_loss: 255961.9238\n",
      "Epoch 31/100\n",
      "31992/31992 [==============================] - 0s 9us/step - loss: 245260.2971 - val_loss: 234504.1516\n",
      "Epoch 32/100\n",
      "31992/31992 [==============================] - 0s 9us/step - loss: 224232.7599 - val_loss: 213945.4023\n",
      "Epoch 33/100\n",
      "31992/31992 [==============================] - 0s 9us/step - loss: 204192.2130 - val_loss: 194421.4162\n",
      "Epoch 34/100\n",
      "31992/31992 [==============================] - 0s 9us/step - loss: 185179.0664 - val_loss: 175982.7665\n",
      "Epoch 35/100\n",
      "31992/31992 [==============================] - 0s 9us/step - loss: 167237.4643 - val_loss: 158627.9770\n",
      "Epoch 36/100\n",
      "31992/31992 [==============================] - 0s 9us/step - loss: 150436.5548 - val_loss: 142385.2097\n",
      "Epoch 37/100\n",
      "31992/31992 [==============================] - 0s 9us/step - loss: 134779.3933 - val_loss: 127329.4400\n",
      "Epoch 38/100\n",
      "31992/31992 [==============================] - 0s 9us/step - loss: 120283.2152 - val_loss: 113442.2197\n",
      "Epoch 39/100\n",
      "31992/31992 [==============================] - 0s 9us/step - loss: 106947.7658 - val_loss: 100686.0807\n",
      "Epoch 40/100\n",
      "31992/31992 [==============================] - 0s 9us/step - loss: 94734.0404 - val_loss: 89029.9009\n",
      "Epoch 41/100\n",
      "31992/31992 [==============================] - 0s 9us/step - loss: 83606.7904 - val_loss: 78467.7268\n",
      "Epoch 42/100\n",
      "31992/31992 [==============================] - 0s 9us/step - loss: 73556.4284 - val_loss: 68913.9871\n",
      "Epoch 43/100\n",
      "31992/31992 [==============================] - 0s 9us/step - loss: 64499.5732 - val_loss: 60367.2045\n",
      "Epoch 44/100\n",
      "31992/31992 [==============================] - 0s 9us/step - loss: 56411.0415 - val_loss: 52756.8135\n",
      "Epoch 45/100\n",
      "31992/31992 [==============================] - 0s 9us/step - loss: 49240.3394 - val_loss: 46023.2728\n",
      "Epoch 46/100\n",
      "31992/31992 [==============================] - 0s 9us/step - loss: 42895.3528 - val_loss: 40108.3062\n",
      "Epoch 47/100\n",
      "31992/31992 [==============================] - 0s 9us/step - loss: 37345.5564 - val_loss: 34925.7719\n",
      "Epoch 48/100\n",
      "31992/31992 [==============================] - 0s 9us/step - loss: 32504.5353 - val_loss: 30436.6491\n",
      "Epoch 49/100\n",
      "31992/31992 [==============================] - 0s 9us/step - loss: 28320.3374 - val_loss: 26588.5668\n",
      "Epoch 50/100\n",
      "31992/31992 [==============================] - 0s 9us/step - loss: 24735.6456 - val_loss: 23240.8649\n",
      "Epoch 51/100\n",
      "31992/31992 [==============================] - 0s 9us/step - loss: 21640.3199 - val_loss: 20406.3549\n",
      "Epoch 52/100\n",
      "31992/31992 [==============================] - 0s 9us/step - loss: 19001.2365 - val_loss: 17897.0999\n",
      "Epoch 53/100\n",
      "31992/31992 [==============================] - 0s 9us/step - loss: 16596.1335 - val_loss: 15598.4070\n",
      "Epoch 54/100\n",
      "31992/31992 [==============================] - 0s 9us/step - loss: 14503.1537 - val_loss: 13812.5885\n",
      "Epoch 55/100\n",
      "31992/31992 [==============================] - 0s 9us/step - loss: 12829.0584 - val_loss: 12297.9487\n",
      "Epoch 56/100\n",
      "31992/31992 [==============================] - 0s 9us/step - loss: 11425.6058 - val_loss: 10959.7147\n",
      "Epoch 57/100\n",
      "31992/31992 [==============================] - 0s 9us/step - loss: 10194.6686 - val_loss: 9969.8405\n",
      "Epoch 58/100\n",
      "31992/31992 [==============================] - 0s 9us/step - loss: 9260.6345 - val_loss: 9018.3163\n",
      "Epoch 59/100\n",
      "31992/31992 [==============================] - 0s 9us/step - loss: 8427.0766 - val_loss: 8154.0217\n",
      "Epoch 60/100\n",
      "31992/31992 [==============================] - 0s 9us/step - loss: 7657.5250 - val_loss: 7479.3236\n",
      "Epoch 61/100\n",
      "31992/31992 [==============================] - 0s 9us/step - loss: 6970.5636 - val_loss: 6792.6272\n",
      "Epoch 62/100\n",
      "31992/31992 [==============================] - 0s 9us/step - loss: 6377.1578 - val_loss: 6248.3672\n",
      "Epoch 63/100\n",
      "31992/31992 [==============================] - 0s 9us/step - loss: 5846.4152 - val_loss: 5857.4281\n",
      "Epoch 64/100\n",
      "31992/31992 [==============================] - 0s 9us/step - loss: 5527.5393 - val_loss: 5521.5078\n",
      "Epoch 65/100\n",
      "31992/31992 [==============================] - 0s 9us/step - loss: 5068.7971 - val_loss: 5001.8012\n",
      "Epoch 66/100\n",
      "31992/31992 [==============================] - 0s 9us/step - loss: 4645.0764 - val_loss: 4632.2301\n",
      "Epoch 67/100\n",
      "31992/31992 [==============================] - 0s 9us/step - loss: 4265.3550 - val_loss: 4182.4449\n",
      "Epoch 68/100\n",
      "31992/31992 [==============================] - 0s 9us/step - loss: 3854.4279 - val_loss: 3750.3836\n",
      "Epoch 69/100\n",
      "31992/31992 [==============================] - 0s 9us/step - loss: 3439.9948 - val_loss: 3367.4132\n",
      "Epoch 70/100\n",
      "31992/31992 [==============================] - 0s 9us/step - loss: 3090.1375 - val_loss: 3036.0239\n",
      "Epoch 71/100\n",
      "31992/31992 [==============================] - 0s 9us/step - loss: 3237.1633 - val_loss: 3299.3295\n",
      "Epoch 72/100\n",
      "31992/31992 [==============================] - 0s 9us/step - loss: 3010.2901 - val_loss: 2940.1575\n",
      "Epoch 73/100\n",
      "31992/31992 [==============================] - 0s 9us/step - loss: 2583.8890 - val_loss: 2440.1365\n",
      "Epoch 74/100\n",
      "31992/31992 [==============================] - 0s 9us/step - loss: 2258.2070 - val_loss: 2234.8486\n",
      "Epoch 75/100\n",
      "31992/31992 [==============================] - 0s 9us/step - loss: 2035.6033 - val_loss: 2074.9342\n",
      "Epoch 76/100\n",
      "31992/31992 [==============================] - 0s 9us/step - loss: 1889.7719 - val_loss: 1965.7917\n",
      "Epoch 77/100\n",
      "31992/31992 [==============================] - 0s 9us/step - loss: 1780.0984 - val_loss: 1837.1088\n",
      "Epoch 78/100\n",
      "31992/31992 [==============================] - 0s 9us/step - loss: 1667.8983 - val_loss: 1757.7361\n",
      "Epoch 79/100\n",
      "31992/31992 [==============================] - 0s 9us/step - loss: 1581.1151 - val_loss: 1675.7346\n",
      "Epoch 80/100\n",
      "31992/31992 [==============================] - 0s 9us/step - loss: 1518.1647 - val_loss: 1646.6513\n",
      "Epoch 81/100\n",
      "31992/31992 [==============================] - 0s 9us/step - loss: 1485.3891 - val_loss: 1598.8208\n",
      "Epoch 82/100\n",
      "31992/31992 [==============================] - 0s 9us/step - loss: 1414.2358 - val_loss: 1520.5810\n",
      "Epoch 83/100\n",
      "31992/31992 [==============================] - 0s 9us/step - loss: 1370.8678 - val_loss: 1489.5265\n",
      "Epoch 84/100\n",
      "31992/31992 [==============================] - 0s 9us/step - loss: 1333.0561 - val_loss: 1463.1142\n",
      "Epoch 85/100\n",
      "31992/31992 [==============================] - 0s 9us/step - loss: 1306.1361 - val_loss: 1428.8286\n",
      "Epoch 86/100\n",
      "31992/31992 [==============================] - 0s 9us/step - loss: 1291.2659 - val_loss: 1400.7619\n",
      "Epoch 87/100\n",
      "31992/31992 [==============================] - 0s 9us/step - loss: 1270.8451 - val_loss: 1388.4686\n",
      "Epoch 88/100\n",
      "31992/31992 [==============================] - 0s 9us/step - loss: 1233.4329 - val_loss: 1360.6897\n",
      "Epoch 89/100\n",
      "31992/31992 [==============================] - 0s 9us/step - loss: 1216.4772 - val_loss: 1346.9658\n",
      "Epoch 90/100\n",
      "31992/31992 [==============================] - 0s 9us/step - loss: 1187.8362 - val_loss: 1389.7229\n",
      "Epoch 91/100\n",
      "31992/31992 [==============================] - 0s 9us/step - loss: 1205.0010 - val_loss: 1307.6357\n",
      "Epoch 92/100\n",
      "31992/31992 [==============================] - 0s 9us/step - loss: 1175.1804 - val_loss: 1278.0400\n",
      "Epoch 93/100\n",
      "31992/31992 [==============================] - 0s 9us/step - loss: 1162.5481 - val_loss: 1325.5653\n",
      "Epoch 94/100\n",
      "31992/31992 [==============================] - 0s 9us/step - loss: 1128.8181 - val_loss: 1251.7193\n",
      "Epoch 95/100\n",
      "31992/31992 [==============================] - 0s 9us/step - loss: 1144.9840 - val_loss: 1240.9381\n",
      "Epoch 96/100\n",
      "31992/31992 [==============================] - 0s 9us/step - loss: 1092.9391 - val_loss: 1241.9651\n",
      "Epoch 97/100\n",
      "31992/31992 [==============================] - 0s 9us/step - loss: 1100.7879 - val_loss: 1281.4788\n",
      "Epoch 98/100\n",
      "31992/31992 [==============================] - 0s 9us/step - loss: 1172.2068 - val_loss: 1439.9179\n",
      "Epoch 99/100\n",
      "31992/31992 [==============================] - 0s 9us/step - loss: 1446.2312 - val_loss: 1570.4221\n",
      "Epoch 100/100\n",
      "31992/31992 [==============================] - 0s 9us/step - loss: 1350.7627 - val_loss: 1249.6795\n"
     ]
    }
   ],
   "source": [
    "# training\n",
    "tensorBoard = TensorBoard(log_dir='./logs', histogram_freq=0, write_graph=True, write_images=False)\n",
    "\n",
    "hist = model.fit(x_train, y_train, epochs=100, batch_size=2048, verbose=True, validation_data=(x_val, y_val), shuffle=True, callbacks=[tensorBoard])"
   ]
  },
  {
   "cell_type": "code",
   "execution_count": 26,
   "metadata": {},
   "outputs": [
    {
     "name": "stdout",
     "output_type": "stream",
     "text": [
      "15266/15266 [==============================] - 0s 13us/step\n",
      "(15266, 1)\n",
      "15266/15266 [==============================] - 0s 8us/step\n",
      "1921.9146760020737\n"
     ]
    }
   ],
   "source": [
    "y_pred = model.predict(x_test, batch_size=1024, verbose=True) \n",
    "print(y_pred.shape)\n",
    "print(model.evaluate(x_test, y_test,batch_size=1024))"
   ]
  },
  {
   "cell_type": "code",
   "execution_count": 27,
   "metadata": {},
   "outputs": [
    {
     "data": {
      "image/png": "[encoded data removed]",
      "text/plain": [
       "<Figure size 432x288 with 1 Axes>"
      ]
     },
     "metadata": {
      "needs_background": "light"
     },
     "output_type": "display_data"
    }
   ],
   "source": [
    "%matplotlib inline\n",
    "import matplotlib.pyplot as plt\n",
    "\n",
    "fig, loss_ax = plt.subplots()\n",
    "\n",
    "loss_ax.plot(hist.history['loss'], 'b', label='train loss')\n",
    "loss_ax.plot(hist.history['val_loss'], 'r', label='test loss')\n",
    "\n",
    "loss_ax.set_xlabel('epoch')\n",
    "loss_ax.set_ylabel('loss')\n",
    "\n",
    "loss_ax.legend(loc='upper right')\n",
    "\n",
    "plt.show()"
   ]
  },
  {
   "cell_type": "code",
   "execution_count": 31,
   "metadata": {},
   "outputs": [
    {
     "data": {
      "image/png": "[encoded data removed]",
      "text/plain": [
       "<Figure size 1368x576 with 1 Axes>"
      ]
     },
     "metadata": {
      "needs_background": "light"
     },
     "output_type": "display_data"
    }
   ],
   "source": [
    "# visualization for prediction result\n",
    "# set figure size\n",
    "plt.figure(figsize=(19,8))\n",
    "\n",
    "# set font\n",
    "font = {'family': 'Arial', 'weight': 'normal', 'size': 16}\n",
    "plt.rc('font', **font)\n",
    "\n",
    "# plot data \n",
    "plt.plot(y_test[:,0], 'r', label='y_true')\n",
    "plt.plot(y_pred[:,0], 'b', label='y_pred')\n",
    "\n",
    "# set legend position\n",
    "plt.legend(shadow=True, loc='upper right')\n",
    "\n",
    "# set x-axis & y-axis titles\n",
    "#plt.title('prediction result')\n",
    "plt.xlabel('Time Index')\n",
    "plt.ylabel('Brightness')\n",
    "\n",
    "# set axis-limits\n",
    "plt.xlim(left = 0, right = len(y_test)) \n",
    "plt.ylim(bottom = 0.3) \n",
    "\n",
    "# set grid\n",
    "plt.grid(color='gray', linestyle='--', linewidth=1)\n",
    "\n",
    "plt.xticks(np.arange(0,16000,2000))\n",
    "plt.yticks(np.arange(0,1024,256))\n",
    "\n",
    "# save & display figure\n",
    "plt.show()"
   ]
  },
  {
   "cell_type": "code",
   "execution_count": 29,
   "metadata": {},
   "outputs": [
    {
     "name": "stdout",
     "output_type": "stream",
     "text": [
      "Train Score:  1122.0534925754143\n",
      "Test Score:  1921.9147376069607\n"
     ]
    }
   ],
   "source": [
    "#모델 평가하기\n",
    "trainScore = model.evaluate(x_train, y_train, verbose=0)\n",
    "print('Train Score: ', trainScore)\n",
    "#valScore = model.evaluate(x_val, y_val, verbose=0)\n",
    "#print('Validataion Score: ', valScore)\n",
    "testScore = model.evaluate(x_test, y_test, verbose=0)\n",
    "print('Test Score: ', testScore)"
   ]
  },
  {
   "cell_type": "code",
   "execution_count": 30,
   "metadata": {},
   "outputs": [
    {
     "name": "stdout",
     "output_type": "stream",
     "text": [
      "MAPE:  4.2769599851257585\n"
     ]
    }
   ],
   "source": [
    "#MAPE\n",
    "\n",
    "y_test, y_pred = np.array(y_test), np.array(y_pred)\n",
    "mape = np.mean(np.abs((y_test - y_pred) / y_test)) * 100\n",
    "print('MAPE: ', mape)"
   ]
  },
  {
   "cell_type": "code",
   "execution_count": null,
   "metadata": {},
   "outputs": [],
   "source": []
  }
 ],
 "metadata": {
  "kernelspec": {
   "display_name": "",
   "name": ""
  },
  "language_info": {
   "codemirror_mode": {
    "name": "ipython",
    "version": 3
   },
   "file_extension": ".py",
   "mimetype": "text/x-python",
   "name": "python",
   "nbconvert_exporter": "python",
   "pygments_lexer": "ipython3",
   "version": "3.7.3"
  }
 },
 "nbformat": 4,
 "nbformat_minor": 4
}
