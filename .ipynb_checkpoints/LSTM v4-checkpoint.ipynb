{
 "cells": [
  {
   "cell_type": "code",
   "execution_count": 1,
   "metadata": {},
   "outputs": [
    {
     "name": "stderr",
     "output_type": "stream",
     "text": [
      "Using TensorFlow backend.\n",
      "C:\\Users\\YooSeok\\Anaconda3\\envs\\Keras\\lib\\site-packages\\tensorflow\\python\\framework\\dtypes.py:526: FutureWarning: Passing (type, 1) or '1type' as a synonym of type is deprecated; in a future version of numpy, it will be understood as (type, (1,)) / '(1,)type'.\n",
      "  _np_qint8 = np.dtype([(\"qint8\", np.int8, 1)])\n",
      "C:\\Users\\YooSeok\\Anaconda3\\envs\\Keras\\lib\\site-packages\\tensorflow\\python\\framework\\dtypes.py:527: FutureWarning: Passing (type, 1) or '1type' as a synonym of type is deprecated; in a future version of numpy, it will be understood as (type, (1,)) / '(1,)type'.\n",
      "  _np_quint8 = np.dtype([(\"quint8\", np.uint8, 1)])\n",
      "C:\\Users\\YooSeok\\Anaconda3\\envs\\Keras\\lib\\site-packages\\tensorflow\\python\\framework\\dtypes.py:528: FutureWarning: Passing (type, 1) or '1type' as a synonym of type is deprecated; in a future version of numpy, it will be understood as (type, (1,)) / '(1,)type'.\n",
      "  _np_qint16 = np.dtype([(\"qint16\", np.int16, 1)])\n",
      "C:\\Users\\YooSeok\\Anaconda3\\envs\\Keras\\lib\\site-packages\\tensorflow\\python\\framework\\dtypes.py:529: FutureWarning: Passing (type, 1) or '1type' as a synonym of type is deprecated; in a future version of numpy, it will be understood as (type, (1,)) / '(1,)type'.\n",
      "  _np_quint16 = np.dtype([(\"quint16\", np.uint16, 1)])\n",
      "C:\\Users\\YooSeok\\Anaconda3\\envs\\Keras\\lib\\site-packages\\tensorflow\\python\\framework\\dtypes.py:530: FutureWarning: Passing (type, 1) or '1type' as a synonym of type is deprecated; in a future version of numpy, it will be understood as (type, (1,)) / '(1,)type'.\n",
      "  _np_qint32 = np.dtype([(\"qint32\", np.int32, 1)])\n",
      "C:\\Users\\YooSeok\\Anaconda3\\envs\\Keras\\lib\\site-packages\\tensorflow\\python\\framework\\dtypes.py:535: FutureWarning: Passing (type, 1) or '1type' as a synonym of type is deprecated; in a future version of numpy, it will be understood as (type, (1,)) / '(1,)type'.\n",
      "  np_resource = np.dtype([(\"resource\", np.ubyte, 1)])\n"
     ]
    }
   ],
   "source": [
    "import pandas as pd\n",
    "import numpy as np\n",
    "import matplotlib.pyplot as plt\n",
    "\n",
    "from keras.models import Sequential\n",
    "from keras.layers import LSTM, Dense, Activation, BatchNormalization\n",
    "from keras.callbacks import TensorBoard\n",
    "\n",
    "from sklearn.model_selection import train_test_split"
   ]
  },
  {
   "cell_type": "code",
   "execution_count": 2,
   "metadata": {},
   "outputs": [
    {
     "name": "stdout",
     "output_type": "stream",
     "text": [
      "(55032, 10)\n"
     ]
    }
   ],
   "source": [
    "df_data = pd.read_csv('3data.csv')\n",
    "print(df_data.shape)"
   ]
  },
  {
   "cell_type": "code",
   "execution_count": 3,
   "metadata": {},
   "outputs": [
    {
     "data": {
      "text/html": [
       "<div>\n",
       "<style scoped>\n",
       "    .dataframe tbody tr th:only-of-type {\n",
       "        vertical-align: middle;\n",
       "    }\n",
       "\n",
       "    .dataframe tbody tr th {\n",
       "        vertical-align: top;\n",
       "    }\n",
       "\n",
       "    .dataframe thead th {\n",
       "        text-align: right;\n",
       "    }\n",
       "</style>\n",
       "<table border=\"1\" class=\"dataframe\">\n",
       "  <thead>\n",
       "    <tr style=\"text-align: right;\">\n",
       "      <th></th>\n",
       "      <th>Time</th>\n",
       "      <th>1temp</th>\n",
       "      <th>1hum</th>\n",
       "      <th>1lux</th>\n",
       "      <th>2temp</th>\n",
       "      <th>2hum</th>\n",
       "      <th>2lux</th>\n",
       "      <th>3temp</th>\n",
       "      <th>3hum</th>\n",
       "      <th>3lux</th>\n",
       "    </tr>\n",
       "  </thead>\n",
       "  <tbody>\n",
       "    <tr>\n",
       "      <th>0</th>\n",
       "      <td>2018-08-10 09:45:10 UTC</td>\n",
       "      <td>26.51000</td>\n",
       "      <td>57.29000</td>\n",
       "      <td>941</td>\n",
       "      <td>26.20001</td>\n",
       "      <td>64.49000</td>\n",
       "      <td>984</td>\n",
       "      <td>26.82999</td>\n",
       "      <td>58.60999</td>\n",
       "      <td>201</td>\n",
       "    </tr>\n",
       "    <tr>\n",
       "      <th>1</th>\n",
       "      <td>2018-08-10 09:45:49 UTC</td>\n",
       "      <td>26.50000</td>\n",
       "      <td>57.45000</td>\n",
       "      <td>951</td>\n",
       "      <td>26.09000</td>\n",
       "      <td>64.49000</td>\n",
       "      <td>984</td>\n",
       "      <td>26.74001</td>\n",
       "      <td>58.91001</td>\n",
       "      <td>201</td>\n",
       "    </tr>\n",
       "    <tr>\n",
       "      <th>2</th>\n",
       "      <td>2018-08-10 09:46:37 UTC</td>\n",
       "      <td>26.50000</td>\n",
       "      <td>57.55999</td>\n",
       "      <td>951</td>\n",
       "      <td>25.90999</td>\n",
       "      <td>64.53001</td>\n",
       "      <td>832</td>\n",
       "      <td>26.70001</td>\n",
       "      <td>59.26000</td>\n",
       "      <td>929</td>\n",
       "    </tr>\n",
       "    <tr>\n",
       "      <th>3</th>\n",
       "      <td>2018-08-10 09:47:26 UTC</td>\n",
       "      <td>26.50000</td>\n",
       "      <td>57.59999</td>\n",
       "      <td>951</td>\n",
       "      <td>25.73001</td>\n",
       "      <td>65.39000</td>\n",
       "      <td>997</td>\n",
       "      <td>26.70001</td>\n",
       "      <td>59.50000</td>\n",
       "      <td>930</td>\n",
       "    </tr>\n",
       "    <tr>\n",
       "      <th>4</th>\n",
       "      <td>2018-08-10 09:48:14 UTC</td>\n",
       "      <td>26.50000</td>\n",
       "      <td>57.57999</td>\n",
       "      <td>951</td>\n",
       "      <td>25.62000</td>\n",
       "      <td>65.73001</td>\n",
       "      <td>996</td>\n",
       "      <td>26.70001</td>\n",
       "      <td>59.50000</td>\n",
       "      <td>930</td>\n",
       "    </tr>\n",
       "    <tr>\n",
       "      <th>5</th>\n",
       "      <td>2018-08-10 09:49:03 UTC</td>\n",
       "      <td>26.51000</td>\n",
       "      <td>57.52000</td>\n",
       "      <td>951</td>\n",
       "      <td>25.54000</td>\n",
       "      <td>65.93001</td>\n",
       "      <td>996</td>\n",
       "      <td>26.70001</td>\n",
       "      <td>59.51000</td>\n",
       "      <td>930</td>\n",
       "    </tr>\n",
       "    <tr>\n",
       "      <th>6</th>\n",
       "      <td>2018-08-10 09:49:52 UTC</td>\n",
       "      <td>26.58000</td>\n",
       "      <td>57.45000</td>\n",
       "      <td>952</td>\n",
       "      <td>25.50000</td>\n",
       "      <td>65.96001</td>\n",
       "      <td>996</td>\n",
       "      <td>26.73000</td>\n",
       "      <td>59.48000</td>\n",
       "      <td>930</td>\n",
       "    </tr>\n",
       "    <tr>\n",
       "      <th>7</th>\n",
       "      <td>2018-08-10 09:50:41 UTC</td>\n",
       "      <td>26.61000</td>\n",
       "      <td>57.39001</td>\n",
       "      <td>952</td>\n",
       "      <td>25.50000</td>\n",
       "      <td>65.92001</td>\n",
       "      <td>997</td>\n",
       "      <td>26.79000</td>\n",
       "      <td>59.47001</td>\n",
       "      <td>930</td>\n",
       "    </tr>\n",
       "    <tr>\n",
       "      <th>8</th>\n",
       "      <td>2018-08-10 09:51:29 UTC</td>\n",
       "      <td>26.67000</td>\n",
       "      <td>57.34000</td>\n",
       "      <td>952</td>\n",
       "      <td>25.50000</td>\n",
       "      <td>65.88002</td>\n",
       "      <td>997</td>\n",
       "      <td>26.85000</td>\n",
       "      <td>59.38001</td>\n",
       "      <td>930</td>\n",
       "    </tr>\n",
       "    <tr>\n",
       "      <th>9</th>\n",
       "      <td>2018-08-10 09:52:19 UTC</td>\n",
       "      <td>26.70001</td>\n",
       "      <td>57.22000</td>\n",
       "      <td>952</td>\n",
       "      <td>25.51000</td>\n",
       "      <td>65.77998</td>\n",
       "      <td>997</td>\n",
       "      <td>26.89000</td>\n",
       "      <td>59.36000</td>\n",
       "      <td>930</td>\n",
       "    </tr>\n",
       "  </tbody>\n",
       "</table>\n",
       "</div>"
      ],
      "text/plain": [
       "                      Time     1temp      1hum  1lux     2temp      2hum  \\\n",
       "0  2018-08-10 09:45:10 UTC  26.51000  57.29000   941  26.20001  64.49000   \n",
       "1  2018-08-10 09:45:49 UTC  26.50000  57.45000   951  26.09000  64.49000   \n",
       "2  2018-08-10 09:46:37 UTC  26.50000  57.55999   951  25.90999  64.53001   \n",
       "3  2018-08-10 09:47:26 UTC  26.50000  57.59999   951  25.73001  65.39000   \n",
       "4  2018-08-10 09:48:14 UTC  26.50000  57.57999   951  25.62000  65.73001   \n",
       "5  2018-08-10 09:49:03 UTC  26.51000  57.52000   951  25.54000  65.93001   \n",
       "6  2018-08-10 09:49:52 UTC  26.58000  57.45000   952  25.50000  65.96001   \n",
       "7  2018-08-10 09:50:41 UTC  26.61000  57.39001   952  25.50000  65.92001   \n",
       "8  2018-08-10 09:51:29 UTC  26.67000  57.34000   952  25.50000  65.88002   \n",
       "9  2018-08-10 09:52:19 UTC  26.70001  57.22000   952  25.51000  65.77998   \n",
       "\n",
       "   2lux     3temp      3hum  3lux  \n",
       "0   984  26.82999  58.60999   201  \n",
       "1   984  26.74001  58.91001   201  \n",
       "2   832  26.70001  59.26000   929  \n",
       "3   997  26.70001  59.50000   930  \n",
       "4   996  26.70001  59.50000   930  \n",
       "5   996  26.70001  59.51000   930  \n",
       "6   996  26.73000  59.48000   930  \n",
       "7   997  26.79000  59.47001   930  \n",
       "8   997  26.85000  59.38001   930  \n",
       "9   997  26.89000  59.36000   930  "
      ]
     },
     "execution_count": 3,
     "metadata": {},
     "output_type": "execute_result"
    }
   ],
   "source": [
    "df_data.head(10)"
   ]
  },
  {
   "cell_type": "code",
   "execution_count": 4,
   "metadata": {},
   "outputs": [
    {
     "name": "stdout",
     "output_type": "stream",
     "text": [
      "<class 'pandas.core.frame.DataFrame'>\n",
      "RangeIndex: 55032 entries, 0 to 55031\n",
      "Data columns (total 10 columns):\n",
      "Time     55032 non-null object\n",
      "1temp    55032 non-null float64\n",
      "1hum     55032 non-null float64\n",
      "1lux     55032 non-null int64\n",
      "2temp    55032 non-null float64\n",
      "2hum     55032 non-null float64\n",
      "2lux     55032 non-null int64\n",
      "3temp    40173 non-null float64\n",
      "3hum     40172 non-null float64\n",
      "3lux     55032 non-null int64\n",
      "dtypes: float64(6), int64(3), object(1)\n",
      "memory usage: 4.2+ MB\n"
     ]
    }
   ],
   "source": [
    "df_data.info()"
   ]
  },
  {
   "cell_type": "code",
   "execution_count": 5,
   "metadata": {},
   "outputs": [],
   "source": [
    "df_data['Time'] = pd.to_datetime(df_data['Time'])"
   ]
  },
  {
   "cell_type": "code",
   "execution_count": 6,
   "metadata": {},
   "outputs": [],
   "source": [
    "hour, minute, second = [], [], []\n",
    "for i in range(np.size(df_data, 0)):\n",
    "    hour.append(df_data['Time'][i].hour)\n",
    "    minute.append(df_data['Time'][i].minute)\n",
    "    second.append(df_data['Time'][i].second)"
   ]
  },
  {
   "cell_type": "code",
   "execution_count": 7,
   "metadata": {},
   "outputs": [
    {
     "name": "stdout",
     "output_type": "stream",
     "text": [
      "(55032, 1) (55032, 1) (55032, 1)\n"
     ]
    }
   ],
   "source": [
    "hour = np.array(hour).reshape(-1, 1)\n",
    "minute = np.array(minute).reshape(-1, 1)\n",
    "second = np.array(second).reshape(-1, 1)\n",
    "\n",
    "print(hour.shape, minute.shape, second.shape)"
   ]
  },
  {
   "cell_type": "code",
   "execution_count": 9,
   "metadata": {},
   "outputs": [
    {
     "name": "stdout",
     "output_type": "stream",
     "text": [
      "(55032, 1)\n"
     ]
    }
   ],
   "source": [
    "lux1 = df_data['1lux'].values.reshape(-1, 1)\n",
    "temp1 = df_data['1temp'].values.reshape(-1, 1)\n",
    "hum1 = df_data['1hum'].values.reshape(-1, 1)\n",
    "print(lux1.shape)"
   ]
  },
  {
   "cell_type": "code",
   "execution_count": 10,
   "metadata": {},
   "outputs": [],
   "source": [
    "lux1 = (lux1 - lux1.mean()) / lux1.std()\n",
    "temp1 = (temp1 - temp1.mean()) / temp1.std()\n",
    "hum1 = (hum1 - hum1.mean()) / hum1.std()"
   ]
  },
  {
   "cell_type": "code",
   "execution_count": 36,
   "metadata": {},
   "outputs": [
    {
     "data": {
      "image/png": "[encoded data removed]",
      "text/plain": [
       "<Figure size 432x288 with 1 Axes>"
      ]
     },
     "metadata": {
      "needs_background": "light"
     },
     "output_type": "display_data"
    }
   ],
   "source": [
    "plt.plot(hum1[:,0], 'r', label='y_true')\n",
    "plt.show()"
   ]
  },
  {
   "cell_type": "code",
   "execution_count": 12,
   "metadata": {},
   "outputs": [
    {
     "name": "stdout",
     "output_type": "stream",
     "text": [
      "(55032, 6)\n"
     ]
    }
   ],
   "source": [
    "data = np.concatenate((hour, minute, second, lux1, temp1, hum1), axis=1)\n",
    "print(data.shape)"
   ]
  },
  {
   "cell_type": "code",
   "execution_count": 13,
   "metadata": {},
   "outputs": [
    {
     "data": {
      "text/plain": [
       "array([[ 9.        , 45.        , 10.        ,  0.39262547, -2.28926947,\n",
       "         0.20972906],\n",
       "       [ 9.        , 45.        , 49.        ,  0.45493545, -2.30356499,\n",
       "         0.23525846],\n",
       "       [ 9.        , 46.        , 37.        ,  0.45493545, -2.30356499,\n",
       "         0.25280833],\n",
       "       [ 9.        , 47.        , 26.        ,  0.45493545, -2.30356499,\n",
       "         0.25919068],\n",
       "       [ 9.        , 48.        , 14.        ,  0.45493545, -2.30356499,\n",
       "         0.2559995 ],\n",
       "       [ 9.        , 49.        ,  3.        ,  0.45493545, -2.28926947,\n",
       "         0.24642757],\n",
       "       [ 9.        , 49.        , 52.        ,  0.46116645, -2.18920084,\n",
       "         0.23525846],\n",
       "       [ 9.        , 50.        , 41.        ,  0.46116645, -2.14631428,\n",
       "         0.22568653],\n",
       "       [ 9.        , 51.        , 29.        ,  0.46116645, -2.06054116,\n",
       "         0.217707  ],\n",
       "       [ 9.        , 52.        , 19.        ,  0.46116645, -2.0176403 ,\n",
       "         0.19855995]])"
      ]
     },
     "execution_count": 13,
     "metadata": {},
     "output_type": "execute_result"
    }
   ],
   "source": [
    "data[:10]"
   ]
  },
  {
   "cell_type": "code",
   "execution_count": 14,
   "metadata": {},
   "outputs": [
    {
     "name": "stdout",
     "output_type": "stream",
     "text": [
      "(40000, 6) (40000, 1)\n"
     ]
    }
   ],
   "source": [
    "train_data = data[:40000]\n",
    "train_lux1 = lux1[:40000]\n",
    "print(train_data.shape, train_lux1.shape)"
   ]
  },
  {
   "cell_type": "code",
   "execution_count": 15,
   "metadata": {},
   "outputs": [
    {
     "name": "stdout",
     "output_type": "stream",
     "text": [
      "(15031, 6) (15031, 1)\n"
     ]
    }
   ],
   "source": [
    "test_data = data[40001:]\n",
    "test_lux1 = lux1[40001:]\n",
    "print(test_data.shape, test_lux1.shape)"
   ]
  },
  {
   "cell_type": "code",
   "execution_count": 16,
   "metadata": {},
   "outputs": [],
   "source": [
    "lag=15 # 몇분 후 의 데이터를 input feature로 할지(?)"
   ]
  },
  {
   "cell_type": "code",
   "execution_count": 17,
   "metadata": {},
   "outputs": [
    {
     "name": "stdout",
     "output_type": "stream",
     "text": [
      "(15, 39985, 6)\n"
     ]
    }
   ],
   "source": [
    "arr = []\n",
    "for i in range(15):\n",
    "    arr.append(train_data[i:i-lag,:])\n",
    "\n",
    "arr = np.array(arr, dtype=np.float32)\n",
    "print(arr.shape)"
   ]
  },
  {
   "cell_type": "code",
   "execution_count": 18,
   "metadata": {},
   "outputs": [],
   "source": [
    "#arr[:15,:10,:4]"
   ]
  },
  {
   "cell_type": "code",
   "execution_count": 19,
   "metadata": {},
   "outputs": [],
   "source": [
    "x_train_val = np.concatenate((arr[0], arr[1], arr[2], arr[3], arr[4], arr[5], arr[6], arr[7], arr[8], arr[9], arr[10], arr[11], arr[12], arr[13], arr[14]), axis=1).reshape(-1, 15, 6)\n",
    "train_mean, train_std = np.mean(x_train_val, axis=0), np.std(x_train_val, axis=0)\n",
    "train_mean, train_std = np.mean(train_mean, axis=0), np.mean(train_std, axis=0)"
   ]
  },
  {
   "cell_type": "code",
   "execution_count": 20,
   "metadata": {},
   "outputs": [],
   "source": [
    "y_train_val = train_lux1[lag:, :].reshape(-1, 1)"
   ]
  },
  {
   "cell_type": "code",
   "execution_count": 21,
   "metadata": {},
   "outputs": [
    {
     "name": "stdout",
     "output_type": "stream",
     "text": [
      "(39985, 15, 6) (39985, 1)\n"
     ]
    }
   ],
   "source": [
    "print(x_train_val.shape, y_train_val.shape)"
   ]
  },
  {
   "cell_type": "code",
   "execution_count": 22,
   "metadata": {},
   "outputs": [
    {
     "name": "stdout",
     "output_type": "stream",
     "text": [
      "(15, 15016, 6)\n"
     ]
    }
   ],
   "source": [
    "arr = []\n",
    "for i in range(15):\n",
    "    arr.append(test_data[i:i-lag,:])\n",
    "    \n",
    "arr = np.array(arr, dtype=np.float32)\n",
    "print(arr.shape)\n"
   ]
  },
  {
   "cell_type": "code",
   "execution_count": 23,
   "metadata": {},
   "outputs": [
    {
     "name": "stdout",
     "output_type": "stream",
     "text": [
      "(15016, 15, 6) (15016, 1)\n"
     ]
    }
   ],
   "source": [
    "x_test = np.concatenate((arr[0], arr[1], arr[2], arr[3], arr[4], arr[5], arr[6], arr[7], arr[8], arr[9], arr[10], arr[11], arr[12], arr[13], arr[14]), axis=1).reshape(-1, 15, 6)\n",
    "y_test = test_lux1[lag:, :].reshape(-1, 1)\n",
    "print(x_test.shape, y_test.shape)"
   ]
  },
  {
   "cell_type": "code",
   "execution_count": 24,
   "metadata": {},
   "outputs": [
    {
     "name": "stdout",
     "output_type": "stream",
     "text": [
      "(31988, 15, 6) (31988, 1) (7997, 15, 6) (7997, 1)\n"
     ]
    }
   ],
   "source": [
    "# split into training and validation datasets\n",
    "x_train, x_val, y_train, y_val = train_test_split(x_train_val, y_train_val, test_size=0.2)\n",
    "print(x_train.shape, y_train.shape, x_val.shape, y_val.shape)"
   ]
  },
  {
   "cell_type": "code",
   "execution_count": 25,
   "metadata": {},
   "outputs": [],
   "source": [
    "h_units = 64\n",
    "activation_ = 'relu'\n",
    "\n",
    "def rnn_model():\n",
    "    model = Sequential()\n",
    "    model.add(LSTM(units=h_units, return_sequences=True, input_shape=(15, 6)))        \n",
    "    model.add(LSTM(units=h_units, return_sequences=False))\n",
    "    model.add(Dense(h_units))\n",
    "    model.add(Dense(1))\n",
    "    \n",
    "    return model"
   ]
  },
  {
   "cell_type": "code",
   "execution_count": 26,
   "metadata": {},
   "outputs": [
    {
     "name": "stdout",
     "output_type": "stream",
     "text": [
      "WARNING:tensorflow:From C:\\Users\\YooSeok\\Anaconda3\\envs\\Keras\\lib\\site-packages\\tensorflow\\python\\framework\\op_def_library.py:263: colocate_with (from tensorflow.python.framework.ops) is deprecated and will be removed in a future version.\n",
      "Instructions for updating:\n",
      "Colocations handled automatically by placer.\n",
      "_________________________________________________________________\n",
      "Layer (type)                 Output Shape              Param #   \n",
      "=================================================================\n",
      "lstm_1 (LSTM)                (None, 15, 64)            18176     \n",
      "_________________________________________________________________\n",
      "lstm_2 (LSTM)                (None, 64)                33024     \n",
      "_________________________________________________________________\n",
      "dense_1 (Dense)              (None, 64)                4160      \n",
      "_________________________________________________________________\n",
      "dense_2 (Dense)              (None, 1)                 65        \n",
      "=================================================================\n",
      "Total params: 55,425\n",
      "Trainable params: 55,425\n",
      "Non-trainable params: 0\n",
      "_________________________________________________________________\n"
     ]
    }
   ],
   "source": [
    "# create a model \n",
    "model = rnn_model()\n",
    "model.summary()"
   ]
  },
  {
   "cell_type": "code",
   "execution_count": 27,
   "metadata": {},
   "outputs": [],
   "source": [
    "model.compile(loss='mean_squared_error', optimizer='adam')"
   ]
  },
  {
   "cell_type": "code",
   "execution_count": 28,
   "metadata": {},
   "outputs": [
    {
     "name": "stdout",
     "output_type": "stream",
     "text": [
      "WARNING:tensorflow:From C:\\Users\\YooSeok\\Anaconda3\\envs\\Keras\\lib\\site-packages\\tensorflow\\python\\ops\\math_ops.py:3066: to_int32 (from tensorflow.python.ops.math_ops) is deprecated and will be removed in a future version.\n",
      "Instructions for updating:\n",
      "Use tf.cast instead.\n",
      "Train on 31988 samples, validate on 7997 samples\n",
      "Epoch 1/100\n",
      "31988/31988 [==============================] - 2s 70us/step - loss: 0.7003 - val_loss: 0.5872\n",
      "Epoch 2/100\n",
      "31988/31988 [==============================] - 1s 26us/step - loss: 0.4197 - val_loss: 0.2581\n",
      "Epoch 3/100\n",
      "31988/31988 [==============================] - 1s 26us/step - loss: 0.1793 - val_loss: 0.1613\n",
      "Epoch 4/100\n",
      "31988/31988 [==============================] - 1s 27us/step - loss: 0.1197 - val_loss: 0.1167\n",
      "Epoch 5/100\n",
      "31988/31988 [==============================] - 1s 27us/step - loss: 0.0904 - val_loss: 0.0978\n",
      "Epoch 6/100\n",
      "31988/31988 [==============================] - 1s 26us/step - loss: 0.0737 - val_loss: 0.0797\n",
      "Epoch 7/100\n",
      "31988/31988 [==============================] - 1s 26us/step - loss: 0.0648 - val_loss: 0.0743\n",
      "Epoch 8/100\n",
      "31988/31988 [==============================] - 1s 27us/step - loss: 0.0545 - val_loss: 0.0602\n",
      "Epoch 9/100\n",
      "31988/31988 [==============================] - 1s 27us/step - loss: 0.0473 - val_loss: 0.0541\n",
      "Epoch 10/100\n",
      "31988/31988 [==============================] - 1s 27us/step - loss: 0.0423 - val_loss: 0.0488\n",
      "Epoch 11/100\n",
      "31988/31988 [==============================] - 1s 26us/step - loss: 0.0384 - val_loss: 0.0471\n",
      "Epoch 12/100\n",
      "31988/31988 [==============================] - 1s 27us/step - loss: 0.0369 - val_loss: 0.0470\n",
      "Epoch 13/100\n",
      "31988/31988 [==============================] - 1s 27us/step - loss: 0.0364 - val_loss: 0.0481\n",
      "Epoch 14/100\n",
      "31988/31988 [==============================] - 1s 27us/step - loss: 0.0343 - val_loss: 0.0419\n",
      "Epoch 15/100\n",
      "31988/31988 [==============================] - 1s 27us/step - loss: 0.0302 - val_loss: 0.0364\n",
      "Epoch 16/100\n",
      "31988/31988 [==============================] - 1s 26us/step - loss: 0.0283 - val_loss: 0.0348\n",
      "Epoch 17/100\n",
      "31988/31988 [==============================] - 1s 27us/step - loss: 0.0272 - val_loss: 0.0338\n",
      "Epoch 18/100\n",
      "31988/31988 [==============================] - 1s 26us/step - loss: 0.0261 - val_loss: 0.0324\n",
      "Epoch 19/100\n",
      "31988/31988 [==============================] - 1s 26us/step - loss: 0.0252 - val_loss: 0.0315\n",
      "Epoch 20/100\n",
      "31988/31988 [==============================] - 1s 26us/step - loss: 0.0245 - val_loss: 0.0309\n",
      "Epoch 21/100\n",
      "31988/31988 [==============================] - 1s 26us/step - loss: 0.0242 - val_loss: 0.0349\n",
      "Epoch 22/100\n",
      "31988/31988 [==============================] - 1s 27us/step - loss: 0.0243 - val_loss: 0.0284\n",
      "Epoch 23/100\n",
      "31988/31988 [==============================] - 1s 28us/step - loss: 0.0221 - val_loss: 0.0279\n",
      "Epoch 24/100\n",
      "31988/31988 [==============================] - 1s 26us/step - loss: 0.0219 - val_loss: 0.0275\n",
      "Epoch 25/100\n",
      "31988/31988 [==============================] - 1s 27us/step - loss: 0.0215 - val_loss: 0.0265\n",
      "Epoch 26/100\n",
      "31988/31988 [==============================] - 1s 26us/step - loss: 0.0206 - val_loss: 0.0266\n",
      "Epoch 27/100\n",
      "31988/31988 [==============================] - 1s 26us/step - loss: 0.0204 - val_loss: 0.0254\n",
      "Epoch 28/100\n",
      "31988/31988 [==============================] - 1s 27us/step - loss: 0.0202 - val_loss: 0.0283\n",
      "Epoch 29/100\n",
      "31988/31988 [==============================] - 1s 26us/step - loss: 0.0216 - val_loss: 0.0248\n",
      "Epoch 30/100\n",
      "31988/31988 [==============================] - 1s 26us/step - loss: 0.0193 - val_loss: 0.0249\n",
      "Epoch 31/100\n",
      "31988/31988 [==============================] - 1s 26us/step - loss: 0.0194 - val_loss: 0.0238\n",
      "Epoch 32/100\n",
      "31988/31988 [==============================] - 1s 27us/step - loss: 0.0195 - val_loss: 0.0231\n",
      "Epoch 33/100\n",
      "31988/31988 [==============================] - 1s 27us/step - loss: 0.0199 - val_loss: 0.0232\n",
      "Epoch 34/100\n",
      "31988/31988 [==============================] - 1s 27us/step - loss: 0.0189 - val_loss: 0.0245\n",
      "Epoch 35/100\n",
      "31988/31988 [==============================] - 1s 26us/step - loss: 0.0192 - val_loss: 0.0246\n",
      "Epoch 36/100\n",
      "31988/31988 [==============================] - 1s 27us/step - loss: 0.0193 - val_loss: 0.0223\n",
      "Epoch 37/100\n",
      "31988/31988 [==============================] - 1s 27us/step - loss: 0.0182 - val_loss: 0.0223\n",
      "Epoch 38/100\n",
      "31988/31988 [==============================] - 1s 26us/step - loss: 0.0177 - val_loss: 0.0220\n",
      "Epoch 39/100\n",
      "31988/31988 [==============================] - 1s 27us/step - loss: 0.0176 - val_loss: 0.0220\n",
      "Epoch 40/100\n",
      "31988/31988 [==============================] - 1s 27us/step - loss: 0.0174 - val_loss: 0.0225\n",
      "Epoch 41/100\n",
      "31988/31988 [==============================] - 1s 26us/step - loss: 0.0179 - val_loss: 0.0223\n",
      "Epoch 42/100\n",
      "31988/31988 [==============================] - 1s 27us/step - loss: 0.0188 - val_loss: 0.0214\n",
      "Epoch 43/100\n",
      "31988/31988 [==============================] - 1s 26us/step - loss: 0.0172 - val_loss: 0.0223\n",
      "Epoch 44/100\n",
      "31988/31988 [==============================] - 1s 27us/step - loss: 0.0170 - val_loss: 0.0213\n",
      "Epoch 45/100\n",
      "31988/31988 [==============================] - 1s 26us/step - loss: 0.0169 - val_loss: 0.0214\n",
      "Epoch 46/100\n",
      "31988/31988 [==============================] - 1s 26us/step - loss: 0.0180 - val_loss: 0.0210\n",
      "Epoch 47/100\n",
      "31988/31988 [==============================] - 1s 26us/step - loss: 0.0168 - val_loss: 0.0211\n",
      "Epoch 48/100\n",
      "31988/31988 [==============================] - 1s 26us/step - loss: 0.0167 - val_loss: 0.0221\n",
      "Epoch 49/100\n",
      "31988/31988 [==============================] - 1s 26us/step - loss: 0.0168 - val_loss: 0.0216\n",
      "Epoch 50/100\n",
      "31988/31988 [==============================] - 1s 27us/step - loss: 0.0170 - val_loss: 0.0207\n",
      "Epoch 51/100\n",
      "31988/31988 [==============================] - 1s 27us/step - loss: 0.0165 - val_loss: 0.0208\n",
      "Epoch 52/100\n",
      "31988/31988 [==============================] - 1s 26us/step - loss: 0.0164 - val_loss: 0.0217\n",
      "Epoch 53/100\n",
      "31988/31988 [==============================] - 1s 27us/step - loss: 0.0166 - val_loss: 0.0208\n",
      "Epoch 54/100\n",
      "31988/31988 [==============================] - 1s 26us/step - loss: 0.0162 - val_loss: 0.0209\n",
      "Epoch 55/100\n",
      "31988/31988 [==============================] - 1s 27us/step - loss: 0.0166 - val_loss: 0.0215\n",
      "Epoch 56/100\n",
      "31988/31988 [==============================] - 1s 27us/step - loss: 0.0171 - val_loss: 0.0243\n",
      "Epoch 57/100\n",
      "31988/31988 [==============================] - 1s 27us/step - loss: 0.0168 - val_loss: 0.0207\n",
      "Epoch 58/100\n",
      "31988/31988 [==============================] - 1s 26us/step - loss: 0.0158 - val_loss: 0.0209\n",
      "Epoch 59/100\n",
      "31988/31988 [==============================] - 1s 26us/step - loss: 0.0157 - val_loss: 0.0220\n",
      "Epoch 60/100\n",
      "31988/31988 [==============================] - 1s 27us/step - loss: 0.0164 - val_loss: 0.0206\n",
      "Epoch 61/100\n",
      "31988/31988 [==============================] - 1s 27us/step - loss: 0.0159 - val_loss: 0.0208\n",
      "Epoch 62/100\n",
      "31988/31988 [==============================] - 1s 26us/step - loss: 0.0167 - val_loss: 0.0208\n",
      "Epoch 63/100\n",
      "31988/31988 [==============================] - 1s 27us/step - loss: 0.0157 - val_loss: 0.0208\n",
      "Epoch 64/100\n",
      "31988/31988 [==============================] - 1s 28us/step - loss: 0.0155 - val_loss: 0.0213\n",
      "Epoch 65/100\n",
      "31988/31988 [==============================] - 1s 27us/step - loss: 0.0156 - val_loss: 0.0223\n",
      "Epoch 66/100\n",
      "31988/31988 [==============================] - 1s 27us/step - loss: 0.0158 - val_loss: 0.0205\n",
      "Epoch 67/100\n",
      "31988/31988 [==============================] - 1s 27us/step - loss: 0.0157 - val_loss: 0.0205\n",
      "Epoch 68/100\n",
      "31988/31988 [==============================] - 1s 26us/step - loss: 0.0156 - val_loss: 0.0206\n",
      "Epoch 69/100\n",
      "31988/31988 [==============================] - 1s 27us/step - loss: 0.0153 - val_loss: 0.0209\n",
      "Epoch 70/100\n",
      "31988/31988 [==============================] - 1s 27us/step - loss: 0.0158 - val_loss: 0.0205\n",
      "Epoch 71/100\n",
      "31988/31988 [==============================] - 1s 27us/step - loss: 0.0152 - val_loss: 0.0205\n",
      "Epoch 72/100\n",
      "31988/31988 [==============================] - 1s 26us/step - loss: 0.0157 - val_loss: 0.0207\n",
      "Epoch 73/100\n",
      "31988/31988 [==============================] - 1s 27us/step - loss: 0.0150 - val_loss: 0.0207\n",
      "Epoch 74/100\n",
      "31988/31988 [==============================] - 1s 26us/step - loss: 0.0153 - val_loss: 0.0206\n",
      "Epoch 75/100\n",
      "31988/31988 [==============================] - 1s 26us/step - loss: 0.0151 - val_loss: 0.0207\n",
      "Epoch 76/100\n",
      "31988/31988 [==============================] - 1s 27us/step - loss: 0.0153 - val_loss: 0.0210\n",
      "Epoch 77/100\n",
      "31988/31988 [==============================] - 1s 26us/step - loss: 0.0150 - val_loss: 0.0216\n",
      "Epoch 78/100\n",
      "31988/31988 [==============================] - 1s 26us/step - loss: 0.0155 - val_loss: 0.0220\n",
      "Epoch 79/100\n",
      "31988/31988 [==============================] - 1s 27us/step - loss: 0.0151 - val_loss: 0.0214\n",
      "Epoch 80/100\n",
      "31988/31988 [==============================] - 1s 26us/step - loss: 0.0150 - val_loss: 0.0212\n",
      "Epoch 81/100\n",
      "31988/31988 [==============================] - 1s 26us/step - loss: 0.0152 - val_loss: 0.0215\n",
      "Epoch 82/100\n",
      "31988/31988 [==============================] - 1s 27us/step - loss: 0.0152 - val_loss: 0.0210\n",
      "Epoch 83/100\n",
      "31988/31988 [==============================] - 1s 27us/step - loss: 0.0152 - val_loss: 0.0208\n",
      "Epoch 84/100\n",
      "31988/31988 [==============================] - 1s 27us/step - loss: 0.0148 - val_loss: 0.0211\n",
      "Epoch 85/100\n",
      "31988/31988 [==============================] - 1s 26us/step - loss: 0.0147 - val_loss: 0.0208\n",
      "Epoch 86/100\n",
      "31988/31988 [==============================] - 1s 27us/step - loss: 0.0149 - val_loss: 0.0216\n",
      "Epoch 87/100\n",
      "31988/31988 [==============================] - 1s 27us/step - loss: 0.0150 - val_loss: 0.0208\n",
      "Epoch 88/100\n",
      "31988/31988 [==============================] - 1s 26us/step - loss: 0.0159 - val_loss: 0.0236\n",
      "Epoch 89/100\n",
      "31988/31988 [==============================] - 1s 26us/step - loss: 0.0151 - val_loss: 0.0210\n",
      "Epoch 90/100\n",
      "31988/31988 [==============================] - 1s 26us/step - loss: 0.0145 - val_loss: 0.0213\n",
      "Epoch 91/100\n",
      "31988/31988 [==============================] - 1s 26us/step - loss: 0.0146 - val_loss: 0.0217\n",
      "Epoch 92/100\n",
      "31988/31988 [==============================] - 1s 27us/step - loss: 0.0146 - val_loss: 0.0212\n",
      "Epoch 93/100\n",
      "31988/31988 [==============================] - 1s 27us/step - loss: 0.0145 - val_loss: 0.0213\n",
      "Epoch 94/100\n",
      "31988/31988 [==============================] - 1s 26us/step - loss: 0.0143 - val_loss: 0.0220\n",
      "Epoch 95/100\n",
      "31988/31988 [==============================] - 1s 27us/step - loss: 0.0147 - val_loss: 0.0211\n",
      "Epoch 96/100\n",
      "31988/31988 [==============================] - 1s 27us/step - loss: 0.0141 - val_loss: 0.0211\n",
      "Epoch 97/100\n",
      "31988/31988 [==============================] - 1s 26us/step - loss: 0.0141 - val_loss: 0.0212\n",
      "Epoch 98/100\n",
      "31988/31988 [==============================] - 1s 27us/step - loss: 0.0142 - val_loss: 0.0212\n",
      "Epoch 99/100\n",
      "31988/31988 [==============================] - 1s 27us/step - loss: 0.0142 - val_loss: 0.0219\n",
      "Epoch 100/100\n",
      "31988/31988 [==============================] - 1s 27us/step - loss: 0.0149 - val_loss: 0.0232\n"
     ]
    }
   ],
   "source": [
    "# training\n",
    "tensorBoard = TensorBoard(log_dir='./logs', histogram_freq=0, write_graph=True, write_images=False)\n",
    "\n",
    "hist = model.fit(x_train, y_train, epochs=100, batch_size=2048, verbose=True, validation_data=(x_val, y_val), shuffle=True, callbacks=[tensorBoard])"
   ]
  },
  {
   "cell_type": "code",
   "execution_count": 29,
   "metadata": {},
   "outputs": [
    {
     "name": "stdout",
     "output_type": "stream",
     "text": [
      "15016/15016 [==============================] - 1s 36us/step\n",
      "(15016, 1)\n",
      "15016/15016 [==============================] - 0s 24us/step\n",
      "0.04889921210090976\n"
     ]
    }
   ],
   "source": [
    "y_pred = model.predict(x_test, batch_size=1024, verbose=True) \n",
    "print(y_pred.shape)\n",
    "print(model.evaluate(x_test, y_test,batch_size=1024))"
   ]
  },
  {
   "cell_type": "code",
   "execution_count": 37,
   "metadata": {},
   "outputs": [
    {
     "data": {
      "image/png": "[encoded data removed]",
      "text/plain": [
       "<Figure size 432x288 with 1 Axes>"
      ]
     },
     "metadata": {
      "needs_background": "light"
     },
     "output_type": "display_data"
    }
   ],
   "source": [
    "%matplotlib inline\n",
    "import matplotlib.pyplot as plt\n",
    "\n",
    "fig, loss_ax = plt.subplots()\n",
    "\n",
    "loss_ax.plot(hist.history['loss'], 'b', label='train loss')\n",
    "loss_ax.plot(hist.history['val_loss'], 'r', label='test loss', ls='--')\n",
    "\n",
    "loss_ax.set_xlabel('epoch')\n",
    "loss_ax.set_ylabel('loss')\n",
    "\n",
    "loss_ax.legend(loc='upper right')\n",
    "\n",
    "plt.show()"
   ]
  },
  {
   "cell_type": "code",
   "execution_count": 59,
   "metadata": {},
   "outputs": [
    {
     "data": {
      "image/png": "[encoded data removed]",
      "text/plain": [
       "<Figure size 288x216 with 1 Axes>"
      ]
     },
     "metadata": {
      "needs_background": "light"
     },
     "output_type": "display_data"
    }
   ],
   "source": [
    "plt.figure(figsize=(4,3))\n",
    "plt.plot(hist.history['loss'], 'b', label='train loss')\n",
    "plt.plot(hist.history['val_loss'], 'r', label='test loss', ls='--')\n",
    "plt.grid(color='gray', linestyle=':', linewidth=1)\n",
    "plt.xlim(left = 0, right = 100)\n",
    "plt.ylim(bottom = 0, top = 1.0)\n",
    "plt.xlabel('Epoch')\n",
    "plt.ylabel('Loss')\n",
    "plt.legend(shadow=True, loc='upper right')\n",
    "plt.savefig('loss_graph.png', dpi=300)\n",
    "plt.show()"
   ]
  },
  {
   "cell_type": "code",
   "execution_count": 31,
   "metadata": {},
   "outputs": [
    {
     "data": {
      "image/png": "[encoded data removed]",
      "text/plain": [
       "<Figure size 1368x576 with 1 Axes>"
      ]
     },
     "metadata": {
      "needs_background": "light"
     },
     "output_type": "display_data"
    }
   ],
   "source": [
    "# visualization for prediction result\n",
    "# set figure size\n",
    "plt.figure(figsize=(19,8))\n",
    "\n",
    "# set font\n",
    "font = {'family': 'Arial', 'weight': 'normal', 'size': 16}\n",
    "plt.rc('font', **font)\n",
    "\n",
    "# plot data \n",
    "plt.plot(y_test[:,0], 'r', label='y_true')\n",
    "plt.plot(y_pred[:,0], 'b', label='y_pred')\n",
    "\n",
    "# set legend position\n",
    "plt.legend(shadow=True, loc='upper right')\n",
    "\n",
    "# set x-axis & y-axis titles\n",
    "#plt.title('prediction result')\n",
    "plt.xlabel('Time Index')\n",
    "plt.ylabel('Brightness')\n",
    "\n",
    "# set axis-limits\n",
    "plt.xlim(left = 0, right = len(y_test)) \n",
    "#plt.ylim(bottom = -5) \n",
    "\n",
    "# set grid\n",
    "plt.grid(color='gray', linestyle='--', linewidth=1)\n",
    "\n",
    "plt.xticks(np.arange(0,16000,2000))\n",
    "#plt.yticks(np.arange(0,1,1))\n",
    "\n",
    "# save & display figure\n",
    "plt.savefig('pred_graph.png', dpi=300)\n",
    "plt.show()"
   ]
  },
  {
   "cell_type": "code",
   "execution_count": 32,
   "metadata": {},
   "outputs": [
    {
     "name": "stdout",
     "output_type": "stream",
     "text": [
      "Train Score:  0.01569387220272838\n",
      "Test Score:  0.04889921207334097\n"
     ]
    }
   ],
   "source": [
    "#모델 평가하기\n",
    "trainScore = model.evaluate(x_train, y_train, verbose=0)\n",
    "print('Train Score: ', trainScore)\n",
    "#valScore = model.evaluate(x_val, y_val, verbose=0)\n",
    "#print('Validataion Score: ', valScore)\n",
    "testScore = model.evaluate(x_test, y_test, verbose=0)\n",
    "print('Test Score: ', testScore)"
   ]
  },
  {
   "cell_type": "code",
   "execution_count": 33,
   "metadata": {},
   "outputs": [
    {
     "name": "stdout",
     "output_type": "stream",
     "text": [
      "MAPE:  26.31978036400157\n"
     ]
    }
   ],
   "source": [
    "#MAPE\n",
    "\n",
    "y_test, y_pred = np.array(y_test), np.array(y_pred)\n",
    "mape = np.mean(np.abs((y_test - y_pred) / y_test)) * 100\n",
    "print('MAPE: ', mape)"
   ]
  },
  {
   "cell_type": "code",
   "execution_count": 34,
   "metadata": {},
   "outputs": [
    {
     "data": {
      "image/svg+xml": [
       "<svg height=\"377pt\" viewBox=\"0.00 0.00 260.00 377.00\" width=\"260pt\" xmlns=\"http://www.w3.org/2000/svg\" xmlns:xlink=\"http://www.w3.org/1999/xlink\">\n",
       "<g class=\"graph\" id=\"graph0\" transform=\"scale(1 1) rotate(0) translate(4 373)\">\n",
       "<title>G</title>\n",
       "<polygon fill=\"white\" points=\"-4,4 -4,-373 256,-373 256,4 -4,4\" stroke=\"none\"/>\n",
       "<!-- 2152108057712 -->\n",
       "<g class=\"node\" id=\"node1\"><title>2152108057712</title>\n",
       "<polygon fill=\"none\" points=\"0,-249.5 0,-295.5 252,-295.5 252,-249.5 0,-249.5\" stroke=\"black\"/>\n",
       "<text font-family=\"Times New Roman,serif\" font-size=\"14.00\" text-anchor=\"middle\" x=\"49\" y=\"-268.8\">lstm_1: LSTM</text>\n",
       "<polyline fill=\"none\" points=\"98,-249.5 98,-295.5 \" stroke=\"black\"/>\n",
       "<text font-family=\"Times New Roman,serif\" font-size=\"14.00\" text-anchor=\"middle\" x=\"126\" y=\"-280.3\">input:</text>\n",
       "<polyline fill=\"none\" points=\"98,-272.5 154,-272.5 \" stroke=\"black\"/>\n",
       "<text font-family=\"Times New Roman,serif\" font-size=\"14.00\" text-anchor=\"middle\" x=\"126\" y=\"-257.3\">output:</text>\n",
       "<polyline fill=\"none\" points=\"154,-249.5 154,-295.5 \" stroke=\"black\"/>\n",
       "<text font-family=\"Times New Roman,serif\" font-size=\"14.00\" text-anchor=\"middle\" x=\"203\" y=\"-280.3\">(None, 15, 6)</text>\n",
       "<polyline fill=\"none\" points=\"154,-272.5 252,-272.5 \" stroke=\"black\"/>\n",
       "<text font-family=\"Times New Roman,serif\" font-size=\"14.00\" text-anchor=\"middle\" x=\"203\" y=\"-257.3\">(None, 15, 64)</text>\n",
       "</g>\n",
       "<!-- 2152213646360 -->\n",
       "<g class=\"node\" id=\"node2\"><title>2152213646360</title>\n",
       "<polygon fill=\"none\" points=\"0,-166.5 0,-212.5 252,-212.5 252,-166.5 0,-166.5\" stroke=\"black\"/>\n",
       "<text font-family=\"Times New Roman,serif\" font-size=\"14.00\" text-anchor=\"middle\" x=\"49\" y=\"-185.8\">lstm_2: LSTM</text>\n",
       "<polyline fill=\"none\" points=\"98,-166.5 98,-212.5 \" stroke=\"black\"/>\n",
       "<text font-family=\"Times New Roman,serif\" font-size=\"14.00\" text-anchor=\"middle\" x=\"126\" y=\"-197.3\">input:</text>\n",
       "<polyline fill=\"none\" points=\"98,-189.5 154,-189.5 \" stroke=\"black\"/>\n",
       "<text font-family=\"Times New Roman,serif\" font-size=\"14.00\" text-anchor=\"middle\" x=\"126\" y=\"-174.3\">output:</text>\n",
       "<polyline fill=\"none\" points=\"154,-166.5 154,-212.5 \" stroke=\"black\"/>\n",
       "<text font-family=\"Times New Roman,serif\" font-size=\"14.00\" text-anchor=\"middle\" x=\"203\" y=\"-197.3\">(None, 15, 64)</text>\n",
       "<polyline fill=\"none\" points=\"154,-189.5 252,-189.5 \" stroke=\"black\"/>\n",
       "<text font-family=\"Times New Roman,serif\" font-size=\"14.00\" text-anchor=\"middle\" x=\"203\" y=\"-174.3\">(None, 64)</text>\n",
       "</g>\n",
       "<!-- 2152108057712&#45;&gt;2152213646360 -->\n",
       "<g class=\"edge\" id=\"edge2\"><title>2152108057712-&gt;2152213646360</title>\n",
       "<path d=\"M126,-249.366C126,-241.152 126,-231.658 126,-222.725\" fill=\"none\" stroke=\"black\"/>\n",
       "<polygon fill=\"black\" points=\"129.5,-222.607 126,-212.607 122.5,-222.607 129.5,-222.607\" stroke=\"black\"/>\n",
       "</g>\n",
       "<!-- 2152213505640 -->\n",
       "<g class=\"node\" id=\"node3\"><title>2152213505640</title>\n",
       "<polygon fill=\"none\" points=\"7.5,-83.5 7.5,-129.5 244.5,-129.5 244.5,-83.5 7.5,-83.5\" stroke=\"black\"/>\n",
       "<text font-family=\"Times New Roman,serif\" font-size=\"14.00\" text-anchor=\"middle\" x=\"59.5\" y=\"-102.8\">dense_1: Dense</text>\n",
       "<polyline fill=\"none\" points=\"111.5,-83.5 111.5,-129.5 \" stroke=\"black\"/>\n",
       "<text font-family=\"Times New Roman,serif\" font-size=\"14.00\" text-anchor=\"middle\" x=\"139.5\" y=\"-114.3\">input:</text>\n",
       "<polyline fill=\"none\" points=\"111.5,-106.5 167.5,-106.5 \" stroke=\"black\"/>\n",
       "<text font-family=\"Times New Roman,serif\" font-size=\"14.00\" text-anchor=\"middle\" x=\"139.5\" y=\"-91.3\">output:</text>\n",
       "<polyline fill=\"none\" points=\"167.5,-83.5 167.5,-129.5 \" stroke=\"black\"/>\n",
       "<text font-family=\"Times New Roman,serif\" font-size=\"14.00\" text-anchor=\"middle\" x=\"206\" y=\"-114.3\">(None, 64)</text>\n",
       "<polyline fill=\"none\" points=\"167.5,-106.5 244.5,-106.5 \" stroke=\"black\"/>\n",
       "<text font-family=\"Times New Roman,serif\" font-size=\"14.00\" text-anchor=\"middle\" x=\"206\" y=\"-91.3\">(None, 64)</text>\n",
       "</g>\n",
       "<!-- 2152213646360&#45;&gt;2152213505640 -->\n",
       "<g class=\"edge\" id=\"edge3\"><title>2152213646360-&gt;2152213505640</title>\n",
       "<path d=\"M126,-166.366C126,-158.152 126,-148.658 126,-139.725\" fill=\"none\" stroke=\"black\"/>\n",
       "<polygon fill=\"black\" points=\"129.5,-139.607 126,-129.607 122.5,-139.607 129.5,-139.607\" stroke=\"black\"/>\n",
       "</g>\n",
       "<!-- 2152229506408 -->\n",
       "<g class=\"node\" id=\"node4\"><title>2152229506408</title>\n",
       "<polygon fill=\"none\" points=\"7.5,-0.5 7.5,-46.5 244.5,-46.5 244.5,-0.5 7.5,-0.5\" stroke=\"black\"/>\n",
       "<text font-family=\"Times New Roman,serif\" font-size=\"14.00\" text-anchor=\"middle\" x=\"59.5\" y=\"-19.8\">dense_2: Dense</text>\n",
       "<polyline fill=\"none\" points=\"111.5,-0.5 111.5,-46.5 \" stroke=\"black\"/>\n",
       "<text font-family=\"Times New Roman,serif\" font-size=\"14.00\" text-anchor=\"middle\" x=\"139.5\" y=\"-31.3\">input:</text>\n",
       "<polyline fill=\"none\" points=\"111.5,-23.5 167.5,-23.5 \" stroke=\"black\"/>\n",
       "<text font-family=\"Times New Roman,serif\" font-size=\"14.00\" text-anchor=\"middle\" x=\"139.5\" y=\"-8.3\">output:</text>\n",
       "<polyline fill=\"none\" points=\"167.5,-0.5 167.5,-46.5 \" stroke=\"black\"/>\n",
       "<text font-family=\"Times New Roman,serif\" font-size=\"14.00\" text-anchor=\"middle\" x=\"206\" y=\"-31.3\">(None, 64)</text>\n",
       "<polyline fill=\"none\" points=\"167.5,-23.5 244.5,-23.5 \" stroke=\"black\"/>\n",
       "<text font-family=\"Times New Roman,serif\" font-size=\"14.00\" text-anchor=\"middle\" x=\"206\" y=\"-8.3\">(None, 1)</text>\n",
       "</g>\n",
       "<!-- 2152213505640&#45;&gt;2152229506408 -->\n",
       "<g class=\"edge\" id=\"edge4\"><title>2152213505640-&gt;2152229506408</title>\n",
       "<path d=\"M126,-83.3664C126,-75.1516 126,-65.6579 126,-56.7252\" fill=\"none\" stroke=\"black\"/>\n",
       "<polygon fill=\"black\" points=\"129.5,-56.6068 126,-46.6068 122.5,-56.6069 129.5,-56.6068\" stroke=\"black\"/>\n",
       "</g>\n",
       "<!-- 2152108060232 -->\n",
       "<g class=\"node\" id=\"node5\"><title>2152108060232</title>\n",
       "<polygon fill=\"none\" points=\"74,-332.5 74,-368.5 178,-368.5 178,-332.5 74,-332.5\" stroke=\"black\"/>\n",
       "<text font-family=\"Times New Roman,serif\" font-size=\"14.00\" text-anchor=\"middle\" x=\"126\" y=\"-346.8\">2152108060232</text>\n",
       "</g>\n",
       "<!-- 2152108060232&#45;&gt;2152108057712 -->\n",
       "<g class=\"edge\" id=\"edge1\"><title>2152108060232-&gt;2152108057712</title>\n",
       "<path d=\"M126,-332.254C126,-324.363 126,-314.749 126,-305.602\" fill=\"none\" stroke=\"black\"/>\n",
       "<polygon fill=\"black\" points=\"129.5,-305.591 126,-295.591 122.5,-305.591 129.5,-305.591\" stroke=\"black\"/>\n",
       "</g>\n",
       "</g>\n",
       "</svg>"
      ],
      "text/plain": [
       "<IPython.core.display.SVG object>"
      ]
     },
     "execution_count": 34,
     "metadata": {},
     "output_type": "execute_result"
    }
   ],
   "source": [
    "from IPython.display import SVG\n",
    "from keras.utils.vis_utils import model_to_dot\n",
    "\n",
    "%matplotlib inline\n",
    "\n",
    "SVG(model_to_dot(model, show_shapes=True).create(prog='dot', format='svg'))"
   ]
  },
  {
   "cell_type": "code",
   "execution_count": null,
   "metadata": {},
   "outputs": [],
   "source": []
  }
 ],
 "metadata": {
  "kernelspec": {
   "display_name": "Python 3",
   "language": "python",
   "name": "python3"
  },
  "language_info": {
   "codemirror_mode": {
    "name": "ipython",
    "version": 3
   },
   "file_extension": ".py",
   "mimetype": "text/x-python",
   "name": "python",
   "nbconvert_exporter": "python",
   "pygments_lexer": "ipython3",
   "version": "3.7.3"
  }
 },
 "nbformat": 4,
 "nbformat_minor": 4
}
