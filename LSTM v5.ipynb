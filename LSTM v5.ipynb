{
 "cells": [
  {
   "cell_type": "code",
   "execution_count": 1,
   "metadata": {},
   "outputs": [
    {
     "name": "stderr",
     "output_type": "stream",
     "text": [
      "Using TensorFlow backend.\n",
      "C:\\Users\\YooSeok\\Anaconda3\\envs\\Keras\\lib\\site-packages\\tensorflow\\python\\framework\\dtypes.py:526: FutureWarning: Passing (type, 1) or '1type' as a synonym of type is deprecated; in a future version of numpy, it will be understood as (type, (1,)) / '(1,)type'.\n",
      "  _np_qint8 = np.dtype([(\"qint8\", np.int8, 1)])\n",
      "C:\\Users\\YooSeok\\Anaconda3\\envs\\Keras\\lib\\site-packages\\tensorflow\\python\\framework\\dtypes.py:527: FutureWarning: Passing (type, 1) or '1type' as a synonym of type is deprecated; in a future version of numpy, it will be understood as (type, (1,)) / '(1,)type'.\n",
      "  _np_quint8 = np.dtype([(\"quint8\", np.uint8, 1)])\n",
      "C:\\Users\\YooSeok\\Anaconda3\\envs\\Keras\\lib\\site-packages\\tensorflow\\python\\framework\\dtypes.py:528: FutureWarning: Passing (type, 1) or '1type' as a synonym of type is deprecated; in a future version of numpy, it will be understood as (type, (1,)) / '(1,)type'.\n",
      "  _np_qint16 = np.dtype([(\"qint16\", np.int16, 1)])\n",
      "C:\\Users\\YooSeok\\Anaconda3\\envs\\Keras\\lib\\site-packages\\tensorflow\\python\\framework\\dtypes.py:529: FutureWarning: Passing (type, 1) or '1type' as a synonym of type is deprecated; in a future version of numpy, it will be understood as (type, (1,)) / '(1,)type'.\n",
      "  _np_quint16 = np.dtype([(\"quint16\", np.uint16, 1)])\n",
      "C:\\Users\\YooSeok\\Anaconda3\\envs\\Keras\\lib\\site-packages\\tensorflow\\python\\framework\\dtypes.py:530: FutureWarning: Passing (type, 1) or '1type' as a synonym of type is deprecated; in a future version of numpy, it will be understood as (type, (1,)) / '(1,)type'.\n",
      "  _np_qint32 = np.dtype([(\"qint32\", np.int32, 1)])\n",
      "C:\\Users\\YooSeok\\Anaconda3\\envs\\Keras\\lib\\site-packages\\tensorflow\\python\\framework\\dtypes.py:535: FutureWarning: Passing (type, 1) or '1type' as a synonym of type is deprecated; in a future version of numpy, it will be understood as (type, (1,)) / '(1,)type'.\n",
      "  np_resource = np.dtype([(\"resource\", np.ubyte, 1)])\n"
     ]
    }
   ],
   "source": [
    "import pandas as pd\n",
    "import numpy as np\n",
    "import matplotlib.pyplot as plt\n",
    "\n",
    "from keras.models import Sequential\n",
    "from keras.layers import LSTM, Dense, Activation, BatchNormalization\n",
    "from keras.callbacks import TensorBoard\n",
    "\n",
    "from sklearn.model_selection import train_test_split"
   ]
  },
  {
   "cell_type": "code",
   "execution_count": 2,
   "metadata": {},
   "outputs": [
    {
     "name": "stdout",
     "output_type": "stream",
     "text": [
      "(55277, 2)\n"
     ]
    }
   ],
   "source": [
    "df_data = pd.read_csv('data.csv')\n",
    "print(df_data.shape)"
   ]
  },
  {
   "cell_type": "code",
   "execution_count": 3,
   "metadata": {},
   "outputs": [
    {
     "data": {
      "text/html": [
       "<div>\n",
       "<style scoped>\n",
       "    .dataframe tbody tr th:only-of-type {\n",
       "        vertical-align: middle;\n",
       "    }\n",
       "\n",
       "    .dataframe tbody tr th {\n",
       "        vertical-align: top;\n",
       "    }\n",
       "\n",
       "    .dataframe thead th {\n",
       "        text-align: right;\n",
       "    }\n",
       "</style>\n",
       "<table border=\"1\" class=\"dataframe\">\n",
       "  <thead>\n",
       "    <tr style=\"text-align: right;\">\n",
       "      <th></th>\n",
       "      <th>Time</th>\n",
       "      <th>Lux</th>\n",
       "    </tr>\n",
       "  </thead>\n",
       "  <tbody>\n",
       "    <tr>\n",
       "      <th>0</th>\n",
       "      <td>2018-08-10 09:41:37 UTC</td>\n",
       "      <td>527</td>\n",
       "    </tr>\n",
       "    <tr>\n",
       "      <th>1</th>\n",
       "      <td>2018-08-10 09:42:26 UTC</td>\n",
       "      <td>942</td>\n",
       "    </tr>\n",
       "    <tr>\n",
       "      <th>2</th>\n",
       "      <td>2018-08-10 09:43:16 UTC</td>\n",
       "      <td>942</td>\n",
       "    </tr>\n",
       "    <tr>\n",
       "      <th>3</th>\n",
       "      <td>2018-08-10 09:44:04 UTC</td>\n",
       "      <td>942</td>\n",
       "    </tr>\n",
       "    <tr>\n",
       "      <th>4</th>\n",
       "      <td>2018-08-10 09:44:53 UTC</td>\n",
       "      <td>942</td>\n",
       "    </tr>\n",
       "    <tr>\n",
       "      <th>5</th>\n",
       "      <td>2018-08-10 09:45:41 UTC</td>\n",
       "      <td>941</td>\n",
       "    </tr>\n",
       "    <tr>\n",
       "      <th>6</th>\n",
       "      <td>2018-08-10 09:46:31 UTC</td>\n",
       "      <td>951</td>\n",
       "    </tr>\n",
       "    <tr>\n",
       "      <th>7</th>\n",
       "      <td>2018-08-10 09:47:19 UTC</td>\n",
       "      <td>951</td>\n",
       "    </tr>\n",
       "    <tr>\n",
       "      <th>8</th>\n",
       "      <td>2018-08-10 09:48:08 UTC</td>\n",
       "      <td>951</td>\n",
       "    </tr>\n",
       "    <tr>\n",
       "      <th>9</th>\n",
       "      <td>2018-08-10 09:48:57 UTC</td>\n",
       "      <td>951</td>\n",
       "    </tr>\n",
       "  </tbody>\n",
       "</table>\n",
       "</div>"
      ],
      "text/plain": [
       "                      Time  Lux\n",
       "0  2018-08-10 09:41:37 UTC  527\n",
       "1  2018-08-10 09:42:26 UTC  942\n",
       "2  2018-08-10 09:43:16 UTC  942\n",
       "3  2018-08-10 09:44:04 UTC  942\n",
       "4  2018-08-10 09:44:53 UTC  942\n",
       "5  2018-08-10 09:45:41 UTC  941\n",
       "6  2018-08-10 09:46:31 UTC  951\n",
       "7  2018-08-10 09:47:19 UTC  951\n",
       "8  2018-08-10 09:48:08 UTC  951\n",
       "9  2018-08-10 09:48:57 UTC  951"
      ]
     },
     "execution_count": 3,
     "metadata": {},
     "output_type": "execute_result"
    }
   ],
   "source": [
    "df_data.head(10)"
   ]
  },
  {
   "cell_type": "code",
   "execution_count": 4,
   "metadata": {},
   "outputs": [
    {
     "name": "stdout",
     "output_type": "stream",
     "text": [
      "<class 'pandas.core.frame.DataFrame'>\n",
      "RangeIndex: 55277 entries, 0 to 55276\n",
      "Data columns (total 2 columns):\n",
      "Time    55277 non-null object\n",
      "Lux     55277 non-null int64\n",
      "dtypes: int64(1), object(1)\n",
      "memory usage: 863.8+ KB\n"
     ]
    }
   ],
   "source": [
    "df_data.info()"
   ]
  },
  {
   "cell_type": "code",
   "execution_count": 5,
   "metadata": {},
   "outputs": [],
   "source": [
    "df_data['Time'] = pd.to_datetime(df_data['Time'])"
   ]
  },
  {
   "cell_type": "code",
   "execution_count": 6,
   "metadata": {},
   "outputs": [],
   "source": [
    "hour, minute, second = [], [], []\n",
    "for i in range(np.size(df_data, 0)):\n",
    "    hour.append(df_data['Time'][i].hour)\n",
    "    minute.append(df_data['Time'][i].minute)\n",
    "    second.append(df_data['Time'][i].second)"
   ]
  },
  {
   "cell_type": "code",
   "execution_count": 7,
   "metadata": {},
   "outputs": [
    {
     "name": "stdout",
     "output_type": "stream",
     "text": [
      "(55277, 1) (55277, 1) (55277, 1)\n"
     ]
    }
   ],
   "source": [
    "hour = np.array(hour).reshape(-1, 1)\n",
    "minute = np.array(minute).reshape(-1, 1)\n",
    "second = np.array(second).reshape(-1, 1)\n",
    "\n",
    "print(hour.shape, minute.shape, second.shape)"
   ]
  },
  {
   "cell_type": "code",
   "execution_count": 8,
   "metadata": {},
   "outputs": [
    {
     "name": "stdout",
     "output_type": "stream",
     "text": [
      "(55277, 1)\n"
     ]
    }
   ],
   "source": [
    "lux = df_data['Lux'].values.reshape(-1, 1)\n",
    "print(lux.shape)"
   ]
  },
  {
   "cell_type": "code",
   "execution_count": 9,
   "metadata": {},
   "outputs": [],
   "source": [
    "lux = (lux - lux.mean()) / lux.std()"
   ]
  },
  {
   "cell_type": "code",
   "execution_count": 10,
   "metadata": {},
   "outputs": [
    {
     "data": {
      "image/png": "[encoded data removed]",
      "text/plain": [
       "<Figure size 432x288 with 1 Axes>"
      ]
     },
     "metadata": {
      "needs_background": "light"
     },
     "output_type": "display_data"
    }
   ],
   "source": [
    "lux\n",
    "plt.plot(lux[:,0], 'r', label='y_true')\n",
    "plt.show()"
   ]
  },
  {
   "cell_type": "code",
   "execution_count": 11,
   "metadata": {},
   "outputs": [
    {
     "name": "stdout",
     "output_type": "stream",
     "text": [
      "(55277, 4)\n"
     ]
    }
   ],
   "source": [
    "data = np.concatenate((hour, minute, second, lux), axis=1)\n",
    "print(data.shape)"
   ]
  },
  {
   "cell_type": "code",
   "execution_count": 12,
   "metadata": {},
   "outputs": [
    {
     "data": {
      "text/plain": [
       "array([[ 9.        , 41.        , 37.        , -2.19270162],\n",
       "       [ 9.        , 42.        , 26.        ,  0.39705694],\n",
       "       [ 9.        , 43.        , 16.        ,  0.39705694],\n",
       "       [ 9.        , 44.        ,  4.        ,  0.39705694],\n",
       "       [ 9.        , 44.        , 53.        ,  0.39705694],\n",
       "       [ 9.        , 45.        , 41.        ,  0.39081656],\n",
       "       [ 9.        , 46.        , 31.        ,  0.45322038],\n",
       "       [ 9.        , 47.        , 19.        ,  0.45322038],\n",
       "       [ 9.        , 48.        ,  8.        ,  0.45322038],\n",
       "       [ 9.        , 48.        , 57.        ,  0.45322038]])"
      ]
     },
     "execution_count": 12,
     "metadata": {},
     "output_type": "execute_result"
    }
   ],
   "source": [
    "data[:10]"
   ]
  },
  {
   "cell_type": "code",
   "execution_count": 13,
   "metadata": {},
   "outputs": [
    {
     "name": "stdout",
     "output_type": "stream",
     "text": [
      "(40000, 4) (40000, 1)\n"
     ]
    }
   ],
   "source": [
    "train_data = data[:40000]\n",
    "train_lux = lux[:40000]\n",
    "print(train_data.shape, train_lux.shape)"
   ]
  },
  {
   "cell_type": "code",
   "execution_count": 14,
   "metadata": {},
   "outputs": [
    {
     "name": "stdout",
     "output_type": "stream",
     "text": [
      "(15276, 4) (15276, 1)\n"
     ]
    }
   ],
   "source": [
    "test_data = data[40001:]\n",
    "test_lux = lux[40001:]\n",
    "print(test_data.shape, test_lux.shape)"
   ]
  },
  {
   "cell_type": "code",
   "execution_count": 94,
   "metadata": {},
   "outputs": [],
   "source": [
    "lag=5 # 몇분 후 의 데이터를 input feature로 할지(?)"
   ]
  },
  {
   "cell_type": "code",
   "execution_count": 95,
   "metadata": {},
   "outputs": [
    {
     "name": "stdout",
     "output_type": "stream",
     "text": [
      "(20, 39975, 4)\n"
     ]
    }
   ],
   "source": [
    "arrnum = 20\n",
    "arr = []\n",
    "for i in range(arrnum):\n",
    "    arr.append(train_data[i:(i-lag-arrnum),:])\n",
    "\n",
    "arr = np.array(arr, dtype=np.float32)\n",
    "print(arr.shape)"
   ]
  },
  {
   "cell_type": "code",
   "execution_count": 96,
   "metadata": {},
   "outputs": [
    {
     "data": {
      "text/plain": [
       "array([[ 9.        , 42.        , 26.        ,  0.39705694],\n",
       "       [ 9.        , 43.        , 16.        ,  0.39705694],\n",
       "       [ 9.        , 44.        ,  4.        ,  0.39705694],\n",
       "       ...,\n",
       "       [18.        , 22.        , 28.        ,  0.5967492 ],\n",
       "       [18.        , 23.        , 16.        ,  0.59050876],\n",
       "       [18.        , 24.        ,  5.        ,  0.59050876]],\n",
       "      dtype=float32)"
      ]
     },
     "execution_count": 96,
     "metadata": {},
     "output_type": "execute_result"
    }
   ],
   "source": [
    "arr[1]"
   ]
  },
  {
   "cell_type": "code",
   "execution_count": 97,
   "metadata": {},
   "outputs": [],
   "source": [
    "x_train_val = np.concatenate((arr[0], arr[1], arr[2], arr[3], arr[4], arr[5], arr[6], arr[7], arr[8], arr[9], arr[10], arr[11], arr[12], arr[13], arr[14], arr[15], arr[16], arr[17], arr[18], arr[19]), axis=1).reshape(-1, arrnum, 4)\n",
    "train_mean, train_std = np.mean(x_train_val, axis=0), np.std(x_train_val, axis=0)\n",
    "train_mean, train_std = np.mean(train_mean, axis=0), np.mean(train_std, axis=0)"
   ]
  },
  {
   "cell_type": "code",
   "execution_count": 98,
   "metadata": {},
   "outputs": [
    {
     "data": {
      "text/plain": [
       "(39975, 20, 4)"
      ]
     },
     "execution_count": 98,
     "metadata": {},
     "output_type": "execute_result"
    }
   ],
   "source": [
    "x_train_val.shape"
   ]
  },
  {
   "cell_type": "code",
   "execution_count": 99,
   "metadata": {},
   "outputs": [],
   "source": [
    "y_train_val = train_lux[(arrnum+lag):, :].reshape(-1, 1)"
   ]
  },
  {
   "cell_type": "code",
   "execution_count": 100,
   "metadata": {},
   "outputs": [
    {
     "data": {
      "text/plain": [
       "(39975, 1)"
      ]
     },
     "execution_count": 100,
     "metadata": {},
     "output_type": "execute_result"
    }
   ],
   "source": [
    "y_train_val.shape"
   ]
  },
  {
   "cell_type": "code",
   "execution_count": 101,
   "metadata": {},
   "outputs": [
    {
     "name": "stdout",
     "output_type": "stream",
     "text": [
      "(39975, 20, 4) (39975, 1)\n"
     ]
    }
   ],
   "source": [
    "print(x_train_val.shape, y_train_val.shape)"
   ]
  },
  {
   "cell_type": "code",
   "execution_count": 102,
   "metadata": {},
   "outputs": [
    {
     "name": "stdout",
     "output_type": "stream",
     "text": [
      "(20, 15251, 4)\n"
     ]
    }
   ],
   "source": [
    "arr = []\n",
    "for i in range(arrnum):\n",
    "    arr.append(test_data[i:(i-lag-arrnum),:])\n",
    "    \n",
    "arr = np.array(arr, dtype=np.float32)\n",
    "print(arr.shape)\n"
   ]
  },
  {
   "cell_type": "code",
   "execution_count": 103,
   "metadata": {},
   "outputs": [
    {
     "name": "stdout",
     "output_type": "stream",
     "text": [
      "(15251, 20, 4) (15251, 1)\n"
     ]
    }
   ],
   "source": [
    "x_test = np.concatenate((arr[0], arr[1], arr[2], arr[3], arr[4], arr[5], arr[6], arr[7], arr[8], arr[9], arr[10], arr[11], arr[12], arr[13], arr[14], arr[15], arr[16], arr[17], arr[18], arr[19]), axis=1).reshape(-1, arrnum, 4)\n",
    "y_test = test_lux[(lag+arrnum):, :].reshape(-1, 1)\n",
    "print(x_test.shape, y_test.shape)"
   ]
  },
  {
   "cell_type": "code",
   "execution_count": 104,
   "metadata": {},
   "outputs": [
    {
     "name": "stdout",
     "output_type": "stream",
     "text": [
      "(31980, 20, 4) (31980, 1) (7995, 20, 4) (7995, 1)\n"
     ]
    }
   ],
   "source": [
    "# split into training and validation datasets\n",
    "x_train, x_val, y_train, y_val = train_test_split(x_train_val, y_train_val, test_size=0.2)\n",
    "print(x_train.shape, y_train.shape, x_val.shape, y_val.shape)"
   ]
  },
  {
   "cell_type": "code",
   "execution_count": 105,
   "metadata": {},
   "outputs": [],
   "source": [
    "h_units = 128\n",
    "activation_ = 'relu'\n",
    "\n",
    "def rnn_model():\n",
    "    model = Sequential()\n",
    "    model.add(LSTM(units=h_units, return_sequences=True, input_shape=(arrnum, 4)))        \n",
    "    model.add(LSTM(units=h_units, return_sequences=False))\n",
    "    model.add(Dense(h_units))\n",
    "    model.add(Dense(1))\n",
    "    \n",
    "    return model"
   ]
  },
  {
   "cell_type": "code",
   "execution_count": 106,
   "metadata": {},
   "outputs": [
    {
     "name": "stdout",
     "output_type": "stream",
     "text": [
      "_________________________________________________________________\n",
      "Layer (type)                 Output Shape              Param #   \n",
      "=================================================================\n",
      "lstm_5 (LSTM)                (None, 20, 128)           68096     \n",
      "_________________________________________________________________\n",
      "lstm_6 (LSTM)                (None, 128)               131584    \n",
      "_________________________________________________________________\n",
      "dense_5 (Dense)              (None, 128)               16512     \n",
      "_________________________________________________________________\n",
      "dense_6 (Dense)              (None, 1)                 129       \n",
      "=================================================================\n",
      "Total params: 216,321\n",
      "Trainable params: 216,321\n",
      "Non-trainable params: 0\n",
      "_________________________________________________________________\n"
     ]
    }
   ],
   "source": [
    "# create a model \n",
    "model = rnn_model()\n",
    "model.summary()"
   ]
  },
  {
   "cell_type": "code",
   "execution_count": 107,
   "metadata": {},
   "outputs": [],
   "source": [
    "model.compile(loss='mean_squared_error', optimizer='adam')"
   ]
  },
  {
   "cell_type": "code",
   "execution_count": 108,
   "metadata": {},
   "outputs": [
    {
     "name": "stdout",
     "output_type": "stream",
     "text": [
      "Train on 31980 samples, validate on 7995 samples\n",
      "Epoch 1/100\n",
      "31980/31980 [==============================] - 5s 162us/step - loss: 0.3403 - val_loss: 0.1319\n",
      "Epoch 2/100\n",
      "31980/31980 [==============================] - 4s 124us/step - loss: 0.1364 - val_loss: 0.0956\n",
      "Epoch 3/100\n",
      "31980/31980 [==============================] - 4s 125us/step - loss: 0.1168 - val_loss: 0.1012\n",
      "Epoch 4/100\n",
      "31980/31980 [==============================] - 4s 126us/step - loss: 0.1104 - val_loss: 0.0838\n",
      "Epoch 5/100\n",
      "31980/31980 [==============================] - 4s 125us/step - loss: 0.1037 - val_loss: 0.0837\n",
      "Epoch 6/100\n",
      "31980/31980 [==============================] - 4s 124us/step - loss: 0.1015 - val_loss: 0.0741\n",
      "Epoch 7/100\n",
      "31980/31980 [==============================] - 4s 125us/step - loss: 0.1029 - val_loss: 0.0829\n",
      "Epoch 8/100\n",
      "31980/31980 [==============================] - 4s 124us/step - loss: 0.0996 - val_loss: 0.0748\n",
      "Epoch 9/100\n",
      "31980/31980 [==============================] - 4s 129us/step - loss: 0.0977 - val_loss: 0.0880\n",
      "Epoch 10/100\n",
      "31980/31980 [==============================] - 4s 124us/step - loss: 0.0967 - val_loss: 0.0746\n",
      "Epoch 11/100\n",
      "31980/31980 [==============================] - 4s 126us/step - loss: 0.0942 - val_loss: 0.0767\n",
      "Epoch 12/100\n",
      "31980/31980 [==============================] - 4s 124us/step - loss: 0.0938 - val_loss: 0.0697\n",
      "Epoch 13/100\n",
      "31980/31980 [==============================] - 4s 124us/step - loss: 0.0921 - val_loss: 0.0715\n",
      "Epoch 14/100\n",
      "31980/31980 [==============================] - 4s 125us/step - loss: 0.0922 - val_loss: 0.0690\n",
      "Epoch 15/100\n",
      "31980/31980 [==============================] - 4s 126us/step - loss: 0.0893 - val_loss: 0.0725\n",
      "Epoch 16/100\n",
      "31980/31980 [==============================] - 4s 125us/step - loss: 0.0902 - val_loss: 0.0767\n",
      "Epoch 17/100\n",
      "31980/31980 [==============================] - 4s 125us/step - loss: 0.0897 - val_loss: 0.0829\n",
      "Epoch 18/100\n",
      "31980/31980 [==============================] - 4s 125us/step - loss: 0.0910 - val_loss: 0.0664\n",
      "Epoch 19/100\n",
      "31980/31980 [==============================] - 4s 126us/step - loss: 0.0903 - val_loss: 0.0723\n",
      "Epoch 20/100\n",
      "31980/31980 [==============================] - 4s 126us/step - loss: 0.0883 - val_loss: 0.0704\n",
      "Epoch 21/100\n",
      "31980/31980 [==============================] - 4s 127us/step - loss: 0.0852 - val_loss: 0.0639\n",
      "Epoch 22/100\n",
      "31980/31980 [==============================] - 4s 125us/step - loss: 0.0881 - val_loss: 0.0733\n",
      "Epoch 23/100\n",
      "31980/31980 [==============================] - 4s 126us/step - loss: 0.0864 - val_loss: 0.0689\n",
      "Epoch 24/100\n",
      "31980/31980 [==============================] - 4s 126us/step - loss: 0.0832 - val_loss: 0.0635\n",
      "Epoch 25/100\n",
      "31980/31980 [==============================] - 4s 125us/step - loss: 0.0865 - val_loss: 0.0795\n",
      "Epoch 26/100\n",
      "31980/31980 [==============================] - 4s 125us/step - loss: 0.0826 - val_loss: 0.0654\n",
      "Epoch 27/100\n",
      "31980/31980 [==============================] - 4s 124us/step - loss: 0.0800 - val_loss: 0.0724\n",
      "Epoch 28/100\n",
      "31980/31980 [==============================] - 4s 125us/step - loss: 0.0840 - val_loss: 0.0618\n",
      "Epoch 29/100\n",
      "31980/31980 [==============================] - 4s 126us/step - loss: 0.0781 - val_loss: 0.0644\n",
      "Epoch 30/100\n",
      "31980/31980 [==============================] - 4s 126us/step - loss: 0.0777 - val_loss: 0.0759\n",
      "Epoch 31/100\n",
      "31980/31980 [==============================] - 4s 127us/step - loss: 0.0771 - val_loss: 0.0611\n",
      "Epoch 32/100\n",
      "31980/31980 [==============================] - 4s 125us/step - loss: 0.0741 - val_loss: 0.0591\n",
      "Epoch 33/100\n",
      "31980/31980 [==============================] - 4s 125us/step - loss: 0.0731 - val_loss: 0.0587\n",
      "Epoch 34/100\n",
      "31980/31980 [==============================] - 4s 126us/step - loss: 0.0735 - val_loss: 0.0709\n",
      "Epoch 35/100\n",
      "31980/31980 [==============================] - 4s 125us/step - loss: 0.0823 - val_loss: 0.0656\n",
      "Epoch 36/100\n",
      "31980/31980 [==============================] - 4s 125us/step - loss: 0.0721 - val_loss: 0.0649\n",
      "Epoch 37/100\n",
      "31980/31980 [==============================] - 4s 124us/step - loss: 0.0702 - val_loss: 0.0582\n",
      "Epoch 38/100\n",
      "31980/31980 [==============================] - 4s 126us/step - loss: 0.0692 - val_loss: 0.0576\n",
      "Epoch 39/100\n",
      "31980/31980 [==============================] - 4s 124us/step - loss: 0.0655 - val_loss: 0.0569\n",
      "Epoch 40/100\n",
      "31980/31980 [==============================] - 4s 125us/step - loss: 0.0701 - val_loss: 0.0585\n",
      "Epoch 41/100\n",
      "31980/31980 [==============================] - 4s 125us/step - loss: 0.0667 - val_loss: 0.0670\n",
      "Epoch 42/100\n",
      "31980/31980 [==============================] - 4s 126us/step - loss: 0.0647 - val_loss: 0.0587\n",
      "Epoch 43/100\n",
      "31980/31980 [==============================] - 4s 125us/step - loss: 0.0636 - val_loss: 0.0545\n",
      "Epoch 44/100\n",
      "31980/31980 [==============================] - 4s 125us/step - loss: 0.0642 - val_loss: 0.0613\n",
      "Epoch 45/100\n",
      "31980/31980 [==============================] - 4s 126us/step - loss: 0.0648 - val_loss: 0.0561\n",
      "Epoch 46/100\n",
      "31980/31980 [==============================] - 4s 126us/step - loss: 0.0607 - val_loss: 0.0564\n",
      "Epoch 47/100\n",
      "31980/31980 [==============================] - 4s 126us/step - loss: 0.0602 - val_loss: 0.0574\n",
      "Epoch 48/100\n",
      "31980/31980 [==============================] - 4s 125us/step - loss: 0.0585 - val_loss: 0.0623\n",
      "Epoch 49/100\n",
      "31980/31980 [==============================] - 4s 126us/step - loss: 0.0574 - val_loss: 0.0608\n",
      "Epoch 50/100\n",
      "31980/31980 [==============================] - 4s 126us/step - loss: 0.0591 - val_loss: 0.0527\n",
      "Epoch 51/100\n",
      "31980/31980 [==============================] - 4s 125us/step - loss: 0.0566 - val_loss: 0.0615\n",
      "Epoch 52/100\n",
      "31980/31980 [==============================] - 4s 126us/step - loss: 0.0603 - val_loss: 0.0535\n",
      "Epoch 53/100\n",
      "31980/31980 [==============================] - 4s 125us/step - loss: 0.0555 - val_loss: 0.0541\n",
      "Epoch 54/100\n",
      "31980/31980 [==============================] - 4s 126us/step - loss: 0.0554 - val_loss: 0.0482\n",
      "Epoch 55/100\n",
      "31980/31980 [==============================] - 4s 125us/step - loss: 0.0529 - val_loss: 0.0515\n",
      "Epoch 56/100\n",
      "31980/31980 [==============================] - 4s 127us/step - loss: 0.0526 - val_loss: 0.0517\n",
      "Epoch 57/100\n",
      "31980/31980 [==============================] - 4s 125us/step - loss: 0.0630 - val_loss: 0.0678\n",
      "Epoch 58/100\n",
      "31980/31980 [==============================] - 4s 126us/step - loss: 0.0578 - val_loss: 0.0518\n",
      "Epoch 59/100\n",
      "31980/31980 [==============================] - 4s 126us/step - loss: 0.0541 - val_loss: 0.0581\n",
      "Epoch 60/100\n",
      "31980/31980 [==============================] - 4s 126us/step - loss: 0.0593 - val_loss: 0.0584\n",
      "Epoch 61/100\n",
      "31980/31980 [==============================] - 4s 127us/step - loss: 0.0497 - val_loss: 0.0519\n",
      "Epoch 62/100\n",
      "31980/31980 [==============================] - 4s 126us/step - loss: 0.0530 - val_loss: 0.0466\n",
      "Epoch 63/100\n",
      "31980/31980 [==============================] - 4s 126us/step - loss: 0.0468 - val_loss: 0.0506\n",
      "Epoch 64/100\n",
      "31980/31980 [==============================] - 4s 127us/step - loss: 0.0465 - val_loss: 0.0471\n",
      "Epoch 65/100\n",
      "31980/31980 [==============================] - 4s 126us/step - loss: 0.0489 - val_loss: 0.0490\n",
      "Epoch 66/100\n",
      "31980/31980 [==============================] - 4s 127us/step - loss: 0.0514 - val_loss: 0.0488\n",
      "Epoch 67/100\n",
      "31980/31980 [==============================] - 4s 125us/step - loss: 0.0471 - val_loss: 0.0483\n",
      "Epoch 68/100\n",
      "31980/31980 [==============================] - 4s 126us/step - loss: 0.0438 - val_loss: 0.0505\n",
      "Epoch 69/100\n",
      "31980/31980 [==============================] - 4s 126us/step - loss: 0.0450 - val_loss: 0.0417\n",
      "Epoch 70/100\n",
      "31980/31980 [==============================] - 4s 126us/step - loss: 0.0420 - val_loss: 0.0482\n",
      "Epoch 71/100\n",
      "31980/31980 [==============================] - 4s 127us/step - loss: 0.0441 - val_loss: 0.0515\n",
      "Epoch 72/100\n",
      "31980/31980 [==============================] - 4s 127us/step - loss: 0.0439 - val_loss: 0.0439\n",
      "Epoch 73/100\n",
      "31980/31980 [==============================] - 4s 126us/step - loss: 0.0422 - val_loss: 0.0464\n",
      "Epoch 74/100\n",
      "31980/31980 [==============================] - 4s 126us/step - loss: 0.0416 - val_loss: 0.0540\n",
      "Epoch 75/100\n",
      "31980/31980 [==============================] - 4s 127us/step - loss: 0.0421 - val_loss: 0.0436\n",
      "Epoch 76/100\n",
      "31980/31980 [==============================] - 4s 126us/step - loss: 0.0476 - val_loss: 0.0489\n",
      "Epoch 77/100\n",
      "31980/31980 [==============================] - 4s 126us/step - loss: 0.0455 - val_loss: 0.0472\n",
      "Epoch 78/100\n",
      "31980/31980 [==============================] - 4s 127us/step - loss: 0.0392 - val_loss: 0.0510\n",
      "Epoch 79/100\n",
      "31980/31980 [==============================] - 4s 126us/step - loss: 0.0455 - val_loss: 0.0671\n",
      "Epoch 80/100\n",
      "31980/31980 [==============================] - 4s 125us/step - loss: 0.0547 - val_loss: 0.0492\n",
      "Epoch 81/100\n",
      "31980/31980 [==============================] - 4s 125us/step - loss: 0.0441 - val_loss: 0.0454\n",
      "Epoch 82/100\n",
      "31980/31980 [==============================] - 4s 125us/step - loss: 0.0428 - val_loss: 0.0468\n",
      "Epoch 83/100\n",
      "31980/31980 [==============================] - 4s 125us/step - loss: 0.0405 - val_loss: 0.0457\n",
      "Epoch 84/100\n",
      "31980/31980 [==============================] - 4s 125us/step - loss: 0.0425 - val_loss: 0.0491\n",
      "Epoch 85/100\n",
      "31980/31980 [==============================] - 4s 126us/step - loss: 0.0378 - val_loss: 0.0451\n",
      "Epoch 86/100\n",
      "31980/31980 [==============================] - 4s 127us/step - loss: 0.0365 - val_loss: 0.0414\n",
      "Epoch 87/100\n",
      "31980/31980 [==============================] - 4s 124us/step - loss: 0.0379 - val_loss: 0.0440\n",
      "Epoch 88/100\n",
      "31980/31980 [==============================] - 4s 125us/step - loss: 0.0363 - val_loss: 0.0433\n",
      "Epoch 89/100\n",
      "31980/31980 [==============================] - 4s 125us/step - loss: 0.0416 - val_loss: 0.0500\n",
      "Epoch 90/100\n",
      "31980/31980 [==============================] - 4s 126us/step - loss: 0.0424 - val_loss: 0.0427\n",
      "Epoch 91/100\n",
      "31980/31980 [==============================] - 4s 124us/step - loss: 0.0388 - val_loss: 0.0481\n",
      "Epoch 92/100\n",
      "31980/31980 [==============================] - 4s 125us/step - loss: 0.0375 - val_loss: 0.0469\n",
      "Epoch 93/100\n",
      "31980/31980 [==============================] - 4s 124us/step - loss: 0.0394 - val_loss: 0.0491\n",
      "Epoch 94/100\n",
      "31980/31980 [==============================] - 4s 126us/step - loss: 0.0481 - val_loss: 0.0649\n",
      "Epoch 95/100\n",
      "31980/31980 [==============================] - 4s 124us/step - loss: 0.0497 - val_loss: 0.0463\n",
      "Epoch 96/100\n",
      "31980/31980 [==============================] - 4s 127us/step - loss: 0.0422 - val_loss: 0.0487\n",
      "Epoch 97/100\n",
      "31980/31980 [==============================] - 4s 124us/step - loss: 0.0396 - val_loss: 0.0455\n",
      "Epoch 98/100\n",
      "31980/31980 [==============================] - 4s 125us/step - loss: 0.0353 - val_loss: 0.0484\n",
      "Epoch 99/100\n",
      "31980/31980 [==============================] - 4s 126us/step - loss: 0.0388 - val_loss: 0.0545\n",
      "Epoch 100/100\n",
      "31980/31980 [==============================] - 4s 124us/step - loss: 0.0392 - val_loss: 0.0418\n"
     ]
    }
   ],
   "source": [
    "# training\n",
    "batch = 512\n",
    "tensorBoard = TensorBoard(log_dir='./logs', histogram_freq=0, write_graph=True, write_images=False)\n",
    "\n",
    "hist = model.fit(x_train, y_train, epochs=100, batch_size=batch, verbose=True, validation_data=(x_val, y_val), shuffle=True, callbacks=[tensorBoard])"
   ]
  },
  {
   "cell_type": "code",
   "execution_count": 109,
   "metadata": {},
   "outputs": [
    {
     "name": "stdout",
     "output_type": "stream",
     "text": [
      "15251/15251 [==============================] - 1s 72us/step\n",
      "(15251, 1)\n",
      "15251/15251 [==============================] - 1s 54us/step\n",
      "0.2587117524046624\n"
     ]
    }
   ],
   "source": [
    "y_pred = model.predict(x_test, batch_size=batch, verbose=True) \n",
    "print(y_pred.shape)\n",
    "print(model.evaluate(x_test, y_test,batch_size=batch))"
   ]
  },
  {
   "cell_type": "code",
   "execution_count": 110,
   "metadata": {},
   "outputs": [
    {
     "data": {
      "image/png": "[encoded data removed]",
      "text/plain": [
       "<Figure size 432x288 with 1 Axes>"
      ]
     },
     "metadata": {
      "needs_background": "light"
     },
     "output_type": "display_data"
    }
   ],
   "source": [
    "%matplotlib inline\n",
    "import matplotlib.pyplot as plt\n",
    "\n",
    "fig, loss_ax = plt.subplots()\n",
    "\n",
    "loss_ax.plot(hist.history['loss'], 'b', label='train loss')\n",
    "loss_ax.plot(hist.history['val_loss'], 'r', label='test loss')\n",
    "\n",
    "loss_ax.set_xlabel('epoch')\n",
    "loss_ax.set_ylabel('loss')\n",
    "\n",
    "loss_ax.legend(loc='upper right')\n",
    "\n",
    "plt.show()"
   ]
  },
  {
   "cell_type": "code",
   "execution_count": 111,
   "metadata": {},
   "outputs": [
    {
     "data": {
      "image/png": "[encoded data removed]",
      "text/plain": [
       "<Figure size 1368x576 with 1 Axes>"
      ]
     },
     "metadata": {
      "needs_background": "light"
     },
     "output_type": "display_data"
    }
   ],
   "source": [
    "# visualization for prediction result\n",
    "# set figure size\n",
    "plt.figure(figsize=(19,8))\n",
    "\n",
    "# set font\n",
    "font = {'family': 'Arial', 'weight': 'normal', 'size': 16}\n",
    "plt.rc('font', **font)\n",
    "\n",
    "# plot data \n",
    "plt.plot(y_test[:,0], 'r', label='y_true')\n",
    "plt.plot(y_pred[:,0], 'b', label='y_pred')\n",
    "\n",
    "# set legend position\n",
    "plt.legend(shadow=True, loc='upper right')\n",
    "\n",
    "# set x-axis & y-axis titles\n",
    "#plt.title('prediction result')\n",
    "plt.xlabel('Time Index')\n",
    "plt.ylabel('Brightness')\n",
    "\n",
    "# set axis-limits\n",
    "plt.xlim(left = 0, right = len(y_test)) \n",
    "#plt.ylim(bottom = -5) \n",
    "\n",
    "# set grid\n",
    "plt.grid(color='gray', linestyle='--', linewidth=1)\n",
    "\n",
    "plt.xticks(np.arange(0,16000,2000))\n",
    "#plt.yticks(np.arange(0,1,1))\n",
    "\n",
    "# save & display figure\n",
    "plt.savefig('pred_graph.png', dpi=300)\n",
    "plt.show()"
   ]
  },
  {
   "cell_type": "code",
   "execution_count": 112,
   "metadata": {},
   "outputs": [
    {
     "name": "stdout",
     "output_type": "stream",
     "text": [
      "Train Score:  0.0371492512891648\n",
      "Test Score:  0.25871174831530985\n"
     ]
    }
   ],
   "source": [
    "#모델 평가하기\n",
    "trainScore = model.evaluate(x_train, y_train, verbose=0)\n",
    "print('Train Score: ', trainScore)\n",
    "#valScore = model.evaluate(x_val, y_val, verbose=0)\n",
    "#print('Validataion Score: ', valScore)\n",
    "testScore = model.evaluate(x_test, y_test, verbose=0)\n",
    "print('Test Score: ', testScore)"
   ]
  },
  {
   "cell_type": "code",
   "execution_count": 113,
   "metadata": {},
   "outputs": [
    {
     "name": "stdout",
     "output_type": "stream",
     "text": [
      "MAPE:  20.878818891177982\n"
     ]
    }
   ],
   "source": [
    "#MAPE\n",
    "\n",
    "y_test, y_pred = np.array(y_test), np.array(y_pred)\n",
    "mape = np.mean(np.abs((y_test - y_pred) / y_test)) * 100\n",
    "print('MAPE: ', mape)"
   ]
  },
  {
   "cell_type": "code",
   "execution_count": null,
   "metadata": {},
   "outputs": [],
   "source": [
    "from IPython.display import SVG\n",
    "from keras.utils.vis_utils import model_to_dot\n",
    "\n",
    "%matplotlib inline\n",
    "\n",
    "SVG(model_to_dot(model, show_shapes=True).create(prog='dot', format='svg'))"
   ]
  },
  {
   "cell_type": "code",
   "execution_count": null,
   "metadata": {},
   "outputs": [],
   "source": []
  }
 ],
 "metadata": {
  "kernelspec": {
   "display_name": "Python 3",
   "language": "python",
   "name": "python3"
  },
  "language_info": {
   "codemirror_mode": {
    "name": "ipython",
    "version": 3
   },
   "file_extension": ".py",
   "mimetype": "text/x-python",
   "name": "python",
   "nbconvert_exporter": "python",
   "pygments_lexer": "ipython3",
   "version": "3.7.3"
  }
 },
 "nbformat": 4,
 "nbformat_minor": 4
}
