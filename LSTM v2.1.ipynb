{
 "cells": [
  {
   "cell_type": "code",
   "execution_count": 1,
   "metadata": {},
   "outputs": [
    {
     "name": "stderr",
     "output_type": "stream",
     "text": [
      "Using TensorFlow backend.\n",
      "C:\\Users\\YooSeok\\Anaconda3\\envs\\Keras\\lib\\site-packages\\tensorflow\\python\\framework\\dtypes.py:526: FutureWarning: Passing (type, 1) or '1type' as a synonym of type is deprecated; in a future version of numpy, it will be understood as (type, (1,)) / '(1,)type'.\n",
      "  _np_qint8 = np.dtype([(\"qint8\", np.int8, 1)])\n",
      "C:\\Users\\YooSeok\\Anaconda3\\envs\\Keras\\lib\\site-packages\\tensorflow\\python\\framework\\dtypes.py:527: FutureWarning: Passing (type, 1) or '1type' as a synonym of type is deprecated; in a future version of numpy, it will be understood as (type, (1,)) / '(1,)type'.\n",
      "  _np_quint8 = np.dtype([(\"quint8\", np.uint8, 1)])\n",
      "C:\\Users\\YooSeok\\Anaconda3\\envs\\Keras\\lib\\site-packages\\tensorflow\\python\\framework\\dtypes.py:528: FutureWarning: Passing (type, 1) or '1type' as a synonym of type is deprecated; in a future version of numpy, it will be understood as (type, (1,)) / '(1,)type'.\n",
      "  _np_qint16 = np.dtype([(\"qint16\", np.int16, 1)])\n",
      "C:\\Users\\YooSeok\\Anaconda3\\envs\\Keras\\lib\\site-packages\\tensorflow\\python\\framework\\dtypes.py:529: FutureWarning: Passing (type, 1) or '1type' as a synonym of type is deprecated; in a future version of numpy, it will be understood as (type, (1,)) / '(1,)type'.\n",
      "  _np_quint16 = np.dtype([(\"quint16\", np.uint16, 1)])\n",
      "C:\\Users\\YooSeok\\Anaconda3\\envs\\Keras\\lib\\site-packages\\tensorflow\\python\\framework\\dtypes.py:530: FutureWarning: Passing (type, 1) or '1type' as a synonym of type is deprecated; in a future version of numpy, it will be understood as (type, (1,)) / '(1,)type'.\n",
      "  _np_qint32 = np.dtype([(\"qint32\", np.int32, 1)])\n",
      "C:\\Users\\YooSeok\\Anaconda3\\envs\\Keras\\lib\\site-packages\\tensorflow\\python\\framework\\dtypes.py:535: FutureWarning: Passing (type, 1) or '1type' as a synonym of type is deprecated; in a future version of numpy, it will be understood as (type, (1,)) / '(1,)type'.\n",
      "  np_resource = np.dtype([(\"resource\", np.ubyte, 1)])\n"
     ]
    }
   ],
   "source": [
    "import pandas as pd\n",
    "import numpy as np\n",
    "import matplotlib.pyplot as plt\n",
    "\n",
    "from keras.models import Sequential\n",
    "from keras.layers import LSTM, Dense, Activation, BatchNormalization\n",
    "from keras.callbacks import TensorBoard\n",
    "\n",
    "from sklearn.model_selection import train_test_split"
   ]
  },
  {
   "cell_type": "code",
   "execution_count": 2,
   "metadata": {},
   "outputs": [
    {
     "name": "stdout",
     "output_type": "stream",
     "text": [
      "(55277, 2)\n"
     ]
    }
   ],
   "source": [
    "df_data = pd.read_csv('data.csv')\n",
    "print(df_data.shape)"
   ]
  },
  {
   "cell_type": "code",
   "execution_count": 3,
   "metadata": {},
   "outputs": [
    {
     "data": {
      "text/html": [
       "<div>\n",
       "<style scoped>\n",
       "    .dataframe tbody tr th:only-of-type {\n",
       "        vertical-align: middle;\n",
       "    }\n",
       "\n",
       "    .dataframe tbody tr th {\n",
       "        vertical-align: top;\n",
       "    }\n",
       "\n",
       "    .dataframe thead th {\n",
       "        text-align: right;\n",
       "    }\n",
       "</style>\n",
       "<table border=\"1\" class=\"dataframe\">\n",
       "  <thead>\n",
       "    <tr style=\"text-align: right;\">\n",
       "      <th></th>\n",
       "      <th>Time</th>\n",
       "      <th>Lux</th>\n",
       "    </tr>\n",
       "  </thead>\n",
       "  <tbody>\n",
       "    <tr>\n",
       "      <th>0</th>\n",
       "      <td>2018-08-10 09:41:37 UTC</td>\n",
       "      <td>527</td>\n",
       "    </tr>\n",
       "    <tr>\n",
       "      <th>1</th>\n",
       "      <td>2018-08-10 09:42:26 UTC</td>\n",
       "      <td>942</td>\n",
       "    </tr>\n",
       "    <tr>\n",
       "      <th>2</th>\n",
       "      <td>2018-08-10 09:43:16 UTC</td>\n",
       "      <td>942</td>\n",
       "    </tr>\n",
       "    <tr>\n",
       "      <th>3</th>\n",
       "      <td>2018-08-10 09:44:04 UTC</td>\n",
       "      <td>942</td>\n",
       "    </tr>\n",
       "    <tr>\n",
       "      <th>4</th>\n",
       "      <td>2018-08-10 09:44:53 UTC</td>\n",
       "      <td>942</td>\n",
       "    </tr>\n",
       "    <tr>\n",
       "      <th>5</th>\n",
       "      <td>2018-08-10 09:45:41 UTC</td>\n",
       "      <td>941</td>\n",
       "    </tr>\n",
       "    <tr>\n",
       "      <th>6</th>\n",
       "      <td>2018-08-10 09:46:31 UTC</td>\n",
       "      <td>951</td>\n",
       "    </tr>\n",
       "    <tr>\n",
       "      <th>7</th>\n",
       "      <td>2018-08-10 09:47:19 UTC</td>\n",
       "      <td>951</td>\n",
       "    </tr>\n",
       "    <tr>\n",
       "      <th>8</th>\n",
       "      <td>2018-08-10 09:48:08 UTC</td>\n",
       "      <td>951</td>\n",
       "    </tr>\n",
       "    <tr>\n",
       "      <th>9</th>\n",
       "      <td>2018-08-10 09:48:57 UTC</td>\n",
       "      <td>951</td>\n",
       "    </tr>\n",
       "  </tbody>\n",
       "</table>\n",
       "</div>"
      ],
      "text/plain": [
       "                      Time  Lux\n",
       "0  2018-08-10 09:41:37 UTC  527\n",
       "1  2018-08-10 09:42:26 UTC  942\n",
       "2  2018-08-10 09:43:16 UTC  942\n",
       "3  2018-08-10 09:44:04 UTC  942\n",
       "4  2018-08-10 09:44:53 UTC  942\n",
       "5  2018-08-10 09:45:41 UTC  941\n",
       "6  2018-08-10 09:46:31 UTC  951\n",
       "7  2018-08-10 09:47:19 UTC  951\n",
       "8  2018-08-10 09:48:08 UTC  951\n",
       "9  2018-08-10 09:48:57 UTC  951"
      ]
     },
     "execution_count": 3,
     "metadata": {},
     "output_type": "execute_result"
    }
   ],
   "source": [
    "df_data.head(10)"
   ]
  },
  {
   "cell_type": "code",
   "execution_count": 4,
   "metadata": {},
   "outputs": [
    {
     "name": "stdout",
     "output_type": "stream",
     "text": [
      "<class 'pandas.core.frame.DataFrame'>\n",
      "RangeIndex: 55277 entries, 0 to 55276\n",
      "Data columns (total 2 columns):\n",
      "Time    55277 non-null object\n",
      "Lux     55277 non-null int64\n",
      "dtypes: int64(1), object(1)\n",
      "memory usage: 863.8+ KB\n"
     ]
    }
   ],
   "source": [
    "df_data.info()"
   ]
  },
  {
   "cell_type": "code",
   "execution_count": 5,
   "metadata": {},
   "outputs": [],
   "source": [
    "df_data['Time'] = pd.to_datetime(df_data['Time'])"
   ]
  },
  {
   "cell_type": "code",
   "execution_count": 6,
   "metadata": {},
   "outputs": [],
   "source": [
    "hour, minute, second = [], [], []\n",
    "for i in range(np.size(df_data, 0)):\n",
    "    hour.append(df_data['Time'][i].hour)\n",
    "    minute.append(df_data['Time'][i].minute)\n",
    "    second.append(df_data['Time'][i].second)"
   ]
  },
  {
   "cell_type": "code",
   "execution_count": 7,
   "metadata": {},
   "outputs": [
    {
     "name": "stdout",
     "output_type": "stream",
     "text": [
      "(55277, 1) (55277, 1) (55277, 1)\n"
     ]
    }
   ],
   "source": [
    "hour = np.array(hour).reshape(-1, 1)\n",
    "minute = np.array(minute).reshape(-1, 1)\n",
    "second = np.array(second).reshape(-1, 1)\n",
    "\n",
    "print(hour.shape, minute.shape, second.shape)"
   ]
  },
  {
   "cell_type": "code",
   "execution_count": 8,
   "metadata": {},
   "outputs": [
    {
     "name": "stdout",
     "output_type": "stream",
     "text": [
      "(55277, 1)\n"
     ]
    }
   ],
   "source": [
    "lux = df_data['Lux'].values.reshape(-1, 1)\n",
    "print(lux.shape)"
   ]
  },
  {
   "cell_type": "code",
   "execution_count": 9,
   "metadata": {},
   "outputs": [],
   "source": [
    "lux = (lux - lux.mean()) / lux.std()"
   ]
  },
  {
   "cell_type": "code",
   "execution_count": 10,
   "metadata": {},
   "outputs": [
    {
     "data": {
      "image/png": "[encoded data removed]",
      "text/plain": [
       "<Figure size 432x288 with 1 Axes>"
      ]
     },
     "metadata": {
      "needs_background": "light"
     },
     "output_type": "display_data"
    }
   ],
   "source": [
    "lux\n",
    "plt.plot(lux[:,0], 'r', label='y_true')\n",
    "plt.show()"
   ]
  },
  {
   "cell_type": "code",
   "execution_count": 11,
   "metadata": {},
   "outputs": [
    {
     "name": "stdout",
     "output_type": "stream",
     "text": [
      "(55277, 4)\n"
     ]
    }
   ],
   "source": [
    "data = np.concatenate((hour, minute, second, lux), axis=1)\n",
    "print(data.shape)"
   ]
  },
  {
   "cell_type": "code",
   "execution_count": 12,
   "metadata": {},
   "outputs": [
    {
     "data": {
      "text/plain": [
       "array([[ 9.        , 41.        , 37.        , -2.19270162],\n",
       "       [ 9.        , 42.        , 26.        ,  0.39705694],\n",
       "       [ 9.        , 43.        , 16.        ,  0.39705694],\n",
       "       [ 9.        , 44.        ,  4.        ,  0.39705694],\n",
       "       [ 9.        , 44.        , 53.        ,  0.39705694],\n",
       "       [ 9.        , 45.        , 41.        ,  0.39081656],\n",
       "       [ 9.        , 46.        , 31.        ,  0.45322038],\n",
       "       [ 9.        , 47.        , 19.        ,  0.45322038],\n",
       "       [ 9.        , 48.        ,  8.        ,  0.45322038],\n",
       "       [ 9.        , 48.        , 57.        ,  0.45322038]])"
      ]
     },
     "execution_count": 12,
     "metadata": {},
     "output_type": "execute_result"
    }
   ],
   "source": [
    "data[:10]"
   ]
  },
  {
   "cell_type": "code",
   "execution_count": 13,
   "metadata": {},
   "outputs": [
    {
     "name": "stdout",
     "output_type": "stream",
     "text": [
      "(40000, 4) (40000, 1)\n"
     ]
    }
   ],
   "source": [
    "train_data = data[:40000]\n",
    "train_lux = lux[:40000]\n",
    "print(train_data.shape, train_lux.shape)"
   ]
  },
  {
   "cell_type": "code",
   "execution_count": 14,
   "metadata": {},
   "outputs": [
    {
     "name": "stdout",
     "output_type": "stream",
     "text": [
      "(15276, 4) (15276, 1)\n"
     ]
    }
   ],
   "source": [
    "test_data = data[40001:]\n",
    "test_lux = lux[40001:]\n",
    "print(test_data.shape, test_lux.shape)"
   ]
  },
  {
   "cell_type": "code",
   "execution_count": 17,
   "metadata": {},
   "outputs": [],
   "source": [
    "lag=25 # 몇분 후 의 데이터를 input feature로 할지(?)"
   ]
  },
  {
   "cell_type": "code",
   "execution_count": 18,
   "metadata": {},
   "outputs": [
    {
     "name": "stdout",
     "output_type": "stream",
     "text": [
      "(20, 39975, 4)\n"
     ]
    }
   ],
   "source": [
    "arrnum = 20\n",
    "arr = []\n",
    "for i in range(arrnum):\n",
    "    arr.append(train_data[i:i-lag,:])\n",
    "\n",
    "arr = np.array(arr, dtype=np.float32)\n",
    "print(arr.shape)"
   ]
  },
  {
   "cell_type": "code",
   "execution_count": 19,
   "metadata": {},
   "outputs": [],
   "source": [
    "#arr[:15,:10,:4]"
   ]
  },
  {
   "cell_type": "code",
   "execution_count": 20,
   "metadata": {},
   "outputs": [],
   "source": [
    "x_train_val = np.concatenate((arr[0], arr[1], arr[2], arr[3], arr[4], arr[5], arr[6], arr[7], arr[8], arr[9], arr[10], arr[11], arr[12], arr[13], arr[14], arr[15], arr[16], arr[17], arr[18], arr[19]), axis=1).reshape(-1, arrnum, 4)\n",
    "train_mean, train_std = np.mean(x_train_val, axis=0), np.std(x_train_val, axis=0)\n",
    "train_mean, train_std = np.mean(train_mean, axis=0), np.mean(train_std, axis=0)"
   ]
  },
  {
   "cell_type": "code",
   "execution_count": 21,
   "metadata": {},
   "outputs": [],
   "source": [
    "y_train_val = train_lux[lag:, :].reshape(-1, 1)"
   ]
  },
  {
   "cell_type": "code",
   "execution_count": 22,
   "metadata": {},
   "outputs": [
    {
     "name": "stdout",
     "output_type": "stream",
     "text": [
      "(39975, 20, 4) (39975, 1)\n"
     ]
    }
   ],
   "source": [
    "print(x_train_val.shape, y_train_val.shape)"
   ]
  },
  {
   "cell_type": "code",
   "execution_count": 23,
   "metadata": {},
   "outputs": [
    {
     "name": "stdout",
     "output_type": "stream",
     "text": [
      "(20, 15251, 4)\n"
     ]
    }
   ],
   "source": [
    "arr = []\n",
    "for i in range(arrnum):\n",
    "    arr.append(test_data[i:i-lag,:])\n",
    "    \n",
    "arr = np.array(arr, dtype=np.float32)\n",
    "print(arr.shape)\n"
   ]
  },
  {
   "cell_type": "code",
   "execution_count": 24,
   "metadata": {},
   "outputs": [
    {
     "name": "stdout",
     "output_type": "stream",
     "text": [
      "(15251, 20, 4) (15251, 1)\n"
     ]
    }
   ],
   "source": [
    "x_test = np.concatenate((arr[0], arr[1], arr[2], arr[3], arr[4], arr[5], arr[6], arr[7], arr[8], arr[9], arr[10], arr[11], arr[12], arr[13], arr[14], arr[15], arr[16], arr[17], arr[18], arr[19]), axis=1).reshape(-1, arrnum, 4)\n",
    "y_test = test_lux[lag:, :].reshape(-1, 1)\n",
    "print(x_test.shape, y_test.shape)"
   ]
  },
  {
   "cell_type": "code",
   "execution_count": 25,
   "metadata": {},
   "outputs": [
    {
     "name": "stdout",
     "output_type": "stream",
     "text": [
      "(31980, 20, 4) (31980, 1) (7995, 20, 4) (7995, 1)\n"
     ]
    }
   ],
   "source": [
    "# split into training and validation datasets\n",
    "x_train, x_val, y_train, y_val = train_test_split(x_train_val, y_train_val, test_size=0.2)\n",
    "print(x_train.shape, y_train.shape, x_val.shape, y_val.shape)"
   ]
  },
  {
   "cell_type": "code",
   "execution_count": 26,
   "metadata": {},
   "outputs": [],
   "source": [
    "h_units = 128\n",
    "activation_ = 'relu'\n",
    "\n",
    "def rnn_model():\n",
    "    model = Sequential()\n",
    "    model.add(LSTM(units=h_units, return_sequences=True, input_shape=(arrnum, 4)))        \n",
    "    model.add(LSTM(units=h_units, return_sequences=False))\n",
    "    model.add(Dense(h_units))\n",
    "    model.add(Dense(1))\n",
    "    \n",
    "    return model"
   ]
  },
  {
   "cell_type": "code",
   "execution_count": 27,
   "metadata": {},
   "outputs": [
    {
     "name": "stdout",
     "output_type": "stream",
     "text": [
      "WARNING:tensorflow:From C:\\Users\\YooSeok\\Anaconda3\\envs\\Keras\\lib\\site-packages\\tensorflow\\python\\framework\\op_def_library.py:263: colocate_with (from tensorflow.python.framework.ops) is deprecated and will be removed in a future version.\n",
      "Instructions for updating:\n",
      "Colocations handled automatically by placer.\n",
      "_________________________________________________________________\n",
      "Layer (type)                 Output Shape              Param #   \n",
      "=================================================================\n",
      "lstm_1 (LSTM)                (None, 20, 128)           68096     \n",
      "_________________________________________________________________\n",
      "lstm_2 (LSTM)                (None, 128)               131584    \n",
      "_________________________________________________________________\n",
      "dense_1 (Dense)              (None, 128)               16512     \n",
      "_________________________________________________________________\n",
      "dense_2 (Dense)              (None, 1)                 129       \n",
      "=================================================================\n",
      "Total params: 216,321\n",
      "Trainable params: 216,321\n",
      "Non-trainable params: 0\n",
      "_________________________________________________________________\n"
     ]
    }
   ],
   "source": [
    "# create a model \n",
    "model = rnn_model()\n",
    "model.summary()"
   ]
  },
  {
   "cell_type": "code",
   "execution_count": 28,
   "metadata": {},
   "outputs": [],
   "source": [
    "model.compile(loss='mean_squared_error', optimizer='adam')"
   ]
  },
  {
   "cell_type": "code",
   "execution_count": 36,
   "metadata": {},
   "outputs": [
    {
     "name": "stdout",
     "output_type": "stream",
     "text": [
      "Train on 31980 samples, validate on 7995 samples\n",
      "Epoch 1/100\n",
      "31980/31980 [==============================] - 16s 496us/step - loss: 0.0271 - val_loss: 0.0459\n",
      "Epoch 2/100\n",
      "31980/31980 [==============================] - 16s 493us/step - loss: 0.0267 - val_loss: 0.0538\n",
      "Epoch 3/100\n",
      "31980/31980 [==============================] - 16s 492us/step - loss: 0.0254 - val_loss: 0.0465\n",
      "Epoch 4/100\n",
      "31980/31980 [==============================] - 16s 491us/step - loss: 0.0263 - val_loss: 0.0595\n",
      "Epoch 5/100\n",
      "31980/31980 [==============================] - 16s 492us/step - loss: 0.0293 - val_loss: 0.0549\n",
      "Epoch 6/100\n",
      "31980/31980 [==============================] - 16s 490us/step - loss: 0.0245 - val_loss: 0.0492\n",
      "Epoch 7/100\n",
      "31980/31980 [==============================] - 16s 491us/step - loss: 0.0250 - val_loss: 0.0562\n",
      "Epoch 8/100\n",
      "31980/31980 [==============================] - 16s 491us/step - loss: 0.0266 - val_loss: 0.0476\n",
      "Epoch 9/100\n",
      "31980/31980 [==============================] - 16s 495us/step - loss: 0.0264 - val_loss: 0.0570\n",
      "Epoch 10/100\n",
      "31980/31980 [==============================] - 16s 493us/step - loss: 0.0342 - val_loss: 0.0503\n",
      "Epoch 11/100\n",
      "31980/31980 [==============================] - 16s 496us/step - loss: 0.0302 - val_loss: 0.0502\n",
      "Epoch 12/100\n",
      "31980/31980 [==============================] - 16s 490us/step - loss: 0.0238 - val_loss: 0.0518\n",
      "Epoch 13/100\n",
      "31980/31980 [==============================] - 16s 490us/step - loss: 0.0228 - val_loss: 0.0653\n",
      "Epoch 14/100\n",
      "31980/31980 [==============================] - 16s 501us/step - loss: 0.0237 - val_loss: 0.0513\n",
      "Epoch 15/100\n",
      "31980/31980 [==============================] - 16s 499us/step - loss: 0.0182 - val_loss: 0.0597\n",
      "Epoch 16/100\n",
      "31980/31980 [==============================] - 16s 492us/step - loss: 0.0202 - val_loss: 0.0508\n",
      "Epoch 17/100\n",
      "31980/31980 [==============================] - 16s 491us/step - loss: 0.0326 - val_loss: 0.0560\n",
      "Epoch 18/100\n",
      "31980/31980 [==============================] - 16s 490us/step - loss: 0.0303 - val_loss: 0.0630\n",
      "Epoch 19/100\n",
      "31980/31980 [==============================] - 16s 486us/step - loss: 0.0317 - val_loss: 0.0498\n",
      "Epoch 20/100\n",
      "31980/31980 [==============================] - 16s 491us/step - loss: 0.0255 - val_loss: 0.0431\n",
      "Epoch 21/100\n",
      "31980/31980 [==============================] - 16s 490us/step - loss: 0.0250 - val_loss: 0.0572\n",
      "Epoch 22/100\n",
      "31980/31980 [==============================] - 16s 492us/step - loss: 0.0251 - val_loss: 0.0546\n",
      "Epoch 23/100\n",
      "31980/31980 [==============================] - 16s 488us/step - loss: 0.0195 - val_loss: 0.0501\n",
      "Epoch 24/100\n",
      "31980/31980 [==============================] - 16s 489us/step - loss: 0.0218 - val_loss: 0.0481\n",
      "Epoch 25/100\n",
      "31980/31980 [==============================] - 16s 490us/step - loss: 0.0215 - val_loss: 0.0608\n",
      "Epoch 26/100\n",
      "31980/31980 [==============================] - 16s 492us/step - loss: 0.0211 - val_loss: 0.0434\n",
      "Epoch 27/100\n",
      "31980/31980 [==============================] - 16s 495us/step - loss: 0.0157 - val_loss: 0.0461\n",
      "Epoch 28/100\n",
      "31980/31980 [==============================] - 16s 493us/step - loss: 0.0174 - val_loss: 0.0447\n",
      "Epoch 29/100\n",
      "31980/31980 [==============================] - 16s 490us/step - loss: 0.0174 - val_loss: 0.0489\n",
      "Epoch 30/100\n",
      "31980/31980 [==============================] - 16s 496us/step - loss: 0.0251 - val_loss: 0.0499\n",
      "Epoch 31/100\n",
      "31980/31980 [==============================] - 16s 490us/step - loss: 0.0229 - val_loss: 0.0560\n",
      "Epoch 32/100\n",
      "31980/31980 [==============================] - 16s 488us/step - loss: 0.0229 - val_loss: 0.0599\n",
      "Epoch 33/100\n",
      "31980/31980 [==============================] - 16s 490us/step - loss: 0.0214 - val_loss: 0.0536\n",
      "Epoch 34/100\n",
      "31980/31980 [==============================] - 16s 492us/step - loss: 0.0148 - val_loss: 0.0507\n",
      "Epoch 35/100\n",
      "31980/31980 [==============================] - 16s 489us/step - loss: 0.0211 - val_loss: 0.0509\n",
      "Epoch 36/100\n",
      "31980/31980 [==============================] - 16s 488us/step - loss: 0.0164 - val_loss: 0.0492\n",
      "Epoch 37/100\n",
      "31980/31980 [==============================] - 16s 494us/step - loss: 0.0160 - val_loss: 0.0460\n",
      "Epoch 38/100\n",
      "31980/31980 [==============================] - 16s 491us/step - loss: 0.0193 - val_loss: 0.0570\n",
      "Epoch 39/100\n",
      "31980/31980 [==============================] - 16s 494us/step - loss: 0.0234 - val_loss: 0.0506\n",
      "Epoch 40/100\n",
      "31980/31980 [==============================] - 16s 493us/step - loss: 0.0260 - val_loss: 0.0557\n",
      "Epoch 41/100\n",
      "31980/31980 [==============================] - 16s 492us/step - loss: 0.0200 - val_loss: 0.0456\n",
      "Epoch 42/100\n",
      "31980/31980 [==============================] - 16s 495us/step - loss: 0.0168 - val_loss: 0.0519\n",
      "Epoch 43/100\n",
      "31980/31980 [==============================] - 16s 490us/step - loss: 0.0172 - val_loss: 0.0515\n",
      "Epoch 44/100\n",
      "31980/31980 [==============================] - 16s 488us/step - loss: 0.0167 - val_loss: 0.0517\n",
      "Epoch 45/100\n",
      "31980/31980 [==============================] - 16s 494us/step - loss: 0.0160 - val_loss: 0.0441\n",
      "Epoch 46/100\n",
      "31980/31980 [==============================] - 16s 495us/step - loss: 0.0153 - val_loss: 0.0431\n",
      "Epoch 47/100\n",
      "31980/31980 [==============================] - 16s 493us/step - loss: 0.0130 - val_loss: 0.0433\n",
      "Epoch 48/100\n",
      "31980/31980 [==============================] - 16s 494us/step - loss: 0.0126 - val_loss: 0.0445\n",
      "Epoch 49/100\n",
      "31980/31980 [==============================] - 16s 495us/step - loss: 0.0128 - val_loss: 0.0559\n",
      "Epoch 50/100\n",
      "31980/31980 [==============================] - 16s 507us/step - loss: 0.0137 - val_loss: 0.0423\n",
      "Epoch 51/100\n",
      "31980/31980 [==============================] - 16s 497us/step - loss: 0.0227 - val_loss: 0.0557\n",
      "Epoch 52/100\n",
      "31980/31980 [==============================] - 16s 497us/step - loss: 0.0224 - val_loss: 0.0433\n",
      "Epoch 53/100\n",
      "31980/31980 [==============================] - 16s 496us/step - loss: 0.0143 - val_loss: 0.0517\n",
      "Epoch 54/100\n",
      "31980/31980 [==============================] - 16s 498us/step - loss: 0.0210 - val_loss: 0.0451\n",
      "Epoch 55/100\n",
      "31980/31980 [==============================] - 16s 493us/step - loss: 0.0134 - val_loss: 0.0569\n",
      "Epoch 56/100\n",
      "31980/31980 [==============================] - 16s 495us/step - loss: 0.0168 - val_loss: 0.0521\n",
      "Epoch 57/100\n",
      "31980/31980 [==============================] - 16s 491us/step - loss: 0.0224 - val_loss: 0.0466\n",
      "Epoch 58/100\n",
      "31980/31980 [==============================] - 16s 494us/step - loss: 0.0116 - val_loss: 0.0463\n",
      "Epoch 59/100\n",
      "31980/31980 [==============================] - 16s 494us/step - loss: 0.0089 - val_loss: 0.0447\n",
      "Epoch 60/100\n",
      "31980/31980 [==============================] - 16s 495us/step - loss: 0.0116 - val_loss: 0.0430\n",
      "Epoch 61/100\n",
      "31980/31980 [==============================] - 16s 493us/step - loss: 0.0114 - val_loss: 0.0429\n",
      "Epoch 62/100\n",
      "31980/31980 [==============================] - 16s 494us/step - loss: 0.0112 - val_loss: 0.0468\n",
      "Epoch 63/100\n",
      "31980/31980 [==============================] - 16s 496us/step - loss: 0.0352 - val_loss: 0.0635\n",
      "Epoch 64/100\n",
      "31980/31980 [==============================] - 16s 495us/step - loss: 0.0313 - val_loss: 0.0526\n",
      "Epoch 65/100\n",
      "31980/31980 [==============================] - 16s 493us/step - loss: 0.0199 - val_loss: 0.0524\n",
      "Epoch 66/100\n",
      "31980/31980 [==============================] - 16s 493us/step - loss: 0.0175 - val_loss: 0.0491\n",
      "Epoch 67/100\n",
      "31980/31980 [==============================] - 16s 494us/step - loss: 0.0111 - val_loss: 0.0460\n",
      "Epoch 68/100\n",
      "31980/31980 [==============================] - 16s 493us/step - loss: 0.0153 - val_loss: 0.0591\n",
      "Epoch 69/100\n",
      "31980/31980 [==============================] - 16s 500us/step - loss: 0.0230 - val_loss: 0.0466\n",
      "Epoch 70/100\n",
      "31980/31980 [==============================] - 16s 493us/step - loss: 0.0149 - val_loss: 0.0498\n",
      "Epoch 71/100\n",
      "31980/31980 [==============================] - 16s 496us/step - loss: 0.0145 - val_loss: 0.0492\n",
      "Epoch 72/100\n",
      "31980/31980 [==============================] - 16s 495us/step - loss: 0.0096 - val_loss: 0.0452\n",
      "Epoch 73/100\n",
      "31980/31980 [==============================] - 16s 495us/step - loss: 0.0084 - val_loss: 0.0521\n",
      "Epoch 74/100\n",
      "31980/31980 [==============================] - 16s 493us/step - loss: 0.0140 - val_loss: 0.0410\n",
      "Epoch 75/100\n",
      "31980/31980 [==============================] - 16s 496us/step - loss: 0.0085 - val_loss: 0.0500\n",
      "Epoch 76/100\n",
      "31980/31980 [==============================] - 16s 497us/step - loss: 0.0156 - val_loss: 0.0447\n",
      "Epoch 77/100\n",
      "31980/31980 [==============================] - 16s 498us/step - loss: 0.0139 - val_loss: 0.0496\n",
      "Epoch 78/100\n",
      "31980/31980 [==============================] - 16s 495us/step - loss: 0.0205 - val_loss: 0.0644\n",
      "Epoch 79/100\n",
      "31980/31980 [==============================] - 16s 499us/step - loss: 0.0186 - val_loss: 0.0579\n",
      "Epoch 80/100\n",
      "31980/31980 [==============================] - 16s 501us/step - loss: 0.0264 - val_loss: 0.0560\n",
      "Epoch 81/100\n",
      "31980/31980 [==============================] - 16s 501us/step - loss: 0.0134 - val_loss: 0.0494\n",
      "Epoch 82/100\n",
      "31980/31980 [==============================] - 16s 497us/step - loss: 0.0111 - val_loss: 0.0463\n",
      "Epoch 83/100\n",
      "31980/31980 [==============================] - 16s 499us/step - loss: 0.0073 - val_loss: 0.0456\n",
      "Epoch 84/100\n",
      "31980/31980 [==============================] - 16s 499us/step - loss: 0.0117 - val_loss: 0.0500\n",
      "Epoch 85/100\n",
      "31980/31980 [==============================] - 16s 498us/step - loss: 0.0157 - val_loss: 0.0517\n",
      "Epoch 86/100\n",
      "31980/31980 [==============================] - 16s 496us/step - loss: 0.0118 - val_loss: 0.0473\n",
      "Epoch 87/100\n",
      "31980/31980 [==============================] - 16s 496us/step - loss: 0.0124 - val_loss: 0.0413\n",
      "Epoch 88/100\n",
      "31980/31980 [==============================] - 16s 498us/step - loss: 0.0202 - val_loss: 0.0465\n",
      "Epoch 89/100\n",
      "31980/31980 [==============================] - 16s 504us/step - loss: 0.0084 - val_loss: 0.0432\n",
      "Epoch 90/100\n",
      "31980/31980 [==============================] - 16s 497us/step - loss: 0.0061 - val_loss: 0.0389\n",
      "Epoch 91/100\n",
      "31980/31980 [==============================] - 16s 494us/step - loss: 0.0276 - val_loss: 0.0501\n",
      "Epoch 92/100\n",
      "31980/31980 [==============================] - 16s 498us/step - loss: 0.0203 - val_loss: 0.0557\n",
      "Epoch 93/100\n",
      "31980/31980 [==============================] - 16s 498us/step - loss: 0.0165 - val_loss: 0.0446\n",
      "Epoch 94/100\n",
      "31980/31980 [==============================] - 16s 503us/step - loss: 0.0086 - val_loss: 0.0434\n",
      "Epoch 95/100\n",
      "31980/31980 [==============================] - 16s 500us/step - loss: 0.0077 - val_loss: 0.0421\n",
      "Epoch 96/100\n",
      "31980/31980 [==============================] - 16s 497us/step - loss: 0.0106 - val_loss: 0.0452\n",
      "Epoch 97/100\n",
      "31980/31980 [==============================] - 16s 496us/step - loss: 0.0087 - val_loss: 0.0406\n",
      "Epoch 98/100\n",
      "31980/31980 [==============================] - 16s 492us/step - loss: 0.0114 - val_loss: 0.0451\n",
      "Epoch 99/100\n",
      "31980/31980 [==============================] - 16s 492us/step - loss: 0.0072 - val_loss: 0.0394\n",
      "Epoch 100/100\n",
      "31980/31980 [==============================] - 16s 498us/step - loss: 0.0072 - val_loss: 0.0364\n"
     ]
    }
   ],
   "source": [
    "# training\n",
    "batch = 128\n",
    "tensorBoard = TensorBoard(log_dir='./logs', histogram_freq=0, write_graph=True, write_images=False)\n",
    "\n",
    "hist = model.fit(x_train, y_train, epochs=100, batch_size=batch, verbose=True, validation_data=(x_val, y_val), shuffle=True, callbacks=[tensorBoard])"
   ]
  },
  {
   "cell_type": "code",
   "execution_count": 37,
   "metadata": {},
   "outputs": [
    {
     "name": "stdout",
     "output_type": "stream",
     "text": [
      "15251/15251 [==============================] - 3s 211us/step\n",
      "(15251, 1)\n",
      "15251/15251 [==============================] - 3s 213us/step\n",
      "0.29488678741137914\n"
     ]
    }
   ],
   "source": [
    "y_pred = model.predict(x_test, batch_size=batch, verbose=True) \n",
    "print(y_pred.shape)\n",
    "print(model.evaluate(x_test, y_test,batch_size=batch))"
   ]
  },
  {
   "cell_type": "code",
   "execution_count": 38,
   "metadata": {},
   "outputs": [
    {
     "data": {
      "image/png": "[encoded data removed]",
      "text/plain": [
       "<Figure size 432x288 with 1 Axes>"
      ]
     },
     "metadata": {
      "needs_background": "light"
     },
     "output_type": "display_data"
    }
   ],
   "source": [
    "%matplotlib inline\n",
    "import matplotlib.pyplot as plt\n",
    "\n",
    "fig, loss_ax = plt.subplots()\n",
    "\n",
    "loss_ax.plot(hist.history['loss'], 'b', label='train loss')\n",
    "loss_ax.plot(hist.history['val_loss'], 'r', label='test loss')\n",
    "\n",
    "loss_ax.set_xlabel('epoch')\n",
    "loss_ax.set_ylabel('loss')\n",
    "\n",
    "loss_ax.legend(loc='upper right')\n",
    "\n",
    "plt.show()"
   ]
  },
  {
   "cell_type": "code",
   "execution_count": 39,
   "metadata": {},
   "outputs": [
    {
     "data": {
      "image/png": "[encoded data removed]",
      "text/plain": [
       "<Figure size 1368x576 with 1 Axes>"
      ]
     },
     "metadata": {
      "needs_background": "light"
     },
     "output_type": "display_data"
    }
   ],
   "source": [
    "# visualization for prediction result\n",
    "# set figure size\n",
    "plt.figure(figsize=(19,8))\n",
    "\n",
    "# set font\n",
    "font = {'family': 'Arial', 'weight': 'normal', 'size': 16}\n",
    "plt.rc('font', **font)\n",
    "\n",
    "# plot data \n",
    "plt.plot(y_test[:,0], 'r', label='y_true')\n",
    "plt.plot(y_pred[:,0], 'b', label='y_pred')\n",
    "\n",
    "# set legend position\n",
    "plt.legend(shadow=True, loc='upper right')\n",
    "\n",
    "# set x-axis & y-axis titles\n",
    "#plt.title('prediction result')\n",
    "plt.xlabel('Time Index')\n",
    "plt.ylabel('Brightness')\n",
    "\n",
    "# set axis-limits\n",
    "plt.xlim(left = 0, right = len(y_test)) \n",
    "#plt.ylim(bottom = -5) \n",
    "\n",
    "# set grid\n",
    "plt.grid(color='gray', linestyle='--', linewidth=1)\n",
    "\n",
    "plt.xticks(np.arange(0,16000,2000))\n",
    "#plt.yticks(np.arange(0,1,1))\n",
    "\n",
    "# save & display figure\n",
    "plt.savefig('pred_graph.png', dpi=300)\n",
    "plt.show()"
   ]
  },
  {
   "cell_type": "code",
   "execution_count": 40,
   "metadata": {},
   "outputs": [
    {
     "name": "stdout",
     "output_type": "stream",
     "text": [
      "Train Score:  0.005459913233069533\n",
      "Test Score:  0.2948867830339081\n"
     ]
    }
   ],
   "source": [
    "#모델 평가하기\n",
    "trainScore = model.evaluate(x_train, y_train, verbose=0)\n",
    "print('Train Score: ', trainScore)\n",
    "#valScore = model.evaluate(x_val, y_val, verbose=0)\n",
    "#print('Validataion Score: ', valScore)\n",
    "testScore = model.evaluate(x_test, y_test, verbose=0)\n",
    "print('Test Score: ', testScore)"
   ]
  },
  {
   "cell_type": "code",
   "execution_count": 41,
   "metadata": {},
   "outputs": [
    {
     "name": "stdout",
     "output_type": "stream",
     "text": [
      "MAPE:  17.99620825287841\n"
     ]
    }
   ],
   "source": [
    "#MAPE\n",
    "\n",
    "y_test, y_pred = np.array(y_test), np.array(y_pred)\n",
    "mape = np.mean(np.abs((y_test - y_pred) / y_test)) * 100\n",
    "print('MAPE: ', mape)"
   ]
  },
  {
   "cell_type": "code",
   "execution_count": 35,
   "metadata": {},
   "outputs": [
    {
     "data": {
      "image/svg+xml": [
       "<svg height=\"377pt\" viewBox=\"0.00 0.00 266.00 377.00\" width=\"266pt\" xmlns=\"http://www.w3.org/2000/svg\" xmlns:xlink=\"http://www.w3.org/1999/xlink\">\n",
       "<g class=\"graph\" id=\"graph0\" transform=\"scale(1 1) rotate(0) translate(4 373)\">\n",
       "<title>G</title>\n",
       "<polygon fill=\"white\" points=\"-4,4 -4,-373 262,-373 262,4 -4,4\" stroke=\"none\"/>\n",
       "<!-- 2453545583560 -->\n",
       "<g class=\"node\" id=\"node1\"><title>2453545583560</title>\n",
       "<polygon fill=\"none\" points=\"0,-249.5 0,-295.5 258,-295.5 258,-249.5 0,-249.5\" stroke=\"black\"/>\n",
       "<text font-family=\"Times New Roman,serif\" font-size=\"14.00\" text-anchor=\"middle\" x=\"49\" y=\"-268.8\">lstm_1: LSTM</text>\n",
       "<polyline fill=\"none\" points=\"98,-249.5 98,-295.5 \" stroke=\"black\"/>\n",
       "<text font-family=\"Times New Roman,serif\" font-size=\"14.00\" text-anchor=\"middle\" x=\"126\" y=\"-280.3\">input:</text>\n",
       "<polyline fill=\"none\" points=\"98,-272.5 154,-272.5 \" stroke=\"black\"/>\n",
       "<text font-family=\"Times New Roman,serif\" font-size=\"14.00\" text-anchor=\"middle\" x=\"126\" y=\"-257.3\">output:</text>\n",
       "<polyline fill=\"none\" points=\"154,-249.5 154,-295.5 \" stroke=\"black\"/>\n",
       "<text font-family=\"Times New Roman,serif\" font-size=\"14.00\" text-anchor=\"middle\" x=\"206\" y=\"-280.3\">(None, 20, 4)</text>\n",
       "<polyline fill=\"none\" points=\"154,-272.5 258,-272.5 \" stroke=\"black\"/>\n",
       "<text font-family=\"Times New Roman,serif\" font-size=\"14.00\" text-anchor=\"middle\" x=\"206\" y=\"-257.3\">(None, 20, 128)</text>\n",
       "</g>\n",
       "<!-- 2453545586248 -->\n",
       "<g class=\"node\" id=\"node2\"><title>2453545586248</title>\n",
       "<polygon fill=\"none\" points=\"0,-166.5 0,-212.5 258,-212.5 258,-166.5 0,-166.5\" stroke=\"black\"/>\n",
       "<text font-family=\"Times New Roman,serif\" font-size=\"14.00\" text-anchor=\"middle\" x=\"49\" y=\"-185.8\">lstm_2: LSTM</text>\n",
       "<polyline fill=\"none\" points=\"98,-166.5 98,-212.5 \" stroke=\"black\"/>\n",
       "<text font-family=\"Times New Roman,serif\" font-size=\"14.00\" text-anchor=\"middle\" x=\"126\" y=\"-197.3\">input:</text>\n",
       "<polyline fill=\"none\" points=\"98,-189.5 154,-189.5 \" stroke=\"black\"/>\n",
       "<text font-family=\"Times New Roman,serif\" font-size=\"14.00\" text-anchor=\"middle\" x=\"126\" y=\"-174.3\">output:</text>\n",
       "<polyline fill=\"none\" points=\"154,-166.5 154,-212.5 \" stroke=\"black\"/>\n",
       "<text font-family=\"Times New Roman,serif\" font-size=\"14.00\" text-anchor=\"middle\" x=\"206\" y=\"-197.3\">(None, 20, 128)</text>\n",
       "<polyline fill=\"none\" points=\"154,-189.5 258,-189.5 \" stroke=\"black\"/>\n",
       "<text font-family=\"Times New Roman,serif\" font-size=\"14.00\" text-anchor=\"middle\" x=\"206\" y=\"-174.3\">(None, 128)</text>\n",
       "</g>\n",
       "<!-- 2453545583560&#45;&gt;2453545586248 -->\n",
       "<g class=\"edge\" id=\"edge2\"><title>2453545583560-&gt;2453545586248</title>\n",
       "<path d=\"M129,-249.366C129,-241.152 129,-231.658 129,-222.725\" fill=\"none\" stroke=\"black\"/>\n",
       "<polygon fill=\"black\" points=\"132.5,-222.607 129,-212.607 125.5,-222.607 132.5,-222.607\" stroke=\"black\"/>\n",
       "</g>\n",
       "<!-- 2453556634232 -->\n",
       "<g class=\"node\" id=\"node3\"><title>2453556634232</title>\n",
       "<polygon fill=\"none\" points=\"7.5,-83.5 7.5,-129.5 250.5,-129.5 250.5,-83.5 7.5,-83.5\" stroke=\"black\"/>\n",
       "<text font-family=\"Times New Roman,serif\" font-size=\"14.00\" text-anchor=\"middle\" x=\"59.5\" y=\"-102.8\">dense_1: Dense</text>\n",
       "<polyline fill=\"none\" points=\"111.5,-83.5 111.5,-129.5 \" stroke=\"black\"/>\n",
       "<text font-family=\"Times New Roman,serif\" font-size=\"14.00\" text-anchor=\"middle\" x=\"139.5\" y=\"-114.3\">input:</text>\n",
       "<polyline fill=\"none\" points=\"111.5,-106.5 167.5,-106.5 \" stroke=\"black\"/>\n",
       "<text font-family=\"Times New Roman,serif\" font-size=\"14.00\" text-anchor=\"middle\" x=\"139.5\" y=\"-91.3\">output:</text>\n",
       "<polyline fill=\"none\" points=\"167.5,-83.5 167.5,-129.5 \" stroke=\"black\"/>\n",
       "<text font-family=\"Times New Roman,serif\" font-size=\"14.00\" text-anchor=\"middle\" x=\"209\" y=\"-114.3\">(None, 128)</text>\n",
       "<polyline fill=\"none\" points=\"167.5,-106.5 250.5,-106.5 \" stroke=\"black\"/>\n",
       "<text font-family=\"Times New Roman,serif\" font-size=\"14.00\" text-anchor=\"middle\" x=\"209\" y=\"-91.3\">(None, 128)</text>\n",
       "</g>\n",
       "<!-- 2453545586248&#45;&gt;2453556634232 -->\n",
       "<g class=\"edge\" id=\"edge3\"><title>2453545586248-&gt;2453556634232</title>\n",
       "<path d=\"M129,-166.366C129,-158.152 129,-148.658 129,-139.725\" fill=\"none\" stroke=\"black\"/>\n",
       "<polygon fill=\"black\" points=\"132.5,-139.607 129,-129.607 125.5,-139.607 132.5,-139.607\" stroke=\"black\"/>\n",
       "</g>\n",
       "<!-- 2453543324360 -->\n",
       "<g class=\"node\" id=\"node4\"><title>2453543324360</title>\n",
       "<polygon fill=\"none\" points=\"7.5,-0.5 7.5,-46.5 250.5,-46.5 250.5,-0.5 7.5,-0.5\" stroke=\"black\"/>\n",
       "<text font-family=\"Times New Roman,serif\" font-size=\"14.00\" text-anchor=\"middle\" x=\"59.5\" y=\"-19.8\">dense_2: Dense</text>\n",
       "<polyline fill=\"none\" points=\"111.5,-0.5 111.5,-46.5 \" stroke=\"black\"/>\n",
       "<text font-family=\"Times New Roman,serif\" font-size=\"14.00\" text-anchor=\"middle\" x=\"139.5\" y=\"-31.3\">input:</text>\n",
       "<polyline fill=\"none\" points=\"111.5,-23.5 167.5,-23.5 \" stroke=\"black\"/>\n",
       "<text font-family=\"Times New Roman,serif\" font-size=\"14.00\" text-anchor=\"middle\" x=\"139.5\" y=\"-8.3\">output:</text>\n",
       "<polyline fill=\"none\" points=\"167.5,-0.5 167.5,-46.5 \" stroke=\"black\"/>\n",
       "<text font-family=\"Times New Roman,serif\" font-size=\"14.00\" text-anchor=\"middle\" x=\"209\" y=\"-31.3\">(None, 128)</text>\n",
       "<polyline fill=\"none\" points=\"167.5,-23.5 250.5,-23.5 \" stroke=\"black\"/>\n",
       "<text font-family=\"Times New Roman,serif\" font-size=\"14.00\" text-anchor=\"middle\" x=\"209\" y=\"-8.3\">(None, 1)</text>\n",
       "</g>\n",
       "<!-- 2453556634232&#45;&gt;2453543324360 -->\n",
       "<g class=\"edge\" id=\"edge4\"><title>2453556634232-&gt;2453543324360</title>\n",
       "<path d=\"M129,-83.3664C129,-75.1516 129,-65.6579 129,-56.7252\" fill=\"none\" stroke=\"black\"/>\n",
       "<polygon fill=\"black\" points=\"132.5,-56.6068 129,-46.6068 125.5,-56.6069 132.5,-56.6068\" stroke=\"black\"/>\n",
       "</g>\n",
       "<!-- 2453545586136 -->\n",
       "<g class=\"node\" id=\"node5\"><title>2453545586136</title>\n",
       "<polygon fill=\"none\" points=\"77,-332.5 77,-368.5 181,-368.5 181,-332.5 77,-332.5\" stroke=\"black\"/>\n",
       "<text font-family=\"Times New Roman,serif\" font-size=\"14.00\" text-anchor=\"middle\" x=\"129\" y=\"-346.8\">2453545586136</text>\n",
       "</g>\n",
       "<!-- 2453545586136&#45;&gt;2453545583560 -->\n",
       "<g class=\"edge\" id=\"edge1\"><title>2453545586136-&gt;2453545583560</title>\n",
       "<path d=\"M129,-332.254C129,-324.363 129,-314.749 129,-305.602\" fill=\"none\" stroke=\"black\"/>\n",
       "<polygon fill=\"black\" points=\"132.5,-305.591 129,-295.591 125.5,-305.591 132.5,-305.591\" stroke=\"black\"/>\n",
       "</g>\n",
       "</g>\n",
       "</svg>"
      ],
      "text/plain": [
       "<IPython.core.display.SVG object>"
      ]
     },
     "execution_count": 35,
     "metadata": {},
     "output_type": "execute_result"
    }
   ],
   "source": [
    "from IPython.display import SVG\n",
    "from keras.utils.vis_utils import model_to_dot\n",
    "\n",
    "%matplotlib inline\n",
    "\n",
    "SVG(model_to_dot(model, show_shapes=True).create(prog='dot', format='svg'))"
   ]
  },
  {
   "cell_type": "code",
   "execution_count": null,
   "metadata": {},
   "outputs": [],
   "source": []
  }
 ],
 "metadata": {
  "kernelspec": {
   "display_name": "Python 3",
   "language": "python",
   "name": "python3"
  },
  "language_info": {
   "codemirror_mode": {
    "name": "ipython",
    "version": 3
   },
   "file_extension": ".py",
   "mimetype": "text/x-python",
   "name": "python",
   "nbconvert_exporter": "python",
   "pygments_lexer": "ipython3",
   "version": "3.7.3"
  }
 },
 "nbformat": 4,
 "nbformat_minor": 4
}
