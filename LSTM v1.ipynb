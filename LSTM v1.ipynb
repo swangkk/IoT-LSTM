{
 "cells": [
  {
   "cell_type": "code",
   "execution_count": 1,
   "metadata": {},
   "outputs": [
    {
     "name": "stderr",
     "output_type": "stream",
     "text": [
      "Using TensorFlow backend.\n"
     ]
    }
   ],
   "source": [
    "import pandas as pd\n",
    "import numpy as np\n",
    "import matplotlib.pyplot as plt\n",
    "\n",
    "from keras.models import Sequential\n",
    "from keras.layers import LSTM, Dense, Activation, BatchNormalization\n",
    "from keras.callbacks import TensorBoard\n",
    "\n",
    "from sklearn.model_selection import train_test_split"
   ]
  },
  {
   "cell_type": "code",
   "execution_count": 2,
   "metadata": {},
   "outputs": [
    {
     "name": "stdout",
     "output_type": "stream",
     "text": [
      "(55277, 2)\n"
     ]
    }
   ],
   "source": [
    "df_data = pd.read_csv('data.csv')\n",
    "print(df_data.shape)"
   ]
  },
  {
   "cell_type": "code",
   "execution_count": 3,
   "metadata": {},
   "outputs": [
    {
     "data": {
      "text/html": [
       "<div>\n",
       "<style scoped>\n",
       "    .dataframe tbody tr th:only-of-type {\n",
       "        vertical-align: middle;\n",
       "    }\n",
       "\n",
       "    .dataframe tbody tr th {\n",
       "        vertical-align: top;\n",
       "    }\n",
       "\n",
       "    .dataframe thead th {\n",
       "        text-align: right;\n",
       "    }\n",
       "</style>\n",
       "<table border=\"1\" class=\"dataframe\">\n",
       "  <thead>\n",
       "    <tr style=\"text-align: right;\">\n",
       "      <th></th>\n",
       "      <th>Time</th>\n",
       "      <th>Lux</th>\n",
       "    </tr>\n",
       "  </thead>\n",
       "  <tbody>\n",
       "    <tr>\n",
       "      <th>0</th>\n",
       "      <td>2018-08-10 09:41:37 UTC</td>\n",
       "      <td>527</td>\n",
       "    </tr>\n",
       "    <tr>\n",
       "      <th>1</th>\n",
       "      <td>2018-08-10 09:42:26 UTC</td>\n",
       "      <td>942</td>\n",
       "    </tr>\n",
       "    <tr>\n",
       "      <th>2</th>\n",
       "      <td>2018-08-10 09:43:16 UTC</td>\n",
       "      <td>942</td>\n",
       "    </tr>\n",
       "    <tr>\n",
       "      <th>3</th>\n",
       "      <td>2018-08-10 09:44:04 UTC</td>\n",
       "      <td>942</td>\n",
       "    </tr>\n",
       "    <tr>\n",
       "      <th>4</th>\n",
       "      <td>2018-08-10 09:44:53 UTC</td>\n",
       "      <td>942</td>\n",
       "    </tr>\n",
       "    <tr>\n",
       "      <th>5</th>\n",
       "      <td>2018-08-10 09:45:41 UTC</td>\n",
       "      <td>941</td>\n",
       "    </tr>\n",
       "    <tr>\n",
       "      <th>6</th>\n",
       "      <td>2018-08-10 09:46:31 UTC</td>\n",
       "      <td>951</td>\n",
       "    </tr>\n",
       "    <tr>\n",
       "      <th>7</th>\n",
       "      <td>2018-08-10 09:47:19 UTC</td>\n",
       "      <td>951</td>\n",
       "    </tr>\n",
       "    <tr>\n",
       "      <th>8</th>\n",
       "      <td>2018-08-10 09:48:08 UTC</td>\n",
       "      <td>951</td>\n",
       "    </tr>\n",
       "    <tr>\n",
       "      <th>9</th>\n",
       "      <td>2018-08-10 09:48:57 UTC</td>\n",
       "      <td>951</td>\n",
       "    </tr>\n",
       "  </tbody>\n",
       "</table>\n",
       "</div>"
      ],
      "text/plain": [
       "                      Time  Lux\n",
       "0  2018-08-10 09:41:37 UTC  527\n",
       "1  2018-08-10 09:42:26 UTC  942\n",
       "2  2018-08-10 09:43:16 UTC  942\n",
       "3  2018-08-10 09:44:04 UTC  942\n",
       "4  2018-08-10 09:44:53 UTC  942\n",
       "5  2018-08-10 09:45:41 UTC  941\n",
       "6  2018-08-10 09:46:31 UTC  951\n",
       "7  2018-08-10 09:47:19 UTC  951\n",
       "8  2018-08-10 09:48:08 UTC  951\n",
       "9  2018-08-10 09:48:57 UTC  951"
      ]
     },
     "execution_count": 3,
     "metadata": {},
     "output_type": "execute_result"
    }
   ],
   "source": [
    "df_data.head(10)"
   ]
  },
  {
   "cell_type": "code",
   "execution_count": 4,
   "metadata": {},
   "outputs": [
    {
     "name": "stdout",
     "output_type": "stream",
     "text": [
      "<class 'pandas.core.frame.DataFrame'>\n",
      "RangeIndex: 55277 entries, 0 to 55276\n",
      "Data columns (total 2 columns):\n",
      "Time    55277 non-null object\n",
      "Lux     55277 non-null int64\n",
      "dtypes: int64(1), object(1)\n",
      "memory usage: 863.8+ KB\n"
     ]
    }
   ],
   "source": [
    "df_data.info()"
   ]
  },
  {
   "cell_type": "code",
   "execution_count": 5,
   "metadata": {},
   "outputs": [],
   "source": [
    "df_data['Time'] = pd.to_datetime(df_data['Time'])"
   ]
  },
  {
   "cell_type": "code",
   "execution_count": 6,
   "metadata": {},
   "outputs": [],
   "source": [
    "hour, minute, second = [], [], []\n",
    "for i in range(np.size(df_data, 0)):\n",
    "    hour.append(df_data['Time'][i].hour)\n",
    "    minute.append(df_data['Time'][i].minute)\n",
    "    second.append(df_data['Time'][i].second)"
   ]
  },
  {
   "cell_type": "code",
   "execution_count": 7,
   "metadata": {},
   "outputs": [
    {
     "name": "stdout",
     "output_type": "stream",
     "text": [
      "(55277, 1) (55277, 1) (55277, 1)\n"
     ]
    }
   ],
   "source": [
    "hour = np.array(hour).reshape(-1, 1)\n",
    "minute = np.array(minute).reshape(-1, 1)\n",
    "second = np.array(second).reshape(-1, 1)\n",
    "\n",
    "print(hour.shape, minute.shape, second.shape)"
   ]
  },
  {
   "cell_type": "code",
   "execution_count": 8,
   "metadata": {},
   "outputs": [
    {
     "name": "stdout",
     "output_type": "stream",
     "text": [
      "(55277, 1)\n"
     ]
    }
   ],
   "source": [
    "lux = df_data['Lux'].values.reshape(-1, 1)\n",
    "print(lux.shape)"
   ]
  },
  {
   "cell_type": "code",
   "execution_count": 9,
   "metadata": {},
   "outputs": [
    {
     "name": "stdout",
     "output_type": "stream",
     "text": [
      "(55277, 4)\n"
     ]
    }
   ],
   "source": [
    "data = np.concatenate((hour, minute, second, lux), axis=1)\n",
    "print(data.shape)"
   ]
  },
  {
   "cell_type": "code",
   "execution_count": 10,
   "metadata": {},
   "outputs": [
    {
     "data": {
      "text/plain": [
       "array([[  9,  41,  37, 527],\n",
       "       [  9,  42,  26, 942],\n",
       "       [  9,  43,  16, 942],\n",
       "       [  9,  44,   4, 942],\n",
       "       [  9,  44,  53, 942],\n",
       "       [  9,  45,  41, 941],\n",
       "       [  9,  46,  31, 951],\n",
       "       [  9,  47,  19, 951],\n",
       "       [  9,  48,   8, 951],\n",
       "       [  9,  48,  57, 951]], dtype=int64)"
      ]
     },
     "execution_count": 10,
     "metadata": {},
     "output_type": "execute_result"
    }
   ],
   "source": [
    "data[:10]"
   ]
  },
  {
   "cell_type": "code",
   "execution_count": 11,
   "metadata": {},
   "outputs": [
    {
     "name": "stdout",
     "output_type": "stream",
     "text": [
      "(40000, 4) (40000, 1)\n"
     ]
    }
   ],
   "source": [
    "train_data = data[:40000]\n",
    "train_lux = lux[:40000]\n",
    "print(train_data.shape, train_lux.shape)"
   ]
  },
  {
   "cell_type": "code",
   "execution_count": 12,
   "metadata": {},
   "outputs": [
    {
     "name": "stdout",
     "output_type": "stream",
     "text": [
      "(15276, 4) (15276, 1)\n"
     ]
    }
   ],
   "source": [
    "test_data = data[40001:]\n",
    "test_lux = lux[40001:]\n",
    "print(test_data.shape, test_lux.shape)"
   ]
  },
  {
   "cell_type": "code",
   "execution_count": 13,
   "metadata": {},
   "outputs": [],
   "source": [
    "lag=10 # 몇분간의 데이터를 input feature로 할지(?)"
   ]
  },
  {
   "cell_type": "code",
   "execution_count": 14,
   "metadata": {},
   "outputs": [
    {
     "name": "stdout",
     "output_type": "stream",
     "text": [
      "(9, 39990, 4)\n"
     ]
    }
   ],
   "source": [
    "arr = []\n",
    "for i in range(9):\n",
    "    arr.append(train_data[i:i-lag,:])\n",
    "\n",
    "arr = np.array(arr, dtype=np.float32)\n",
    "print(arr.shape)"
   ]
  },
  {
   "cell_type": "code",
   "execution_count": 15,
   "metadata": {},
   "outputs": [
    {
     "data": {
      "text/plain": [
       "array([[[  9.,  41.,  37., 527.],\n",
       "        [  9.,  42.,  26., 942.],\n",
       "        [  9.,  43.,  16., 942.],\n",
       "        [  9.,  44.,   4., 942.],\n",
       "        [  9.,  44.,  53., 942.],\n",
       "        [  9.,  45.,  41., 941.],\n",
       "        [  9.,  46.,  31., 951.],\n",
       "        [  9.,  47.,  19., 951.],\n",
       "        [  9.,  48.,   8., 951.],\n",
       "        [  9.,  48.,  57., 951.]],\n",
       "\n",
       "       [[  9.,  42.,  26., 942.],\n",
       "        [  9.,  43.,  16., 942.],\n",
       "        [  9.,  44.,   4., 942.],\n",
       "        [  9.,  44.,  53., 942.],\n",
       "        [  9.,  45.,  41., 941.],\n",
       "        [  9.,  46.,  31., 951.],\n",
       "        [  9.,  47.,  19., 951.],\n",
       "        [  9.,  48.,   8., 951.],\n",
       "        [  9.,  48.,  57., 951.],\n",
       "        [  9.,  49.,  46., 951.]],\n",
       "\n",
       "       [[  9.,  43.,  16., 942.],\n",
       "        [  9.,  44.,   4., 942.],\n",
       "        [  9.,  44.,  53., 942.],\n",
       "        [  9.,  45.,  41., 941.],\n",
       "        [  9.,  46.,  31., 951.],\n",
       "        [  9.,  47.,  19., 951.],\n",
       "        [  9.,  48.,   8., 951.],\n",
       "        [  9.,  48.,  57., 951.],\n",
       "        [  9.,  49.,  46., 951.],\n",
       "        [  9.,  50.,  34., 952.]],\n",
       "\n",
       "       [[  9.,  44.,   4., 942.],\n",
       "        [  9.,  44.,  53., 942.],\n",
       "        [  9.,  45.,  41., 941.],\n",
       "        [  9.,  46.,  31., 951.],\n",
       "        [  9.,  47.,  19., 951.],\n",
       "        [  9.,  48.,   8., 951.],\n",
       "        [  9.,  48.,  57., 951.],\n",
       "        [  9.,  49.,  46., 951.],\n",
       "        [  9.,  50.,  34., 952.],\n",
       "        [  9.,  51.,  23., 952.]],\n",
       "\n",
       "       [[  9.,  44.,  53., 942.],\n",
       "        [  9.,  45.,  41., 941.],\n",
       "        [  9.,  46.,  31., 951.],\n",
       "        [  9.,  47.,  19., 951.],\n",
       "        [  9.,  48.,   8., 951.],\n",
       "        [  9.,  48.,  57., 951.],\n",
       "        [  9.,  49.,  46., 951.],\n",
       "        [  9.,  50.,  34., 952.],\n",
       "        [  9.,  51.,  23., 952.],\n",
       "        [  9.,  52.,  12., 952.]],\n",
       "\n",
       "       [[  9.,  45.,  41., 941.],\n",
       "        [  9.,  46.,  31., 951.],\n",
       "        [  9.,  47.,  19., 951.],\n",
       "        [  9.,  48.,   8., 951.],\n",
       "        [  9.,  48.,  57., 951.],\n",
       "        [  9.,  49.,  46., 951.],\n",
       "        [  9.,  50.,  34., 952.],\n",
       "        [  9.,  51.,  23., 952.],\n",
       "        [  9.,  52.,  12., 952.],\n",
       "        [  9.,  53.,   0., 952.]],\n",
       "\n",
       "       [[  9.,  46.,  31., 951.],\n",
       "        [  9.,  47.,  19., 951.],\n",
       "        [  9.,  48.,   8., 951.],\n",
       "        [  9.,  48.,  57., 951.],\n",
       "        [  9.,  49.,  46., 951.],\n",
       "        [  9.,  50.,  34., 952.],\n",
       "        [  9.,  51.,  23., 952.],\n",
       "        [  9.,  52.,  12., 952.],\n",
       "        [  9.,  53.,   0., 952.],\n",
       "        [  9.,  53.,  51., 952.]],\n",
       "\n",
       "       [[  9.,  47.,  19., 951.],\n",
       "        [  9.,  48.,   8., 951.],\n",
       "        [  9.,  48.,  57., 951.],\n",
       "        [  9.,  49.,  46., 951.],\n",
       "        [  9.,  50.,  34., 952.],\n",
       "        [  9.,  51.,  23., 952.],\n",
       "        [  9.,  52.,  12., 952.],\n",
       "        [  9.,  53.,   0., 952.],\n",
       "        [  9.,  53.,  51., 952.],\n",
       "        [  9.,  54.,  42., 952.]],\n",
       "\n",
       "       [[  9.,  48.,   8., 951.],\n",
       "        [  9.,  48.,  57., 951.],\n",
       "        [  9.,  49.,  46., 951.],\n",
       "        [  9.,  50.,  34., 952.],\n",
       "        [  9.,  51.,  23., 952.],\n",
       "        [  9.,  52.,  12., 952.],\n",
       "        [  9.,  53.,   0., 952.],\n",
       "        [  9.,  53.,  51., 952.],\n",
       "        [  9.,  54.,  42., 952.],\n",
       "        [  9.,  55.,  33., 953.]]], dtype=float32)"
      ]
     },
     "execution_count": 15,
     "metadata": {},
     "output_type": "execute_result"
    }
   ],
   "source": [
    "arr[:9,:10,:4]"
   ]
  },
  {
   "cell_type": "code",
   "execution_count": 16,
   "metadata": {},
   "outputs": [],
   "source": [
    "x_train_val = np.concatenate((arr[0], arr[1], arr[2], arr[3], arr[4], arr[5], arr[6], arr[7], arr[8]), axis=1).reshape(-1, 9, 4)\n",
    "train_mean, train_std = np.mean(x_train_val, axis=0), np.std(x_train_val, axis=0)\n",
    "train_mean, train_std = np.mean(train_mean, axis=0), np.mean(train_std, axis=0)"
   ]
  },
  {
   "cell_type": "code",
   "execution_count": 17,
   "metadata": {},
   "outputs": [],
   "source": [
    "y_train_val = train_lux[lag:, :].reshape(-1, 1)"
   ]
  },
  {
   "cell_type": "code",
   "execution_count": 18,
   "metadata": {},
   "outputs": [
    {
     "name": "stdout",
     "output_type": "stream",
     "text": [
      "(39990, 9, 4) (39990, 1)\n"
     ]
    }
   ],
   "source": [
    "print(x_train_val.shape, y_train_val.shape)"
   ]
  },
  {
   "cell_type": "code",
   "execution_count": 19,
   "metadata": {},
   "outputs": [
    {
     "name": "stdout",
     "output_type": "stream",
     "text": [
      "(9, 15266, 4)\n"
     ]
    }
   ],
   "source": [
    "arr = []\n",
    "for i in range(9):\n",
    "    arr.append(test_data[i:i-lag,:])\n",
    "    \n",
    "arr = np.array(arr, dtype=np.float32)\n",
    "print(arr.shape)\n"
   ]
  },
  {
   "cell_type": "code",
   "execution_count": 20,
   "metadata": {},
   "outputs": [
    {
     "name": "stdout",
     "output_type": "stream",
     "text": [
      "(15266, 9, 4) (15266, 1)\n"
     ]
    }
   ],
   "source": [
    "x_test = np.concatenate((arr[0], arr[1], arr[2], arr[3], arr[4], arr[5], arr[6], arr[7], arr[8]), axis=1).reshape(-1, 9, 4)\n",
    "y_test = test_lux[lag:, :].reshape(-1, 1)\n",
    "print(x_test.shape, y_test.shape)"
   ]
  },
  {
   "cell_type": "code",
   "execution_count": 21,
   "metadata": {},
   "outputs": [
    {
     "name": "stdout",
     "output_type": "stream",
     "text": [
      "(31992, 9, 4) (31992, 1) (7998, 9, 4) (7998, 1)\n"
     ]
    }
   ],
   "source": [
    "# split into training and validation datasets\n",
    "x_train, x_val, y_train, y_val = train_test_split(x_train_val, y_train_val, test_size=0.2)\n",
    "print(x_train.shape, y_train.shape, x_val.shape, y_val.shape)"
   ]
  },
  {
   "cell_type": "code",
   "execution_count": 22,
   "metadata": {},
   "outputs": [],
   "source": [
    "h_units = 32\n",
    "activation_ = 'relu'\n",
    "\n",
    "def rnn_model():\n",
    "    model = Sequential()\n",
    "    \n",
    "    model.add(LSTM(units=h_units, return_sequences=False, input_shape=(9, 4)))        \n",
    "    model.add(Dense(64))\n",
    "    \n",
    "    model.add(Dense(1))\n",
    "    \n",
    "    return model"
   ]
  },
  {
   "cell_type": "code",
   "execution_count": 23,
   "metadata": {},
   "outputs": [
    {
     "name": "stdout",
     "output_type": "stream",
     "text": [
      "WARNING:tensorflow:From C:\\Users\\YooSeok\\Anaconda3\\envs\\Keras\\lib\\site-packages\\tensorflow\\python\\framework\\op_def_library.py:263: colocate_with (from tensorflow.python.framework.ops) is deprecated and will be removed in a future version.\n",
      "Instructions for updating:\n",
      "Colocations handled automatically by placer.\n",
      "_________________________________________________________________\n",
      "Layer (type)                 Output Shape              Param #   \n",
      "=================================================================\n",
      "lstm_1 (LSTM)                (None, 32)                4736      \n",
      "_________________________________________________________________\n",
      "dense_1 (Dense)              (None, 64)                2112      \n",
      "_________________________________________________________________\n",
      "dense_2 (Dense)              (None, 1)                 65        \n",
      "=================================================================\n",
      "Total params: 6,913\n",
      "Trainable params: 6,913\n",
      "Non-trainable params: 0\n",
      "_________________________________________________________________\n"
     ]
    }
   ],
   "source": [
    "# create a model \n",
    "model = rnn_model()\n",
    "model.summary()"
   ]
  },
  {
   "cell_type": "code",
   "execution_count": 24,
   "metadata": {},
   "outputs": [],
   "source": [
    "model.compile(loss='mean_squared_error', optimizer='adam')"
   ]
  },
  {
   "cell_type": "code",
   "execution_count": 25,
   "metadata": {},
   "outputs": [
    {
     "name": "stdout",
     "output_type": "stream",
     "text": [
      "WARNING:tensorflow:From C:\\Users\\YooSeok\\Anaconda3\\envs\\Keras\\lib\\site-packages\\tensorflow\\python\\ops\\math_ops.py:3066: to_int32 (from tensorflow.python.ops.math_ops) is deprecated and will be removed in a future version.\n",
      "Instructions for updating:\n",
      "Use tf.cast instead.\n",
      "Train on 31992 samples, validate on 7998 samples\n",
      "Epoch 1/100\n",
      "31992/31992 [==============================] - 1s 36us/step - loss: 806262.6327 - val_loss: 798908.5007\n",
      "Epoch 2/100\n",
      "31992/31992 [==============================] - 0s 10us/step - loss: 800445.5527 - val_loss: 792660.8549\n",
      "Epoch 3/100\n",
      "31992/31992 [==============================] - 0s 9us/step - loss: 794012.3798 - val_loss: 785762.5672\n",
      "Epoch 4/100\n",
      "31992/31992 [==============================] - 0s 10us/step - loss: 786320.7914 - val_loss: 777010.3309\n",
      "Epoch 5/100\n",
      "31992/31992 [==============================] - 0s 10us/step - loss: 776930.9911 - val_loss: 767022.7924\n",
      "Epoch 6/100\n",
      "31992/31992 [==============================] - 0s 10us/step - loss: 766113.3973 - val_loss: 755306.9192\n",
      "Epoch 7/100\n",
      "31992/31992 [==============================] - 0s 10us/step - loss: 753542.9940 - val_loss: 741830.2912\n",
      "Epoch 8/100\n",
      "31992/31992 [==============================] - 0s 10us/step - loss: 739201.8639 - val_loss: 726593.5755\n",
      "Epoch 9/100\n",
      "31992/31992 [==============================] - 0s 10us/step - loss: 723007.2613 - val_loss: 708468.3129\n",
      "Epoch 10/100\n",
      "31992/31992 [==============================] - 0s 10us/step - loss: 703145.9437 - val_loss: 687909.3386\n",
      "Epoch 11/100\n",
      "31992/31992 [==============================] - 0s 10us/step - loss: 681968.6138 - val_loss: 665994.2712\n",
      "Epoch 12/100\n",
      "31992/31992 [==============================] - 0s 10us/step - loss: 659277.5817 - val_loss: 642620.7861\n",
      "Epoch 13/100\n",
      "31992/31992 [==============================] - 0s 10us/step - loss: 635179.1620 - val_loss: 617904.0081\n",
      "Epoch 14/100\n",
      "31992/31992 [==============================] - 0s 10us/step - loss: 609780.8114 - val_loss: 591976.5174\n",
      "Epoch 15/100\n",
      "31992/31992 [==============================] - 0s 10us/step - loss: 583246.4524 - val_loss: 564992.0175\n",
      "Epoch 16/100\n",
      "31992/31992 [==============================] - 0s 10us/step - loss: 555723.3279 - val_loss: 537181.1119\n",
      "Epoch 17/100\n",
      "31992/31992 [==============================] - 0s 10us/step - loss: 527481.9699 - val_loss: 508699.4504\n",
      "Epoch 18/100\n",
      "31992/31992 [==============================] - 0s 10us/step - loss: 498665.1161 - val_loss: 479824.7509\n",
      "Epoch 19/100\n",
      "31992/31992 [==============================] - 0s 10us/step - loss: 469537.2706 - val_loss: 450743.6323\n",
      "Epoch 20/100\n",
      "31992/31992 [==============================] - 0s 10us/step - loss: 440284.1392 - val_loss: 421684.2195\n",
      "Epoch 21/100\n",
      "31992/31992 [==============================] - 0s 10us/step - loss: 411147.4000 - val_loss: 392830.0330\n",
      "Epoch 22/100\n",
      "31992/31992 [==============================] - 0s 10us/step - loss: 382305.9120 - val_loss: 364385.7546\n",
      "Epoch 23/100\n",
      "31992/31992 [==============================] - 0s 10us/step - loss: 353948.5094 - val_loss: 336529.4736\n",
      "Epoch 24/100\n",
      "31992/31992 [==============================] - 0s 10us/step - loss: 326239.5294 - val_loss: 309291.0558\n",
      "Epoch 25/100\n",
      "31992/31992 [==============================] - 0s 10us/step - loss: 299286.5257 - val_loss: 283036.2321\n",
      "Epoch 26/100\n",
      "31992/31992 [==============================] - 0s 10us/step - loss: 273257.7986 - val_loss: 257682.1372\n",
      "Epoch 27/100\n",
      "31992/31992 [==============================] - 0s 10us/step - loss: 248205.7663 - val_loss: 233328.1242\n",
      "Epoch 28/100\n",
      "31992/31992 [==============================] - 0s 10us/step - loss: 224344.8660 - val_loss: 210369.2259\n",
      "Epoch 29/100\n",
      "31992/31992 [==============================] - 0s 10us/step - loss: 201792.0683 - val_loss: 188609.9247\n",
      "Epoch 30/100\n",
      "31992/31992 [==============================] - 0s 10us/step - loss: 180485.8425 - val_loss: 168215.2579\n",
      "Epoch 31/100\n",
      "31992/31992 [==============================] - 0s 10us/step - loss: 160650.7546 - val_loss: 149256.1300\n",
      "Epoch 32/100\n",
      "31992/31992 [==============================] - 1s 25us/step - loss: 142258.6233 - val_loss: 131767.4499\n",
      "Epoch 33/100\n",
      "31992/31992 [==============================] - 0s 10us/step - loss: 125324.7512 - val_loss: 115769.5303\n",
      "Epoch 34/100\n",
      "31992/31992 [==============================] - 0s 10us/step - loss: 109864.6848 - val_loss: 101186.2919\n",
      "Epoch 35/100\n",
      "31992/31992 [==============================] - 0s 10us/step - loss: 95842.5780 - val_loss: 88063.5227\n",
      "Epoch 36/100\n",
      "31992/31992 [==============================] - 0s 10us/step - loss: 83252.2960 - val_loss: 76327.0900\n",
      "Epoch 37/100\n",
      "31992/31992 [==============================] - 0s 10us/step - loss: 72028.3547 - val_loss: 65923.2257\n",
      "Epoch 38/100\n",
      "31992/31992 [==============================] - 0s 10us/step - loss: 62109.0113 - val_loss: 56768.3835\n",
      "Epoch 39/100\n",
      "31992/31992 [==============================] - 0s 10us/step - loss: 53404.4104 - val_loss: 48776.1930\n",
      "Epoch 40/100\n",
      "31992/31992 [==============================] - 0s 10us/step - loss: 45821.7875 - val_loss: 41833.9113\n",
      "Epoch 41/100\n",
      "31992/31992 [==============================] - 0s 10us/step - loss: 39260.5479 - val_loss: 35850.4413\n",
      "Epoch 42/100\n",
      "31992/31992 [==============================] - 0s 10us/step - loss: 33625.2715 - val_loss: 30689.3330\n",
      "Epoch 43/100\n",
      "31992/31992 [==============================] - 0s 10us/step - loss: 28488.2786 - val_loss: 25897.0710\n",
      "Epoch 44/100\n",
      "31992/31992 [==============================] - 0s 10us/step - loss: 24245.1646 - val_loss: 22108.4401\n",
      "Epoch 45/100\n",
      "31992/31992 [==============================] - 0s 10us/step - loss: 20743.0155 - val_loss: 18990.2418\n",
      "Epoch 46/100\n",
      "31992/31992 [==============================] - 0s 10us/step - loss: 17867.2229 - val_loss: 16431.5923\n",
      "Epoch 47/100\n",
      "31992/31992 [==============================] - 0s 10us/step - loss: 15470.8540 - val_loss: 14300.6585\n",
      "Epoch 48/100\n",
      "31992/31992 [==============================] - 0s 10us/step - loss: 13526.0956 - val_loss: 12524.2963\n",
      "Epoch 49/100\n",
      "31992/31992 [==============================] - 0s 10us/step - loss: 11860.2102 - val_loss: 11089.3739\n",
      "Epoch 50/100\n",
      "31992/31992 [==============================] - 0s 10us/step - loss: 10513.2129 - val_loss: 9977.9485\n",
      "Epoch 51/100\n",
      "31992/31992 [==============================] - 0s 10us/step - loss: 9422.0126 - val_loss: 8911.0535\n",
      "Epoch 52/100\n",
      "31992/31992 [==============================] - 0s 10us/step - loss: 8461.6480 - val_loss: 8061.8247\n",
      "Epoch 53/100\n",
      "31992/31992 [==============================] - 0s 10us/step - loss: 7683.1899 - val_loss: 7357.3504\n",
      "Epoch 54/100\n",
      "31992/31992 [==============================] - 0s 10us/step - loss: 7248.8723 - val_loss: 7386.0634\n",
      "Epoch 55/100\n",
      "31992/31992 [==============================] - 0s 10us/step - loss: 6806.2713 - val_loss: 6594.1669\n",
      "Epoch 56/100\n",
      "31992/31992 [==============================] - 0s 10us/step - loss: 6307.3221 - val_loss: 6349.8192\n",
      "Epoch 57/100\n",
      "31992/31992 [==============================] - 0s 10us/step - loss: 6015.5348 - val_loss: 5774.8291\n",
      "Epoch 58/100\n",
      "31992/31992 [==============================] - 0s 10us/step - loss: 5414.2302 - val_loss: 5189.2283\n",
      "Epoch 59/100\n",
      "31992/31992 [==============================] - 0s 10us/step - loss: 4933.8142 - val_loss: 4824.7701\n",
      "Epoch 60/100\n",
      "31992/31992 [==============================] - 0s 10us/step - loss: 4615.6877 - val_loss: 4592.1933\n",
      "Epoch 61/100\n",
      "31992/31992 [==============================] - 0s 10us/step - loss: 4332.0874 - val_loss: 4221.3763\n",
      "Epoch 62/100\n",
      "31992/31992 [==============================] - 0s 10us/step - loss: 3993.6090 - val_loss: 3960.6323\n",
      "Epoch 63/100\n",
      "31992/31992 [==============================] - 0s 10us/step - loss: 3747.5148 - val_loss: 3796.6441\n",
      "Epoch 64/100\n",
      "31992/31992 [==============================] - 0s 10us/step - loss: 3551.4549 - val_loss: 3590.0507\n",
      "Epoch 65/100\n",
      "31992/31992 [==============================] - 0s 10us/step - loss: 3367.3201 - val_loss: 3386.8017\n",
      "Epoch 66/100\n",
      "31992/31992 [==============================] - 0s 9us/step - loss: 3200.0404 - val_loss: 3254.0411\n",
      "Epoch 67/100\n",
      "31992/31992 [==============================] - 0s 10us/step - loss: 3098.0101 - val_loss: 3107.0428\n",
      "Epoch 68/100\n",
      "31992/31992 [==============================] - 0s 10us/step - loss: 2957.8749 - val_loss: 3046.2750\n",
      "Epoch 69/100\n",
      "31992/31992 [==============================] - 0s 10us/step - loss: 2896.3256 - val_loss: 2964.4955\n",
      "Epoch 70/100\n",
      "31992/31992 [==============================] - 0s 10us/step - loss: 2762.0241 - val_loss: 2802.2356\n",
      "Epoch 71/100\n",
      "31992/31992 [==============================] - 0s 10us/step - loss: 2657.6330 - val_loss: 2731.5216\n",
      "Epoch 72/100\n",
      "31992/31992 [==============================] - 0s 10us/step - loss: 2581.8170 - val_loss: 2663.7483\n",
      "Epoch 73/100\n",
      "31992/31992 [==============================] - 0s 10us/step - loss: 2476.6418 - val_loss: 2536.9764\n",
      "Epoch 74/100\n",
      "31992/31992 [==============================] - 0s 10us/step - loss: 2363.3862 - val_loss: 2342.5876\n",
      "Epoch 75/100\n",
      "31992/31992 [==============================] - 0s 10us/step - loss: 3090.1706 - val_loss: 2952.8082\n",
      "Epoch 76/100\n",
      "31992/31992 [==============================] - 0s 10us/step - loss: 2611.8001 - val_loss: 2608.2060\n",
      "Epoch 77/100\n",
      "31992/31992 [==============================] - ETA: 0s - loss: 2452.69 - 0s 10us/step - loss: 2434.8503 - val_loss: 2493.4195\n",
      "Epoch 78/100\n",
      "31992/31992 [==============================] - 0s 10us/step - loss: 2347.3745 - val_loss: 2436.2372\n",
      "Epoch 79/100\n",
      "31992/31992 [==============================] - 0s 10us/step - loss: 2349.5480 - val_loss: 3353.9290\n",
      "Epoch 80/100\n",
      "31992/31992 [==============================] - 0s 10us/step - loss: 2709.7974 - val_loss: 2548.3179\n",
      "Epoch 81/100\n",
      "31992/31992 [==============================] - 0s 9us/step - loss: 2119.8304 - val_loss: 2164.2737\n",
      "Epoch 82/100\n",
      "31992/31992 [==============================] - 0s 10us/step - loss: 1882.7953 - val_loss: 1963.6641\n",
      "Epoch 83/100\n",
      "31992/31992 [==============================] - 0s 10us/step - loss: 1787.5224 - val_loss: 1921.0485\n",
      "Epoch 84/100\n",
      "31992/31992 [==============================] - 0s 10us/step - loss: 1754.8795 - val_loss: 1866.1236\n",
      "Epoch 85/100\n",
      "31992/31992 [==============================] - 0s 10us/step - loss: 1718.0055 - val_loss: 1843.7051\n",
      "Epoch 86/100\n",
      "31992/31992 [==============================] - 0s 10us/step - loss: 1692.2509 - val_loss: 1832.0450\n",
      "Epoch 87/100\n",
      "31992/31992 [==============================] - 0s 10us/step - loss: 1680.9449 - val_loss: 1829.1593\n",
      "Epoch 88/100\n",
      "31992/31992 [==============================] - 0s 10us/step - loss: 1686.0621 - val_loss: 1796.5237\n",
      "Epoch 89/100\n",
      "31992/31992 [==============================] - 0s 10us/step - loss: 1664.4745 - val_loss: 1905.9723\n",
      "Epoch 90/100\n",
      "31992/31992 [==============================] - 0s 10us/step - loss: 1650.3586 - val_loss: 1770.5942\n",
      "Epoch 91/100\n",
      "31992/31992 [==============================] - 0s 10us/step - loss: 1640.9013 - val_loss: 1868.0329\n",
      "Epoch 92/100\n",
      "31992/31992 [==============================] - 0s 10us/step - loss: 1653.3181 - val_loss: 1864.4165\n",
      "Epoch 93/100\n",
      "31992/31992 [==============================] - 0s 10us/step - loss: 1612.7381 - val_loss: 1769.1834\n",
      "Epoch 94/100\n",
      "31992/31992 [==============================] - 0s 10us/step - loss: 1595.2446 - val_loss: 1734.2963\n",
      "Epoch 95/100\n",
      "31992/31992 [==============================] - 0s 10us/step - loss: 1580.2278 - val_loss: 1751.6213\n",
      "Epoch 96/100\n",
      "31992/31992 [==============================] - 0s 10us/step - loss: 1585.8225 - val_loss: 1756.5650\n",
      "Epoch 97/100\n",
      "31992/31992 [==============================] - 0s 10us/step - loss: 1575.5822 - val_loss: 1731.7259\n",
      "Epoch 98/100\n",
      "31992/31992 [==============================] - 0s 10us/step - loss: 1599.1706 - val_loss: 1820.8514\n",
      "Epoch 99/100\n",
      "31992/31992 [==============================] - 0s 10us/step - loss: 1584.0180 - val_loss: 1707.6778\n",
      "Epoch 100/100\n",
      "31992/31992 [==============================] - 0s 10us/step - loss: 1548.6023 - val_loss: 1716.3477\n"
     ]
    }
   ],
   "source": [
    "# training\n",
    "tensorBoard = TensorBoard(log_dir='./logs', histogram_freq=0, write_graph=True, write_images=False)\n",
    "\n",
    "hist = model.fit(x_train, y_train, epochs=100, batch_size=2048, verbose=True, validation_data=(x_val, y_val), shuffle=True, callbacks=[tensorBoard])"
   ]
  },
  {
   "cell_type": "code",
   "execution_count": 26,
   "metadata": {},
   "outputs": [
    {
     "name": "stdout",
     "output_type": "stream",
     "text": [
      "15266/15266 [==============================] - 0s 13us/step\n",
      "(15266, 1)\n",
      "15266/15266 [==============================] - 0s 8us/step\n",
      "3107.3593876020445\n"
     ]
    }
   ],
   "source": [
    "y_pred = model.predict(x_test, batch_size=1024, verbose=True) \n",
    "print(y_pred.shape)\n",
    "print(model.evaluate(x_test, y_test,batch_size=1024))"
   ]
  },
  {
   "cell_type": "code",
   "execution_count": 27,
   "metadata": {},
   "outputs": [
    {
     "data": {
      "image/png": "[encoded data removed]",
      "text/plain": [
       "<Figure size 432x288 with 1 Axes>"
      ]
     },
     "metadata": {
      "needs_background": "light"
     },
     "output_type": "display_data"
    }
   ],
   "source": [
    "%matplotlib inline\n",
    "import matplotlib.pyplot as plt\n",
    "\n",
    "fig, loss_ax = plt.subplots()\n",
    "\n",
    "loss_ax.plot(hist.history['loss'], 'b', label='train loss')\n",
    "loss_ax.plot(hist.history['val_loss'], 'r', label='test loss')\n",
    "\n",
    "loss_ax.set_xlabel('epoch')\n",
    "loss_ax.set_ylabel('loss')\n",
    "\n",
    "loss_ax.legend(loc='upper right')\n",
    "\n",
    "plt.show()"
   ]
  },
  {
   "cell_type": "code",
   "execution_count": 28,
   "metadata": {},
   "outputs": [
    {
     "data": {
      "image/png": "[encoded data removed]",
      "text/plain": [
       "<Figure size 1368x576 with 1 Axes>"
      ]
     },
     "metadata": {
      "needs_background": "light"
     },
     "output_type": "display_data"
    }
   ],
   "source": [
    "# visualization for prediction result\n",
    "# set figure size\n",
    "plt.figure(figsize=(19,8))\n",
    "\n",
    "# set font\n",
    "font = {'family': 'Arial', 'weight': 'normal', 'size': 16}\n",
    "plt.rc('font', **font)\n",
    "\n",
    "# plot data \n",
    "plt.plot(y_test[:,0], 'r', label='y_true')\n",
    "plt.plot(y_pred[:,0], 'b', label='y_pred')\n",
    "\n",
    "# set legend position\n",
    "plt.legend(shadow=True, loc='upper right')\n",
    "\n",
    "# set x-axis & y-axis titles\n",
    "#plt.title('prediction result')\n",
    "plt.xlabel('Time Index')\n",
    "plt.ylabel('Brightness')\n",
    "\n",
    "# set axis-limits\n",
    "plt.xlim(left = 0, right = len(y_test)) \n",
    "plt.ylim(bottom = 0.3) \n",
    "\n",
    "# set grid\n",
    "plt.grid(color='gray', linestyle='--', linewidth=1)\n",
    "\n",
    "plt.xticks(np.arange(0,16000,2000))\n",
    "plt.yticks(np.arange(0,1024,256))\n",
    "\n",
    "# save & display figure\n",
    "plt.show()"
   ]
  },
  {
   "cell_type": "code",
   "execution_count": 29,
   "metadata": {},
   "outputs": [
    {
     "name": "stdout",
     "output_type": "stream",
     "text": [
      "Train Score:  1558.381753534697\n",
      "Test Score:  3107.359346056678\n"
     ]
    }
   ],
   "source": [
    "#모델 평가하기\n",
    "trainScore = model.evaluate(x_train, y_train, verbose=0)\n",
    "print('Train Score: ', trainScore)\n",
    "#valScore = model.evaluate(x_val, y_val, verbose=0)\n",
    "#print('Validataion Score: ', valScore)\n",
    "testScore = model.evaluate(x_test, y_test, verbose=0)\n",
    "print('Test Score: ', testScore)"
   ]
  },
  {
   "cell_type": "code",
   "execution_count": 30,
   "metadata": {},
   "outputs": [
    {
     "name": "stdout",
     "output_type": "stream",
     "text": [
      "MAPE:  8.142052054578333\n"
     ]
    }
   ],
   "source": [
    "#MAPE\n",
    "\n",
    "y_test, y_pred = np.array(y_test), np.array(y_pred)\n",
    "mape = np.mean(np.abs((y_test - y_pred) / y_test)) * 100\n",
    "print('MAPE: ', mape)"
   ]
  },
  {
   "cell_type": "code",
   "execution_count": null,
   "metadata": {
    "collapsed": true,
    "jupyter": {
     "outputs_hidden": true
    }
   },
   "outputs": [],
   "source": []
  }
 ],
 "metadata": {
  "kernelspec": {
   "display_name": "Python 3",
   "language": "python",
   "name": "python3"
  },
  "language_info": {
   "codemirror_mode": {
    "name": "ipython",
    "version": 3
   },
   "file_extension": ".py",
   "mimetype": "text/x-python",
   "name": "python",
   "nbconvert_exporter": "python",
   "pygments_lexer": "ipython3",
   "version": "3.7.3"
  }
 },
 "nbformat": 4,
 "nbformat_minor": 4
}
