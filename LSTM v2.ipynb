{
 "cells": [
  {
   "cell_type": "code",
   "execution_count": 1,
   "metadata": {},
   "outputs": [
    {
     "name": "stderr",
     "output_type": "stream",
     "text": [
      "Using TensorFlow backend.\n"
     ]
    }
   ],
   "source": [
    "import pandas as pd\n",
    "import numpy as np\n",
    "import matplotlib.pyplot as plt\n",
    "\n",
    "from keras.models import Sequential\n",
    "from keras.layers import LSTM, Dense, Activation, BatchNormalization\n",
    "from keras.callbacks import TensorBoard\n",
    "\n",
    "from sklearn.model_selection import train_test_split"
   ]
  },
  {
   "cell_type": "code",
   "execution_count": 2,
   "metadata": {},
   "outputs": [
    {
     "name": "stdout",
     "output_type": "stream",
     "text": [
      "(55277, 2)\n"
     ]
    }
   ],
   "source": [
    "df_data = pd.read_csv('data.csv')\n",
    "print(df_data.shape)"
   ]
  },
  {
   "cell_type": "code",
   "execution_count": 3,
   "metadata": {},
   "outputs": [
    {
     "data": {
      "text/html": [
       "<div>\n",
       "<style scoped>\n",
       "    .dataframe tbody tr th:only-of-type {\n",
       "        vertical-align: middle;\n",
       "    }\n",
       "\n",
       "    .dataframe tbody tr th {\n",
       "        vertical-align: top;\n",
       "    }\n",
       "\n",
       "    .dataframe thead th {\n",
       "        text-align: right;\n",
       "    }\n",
       "</style>\n",
       "<table border=\"1\" class=\"dataframe\">\n",
       "  <thead>\n",
       "    <tr style=\"text-align: right;\">\n",
       "      <th></th>\n",
       "      <th>Time</th>\n",
       "      <th>Lux</th>\n",
       "    </tr>\n",
       "  </thead>\n",
       "  <tbody>\n",
       "    <tr>\n",
       "      <th>0</th>\n",
       "      <td>2018-08-10 09:41:37 UTC</td>\n",
       "      <td>527</td>\n",
       "    </tr>\n",
       "    <tr>\n",
       "      <th>1</th>\n",
       "      <td>2018-08-10 09:42:26 UTC</td>\n",
       "      <td>942</td>\n",
       "    </tr>\n",
       "    <tr>\n",
       "      <th>2</th>\n",
       "      <td>2018-08-10 09:43:16 UTC</td>\n",
       "      <td>942</td>\n",
       "    </tr>\n",
       "    <tr>\n",
       "      <th>3</th>\n",
       "      <td>2018-08-10 09:44:04 UTC</td>\n",
       "      <td>942</td>\n",
       "    </tr>\n",
       "    <tr>\n",
       "      <th>4</th>\n",
       "      <td>2018-08-10 09:44:53 UTC</td>\n",
       "      <td>942</td>\n",
       "    </tr>\n",
       "    <tr>\n",
       "      <th>5</th>\n",
       "      <td>2018-08-10 09:45:41 UTC</td>\n",
       "      <td>941</td>\n",
       "    </tr>\n",
       "    <tr>\n",
       "      <th>6</th>\n",
       "      <td>2018-08-10 09:46:31 UTC</td>\n",
       "      <td>951</td>\n",
       "    </tr>\n",
       "    <tr>\n",
       "      <th>7</th>\n",
       "      <td>2018-08-10 09:47:19 UTC</td>\n",
       "      <td>951</td>\n",
       "    </tr>\n",
       "    <tr>\n",
       "      <th>8</th>\n",
       "      <td>2018-08-10 09:48:08 UTC</td>\n",
       "      <td>951</td>\n",
       "    </tr>\n",
       "    <tr>\n",
       "      <th>9</th>\n",
       "      <td>2018-08-10 09:48:57 UTC</td>\n",
       "      <td>951</td>\n",
       "    </tr>\n",
       "  </tbody>\n",
       "</table>\n",
       "</div>"
      ],
      "text/plain": [
       "                      Time  Lux\n",
       "0  2018-08-10 09:41:37 UTC  527\n",
       "1  2018-08-10 09:42:26 UTC  942\n",
       "2  2018-08-10 09:43:16 UTC  942\n",
       "3  2018-08-10 09:44:04 UTC  942\n",
       "4  2018-08-10 09:44:53 UTC  942\n",
       "5  2018-08-10 09:45:41 UTC  941\n",
       "6  2018-08-10 09:46:31 UTC  951\n",
       "7  2018-08-10 09:47:19 UTC  951\n",
       "8  2018-08-10 09:48:08 UTC  951\n",
       "9  2018-08-10 09:48:57 UTC  951"
      ]
     },
     "execution_count": 3,
     "metadata": {},
     "output_type": "execute_result"
    }
   ],
   "source": [
    "df_data.head(10)"
   ]
  },
  {
   "cell_type": "code",
   "execution_count": 4,
   "metadata": {},
   "outputs": [
    {
     "name": "stdout",
     "output_type": "stream",
     "text": [
      "<class 'pandas.core.frame.DataFrame'>\n",
      "RangeIndex: 55277 entries, 0 to 55276\n",
      "Data columns (total 2 columns):\n",
      "Time    55277 non-null object\n",
      "Lux     55277 non-null int64\n",
      "dtypes: int64(1), object(1)\n",
      "memory usage: 863.8+ KB\n"
     ]
    }
   ],
   "source": [
    "df_data.info()"
   ]
  },
  {
   "cell_type": "code",
   "execution_count": 5,
   "metadata": {},
   "outputs": [],
   "source": [
    "df_data['Time'] = pd.to_datetime(df_data['Time'])"
   ]
  },
  {
   "cell_type": "code",
   "execution_count": 6,
   "metadata": {},
   "outputs": [],
   "source": [
    "hour, minute, second = [], [], []\n",
    "for i in range(np.size(df_data, 0)):\n",
    "    hour.append(df_data['Time'][i].hour)\n",
    "    minute.append(df_data['Time'][i].minute)\n",
    "    second.append(df_data['Time'][i].second)"
   ]
  },
  {
   "cell_type": "code",
   "execution_count": 7,
   "metadata": {},
   "outputs": [
    {
     "name": "stdout",
     "output_type": "stream",
     "text": [
      "(55277, 1) (55277, 1) (55277, 1)\n"
     ]
    }
   ],
   "source": [
    "hour = np.array(hour).reshape(-1, 1)\n",
    "minute = np.array(minute).reshape(-1, 1)\n",
    "second = np.array(second).reshape(-1, 1)\n",
    "\n",
    "print(hour.shape, minute.shape, second.shape)"
   ]
  },
  {
   "cell_type": "code",
   "execution_count": 8,
   "metadata": {},
   "outputs": [
    {
     "name": "stdout",
     "output_type": "stream",
     "text": [
      "(55277, 1)\n"
     ]
    }
   ],
   "source": [
    "lux = df_data['Lux'].values.reshape(-1, 1)\n",
    "print(lux.shape)"
   ]
  },
  {
   "cell_type": "code",
   "execution_count": 9,
   "metadata": {},
   "outputs": [
    {
     "name": "stdout",
     "output_type": "stream",
     "text": [
      "(55277, 4)\n"
     ]
    }
   ],
   "source": [
    "data = np.concatenate((hour, minute, second, lux), axis=1)\n",
    "print(data.shape)"
   ]
  },
  {
   "cell_type": "code",
   "execution_count": 10,
   "metadata": {},
   "outputs": [
    {
     "data": {
      "text/plain": [
       "array([[  9,  41,  37, 527],\n",
       "       [  9,  42,  26, 942],\n",
       "       [  9,  43,  16, 942],\n",
       "       [  9,  44,   4, 942],\n",
       "       [  9,  44,  53, 942],\n",
       "       [  9,  45,  41, 941],\n",
       "       [  9,  46,  31, 951],\n",
       "       [  9,  47,  19, 951],\n",
       "       [  9,  48,   8, 951],\n",
       "       [  9,  48,  57, 951]], dtype=int64)"
      ]
     },
     "execution_count": 10,
     "metadata": {},
     "output_type": "execute_result"
    }
   ],
   "source": [
    "data[:10]"
   ]
  },
  {
   "cell_type": "code",
   "execution_count": 11,
   "metadata": {},
   "outputs": [
    {
     "name": "stdout",
     "output_type": "stream",
     "text": [
      "(40000, 4) (40000, 1)\n"
     ]
    }
   ],
   "source": [
    "train_data = data[:40000]\n",
    "train_lux = lux[:40000]\n",
    "print(train_data.shape, train_lux.shape)"
   ]
  },
  {
   "cell_type": "code",
   "execution_count": 12,
   "metadata": {},
   "outputs": [
    {
     "name": "stdout",
     "output_type": "stream",
     "text": [
      "(15276, 4) (15276, 1)\n"
     ]
    }
   ],
   "source": [
    "test_data = data[40001:]\n",
    "test_lux = lux[40001:]\n",
    "print(test_data.shape, test_lux.shape)"
   ]
  },
  {
   "cell_type": "code",
   "execution_count": 14,
   "metadata": {},
   "outputs": [],
   "source": [
    "lag=15 # 몇분 후 의 데이터를 input feature로 할지(?)"
   ]
  },
  {
   "cell_type": "code",
   "execution_count": 15,
   "metadata": {},
   "outputs": [
    {
     "name": "stdout",
     "output_type": "stream",
     "text": [
      "(15, 39985, 4)\n"
     ]
    }
   ],
   "source": [
    "arr = []\n",
    "for i in range(15):\n",
    "    arr.append(train_data[i:i-lag,:])\n",
    "\n",
    "arr = np.array(arr, dtype=np.float32)\n",
    "print(arr.shape)"
   ]
  },
  {
   "cell_type": "code",
   "execution_count": 16,
   "metadata": {},
   "outputs": [
    {
     "data": {
      "text/plain": [
       "array([[[  9.,  41.,  37., 527.],\n",
       "        [  9.,  42.,  26., 942.],\n",
       "        [  9.,  43.,  16., 942.],\n",
       "        [  9.,  44.,   4., 942.],\n",
       "        [  9.,  44.,  53., 942.],\n",
       "        [  9.,  45.,  41., 941.],\n",
       "        [  9.,  46.,  31., 951.],\n",
       "        [  9.,  47.,  19., 951.],\n",
       "        [  9.,  48.,   8., 951.],\n",
       "        [  9.,  48.,  57., 951.]],\n",
       "\n",
       "       [[  9.,  42.,  26., 942.],\n",
       "        [  9.,  43.,  16., 942.],\n",
       "        [  9.,  44.,   4., 942.],\n",
       "        [  9.,  44.,  53., 942.],\n",
       "        [  9.,  45.,  41., 941.],\n",
       "        [  9.,  46.,  31., 951.],\n",
       "        [  9.,  47.,  19., 951.],\n",
       "        [  9.,  48.,   8., 951.],\n",
       "        [  9.,  48.,  57., 951.],\n",
       "        [  9.,  49.,  46., 951.]],\n",
       "\n",
       "       [[  9.,  43.,  16., 942.],\n",
       "        [  9.,  44.,   4., 942.],\n",
       "        [  9.,  44.,  53., 942.],\n",
       "        [  9.,  45.,  41., 941.],\n",
       "        [  9.,  46.,  31., 951.],\n",
       "        [  9.,  47.,  19., 951.],\n",
       "        [  9.,  48.,   8., 951.],\n",
       "        [  9.,  48.,  57., 951.],\n",
       "        [  9.,  49.,  46., 951.],\n",
       "        [  9.,  50.,  34., 952.]],\n",
       "\n",
       "       [[  9.,  44.,   4., 942.],\n",
       "        [  9.,  44.,  53., 942.],\n",
       "        [  9.,  45.,  41., 941.],\n",
       "        [  9.,  46.,  31., 951.],\n",
       "        [  9.,  47.,  19., 951.],\n",
       "        [  9.,  48.,   8., 951.],\n",
       "        [  9.,  48.,  57., 951.],\n",
       "        [  9.,  49.,  46., 951.],\n",
       "        [  9.,  50.,  34., 952.],\n",
       "        [  9.,  51.,  23., 952.]],\n",
       "\n",
       "       [[  9.,  44.,  53., 942.],\n",
       "        [  9.,  45.,  41., 941.],\n",
       "        [  9.,  46.,  31., 951.],\n",
       "        [  9.,  47.,  19., 951.],\n",
       "        [  9.,  48.,   8., 951.],\n",
       "        [  9.,  48.,  57., 951.],\n",
       "        [  9.,  49.,  46., 951.],\n",
       "        [  9.,  50.,  34., 952.],\n",
       "        [  9.,  51.,  23., 952.],\n",
       "        [  9.,  52.,  12., 952.]],\n",
       "\n",
       "       [[  9.,  45.,  41., 941.],\n",
       "        [  9.,  46.,  31., 951.],\n",
       "        [  9.,  47.,  19., 951.],\n",
       "        [  9.,  48.,   8., 951.],\n",
       "        [  9.,  48.,  57., 951.],\n",
       "        [  9.,  49.,  46., 951.],\n",
       "        [  9.,  50.,  34., 952.],\n",
       "        [  9.,  51.,  23., 952.],\n",
       "        [  9.,  52.,  12., 952.],\n",
       "        [  9.,  53.,   0., 952.]],\n",
       "\n",
       "       [[  9.,  46.,  31., 951.],\n",
       "        [  9.,  47.,  19., 951.],\n",
       "        [  9.,  48.,   8., 951.],\n",
       "        [  9.,  48.,  57., 951.],\n",
       "        [  9.,  49.,  46., 951.],\n",
       "        [  9.,  50.,  34., 952.],\n",
       "        [  9.,  51.,  23., 952.],\n",
       "        [  9.,  52.,  12., 952.],\n",
       "        [  9.,  53.,   0., 952.],\n",
       "        [  9.,  53.,  51., 952.]],\n",
       "\n",
       "       [[  9.,  47.,  19., 951.],\n",
       "        [  9.,  48.,   8., 951.],\n",
       "        [  9.,  48.,  57., 951.],\n",
       "        [  9.,  49.,  46., 951.],\n",
       "        [  9.,  50.,  34., 952.],\n",
       "        [  9.,  51.,  23., 952.],\n",
       "        [  9.,  52.,  12., 952.],\n",
       "        [  9.,  53.,   0., 952.],\n",
       "        [  9.,  53.,  51., 952.],\n",
       "        [  9.,  54.,  42., 952.]],\n",
       "\n",
       "       [[  9.,  48.,   8., 951.],\n",
       "        [  9.,  48.,  57., 951.],\n",
       "        [  9.,  49.,  46., 951.],\n",
       "        [  9.,  50.,  34., 952.],\n",
       "        [  9.,  51.,  23., 952.],\n",
       "        [  9.,  52.,  12., 952.],\n",
       "        [  9.,  53.,   0., 952.],\n",
       "        [  9.,  53.,  51., 952.],\n",
       "        [  9.,  54.,  42., 952.],\n",
       "        [  9.,  55.,  33., 953.]],\n",
       "\n",
       "       [[  9.,  48.,  57., 951.],\n",
       "        [  9.,  49.,  46., 951.],\n",
       "        [  9.,  50.,  34., 952.],\n",
       "        [  9.,  51.,  23., 952.],\n",
       "        [  9.,  52.,  12., 952.],\n",
       "        [  9.,  53.,   0., 952.],\n",
       "        [  9.,  53.,  51., 952.],\n",
       "        [  9.,  54.,  42., 952.],\n",
       "        [  9.,  55.,  33., 953.],\n",
       "        [  9.,  56.,  21., 953.]],\n",
       "\n",
       "       [[  9.,  49.,  46., 951.],\n",
       "        [  9.,  50.,  34., 952.],\n",
       "        [  9.,  51.,  23., 952.],\n",
       "        [  9.,  52.,  12., 952.],\n",
       "        [  9.,  53.,   0., 952.],\n",
       "        [  9.,  53.,  51., 952.],\n",
       "        [  9.,  54.,  42., 952.],\n",
       "        [  9.,  55.,  33., 953.],\n",
       "        [  9.,  56.,  21., 953.],\n",
       "        [  9.,  57.,  10., 953.]],\n",
       "\n",
       "       [[  9.,  50.,  34., 952.],\n",
       "        [  9.,  51.,  23., 952.],\n",
       "        [  9.,  52.,  12., 952.],\n",
       "        [  9.,  53.,   0., 952.],\n",
       "        [  9.,  53.,  51., 952.],\n",
       "        [  9.,  54.,  42., 952.],\n",
       "        [  9.,  55.,  33., 953.],\n",
       "        [  9.,  56.,  21., 953.],\n",
       "        [  9.,  57.,  10., 953.],\n",
       "        [  9.,  57.,  59., 953.]],\n",
       "\n",
       "       [[  9.,  51.,  23., 952.],\n",
       "        [  9.,  52.,  12., 952.],\n",
       "        [  9.,  53.,   0., 952.],\n",
       "        [  9.,  53.,  51., 952.],\n",
       "        [  9.,  54.,  42., 952.],\n",
       "        [  9.,  55.,  33., 953.],\n",
       "        [  9.,  56.,  21., 953.],\n",
       "        [  9.,  57.,  10., 953.],\n",
       "        [  9.,  57.,  59., 953.],\n",
       "        [  9.,  58.,  48., 953.]],\n",
       "\n",
       "       [[  9.,  52.,  12., 952.],\n",
       "        [  9.,  53.,   0., 952.],\n",
       "        [  9.,  53.,  51., 952.],\n",
       "        [  9.,  54.,  42., 952.],\n",
       "        [  9.,  55.,  33., 953.],\n",
       "        [  9.,  56.,  21., 953.],\n",
       "        [  9.,  57.,  10., 953.],\n",
       "        [  9.,  57.,  59., 953.],\n",
       "        [  9.,  58.,  48., 953.],\n",
       "        [  9.,  59.,  36., 953.]],\n",
       "\n",
       "       [[  9.,  53.,   0., 952.],\n",
       "        [  9.,  53.,  51., 952.],\n",
       "        [  9.,  54.,  42., 952.],\n",
       "        [  9.,  55.,  33., 953.],\n",
       "        [  9.,  56.,  21., 953.],\n",
       "        [  9.,  57.,  10., 953.],\n",
       "        [  9.,  57.,  59., 953.],\n",
       "        [  9.,  58.,  48., 953.],\n",
       "        [  9.,  59.,  36., 953.],\n",
       "        [ 10.,   0.,  24., 954.]]], dtype=float32)"
      ]
     },
     "execution_count": 16,
     "metadata": {},
     "output_type": "execute_result"
    }
   ],
   "source": [
    "arr[:15,:10,:4]"
   ]
  },
  {
   "cell_type": "code",
   "execution_count": 17,
   "metadata": {},
   "outputs": [],
   "source": [
    "x_train_val = np.concatenate((arr[0], arr[1], arr[2], arr[3], arr[4], arr[5], arr[6], arr[7], arr[8], arr[9], arr[10], arr[11], arr[12], arr[13], arr[14]), axis=1).reshape(-1, 15, 4)\n",
    "train_mean, train_std = np.mean(x_train_val, axis=0), np.std(x_train_val, axis=0)\n",
    "train_mean, train_std = np.mean(train_mean, axis=0), np.mean(train_std, axis=0)"
   ]
  },
  {
   "cell_type": "code",
   "execution_count": 18,
   "metadata": {},
   "outputs": [],
   "source": [
    "y_train_val = train_lux[lag:, :].reshape(-1, 1)"
   ]
  },
  {
   "cell_type": "code",
   "execution_count": 19,
   "metadata": {},
   "outputs": [
    {
     "name": "stdout",
     "output_type": "stream",
     "text": [
      "(39985, 15, 4) (39985, 1)\n"
     ]
    }
   ],
   "source": [
    "print(x_train_val.shape, y_train_val.shape)"
   ]
  },
  {
   "cell_type": "code",
   "execution_count": 20,
   "metadata": {},
   "outputs": [
    {
     "name": "stdout",
     "output_type": "stream",
     "text": [
      "(15, 15261, 4)\n"
     ]
    }
   ],
   "source": [
    "arr = []\n",
    "for i in range(15):\n",
    "    arr.append(test_data[i:i-lag,:])\n",
    "    \n",
    "arr = np.array(arr, dtype=np.float32)\n",
    "print(arr.shape)\n"
   ]
  },
  {
   "cell_type": "code",
   "execution_count": 21,
   "metadata": {},
   "outputs": [
    {
     "name": "stdout",
     "output_type": "stream",
     "text": [
      "(15261, 15, 4) (15261, 1)\n"
     ]
    }
   ],
   "source": [
    "x_test = np.concatenate((arr[0], arr[1], arr[2], arr[3], arr[4], arr[5], arr[6], arr[7], arr[8], arr[9], arr[10], arr[11], arr[12], arr[13], arr[14]), axis=1).reshape(-1, 15, 4)\n",
    "y_test = test_lux[lag:, :].reshape(-1, 1)\n",
    "print(x_test.shape, y_test.shape)"
   ]
  },
  {
   "cell_type": "code",
   "execution_count": 22,
   "metadata": {},
   "outputs": [
    {
     "name": "stdout",
     "output_type": "stream",
     "text": [
      "(31988, 15, 4) (31988, 1) (7997, 15, 4) (7997, 1)\n"
     ]
    }
   ],
   "source": [
    "# split into training and validation datasets\n",
    "x_train, x_val, y_train, y_val = train_test_split(x_train_val, y_train_val, test_size=0.2)\n",
    "print(x_train.shape, y_train.shape, x_val.shape, y_val.shape)"
   ]
  },
  {
   "cell_type": "code",
   "execution_count": 23,
   "metadata": {},
   "outputs": [],
   "source": [
    "h_units = 64\n",
    "activation_ = 'relu'\n",
    "\n",
    "def rnn_model():\n",
    "    model = Sequential()\n",
    "    \n",
    "    model.add(LSTM(units=h_units, return_sequences=False, input_shape=(15, 4)))        \n",
    "    model.add(Dense(64))\n",
    "    \n",
    "    model.add(Dense(1))\n",
    "    \n",
    "    return model"
   ]
  },
  {
   "cell_type": "code",
   "execution_count": 24,
   "metadata": {},
   "outputs": [
    {
     "name": "stdout",
     "output_type": "stream",
     "text": [
      "WARNING:tensorflow:From C:\\Users\\YooSeok\\Anaconda3\\envs\\Keras\\lib\\site-packages\\tensorflow\\python\\framework\\op_def_library.py:263: colocate_with (from tensorflow.python.framework.ops) is deprecated and will be removed in a future version.\n",
      "Instructions for updating:\n",
      "Colocations handled automatically by placer.\n",
      "_________________________________________________________________\n",
      "Layer (type)                 Output Shape              Param #   \n",
      "=================================================================\n",
      "lstm_1 (LSTM)                (None, 64)                17664     \n",
      "_________________________________________________________________\n",
      "dense_1 (Dense)              (None, 64)                4160      \n",
      "_________________________________________________________________\n",
      "dense_2 (Dense)              (None, 1)                 65        \n",
      "=================================================================\n",
      "Total params: 21,889\n",
      "Trainable params: 21,889\n",
      "Non-trainable params: 0\n",
      "_________________________________________________________________\n"
     ]
    }
   ],
   "source": [
    "# create a model \n",
    "model = rnn_model()\n",
    "model.summary()"
   ]
  },
  {
   "cell_type": "code",
   "execution_count": 25,
   "metadata": {},
   "outputs": [],
   "source": [
    "model.compile(loss='mean_squared_error', optimizer='adam')"
   ]
  },
  {
   "cell_type": "code",
   "execution_count": 26,
   "metadata": {},
   "outputs": [
    {
     "name": "stdout",
     "output_type": "stream",
     "text": [
      "WARNING:tensorflow:From C:\\Users\\YooSeok\\Anaconda3\\envs\\Keras\\lib\\site-packages\\tensorflow\\python\\ops\\math_ops.py:3066: to_int32 (from tensorflow.python.ops.math_ops) is deprecated and will be removed in a future version.\n",
      "Instructions for updating:\n",
      "Use tf.cast instead.\n",
      "Train on 31988 samples, validate on 7997 samples\n",
      "Epoch 1/100\n",
      "31988/31988 [==============================] - 1s 42us/step - loss: 804669.3064 - val_loss: 803676.1036\n",
      "Epoch 2/100\n",
      "31988/31988 [==============================] - 0s 14us/step - loss: 797489.3863 - val_loss: 795738.7083\n",
      "Epoch 3/100\n",
      "31988/31988 [==============================] - 0s 15us/step - loss: 788144.8662 - val_loss: 784227.2064\n",
      "Epoch 4/100\n",
      "31988/31988 [==============================] - 0s 15us/step - loss: 775670.2113 - val_loss: 771025.5208\n",
      "Epoch 5/100\n",
      "31988/31988 [==============================] - 0s 15us/step - loss: 761492.0615 - val_loss: 755474.2888\n",
      "Epoch 6/100\n",
      "31988/31988 [==============================] - 0s 15us/step - loss: 744730.1855 - val_loss: 737207.6110\n",
      "Epoch 7/100\n",
      "31988/31988 [==============================] - 0s 15us/step - loss: 725249.9634 - val_loss: 716199.4593\n",
      "Epoch 8/100\n",
      "31988/31988 [==============================] - 0s 15us/step - loss: 703068.9431 - val_loss: 692553.5789\n",
      "Epoch 9/100\n",
      "31988/31988 [==============================] - 0s 15us/step - loss: 678314.7751 - val_loss: 666430.0775\n",
      "Epoch 10/100\n",
      "31988/31988 [==============================] - 0s 15us/step - loss: 651206.8005 - val_loss: 638047.2766\n",
      "Epoch 11/100\n",
      "31988/31988 [==============================] - 0s 15us/step - loss: 621949.3839 - val_loss: 607715.0666\n",
      "Epoch 12/100\n",
      "31988/31988 [==============================] - 0s 15us/step - loss: 590889.6068 - val_loss: 575706.6630\n",
      "Epoch 13/100\n",
      "31988/31988 [==============================] - 0s 15us/step - loss: 558319.7511 - val_loss: 542376.6932\n",
      "Epoch 14/100\n",
      "31988/31988 [==============================] - 0s 15us/step - loss: 524591.0659 - val_loss: 508072.7166\n",
      "Epoch 15/100\n",
      "31988/31988 [==============================] - 0s 15us/step - loss: 490058.6056 - val_loss: 473164.8380\n",
      "Epoch 16/100\n",
      "31988/31988 [==============================] - 0s 15us/step - loss: 455091.6930 - val_loss: 438017.7152\n",
      "Epoch 17/100\n",
      "31988/31988 [==============================] - 0s 15us/step - loss: 420058.2737 - val_loss: 402998.4533\n",
      "Epoch 18/100\n",
      "31988/31988 [==============================] - 0s 15us/step - loss: 385329.1333 - val_loss: 368418.3706\n",
      "Epoch 19/100\n",
      "31988/31988 [==============================] - 0s 14us/step - loss: 351173.5624 - val_loss: 334695.9316\n",
      "Epoch 20/100\n",
      "31988/31988 [==============================] - 0s 15us/step - loss: 317946.4685 - val_loss: 302826.2741\n",
      "Epoch 21/100\n",
      "31988/31988 [==============================] - 0s 15us/step - loss: 285897.6911 - val_loss: 270363.7651\n",
      "Epoch 22/100\n",
      "31988/31988 [==============================] - 0s 15us/step - loss: 255060.2294 - val_loss: 240438.8844\n",
      "Epoch 23/100\n",
      "31988/31988 [==============================] - 0s 15us/step - loss: 226045.2283 - val_loss: 212298.7491\n",
      "Epoch 24/100\n",
      "31988/31988 [==============================] - 0s 14us/step - loss: 198890.3552 - val_loss: 186152.3589\n",
      "Epoch 25/100\n",
      "31988/31988 [==============================] - 0s 15us/step - loss: 173403.7283 - val_loss: 160975.2066\n",
      "Epoch 26/100\n",
      "31988/31988 [==============================] - 0s 15us/step - loss: 149052.0628 - val_loss: 137736.2960\n",
      "Epoch 27/100\n",
      "31988/31988 [==============================] - 0s 15us/step - loss: 127080.9115 - val_loss: 117093.0466\n",
      "Epoch 28/100\n",
      "31988/31988 [==============================] - 0s 15us/step - loss: 107690.5364 - val_loss: 98948.0856\n",
      "Epoch 29/100\n",
      "31988/31988 [==============================] - 0s 14us/step - loss: 90712.6164 - val_loss: 83119.0741\n",
      "Epoch 30/100\n",
      "31988/31988 [==============================] - 0s 14us/step - loss: 75986.5531 - val_loss: 69504.2762\n",
      "Epoch 31/100\n",
      "31988/31988 [==============================] - 0s 14us/step - loss: 63408.0174 - val_loss: 57948.7446\n",
      "Epoch 32/100\n",
      "31988/31988 [==============================] - 0s 14us/step - loss: 52805.1171 - val_loss: 48272.0441\n",
      "Epoch 33/100\n",
      "31988/31988 [==============================] - 0s 15us/step - loss: 43973.9367 - val_loss: 40203.0419\n",
      "Epoch 34/100\n",
      "31988/31988 [==============================] - 0s 15us/step - loss: 36468.9626 - val_loss: 33172.6610\n",
      "Epoch 35/100\n",
      "31988/31988 [==============================] - 0s 15us/step - loss: 29907.1744 - val_loss: 27059.0583\n",
      "Epoch 36/100\n",
      "31988/31988 [==============================] - 0s 15us/step - loss: 24542.7686 - val_loss: 22578.9705\n",
      "Epoch 37/100\n",
      "31988/31988 [==============================] - 0s 15us/step - loss: 20619.2170 - val_loss: 19110.1959\n",
      "Epoch 38/100\n",
      "31988/31988 [==============================] - 0s 15us/step - loss: 17553.6636 - val_loss: 16405.3929\n",
      "Epoch 39/100\n",
      "31988/31988 [==============================] - 0s 15us/step - loss: 15196.2229 - val_loss: 14262.7030\n",
      "Epoch 40/100\n",
      "31988/31988 [==============================] - 0s 15us/step - loss: 13279.4033 - val_loss: 12724.7458\n",
      "Epoch 41/100\n",
      "31988/31988 [==============================] - 0s 15us/step - loss: 11942.3084 - val_loss: 11510.9005\n",
      "Epoch 42/100\n",
      "31988/31988 [==============================] - 0s 15us/step - loss: 11019.7719 - val_loss: 10602.6385\n",
      "Epoch 43/100\n",
      "31988/31988 [==============================] - 0s 15us/step - loss: 10143.0312 - val_loss: 9837.5153\n",
      "Epoch 44/100\n",
      "31988/31988 [==============================] - 0s 15us/step - loss: 9377.0907 - val_loss: 9062.5763\n",
      "Epoch 45/100\n",
      "31988/31988 [==============================] - 0s 15us/step - loss: 8566.3878 - val_loss: 8168.5041\n",
      "Epoch 46/100\n",
      "31988/31988 [==============================] - 0s 15us/step - loss: 8086.4861 - val_loss: 8245.8549\n",
      "Epoch 47/100\n",
      "31988/31988 [==============================] - 0s 15us/step - loss: 7835.3415 - val_loss: 7623.8735\n",
      "Epoch 48/100\n",
      "31988/31988 [==============================] - 0s 15us/step - loss: 7210.3699 - val_loss: 6918.5471\n",
      "Epoch 49/100\n",
      "31988/31988 [==============================] - 0s 15us/step - loss: 6520.9345 - val_loss: 6619.6149\n",
      "Epoch 50/100\n",
      "31988/31988 [==============================] - 0s 15us/step - loss: 5996.4092 - val_loss: 5785.6060\n",
      "Epoch 51/100\n",
      "31988/31988 [==============================] - 0s 14us/step - loss: 5514.6549 - val_loss: 5394.2549\n",
      "Epoch 52/100\n",
      "31988/31988 [==============================] - 0s 15us/step - loss: 5221.7196 - val_loss: 5128.6638\n",
      "Epoch 53/100\n",
      "31988/31988 [==============================] - 0s 15us/step - loss: 4950.4671 - val_loss: 4852.3103\n",
      "Epoch 54/100\n",
      "31988/31988 [==============================] - 0s 14us/step - loss: 4664.6812 - val_loss: 4539.6014\n",
      "Epoch 55/100\n",
      "31988/31988 [==============================] - 0s 15us/step - loss: 4419.1530 - val_loss: 4349.9592\n",
      "Epoch 56/100\n",
      "31988/31988 [==============================] - 0s 15us/step - loss: 4249.0660 - val_loss: 4204.3831\n",
      "Epoch 57/100\n",
      "31988/31988 [==============================] - 0s 15us/step - loss: 4125.3255 - val_loss: 4092.3669\n",
      "Epoch 58/100\n",
      "31988/31988 [==============================] - 0s 15us/step - loss: 4016.1771 - val_loss: 3995.8274\n",
      "Epoch 59/100\n",
      "31988/31988 [==============================] - 0s 15us/step - loss: 3910.1787 - val_loss: 3886.1699\n",
      "Epoch 60/100\n",
      "31988/31988 [==============================] - 0s 15us/step - loss: 3818.4886 - val_loss: 3800.1860\n",
      "Epoch 61/100\n",
      "31988/31988 [==============================] - 0s 14us/step - loss: 3746.1633 - val_loss: 3722.1699\n",
      "Epoch 62/100\n",
      "31988/31988 [==============================] - 0s 15us/step - loss: 3670.9147 - val_loss: 3658.9672\n",
      "Epoch 63/100\n",
      "31988/31988 [==============================] - 0s 15us/step - loss: 3609.4901 - val_loss: 3618.7982\n",
      "Epoch 64/100\n",
      "31988/31988 [==============================] - 0s 15us/step - loss: 3563.3262 - val_loss: 3560.3342\n",
      "Epoch 65/100\n",
      "31988/31988 [==============================] - 0s 15us/step - loss: 3516.2391 - val_loss: 3546.9243\n",
      "Epoch 66/100\n",
      "31988/31988 [==============================] - 0s 15us/step - loss: 3510.6000 - val_loss: 3499.0861\n",
      "Epoch 67/100\n",
      "31988/31988 [==============================] - 0s 15us/step - loss: 3446.1423 - val_loss: 3476.6368\n",
      "Epoch 68/100\n",
      "31988/31988 [==============================] - 0s 14us/step - loss: 3447.8283 - val_loss: 3523.2378\n",
      "Epoch 69/100\n",
      "31988/31988 [==============================] - 0s 14us/step - loss: 3426.0887 - val_loss: 3372.0960\n",
      "Epoch 70/100\n",
      "31988/31988 [==============================] - 0s 15us/step - loss: 3350.9064 - val_loss: 3332.8687\n",
      "Epoch 71/100\n",
      "31988/31988 [==============================] - 0s 15us/step - loss: 3314.9309 - val_loss: 3301.8747\n",
      "Epoch 72/100\n",
      "31988/31988 [==============================] - 0s 15us/step - loss: 3303.1356 - val_loss: 3303.6705\n",
      "Epoch 73/100\n",
      "31988/31988 [==============================] - 0s 15us/step - loss: 3264.2126 - val_loss: 3257.8115\n",
      "Epoch 74/100\n",
      "31988/31988 [==============================] - 0s 15us/step - loss: 3212.5242 - val_loss: 3230.2666\n",
      "Epoch 75/100\n",
      "31988/31988 [==============================] - 0s 15us/step - loss: 3198.2062 - val_loss: 3229.8183\n",
      "Epoch 76/100\n",
      "31988/31988 [==============================] - 0s 15us/step - loss: 3186.4319 - val_loss: 3170.4423\n",
      "Epoch 77/100\n",
      "31988/31988 [==============================] - 0s 14us/step - loss: 3153.7853 - val_loss: 3156.8378\n",
      "Epoch 78/100\n",
      "31988/31988 [==============================] - 0s 15us/step - loss: 3116.2231 - val_loss: 3185.1317\n",
      "Epoch 79/100\n",
      "31988/31988 [==============================] - 0s 14us/step - loss: 3128.0104 - val_loss: 3117.4748\n",
      "Epoch 80/100\n",
      "31988/31988 [==============================] - 0s 15us/step - loss: 3064.9358 - val_loss: 3081.5717\n",
      "Epoch 81/100\n",
      "31988/31988 [==============================] - 0s 15us/step - loss: 3033.2957 - val_loss: 3033.9692\n",
      "Epoch 82/100\n",
      "31988/31988 [==============================] - 0s 15us/step - loss: 3000.8166 - val_loss: 3012.1201\n",
      "Epoch 83/100\n",
      "31988/31988 [==============================] - 0s 15us/step - loss: 2975.1618 - val_loss: 2996.0192\n",
      "Epoch 84/100\n",
      "31988/31988 [==============================] - 0s 15us/step - loss: 2956.0987 - val_loss: 2964.0771\n",
      "Epoch 85/100\n",
      "31988/31988 [==============================] - 0s 15us/step - loss: 2936.4219 - val_loss: 2951.7049\n",
      "Epoch 86/100\n",
      "31988/31988 [==============================] - 0s 15us/step - loss: 2914.6085 - val_loss: 2914.3418\n",
      "Epoch 87/100\n",
      "31988/31988 [==============================] - 0s 15us/step - loss: 2882.3066 - val_loss: 2897.4113\n",
      "Epoch 88/100\n",
      "31988/31988 [==============================] - 0s 15us/step - loss: 2862.4819 - val_loss: 2884.4315\n",
      "Epoch 89/100\n",
      "31988/31988 [==============================] - 0s 15us/step - loss: 2870.9382 - val_loss: 2855.6523\n",
      "Epoch 90/100\n",
      "31988/31988 [==============================] - 0s 15us/step - loss: 2815.0322 - val_loss: 2828.9199\n",
      "Epoch 91/100\n",
      "31988/31988 [==============================] - 0s 15us/step - loss: 2789.6939 - val_loss: 2803.3557\n",
      "Epoch 92/100\n",
      "31988/31988 [==============================] - 0s 14us/step - loss: 2763.8010 - val_loss: 2782.1306\n",
      "Epoch 93/100\n",
      "31988/31988 [==============================] - 0s 15us/step - loss: 2761.0131 - val_loss: 2759.1446\n",
      "Epoch 94/100\n",
      "31988/31988 [==============================] - 0s 15us/step - loss: 2720.4519 - val_loss: 2730.0076\n",
      "Epoch 95/100\n",
      "31988/31988 [==============================] - 0s 15us/step - loss: 2688.6993 - val_loss: 2715.5943\n",
      "Epoch 96/100\n",
      "31988/31988 [==============================] - 0s 15us/step - loss: 2665.8071 - val_loss: 2681.7788\n",
      "Epoch 97/100\n",
      "31988/31988 [==============================] - 0s 15us/step - loss: 2641.8503 - val_loss: 2665.4941\n",
      "Epoch 98/100\n",
      "31988/31988 [==============================] - 0s 15us/step - loss: 2617.7570 - val_loss: 2634.2159\n",
      "Epoch 99/100\n",
      "31988/31988 [==============================] - 0s 15us/step - loss: 2594.7745 - val_loss: 2613.7690\n",
      "Epoch 100/100\n",
      "31988/31988 [==============================] - 0s 15us/step - loss: 2581.6884 - val_loss: 2610.1847\n"
     ]
    }
   ],
   "source": [
    "# training\n",
    "tensorBoard = TensorBoard(log_dir='./logs', histogram_freq=0, write_graph=True, write_images=False)\n",
    "\n",
    "hist = model.fit(x_train, y_train, epochs=100, batch_size=2048, verbose=True, validation_data=(x_val, y_val), shuffle=True, callbacks=[tensorBoard])"
   ]
  },
  {
   "cell_type": "code",
   "execution_count": 27,
   "metadata": {},
   "outputs": [
    {
     "name": "stdout",
     "output_type": "stream",
     "text": [
      "15261/15261 [==============================] - 0s 18us/step\n",
      "(15261, 1)\n",
      "15261/15261 [==============================] - 0s 13us/step\n",
      "6860.5098974459\n"
     ]
    }
   ],
   "source": [
    "y_pred = model.predict(x_test, batch_size=1024, verbose=True) \n",
    "print(y_pred.shape)\n",
    "print(model.evaluate(x_test, y_test,batch_size=1024))"
   ]
  },
  {
   "cell_type": "code",
   "execution_count": 28,
   "metadata": {},
   "outputs": [
    {
     "data": {
      "image/png": "[encoded data removed]",
      "text/plain": [
       "<Figure size 432x288 with 1 Axes>"
      ]
     },
     "metadata": {
      "needs_background": "light"
     },
     "output_type": "display_data"
    }
   ],
   "source": [
    "%matplotlib inline\n",
    "import matplotlib.pyplot as plt\n",
    "\n",
    "fig, loss_ax = plt.subplots()\n",
    "\n",
    "loss_ax.plot(hist.history['loss'], 'b', label='train loss')\n",
    "loss_ax.plot(hist.history['val_loss'], 'r', label='test loss')\n",
    "\n",
    "loss_ax.set_xlabel('epoch')\n",
    "loss_ax.set_ylabel('loss')\n",
    "\n",
    "loss_ax.legend(loc='upper right')\n",
    "\n",
    "plt.show()"
   ]
  },
  {
   "cell_type": "code",
   "execution_count": 29,
   "metadata": {},
   "outputs": [
    {
     "data": {
      "image/png": "[encoded data removed]",
      "text/plain": [
       "<Figure size 1368x576 with 1 Axes>"
      ]
     },
     "metadata": {
      "needs_background": "light"
     },
     "output_type": "display_data"
    }
   ],
   "source": [
    "# visualization for prediction result\n",
    "# set figure size\n",
    "plt.figure(figsize=(19,8))\n",
    "\n",
    "# set font\n",
    "font = {'family': 'Arial', 'weight': 'normal', 'size': 16}\n",
    "plt.rc('font', **font)\n",
    "\n",
    "# plot data \n",
    "plt.plot(y_test[:,0], 'r', label='y_true')\n",
    "plt.plot(y_pred[:,0], 'b', label='y_pred')\n",
    "\n",
    "# set legend position\n",
    "plt.legend(shadow=True, loc='upper right')\n",
    "\n",
    "# set x-axis & y-axis titles\n",
    "#plt.title('prediction result')\n",
    "plt.xlabel('Time Index')\n",
    "plt.ylabel('Brightness')\n",
    "\n",
    "# set axis-limits\n",
    "plt.xlim(left = 0, right = len(y_test)) \n",
    "plt.ylim(bottom = 0.3) \n",
    "\n",
    "# set grid\n",
    "plt.grid(color='gray', linestyle='--', linewidth=1)\n",
    "\n",
    "plt.xticks(np.arange(0,16000,2000))\n",
    "plt.yticks(np.arange(0,1024,256))\n",
    "\n",
    "# save & display figure\n",
    "plt.show()"
   ]
  },
  {
   "cell_type": "code",
   "execution_count": 30,
   "metadata": {},
   "outputs": [
    {
     "name": "stdout",
     "output_type": "stream",
     "text": [
      "Train Score:  2576.5677699625335\n",
      "Test Score:  6860.509887706873\n"
     ]
    }
   ],
   "source": [
    "#모델 평가하기\n",
    "trainScore = model.evaluate(x_train, y_train, verbose=0)\n",
    "print('Train Score: ', trainScore)\n",
    "#valScore = model.evaluate(x_val, y_val, verbose=0)\n",
    "#print('Validataion Score: ', valScore)\n",
    "testScore = model.evaluate(x_test, y_test, verbose=0)\n",
    "print('Test Score: ', testScore)"
   ]
  },
  {
   "cell_type": "code",
   "execution_count": 31,
   "metadata": {},
   "outputs": [
    {
     "name": "stdout",
     "output_type": "stream",
     "text": [
      "MAPE:  13.160012959285558\n"
     ]
    }
   ],
   "source": [
    "#MAPE\n",
    "\n",
    "y_test, y_pred = np.array(y_test), np.array(y_pred)\n",
    "mape = np.mean(np.abs((y_test - y_pred) / y_test)) * 100\n",
    "print('MAPE: ', mape)"
   ]
  },
  {
   "cell_type": "code",
   "execution_count": 32,
   "metadata": {},
   "outputs": [
    {
     "data": {
      "image/svg+xml": [
       "<svg height=\"294pt\" viewBox=\"0.00 0.00 253.00 294.00\" width=\"253pt\" xmlns=\"http://www.w3.org/2000/svg\" xmlns:xlink=\"http://www.w3.org/1999/xlink\">\n",
       "<g class=\"graph\" id=\"graph0\" transform=\"scale(1 1) rotate(0) translate(4 290)\">\n",
       "<title>G</title>\n",
       "<polygon fill=\"white\" points=\"-4,4 -4,-290 249,-290 249,4 -4,4\" stroke=\"none\"/>\n",
       "<!-- 2323684306840 -->\n",
       "<g class=\"node\" id=\"node1\"><title>2323684306840</title>\n",
       "<polygon fill=\"none\" points=\"0,-166.5 0,-212.5 245,-212.5 245,-166.5 0,-166.5\" stroke=\"black\"/>\n",
       "<text font-family=\"Times New Roman,serif\" font-size=\"14.00\" text-anchor=\"middle\" x=\"49\" y=\"-185.8\">lstm_1: LSTM</text>\n",
       "<polyline fill=\"none\" points=\"98,-166.5 98,-212.5 \" stroke=\"black\"/>\n",
       "<text font-family=\"Times New Roman,serif\" font-size=\"14.00\" text-anchor=\"middle\" x=\"126\" y=\"-197.3\">input:</text>\n",
       "<polyline fill=\"none\" points=\"98,-189.5 154,-189.5 \" stroke=\"black\"/>\n",
       "<text font-family=\"Times New Roman,serif\" font-size=\"14.00\" text-anchor=\"middle\" x=\"126\" y=\"-174.3\">output:</text>\n",
       "<polyline fill=\"none\" points=\"154,-166.5 154,-212.5 \" stroke=\"black\"/>\n",
       "<text font-family=\"Times New Roman,serif\" font-size=\"14.00\" text-anchor=\"middle\" x=\"199.5\" y=\"-197.3\">(None, 15, 4)</text>\n",
       "<polyline fill=\"none\" points=\"154,-189.5 245,-189.5 \" stroke=\"black\"/>\n",
       "<text font-family=\"Times New Roman,serif\" font-size=\"14.00\" text-anchor=\"middle\" x=\"199.5\" y=\"-174.3\">(None, 64)</text>\n",
       "</g>\n",
       "<!-- 2323684304208 -->\n",
       "<g class=\"node\" id=\"node2\"><title>2323684304208</title>\n",
       "<polygon fill=\"none\" points=\"4,-83.5 4,-129.5 241,-129.5 241,-83.5 4,-83.5\" stroke=\"black\"/>\n",
       "<text font-family=\"Times New Roman,serif\" font-size=\"14.00\" text-anchor=\"middle\" x=\"56\" y=\"-102.8\">dense_1: Dense</text>\n",
       "<polyline fill=\"none\" points=\"108,-83.5 108,-129.5 \" stroke=\"black\"/>\n",
       "<text font-family=\"Times New Roman,serif\" font-size=\"14.00\" text-anchor=\"middle\" x=\"136\" y=\"-114.3\">input:</text>\n",
       "<polyline fill=\"none\" points=\"108,-106.5 164,-106.5 \" stroke=\"black\"/>\n",
       "<text font-family=\"Times New Roman,serif\" font-size=\"14.00\" text-anchor=\"middle\" x=\"136\" y=\"-91.3\">output:</text>\n",
       "<polyline fill=\"none\" points=\"164,-83.5 164,-129.5 \" stroke=\"black\"/>\n",
       "<text font-family=\"Times New Roman,serif\" font-size=\"14.00\" text-anchor=\"middle\" x=\"202.5\" y=\"-114.3\">(None, 64)</text>\n",
       "<polyline fill=\"none\" points=\"164,-106.5 241,-106.5 \" stroke=\"black\"/>\n",
       "<text font-family=\"Times New Roman,serif\" font-size=\"14.00\" text-anchor=\"middle\" x=\"202.5\" y=\"-91.3\">(None, 64)</text>\n",
       "</g>\n",
       "<!-- 2323684306840&#45;&gt;2323684304208 -->\n",
       "<g class=\"edge\" id=\"edge2\"><title>2323684306840-&gt;2323684304208</title>\n",
       "<path d=\"M122.5,-166.366C122.5,-158.152 122.5,-148.658 122.5,-139.725\" fill=\"none\" stroke=\"black\"/>\n",
       "<polygon fill=\"black\" points=\"126,-139.607 122.5,-129.607 119,-139.607 126,-139.607\" stroke=\"black\"/>\n",
       "</g>\n",
       "<!-- 2323764732648 -->\n",
       "<g class=\"node\" id=\"node3\"><title>2323764732648</title>\n",
       "<polygon fill=\"none\" points=\"4,-0.5 4,-46.5 241,-46.5 241,-0.5 4,-0.5\" stroke=\"black\"/>\n",
       "<text font-family=\"Times New Roman,serif\" font-size=\"14.00\" text-anchor=\"middle\" x=\"56\" y=\"-19.8\">dense_2: Dense</text>\n",
       "<polyline fill=\"none\" points=\"108,-0.5 108,-46.5 \" stroke=\"black\"/>\n",
       "<text font-family=\"Times New Roman,serif\" font-size=\"14.00\" text-anchor=\"middle\" x=\"136\" y=\"-31.3\">input:</text>\n",
       "<polyline fill=\"none\" points=\"108,-23.5 164,-23.5 \" stroke=\"black\"/>\n",
       "<text font-family=\"Times New Roman,serif\" font-size=\"14.00\" text-anchor=\"middle\" x=\"136\" y=\"-8.3\">output:</text>\n",
       "<polyline fill=\"none\" points=\"164,-0.5 164,-46.5 \" stroke=\"black\"/>\n",
       "<text font-family=\"Times New Roman,serif\" font-size=\"14.00\" text-anchor=\"middle\" x=\"202.5\" y=\"-31.3\">(None, 64)</text>\n",
       "<polyline fill=\"none\" points=\"164,-23.5 241,-23.5 \" stroke=\"black\"/>\n",
       "<text font-family=\"Times New Roman,serif\" font-size=\"14.00\" text-anchor=\"middle\" x=\"202.5\" y=\"-8.3\">(None, 1)</text>\n",
       "</g>\n",
       "<!-- 2323684304208&#45;&gt;2323764732648 -->\n",
       "<g class=\"edge\" id=\"edge3\"><title>2323684304208-&gt;2323764732648</title>\n",
       "<path d=\"M122.5,-83.3664C122.5,-75.1516 122.5,-65.6579 122.5,-56.7252\" fill=\"none\" stroke=\"black\"/>\n",
       "<polygon fill=\"black\" points=\"126,-56.6068 122.5,-46.6068 119,-56.6069 126,-56.6068\" stroke=\"black\"/>\n",
       "</g>\n",
       "<!-- 2323684389888 -->\n",
       "<g class=\"node\" id=\"node4\"><title>2323684389888</title>\n",
       "<polygon fill=\"none\" points=\"70.5,-249.5 70.5,-285.5 174.5,-285.5 174.5,-249.5 70.5,-249.5\" stroke=\"black\"/>\n",
       "<text font-family=\"Times New Roman,serif\" font-size=\"14.00\" text-anchor=\"middle\" x=\"122.5\" y=\"-263.8\">2323684389888</text>\n",
       "</g>\n",
       "<!-- 2323684389888&#45;&gt;2323684306840 -->\n",
       "<g class=\"edge\" id=\"edge1\"><title>2323684389888-&gt;2323684306840</title>\n",
       "<path d=\"M122.5,-249.254C122.5,-241.363 122.5,-231.749 122.5,-222.602\" fill=\"none\" stroke=\"black\"/>\n",
       "<polygon fill=\"black\" points=\"126,-222.591 122.5,-212.591 119,-222.591 126,-222.591\" stroke=\"black\"/>\n",
       "</g>\n",
       "</g>\n",
       "</svg>"
      ],
      "text/plain": [
       "<IPython.core.display.SVG object>"
      ]
     },
     "execution_count": 32,
     "metadata": {},
     "output_type": "execute_result"
    }
   ],
   "source": [
    "from IPython.display import SVG\n",
    "from keras.utils.vis_utils import model_to_dot\n",
    "\n",
    "%matplotlib inline\n",
    "\n",
    "SVG(model_to_dot(model, show_shapes=True).create(prog='dot', format='svg'))"
   ]
  },
  {
   "cell_type": "code",
   "execution_count": null,
   "metadata": {},
   "outputs": [],
   "source": []
  }
 ],
 "metadata": {
  "kernelspec": {
   "display_name": "Python 3",
   "language": "python",
   "name": "python3"
  },
  "language_info": {
   "codemirror_mode": {
    "name": "ipython",
    "version": 3
   },
   "file_extension": ".py",
   "mimetype": "text/x-python",
   "name": "python",
   "nbconvert_exporter": "python",
   "pygments_lexer": "ipython3",
   "version": "3.7.3"
  }
 },
 "nbformat": 4,
 "nbformat_minor": 4
}
